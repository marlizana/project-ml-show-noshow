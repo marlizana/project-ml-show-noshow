{
 "cells": [
  {
   "cell_type": "markdown",
   "metadata": {
    "ExecuteTime": {
     "end_time": "2020-04-23T08:00:26.421366Z",
     "start_time": "2020-04-23T08:00:23.388293Z"
    }
   },
   "source": [
    "# Proyecto ML. Show/ No Show"
   ]
  },
  {
   "cell_type": "code",
   "execution_count": 122,
   "metadata": {
    "ExecuteTime": {
     "end_time": "2020-05-09T15:22:09.613227Z",
     "start_time": "2020-05-09T15:22:09.451517Z"
    }
   },
   "outputs": [],
   "source": [
    "#Import your libraries\n",
    "import pandas as pd\n",
    "import numpy as np\n",
    "\n",
    "#Visualización\n",
    "import matplotlib.pyplot as plt\n",
    "import seaborn as sns\n",
    "plt.rcParams[\"figure.figsize\"] = (16,6)\n",
    "\n",
    "#Fechas\n",
    "import datetime\n",
    "\n",
    "#Interact\n",
    "from ipywidgets import interact\n",
    "\n",
    "#Umbalanced\n",
    "from imblearn.under_sampling import NearMiss\n",
    "\n",
    "#Statsmodels\n",
    "import statsmodels.api as sm\n",
    "\n",
    "#Sklearn\n",
    "from sklearn.model_selection import train_test_split\n",
    "from sklearn.model_selection import GridSearchCV, StratifiedKFold, cross_val_score, RandomizedSearchCV\n",
    "\n",
    "from sklearn.metrics import confusion_matrix, classification_report\n",
    "from sklearn.metrics import accuracy_score, precision_score, recall_score, f1_score, log_loss\n",
    "from sklearn.metrics import auc, roc_curve, roc_auc_score\n",
    "from sklearn.metrics import precision_recall_curve\n",
    "\n",
    "from sklearn.linear_model import LogisticRegression\n",
    "from sklearn.linear_model import LinearRegression\n",
    "\n",
    "from sklearn.neighbors import KNeighborsClassifier\n",
    "\n",
    "from sklearn.naive_bayes import GaussianNB, BernoulliNB, MultinomialNB\n",
    "\n",
    "from sklearn.tree import DecisionTreeClassifier\n",
    "\n",
    "from sklearn.ensemble import RandomForestClassifier\n",
    "\n",
    "from sklearn.svm import LinearSVC, SVC\n",
    "\n",
    "from sklearn.neural_network import MLPClassifier\n",
    "\n",
    "from sklearn.feature_selection import RFE\n",
    "\n",
    "from sklearn.preprocessing import LabelEncoder, StandardScaler\n",
    "\n",
    "from sklearn.decomposition import PCA\n",
    "\n",
    "from imblearn.under_sampling import RandomUnderSampler\n"
   ]
  },
  {
   "cell_type": "markdown",
   "metadata": {
    "heading_collapsed": true
   },
   "source": [
    "## Importar y describir el dataset"
   ]
  },
  {
   "cell_type": "code",
   "execution_count": 2,
   "metadata": {
    "ExecuteTime": {
     "end_time": "2020-05-08T17:25:19.387738Z",
     "start_time": "2020-05-08T17:25:17.905251Z"
    },
    "hidden": true
   },
   "outputs": [],
   "source": [
    "citas = pd.read_csv('data/show_no_show.csv')"
   ]
  },
  {
   "cell_type": "code",
   "execution_count": 3,
   "metadata": {
    "ExecuteTime": {
     "end_time": "2020-05-08T17:25:19.473866Z",
     "start_time": "2020-05-08T17:25:19.408662Z"
    },
    "hidden": true
   },
   "outputs": [],
   "source": [
    "citas.columns = map(str.lower, citas.columns)"
   ]
  },
  {
   "cell_type": "code",
   "execution_count": 4,
   "metadata": {
    "ExecuteTime": {
     "end_time": "2020-05-08T17:25:19.587358Z",
     "start_time": "2020-05-08T17:25:19.498769Z"
    },
    "hidden": true
   },
   "outputs": [],
   "source": [
    "def heatmap_ml (df):\n",
    "    corr = df.corr().round(2)\n",
    "    mask = np.zeros_like(corr)\n",
    "    mask[np.triu_indices_from(mask)] = True\n",
    "\n",
    "    with sns.axes_style(\"white\"):\n",
    "        f, ax = plt.subplots(figsize=(16, 8))\n",
    "\n",
    "        ax = sns.heatmap(corr, cmap = 'RdBu_r', annot=True,  mask=mask, vmax=1, vmin= -1, square=True)"
   ]
  },
  {
   "cell_type": "code",
   "execution_count": 5,
   "metadata": {
    "ExecuteTime": {
     "end_time": "2020-05-08T17:25:19.654639Z",
     "start_time": "2020-05-08T17:25:19.622507Z"
    },
    "hidden": true
   },
   "outputs": [],
   "source": [
    "def describe_df(df):\n",
    "    \n",
    "    \"\"\"\n",
    "    Muestra información básica del dataframe que le pases.\n",
    "    \n",
    "    Input:\n",
    "    -DataFrame\n",
    "    \n",
    "    Output:\n",
    "    - Número de filas y columnas\n",
    "    - DataFrame con:\n",
    "        * 'type': Tipos de columnas\n",
    "        * 'nan': Número de valores nulos\n",
    "        * 'nan_ratio_col': Ratio de valores nulos en la columna\n",
    "        * 'nan_ratio_total': Ratio de valores nulos en el total del dataset\n",
    "        * 'unique_values': Número de valores únicos que tiene esa columna\n",
    "        * 'mean': media de las columnas numéricas\n",
    "        * 'std': desviación estándard de las columnas numéricas\n",
    "        * 'min': mínimo de las columnas numéricas\n",
    "        * '25%': primer cuartil de las columnas numéricas\n",
    "        * '50%': segundo cuartil de las columnas numéricas\n",
    "        * '75%': tercer cuartil de las columnas numéricas\n",
    "        * 'max': máximo de las columnas numéricas\n",
    "        \n",
    "    - Heatmap de correlación\n",
    "    \"\"\"\n",
    "    \n",
    "    print(f'Hay un total de {df.shape[0]} filas y {df.shape[1]} columnas.')\n",
    "    \n",
    "    print (heatmap_ml(df))\n",
    "    \n",
    "    describe_df = pd.DataFrame(df.dtypes, columns = [\"type\"])\n",
    "    describe_df[\"nan\"] = df.isna().sum()\n",
    "    describe_df[\"nan_ratio_col\"] = [round(df.isna().sum()[col]/len(df[col])*100, 2) for col in df.columns]\n",
    "    describe_df[\"nan_ratio_total\"] = [round(df.isna().sum()[col]/df.shape[0]*100, 2) for col in df.columns]\n",
    "    describe_df['unique_values'] = [len(pd.unique(df[col])) for col in df.columns]\n",
    "    describe_df = describe_df.join(df.describe().T[['mean', 'std', 'min', '25%', '50%', '75%', 'max']], on = describe_df.index)\n",
    "    \n",
    "    return describe_df"
   ]
  },
  {
   "cell_type": "code",
   "execution_count": 6,
   "metadata": {
    "ExecuteTime": {
     "end_time": "2020-05-08T17:25:26.881545Z",
     "start_time": "2020-05-08T17:25:19.667287Z"
    },
    "hidden": true
   },
   "outputs": [
    {
     "name": "stdout",
     "output_type": "stream",
     "text": [
      "Hay un total de 110527 filas y 15 columnas.\n",
      "None\n"
     ]
    },
    {
     "data": {
      "text/html": [
       "<div>\n",
       "<style scoped>\n",
       "    .dataframe tbody tr th:only-of-type {\n",
       "        vertical-align: middle;\n",
       "    }\n",
       "\n",
       "    .dataframe tbody tr th {\n",
       "        vertical-align: top;\n",
       "    }\n",
       "\n",
       "    .dataframe thead th {\n",
       "        text-align: right;\n",
       "    }\n",
       "</style>\n",
       "<table border=\"1\" class=\"dataframe\">\n",
       "  <thead>\n",
       "    <tr style=\"text-align: right;\">\n",
       "      <th></th>\n",
       "      <th>type</th>\n",
       "      <th>nan</th>\n",
       "      <th>nan_ratio_col</th>\n",
       "      <th>nan_ratio_total</th>\n",
       "      <th>unique_values</th>\n",
       "      <th>mean</th>\n",
       "      <th>std</th>\n",
       "      <th>min</th>\n",
       "      <th>25%</th>\n",
       "      <th>50%</th>\n",
       "      <th>75%</th>\n",
       "      <th>max</th>\n",
       "    </tr>\n",
       "  </thead>\n",
       "  <tbody>\n",
       "    <tr>\n",
       "      <th>unnamed: 0</th>\n",
       "      <td>int64</td>\n",
       "      <td>0</td>\n",
       "      <td>0.00</td>\n",
       "      <td>0.00</td>\n",
       "      <td>110527</td>\n",
       "      <td>5.526300e+04</td>\n",
       "      <td>3.190654e+04</td>\n",
       "      <td>0.000000e+00</td>\n",
       "      <td>2.763150e+04</td>\n",
       "      <td>5.526300e+04</td>\n",
       "      <td>8.289450e+04</td>\n",
       "      <td>1.105260e+05</td>\n",
       "    </tr>\n",
       "    <tr>\n",
       "      <th>patientid</th>\n",
       "      <td>float64</td>\n",
       "      <td>0</td>\n",
       "      <td>0.00</td>\n",
       "      <td>0.00</td>\n",
       "      <td>62299</td>\n",
       "      <td>1.474963e+14</td>\n",
       "      <td>2.560949e+14</td>\n",
       "      <td>3.921784e+04</td>\n",
       "      <td>4.172614e+12</td>\n",
       "      <td>3.173184e+13</td>\n",
       "      <td>9.439172e+13</td>\n",
       "      <td>9.999816e+14</td>\n",
       "    </tr>\n",
       "    <tr>\n",
       "      <th>appointmentid</th>\n",
       "      <td>int64</td>\n",
       "      <td>0</td>\n",
       "      <td>0.00</td>\n",
       "      <td>0.00</td>\n",
       "      <td>110527</td>\n",
       "      <td>5.675305e+06</td>\n",
       "      <td>7.129575e+04</td>\n",
       "      <td>5.030230e+06</td>\n",
       "      <td>5.640286e+06</td>\n",
       "      <td>5.680573e+06</td>\n",
       "      <td>5.725524e+06</td>\n",
       "      <td>5.790484e+06</td>\n",
       "    </tr>\n",
       "    <tr>\n",
       "      <th>gender</th>\n",
       "      <td>object</td>\n",
       "      <td>345</td>\n",
       "      <td>0.31</td>\n",
       "      <td>0.31</td>\n",
       "      <td>3</td>\n",
       "      <td>NaN</td>\n",
       "      <td>NaN</td>\n",
       "      <td>NaN</td>\n",
       "      <td>NaN</td>\n",
       "      <td>NaN</td>\n",
       "      <td>NaN</td>\n",
       "      <td>NaN</td>\n",
       "    </tr>\n",
       "    <tr>\n",
       "      <th>scheduledday</th>\n",
       "      <td>object</td>\n",
       "      <td>0</td>\n",
       "      <td>0.00</td>\n",
       "      <td>0.00</td>\n",
       "      <td>103549</td>\n",
       "      <td>NaN</td>\n",
       "      <td>NaN</td>\n",
       "      <td>NaN</td>\n",
       "      <td>NaN</td>\n",
       "      <td>NaN</td>\n",
       "      <td>NaN</td>\n",
       "      <td>NaN</td>\n",
       "    </tr>\n",
       "    <tr>\n",
       "      <th>appointmentday</th>\n",
       "      <td>object</td>\n",
       "      <td>0</td>\n",
       "      <td>0.00</td>\n",
       "      <td>0.00</td>\n",
       "      <td>27</td>\n",
       "      <td>NaN</td>\n",
       "      <td>NaN</td>\n",
       "      <td>NaN</td>\n",
       "      <td>NaN</td>\n",
       "      <td>NaN</td>\n",
       "      <td>NaN</td>\n",
       "      <td>NaN</td>\n",
       "    </tr>\n",
       "    <tr>\n",
       "      <th>age</th>\n",
       "      <td>int64</td>\n",
       "      <td>0</td>\n",
       "      <td>0.00</td>\n",
       "      <td>0.00</td>\n",
       "      <td>221</td>\n",
       "      <td>3.704903e+01</td>\n",
       "      <td>2.352466e+01</td>\n",
       "      <td>-2.320000e+02</td>\n",
       "      <td>1.800000e+01</td>\n",
       "      <td>3.700000e+01</td>\n",
       "      <td>5.500000e+01</td>\n",
       "      <td>3.100000e+02</td>\n",
       "    </tr>\n",
       "    <tr>\n",
       "      <th>neighbourhood</th>\n",
       "      <td>object</td>\n",
       "      <td>0</td>\n",
       "      <td>0.00</td>\n",
       "      <td>0.00</td>\n",
       "      <td>81</td>\n",
       "      <td>NaN</td>\n",
       "      <td>NaN</td>\n",
       "      <td>NaN</td>\n",
       "      <td>NaN</td>\n",
       "      <td>NaN</td>\n",
       "      <td>NaN</td>\n",
       "      <td>NaN</td>\n",
       "    </tr>\n",
       "    <tr>\n",
       "      <th>scholarship</th>\n",
       "      <td>int64</td>\n",
       "      <td>0</td>\n",
       "      <td>0.00</td>\n",
       "      <td>0.00</td>\n",
       "      <td>2</td>\n",
       "      <td>9.826558e-02</td>\n",
       "      <td>2.976748e-01</td>\n",
       "      <td>0.000000e+00</td>\n",
       "      <td>0.000000e+00</td>\n",
       "      <td>0.000000e+00</td>\n",
       "      <td>0.000000e+00</td>\n",
       "      <td>1.000000e+00</td>\n",
       "    </tr>\n",
       "    <tr>\n",
       "      <th>hipertension</th>\n",
       "      <td>int64</td>\n",
       "      <td>0</td>\n",
       "      <td>0.00</td>\n",
       "      <td>0.00</td>\n",
       "      <td>2</td>\n",
       "      <td>1.972459e-01</td>\n",
       "      <td>3.979213e-01</td>\n",
       "      <td>0.000000e+00</td>\n",
       "      <td>0.000000e+00</td>\n",
       "      <td>0.000000e+00</td>\n",
       "      <td>0.000000e+00</td>\n",
       "      <td>1.000000e+00</td>\n",
       "    </tr>\n",
       "    <tr>\n",
       "      <th>diabetes</th>\n",
       "      <td>int64</td>\n",
       "      <td>0</td>\n",
       "      <td>0.00</td>\n",
       "      <td>0.00</td>\n",
       "      <td>2</td>\n",
       "      <td>7.186479e-02</td>\n",
       "      <td>2.582651e-01</td>\n",
       "      <td>0.000000e+00</td>\n",
       "      <td>0.000000e+00</td>\n",
       "      <td>0.000000e+00</td>\n",
       "      <td>0.000000e+00</td>\n",
       "      <td>1.000000e+00</td>\n",
       "    </tr>\n",
       "    <tr>\n",
       "      <th>alcoholism</th>\n",
       "      <td>object</td>\n",
       "      <td>0</td>\n",
       "      <td>0.00</td>\n",
       "      <td>0.00</td>\n",
       "      <td>4</td>\n",
       "      <td>NaN</td>\n",
       "      <td>NaN</td>\n",
       "      <td>NaN</td>\n",
       "      <td>NaN</td>\n",
       "      <td>NaN</td>\n",
       "      <td>NaN</td>\n",
       "      <td>NaN</td>\n",
       "    </tr>\n",
       "    <tr>\n",
       "      <th>handcap</th>\n",
       "      <td>int64</td>\n",
       "      <td>0</td>\n",
       "      <td>0.00</td>\n",
       "      <td>0.00</td>\n",
       "      <td>5</td>\n",
       "      <td>2.224796e-02</td>\n",
       "      <td>1.615427e-01</td>\n",
       "      <td>0.000000e+00</td>\n",
       "      <td>0.000000e+00</td>\n",
       "      <td>0.000000e+00</td>\n",
       "      <td>0.000000e+00</td>\n",
       "      <td>4.000000e+00</td>\n",
       "    </tr>\n",
       "    <tr>\n",
       "      <th>sms_received</th>\n",
       "      <td>int64</td>\n",
       "      <td>0</td>\n",
       "      <td>0.00</td>\n",
       "      <td>0.00</td>\n",
       "      <td>2</td>\n",
       "      <td>3.210256e-01</td>\n",
       "      <td>4.668727e-01</td>\n",
       "      <td>0.000000e+00</td>\n",
       "      <td>0.000000e+00</td>\n",
       "      <td>0.000000e+00</td>\n",
       "      <td>1.000000e+00</td>\n",
       "      <td>1.000000e+00</td>\n",
       "    </tr>\n",
       "    <tr>\n",
       "      <th>no-show</th>\n",
       "      <td>object</td>\n",
       "      <td>0</td>\n",
       "      <td>0.00</td>\n",
       "      <td>0.00</td>\n",
       "      <td>2</td>\n",
       "      <td>NaN</td>\n",
       "      <td>NaN</td>\n",
       "      <td>NaN</td>\n",
       "      <td>NaN</td>\n",
       "      <td>NaN</td>\n",
       "      <td>NaN</td>\n",
       "      <td>NaN</td>\n",
       "    </tr>\n",
       "  </tbody>\n",
       "</table>\n",
       "</div>"
      ],
      "text/plain": [
       "                   type  nan  nan_ratio_col  nan_ratio_total  unique_values  \\\n",
       "unnamed: 0        int64    0           0.00             0.00         110527   \n",
       "patientid       float64    0           0.00             0.00          62299   \n",
       "appointmentid     int64    0           0.00             0.00         110527   \n",
       "gender           object  345           0.31             0.31              3   \n",
       "scheduledday     object    0           0.00             0.00         103549   \n",
       "appointmentday   object    0           0.00             0.00             27   \n",
       "age               int64    0           0.00             0.00            221   \n",
       "neighbourhood    object    0           0.00             0.00             81   \n",
       "scholarship       int64    0           0.00             0.00              2   \n",
       "hipertension      int64    0           0.00             0.00              2   \n",
       "diabetes          int64    0           0.00             0.00              2   \n",
       "alcoholism       object    0           0.00             0.00              4   \n",
       "handcap           int64    0           0.00             0.00              5   \n",
       "sms_received      int64    0           0.00             0.00              2   \n",
       "no-show          object    0           0.00             0.00              2   \n",
       "\n",
       "                        mean           std           min           25%  \\\n",
       "unnamed: 0      5.526300e+04  3.190654e+04  0.000000e+00  2.763150e+04   \n",
       "patientid       1.474963e+14  2.560949e+14  3.921784e+04  4.172614e+12   \n",
       "appointmentid   5.675305e+06  7.129575e+04  5.030230e+06  5.640286e+06   \n",
       "gender                   NaN           NaN           NaN           NaN   \n",
       "scheduledday             NaN           NaN           NaN           NaN   \n",
       "appointmentday           NaN           NaN           NaN           NaN   \n",
       "age             3.704903e+01  2.352466e+01 -2.320000e+02  1.800000e+01   \n",
       "neighbourhood            NaN           NaN           NaN           NaN   \n",
       "scholarship     9.826558e-02  2.976748e-01  0.000000e+00  0.000000e+00   \n",
       "hipertension    1.972459e-01  3.979213e-01  0.000000e+00  0.000000e+00   \n",
       "diabetes        7.186479e-02  2.582651e-01  0.000000e+00  0.000000e+00   \n",
       "alcoholism               NaN           NaN           NaN           NaN   \n",
       "handcap         2.224796e-02  1.615427e-01  0.000000e+00  0.000000e+00   \n",
       "sms_received    3.210256e-01  4.668727e-01  0.000000e+00  0.000000e+00   \n",
       "no-show                  NaN           NaN           NaN           NaN   \n",
       "\n",
       "                         50%           75%           max  \n",
       "unnamed: 0      5.526300e+04  8.289450e+04  1.105260e+05  \n",
       "patientid       3.173184e+13  9.439172e+13  9.999816e+14  \n",
       "appointmentid   5.680573e+06  5.725524e+06  5.790484e+06  \n",
       "gender                   NaN           NaN           NaN  \n",
       "scheduledday             NaN           NaN           NaN  \n",
       "appointmentday           NaN           NaN           NaN  \n",
       "age             3.700000e+01  5.500000e+01  3.100000e+02  \n",
       "neighbourhood            NaN           NaN           NaN  \n",
       "scholarship     0.000000e+00  0.000000e+00  1.000000e+00  \n",
       "hipertension    0.000000e+00  0.000000e+00  1.000000e+00  \n",
       "diabetes        0.000000e+00  0.000000e+00  1.000000e+00  \n",
       "alcoholism               NaN           NaN           NaN  \n",
       "handcap         0.000000e+00  0.000000e+00  4.000000e+00  \n",
       "sms_received    0.000000e+00  1.000000e+00  1.000000e+00  \n",
       "no-show                  NaN           NaN           NaN  "
      ]
     },
     "execution_count": 6,
     "metadata": {},
     "output_type": "execute_result"
    },
    {
     "data": {
      "image/png": "[encoded data removed]",
      "text/plain": [
       "<Figure size 1152x576 with 2 Axes>"
      ]
     },
     "metadata": {},
     "output_type": "display_data"
    }
   ],
   "source": [
    "describe_df (citas)"
   ]
  },
  {
   "cell_type": "markdown",
   "metadata": {
    "hidden": true
   },
   "source": [
    "El único atributo con nulos es <code>gender</code>. Pasaremos a analizar más en profundidad el resto de características para extraer más información."
   ]
  },
  {
   "cell_type": "code",
   "execution_count": 7,
   "metadata": {
    "ExecuteTime": {
     "end_time": "2020-05-08T17:25:27.182199Z",
     "start_time": "2020-05-08T17:25:26.913798Z"
    },
    "hidden": true
   },
   "outputs": [
    {
     "data": {
      "text/plain": [
       "No     88208\n",
       "Yes    22319\n",
       "Name: no-show, dtype: int64"
      ]
     },
     "execution_count": 7,
     "metadata": {},
     "output_type": "execute_result"
    }
   ],
   "source": [
    "citas['no-show'].value_counts()"
   ]
  },
  {
   "cell_type": "markdown",
   "metadata": {
    "heading_collapsed": true
   },
   "source": [
    "## Data cleaning"
   ]
  },
  {
   "cell_type": "markdown",
   "metadata": {
    "heading_collapsed": true,
    "hidden": true
   },
   "source": [
    "### Estrategia"
   ]
  },
  {
   "cell_type": "code",
   "execution_count": 8,
   "metadata": {
    "ExecuteTime": {
     "end_time": "2020-05-08T17:25:27.240282Z",
     "start_time": "2020-05-08T17:25:27.222231Z"
    },
    "hidden": true
   },
   "outputs": [],
   "source": [
    "def date_group(hour):\n",
    "    if 6 <= hour > 11:\n",
    "        return 1\n",
    "    elif 11 <= hour > 15:\n",
    "        return 2\n",
    "    elif 15 <= hour > 22:\n",
    "        return 3\n",
    "    else:\n",
    "        return 0"
   ]
  },
  {
   "cell_type": "code",
   "execution_count": 9,
   "metadata": {
    "ExecuteTime": {
     "end_time": "2020-05-08T17:25:27.310122Z",
     "start_time": "2020-05-08T17:25:27.263771Z"
    },
    "hidden": true
   },
   "outputs": [],
   "source": [
    "def cat_column_analysis (df, col):\n",
    "    \n",
    "    \"\"\"\n",
    "    Dada un columna devuelve información relacionada con nulos y distribución.\n",
    "    \n",
    "    Inputs:\n",
    "    df. datafrme\n",
    "    col. nombre de la columna\n",
    "    \n",
    "    Output:\n",
    "    -Valores nulos y su ratio si hay.\n",
    "    -% de cada valor\n",
    "    -bar plot\n",
    "    \n",
    "    \"\"\"\n",
    "    \n",
    "    df_temp = pd.DataFrame(df[col])\n",
    "    \n",
    "    #Valores nulos\n",
    "    if df[col].isnull().sum()>0:  \n",
    "        print(f\"Valores nulos: {df[col].isnull().sum()}. Un {round((df[col].isnull().sum()/len(df[col])*100),2)}%\")\n",
    "        df_temp[col] = df[col].fillna(\"NaN\")\n",
    "    else:\n",
    "        print(\"No hay valores nulos.\")\n",
    "        \n",
    "    # % según los valores únicos    \n",
    "    print(\"Ratio de valores:\")\n",
    "    cd = pd.DataFrame(df_temp[col].value_counts())\n",
    "    cd[\"%\"] = [round((cd[col][value]/cd[col].sum()),4)*100 for value in cd.index]\n",
    "    print(cd)\n",
    "    \n",
    "    #Visualización de la distribución\n",
    "    print(\"Distribución:\")\n",
    "    display(df_temp[col].hist())\n",
    "    plt.show()\n",
    "    \n",
    "    print('\\n')\n",
    "    \n",
    "    #mostrar el impacto de las distintos valores de la variable en el target (No-show)\n",
    "    df_temp2 = pd.DataFrame(citas[[col,'no-show']])\n",
    "\n",
    "    print(f\"Impacto de {col} en No-shows:\")\n",
    "\n",
    "    df_temp2 = df_temp2.groupby([col,'no-show']).agg({col:'count'})\n",
    "    df_temp2['%'] = [round((df_temp2[col][value]/df_temp2[col][df_temp2.index.get_level_values(0)==value[0]].sum())*100,2)\n",
    "    for value in df_temp2.index]\n",
    "    print(df_temp2)"
   ]
  },
  {
   "cell_type": "code",
   "execution_count": 10,
   "metadata": {
    "ExecuteTime": {
     "end_time": "2020-05-08T17:25:27.371902Z",
     "start_time": "2020-05-08T17:25:27.332771Z"
    },
    "hidden": true
   },
   "outputs": [],
   "source": [
    "def cat_ord_to_num (df, col, lst):\n",
    "\n",
    "    \"\"\"\n",
    "    Convierte una categórica ordinal en numérica manteniendo el orden.\n",
    "\n",
    "    Input:\n",
    "    * df : dataframe\n",
    "    * col: columna a convertir\n",
    "    * lst : lista ordenada de valores únicos de la columna a convertir\n",
    "\n",
    "    Output:\n",
    "    *new_col :lista con los valores convertidos\n",
    "\n",
    "    \"\"\"\n",
    "\n",
    "    new_col = df[col].apply(lambda x: lst.index(x))\n",
    "\n",
    "    return new_col"
   ]
  },
  {
   "cell_type": "markdown",
   "metadata": {
    "hidden": true
   },
   "source": [
    "### PatientId"
   ]
  },
  {
   "cell_type": "markdown",
   "metadata": {
    "hidden": true
   },
   "source": [
    "Convertimos a integer la columna <code>patientid</code> para poder manipularla más facilmente y no tener números en notación científica."
   ]
  },
  {
   "cell_type": "code",
   "execution_count": 11,
   "metadata": {
    "ExecuteTime": {
     "end_time": "2020-05-08T17:25:27.547642Z",
     "start_time": "2020-05-08T17:25:27.388503Z"
    },
    "hidden": true
   },
   "outputs": [],
   "source": [
    "appointments_per_patient_id = citas.groupby(['patientid']).agg({'appointmentid':'count'})"
   ]
  },
  {
   "cell_type": "code",
   "execution_count": 12,
   "metadata": {
    "ExecuteTime": {
     "end_time": "2020-05-08T17:25:30.880415Z",
     "start_time": "2020-05-08T17:25:27.563390Z"
    },
    "hidden": true
   },
   "outputs": [
    {
     "data": {
      "image/png": "[encoded data removed]",
      "text/plain": [
       "<Figure size 1152x360 with 2 Axes>"
      ]
     },
     "metadata": {
      "needs_background": "light"
     },
     "output_type": "display_data"
    }
   ],
   "source": [
    "fig, axs = plt.subplots(nrows=1, ncols=2)\n",
    "fig.set_size_inches(16,5)\n",
    "\n",
    "x1 = appointments_per_patient_id['appointmentid']\n",
    "x2 = appointments_per_patient_id['appointmentid'][appointments_per_patient_id['appointmentid']<=20]\n",
    "\n",
    "\n",
    "axs[0].hist(x1, bins=88)\n",
    "axs[1].hist(x2, bins=20)\n",
    "\n",
    "plt.show()\n"
   ]
  },
  {
   "cell_type": "markdown",
   "metadata": {
    "hidden": true
   },
   "source": [
    "### ScheduledDay y Appointmentday"
   ]
  },
  {
   "cell_type": "markdown",
   "metadata": {
    "hidden": true
   },
   "source": [
    "La estructura actual de los atributos relacionados con fechas no nos permiten trabajar con ellos. Pasaremos a extraer la información que necesitamos usando ReGex y convirtiendo los datos a formato <code>datetime</code>."
   ]
  },
  {
   "cell_type": "code",
   "execution_count": 13,
   "metadata": {
    "ExecuteTime": {
     "end_time": "2020-05-08T17:25:30.966985Z",
     "start_time": "2020-05-08T17:25:30.915961Z"
    },
    "hidden": true
   },
   "outputs": [
    {
     "name": "stdout",
     "output_type": "stream",
     "text": [
      "ScheduledDay column: \n",
      "\n",
      " 0         2016-04-29T18:38:08Z\n",
      "1         2016-04-29T16:08:27Z\n",
      "2         2016-04-29T16:19:04Z\n",
      "3         2016-04-29T17:29:31Z\n",
      "4         2016-04-29T16:07:23Z\n",
      "5         2016-04-27T08:36:51Z\n",
      "6         2016-04-27T15:05:12Z\n",
      "7         2016-04-27T15:39:58Z\n",
      "8         2016-04-29T08:02:16Z\n",
      "9         2016-04-27T12:48:25Z\n",
      "10        2016-04-27T14:58:11Z\n",
      "11        2016-04-26T08:44:12Z\n",
      "12        2016-04-28T11:33:51Z\n",
      "13        2016-04-28T14:52:07Z\n",
      "14        2016-04-28T10:06:24Z\n",
      "15        2016-04-26T08:47:27Z\n",
      "16        2016-04-28T08:51:47Z\n",
      "17        2016-04-28T09:28:57Z\n",
      "18        2016-04-26T10:54:18Z\n",
      "19        2016-04-29T10:43:14Z\n",
      "20        2016-04-27T07:51:14Z\n",
      "21        2016-04-27T10:50:45Z\n",
      "22        2016-04-25T13:29:16Z\n",
      "23        2016-04-28T10:27:05Z\n",
      "24        2016-04-29T14:19:19Z\n",
      "25        2016-04-26T15:04:17Z\n",
      "26        2016-04-29T14:19:42Z\n",
      "27        2016-04-27T10:51:45Z\n",
      "28        2016-04-29T15:48:02Z\n",
      "29        2016-04-29T15:16:29Z\n",
      "                  ...         \n",
      "110497    2016-06-01T09:46:33Z\n",
      "110498    2016-06-08T10:21:14Z\n",
      "110499    2016-06-01T09:42:56Z\n",
      "110500    2016-06-08T09:35:13Z\n",
      "110501    2016-06-01T10:19:12Z\n",
      "110502    2016-06-08T10:50:42Z\n",
      "110503    2016-06-01T13:00:36Z\n",
      "110504    2016-06-08T11:06:21Z\n",
      "110505    2016-06-01T10:45:50Z\n",
      "110506    2016-06-01T11:09:20Z\n",
      "110507    2016-06-08T09:04:18Z\n",
      "110508    2016-06-01T09:41:00Z\n",
      "110509    2016-06-08T08:50:51Z\n",
      "110510    2016-06-01T09:35:48Z\n",
      "110511    2016-06-08T08:50:20Z\n",
      "110512    2016-06-08T08:20:01Z\n",
      "110513    2016-06-08T07:52:55Z\n",
      "110514    2016-06-08T08:35:31Z\n",
      "110515    2016-06-06T15:58:05Z\n",
      "110516    2016-06-07T07:45:16Z\n",
      "110517    2016-06-07T07:38:34Z\n",
      "110518    2016-04-27T15:15:06Z\n",
      "110519    2016-04-27T15:23:14Z\n",
      "110520    2016-05-03T07:51:47Z\n",
      "110521    2016-05-03T08:23:40Z\n",
      "110522    2016-05-03T09:15:35Z\n",
      "110523    2016-05-03T07:27:33Z\n",
      "110524    2016-04-27T16:03:52Z\n",
      "110525    2016-04-27T15:09:23Z\n",
      "110526    2016-04-27T13:30:56Z\n",
      "Name: scheduledday, Length: 110527, dtype: object \n",
      "\n",
      "\n",
      "AppointmentDay column: \n",
      "\n",
      " 0         2016-04-29T00:00:00Z\n",
      "1         2016-04-29T00:00:00Z\n",
      "2         2016-04-29T00:00:00Z\n",
      "3         2016-04-29T00:00:00Z\n",
      "4         2016-04-29T00:00:00Z\n",
      "5         2016-04-29T00:00:00Z\n",
      "6         2016-04-29T00:00:00Z\n",
      "7         2016-04-29T00:00:00Z\n",
      "8         2016-04-29T00:00:00Z\n",
      "9         2016-04-29T00:00:00Z\n",
      "10        2016-04-29T00:00:00Z\n",
      "11        2016-04-29T00:00:00Z\n",
      "12        2016-04-29T00:00:00Z\n",
      "13        2016-04-29T00:00:00Z\n",
      "14        2016-04-29T00:00:00Z\n",
      "15        2016-04-29T00:00:00Z\n",
      "16        2016-04-29T00:00:00Z\n",
      "17        2016-04-29T00:00:00Z\n",
      "18        2016-04-29T00:00:00Z\n",
      "19        2016-04-29T00:00:00Z\n",
      "20        2016-04-29T00:00:00Z\n",
      "21        2016-04-29T00:00:00Z\n",
      "22        2016-04-29T00:00:00Z\n",
      "23        2016-04-29T00:00:00Z\n",
      "24        2016-04-29T00:00:00Z\n",
      "25        2016-04-29T00:00:00Z\n",
      "26        2016-04-29T00:00:00Z\n",
      "27        2016-04-29T00:00:00Z\n",
      "28        2016-04-29T00:00:00Z\n",
      "29        2016-04-29T00:00:00Z\n",
      "                  ...         \n",
      "110497    2016-06-01T00:00:00Z\n",
      "110498    2016-06-08T00:00:00Z\n",
      "110499    2016-06-01T00:00:00Z\n",
      "110500    2016-06-08T00:00:00Z\n",
      "110501    2016-06-01T00:00:00Z\n",
      "110502    2016-06-08T00:00:00Z\n",
      "110503    2016-06-01T00:00:00Z\n",
      "110504    2016-06-08T00:00:00Z\n",
      "110505    2016-06-01T00:00:00Z\n",
      "110506    2016-06-01T00:00:00Z\n",
      "110507    2016-06-08T00:00:00Z\n",
      "110508    2016-06-01T00:00:00Z\n",
      "110509    2016-06-08T00:00:00Z\n",
      "110510    2016-06-01T00:00:00Z\n",
      "110511    2016-06-08T00:00:00Z\n",
      "110512    2016-06-08T00:00:00Z\n",
      "110513    2016-06-08T00:00:00Z\n",
      "110514    2016-06-08T00:00:00Z\n",
      "110515    2016-06-08T00:00:00Z\n",
      "110516    2016-06-08T00:00:00Z\n",
      "110517    2016-06-07T00:00:00Z\n",
      "110518    2016-06-07T00:00:00Z\n",
      "110519    2016-06-07T00:00:00Z\n",
      "110520    2016-06-07T00:00:00Z\n",
      "110521    2016-06-07T00:00:00Z\n",
      "110522    2016-06-07T00:00:00Z\n",
      "110523    2016-06-07T00:00:00Z\n",
      "110524    2016-06-07T00:00:00Z\n",
      "110525    2016-06-07T00:00:00Z\n",
      "110526    2016-06-07T00:00:00Z\n",
      "Name: appointmentday, Length: 110527, dtype: object\n"
     ]
    }
   ],
   "source": [
    "# Checking how different are the values in both columns\n",
    "\n",
    "print('ScheduledDay column:', '\\n\\n', citas['scheduledday'],'\\n\\n')\n",
    "print('AppointmentDay column:', '\\n\\n', citas['appointmentday'])"
   ]
  },
  {
   "cell_type": "code",
   "execution_count": 14,
   "metadata": {
    "ExecuteTime": {
     "end_time": "2020-05-08T17:25:32.470402Z",
     "start_time": "2020-05-08T17:25:30.978631Z"
    },
    "hidden": true
   },
   "outputs": [],
   "source": [
    "citas['scheduledday'] = pd.to_datetime(citas['scheduledday'].str.replace('T',' ').str.replace('Z',''))\n",
    "citas['appointmentday'] = pd.to_datetime(citas['appointmentday'].str.replace('T',' ').str.replace('Z',''))"
   ]
  },
  {
   "cell_type": "code",
   "execution_count": 15,
   "metadata": {
    "ExecuteTime": {
     "end_time": "2020-05-08T17:25:33.229169Z",
     "start_time": "2020-05-08T17:25:32.483462Z"
    },
    "hidden": true
   },
   "outputs": [],
   "source": [
    "citas['scheduleddate'] = pd.to_datetime(citas['scheduledday'].dt.date)\n",
    "citas['scheduledweekday'] = citas['scheduledday'].dt.weekday #Monday 0 Sunday 6\n",
    "citas['scheduledhour'] = citas['scheduledday'].dt.hour\n",
    "citas['appointmentdate'] = pd.to_datetime(citas['appointmentday'].dt.date)\n",
    "citas['appointmentweekday'] = citas['appointmentday'].dt.weekday #Monday 0 Sunday 6\n",
    "citas['appointmenthour'] = citas['appointmentday'].dt.hour"
   ]
  },
  {
   "cell_type": "markdown",
   "metadata": {
    "hidden": true
   },
   "source": [
    "Creating a flag to tell wether the Appointment is in the same day as it was scheduled or not"
   ]
  },
  {
   "cell_type": "code",
   "execution_count": 16,
   "metadata": {
    "ExecuteTime": {
     "end_time": "2020-05-08T17:25:33.314327Z",
     "start_time": "2020-05-08T17:25:33.244037Z"
    },
    "hidden": true
   },
   "outputs": [],
   "source": [
    "citas['samedayflag'] = citas['scheduledweekday'] == citas['appointmentweekday']"
   ]
  },
  {
   "cell_type": "markdown",
   "metadata": {
    "hidden": true
   },
   "source": [
    "Con el siguiente gráfico podemos ver la distribución de las visitas a lo largo del día. "
   ]
  },
  {
   "cell_type": "code",
   "execution_count": 17,
   "metadata": {
    "ExecuteTime": {
     "end_time": "2020-05-08T17:25:34.656123Z",
     "start_time": "2020-05-08T17:25:33.332895Z"
    },
    "hidden": true
   },
   "outputs": [
    {
     "data": {
      "text/plain": [
       "<matplotlib.axes._subplots.AxesSubplot at 0x13a04bc90>"
      ]
     },
     "execution_count": 17,
     "metadata": {},
     "output_type": "execute_result"
    },
    {
     "data": {
      "image/png": "[encoded data removed]",
      "text/plain": [
       "<Figure size 1152x432 with 1 Axes>"
      ]
     },
     "metadata": {
      "needs_background": "light"
     },
     "output_type": "display_data"
    }
   ],
   "source": [
    "sns.countplot(x=citas['scheduledhour'])"
   ]
  },
  {
   "cell_type": "markdown",
   "metadata": {
    "hidden": true
   },
   "source": [
    "- Hay un mayor número de citas por la mañana y algunas horas valle\n",
    "- El **mayor número de citas** fue entre las **7 y las 10 de la mañana**"
   ]
  },
  {
   "cell_type": "markdown",
   "metadata": {
    "hidden": true
   },
   "source": [
    "También podemos ver la distribución por día de la semana."
   ]
  },
  {
   "cell_type": "code",
   "execution_count": 18,
   "metadata": {
    "ExecuteTime": {
     "end_time": "2020-05-08T17:25:35.583882Z",
     "start_time": "2020-05-08T17:25:34.670807Z"
    },
    "hidden": true
   },
   "outputs": [
    {
     "data": {
      "image/png": "[encoded data removed]",
      "text/plain": [
       "<Figure size 1152x432 with 1 Axes>"
      ]
     },
     "metadata": {
      "needs_background": "light"
     },
     "output_type": "display_data"
    }
   ],
   "source": [
    "ax = sns.countplot(x=citas['scheduledweekday'])\n",
    "ax.set_title(\"Citas por día de la semana\")\n",
    "plt.show()"
   ]
  },
  {
   "cell_type": "markdown",
   "metadata": {
    "hidden": true
   },
   "source": [
    "- El lunes se indica con 0 y el domingo que se indica con 6\n",
    "- Los **martes y miércoles** son los días para los que se programan la **mayoría de las citas**"
   ]
  },
  {
   "cell_type": "code",
   "execution_count": 19,
   "metadata": {
    "ExecuteTime": {
     "end_time": "2020-05-08T17:25:38.986715Z",
     "start_time": "2020-05-08T17:25:35.599428Z"
    },
    "hidden": true
   },
   "outputs": [],
   "source": [
    "citas['days_to_appointment'] = (citas['appointmentday'].dt.date - citas['scheduledday'].dt.date).dt.days"
   ]
  },
  {
   "cell_type": "code",
   "execution_count": 20,
   "metadata": {
    "ExecuteTime": {
     "end_time": "2020-05-08T17:25:39.281073Z",
     "start_time": "2020-05-08T17:25:38.993488Z"
    },
    "hidden": true
   },
   "outputs": [],
   "source": [
    "citas.drop(citas[citas['days_to_appointment']<0].index, inplace = True)"
   ]
  },
  {
   "cell_type": "markdown",
   "metadata": {
    "hidden": true
   },
   "source": [
    "Hay 5 citas con agendadas después de la fecha de visita, lo que da valores negativos. Nos tomaremos esto como un error y procedemos a eliminar esa fila."
   ]
  },
  {
   "cell_type": "code",
   "execution_count": 21,
   "metadata": {
    "ExecuteTime": {
     "end_time": "2020-05-08T17:25:41.797772Z",
     "start_time": "2020-05-08T17:25:39.289010Z"
    },
    "hidden": true
   },
   "outputs": [
    {
     "name": "stdout",
     "output_type": "stream",
     "text": [
      "No hay valores nulos.\n",
      "Ratio de valores:\n",
      "     days_to_appointment      %\n",
      "0                  38563  34.89\n",
      "2                   6725   6.08\n",
      "4                   5290   4.79\n",
      "1                   5213   4.72\n",
      "7                   4906   4.44\n",
      "6                   4037   3.65\n",
      "5                   3277   2.97\n",
      "14                  2913   2.64\n",
      "3                   2737   2.48\n",
      "8                   2332   2.11\n",
      "21                  1861   1.68\n",
      "28                  1706   1.54\n",
      "13                  1682   1.52\n",
      "9                   1605   1.45\n",
      "15                  1503   1.36\n",
      "10                  1391   1.26\n",
      "20                  1187   1.07\n",
      "22                  1173   1.06\n",
      "16                  1151   1.04\n",
      "12                  1115   1.01\n",
      "17                  1107   1.00\n",
      "29                  1089   0.99\n",
      "19                  1044   0.94\n",
      "18                  1021   0.92\n",
      "27                  1013   0.92\n",
      "11                   987   0.89\n",
      "35                   963   0.87\n",
      "23                   822   0.74\n",
      "34                   808   0.73\n",
      "26                   731   0.66\n",
      "..                   ...    ...\n",
      "103                    5   0.00\n",
      "109                    5   0.00\n",
      "111                    5   0.00\n",
      "98                     5   0.00\n",
      "95                     5   0.00\n",
      "112                    5   0.00\n",
      "108                    5   0.00\n",
      "96                     4   0.00\n",
      "102                    4   0.00\n",
      "105                    4   0.00\n",
      "119                    4   0.00\n",
      "92                     3   0.00\n",
      "122                    3   0.00\n",
      "107                    2   0.00\n",
      "115                    2   0.00\n",
      "93                     2   0.00\n",
      "94                     2   0.00\n",
      "97                     2   0.00\n",
      "110                    2   0.00\n",
      "126                    1   0.00\n",
      "125                    1   0.00\n",
      "123                    1   0.00\n",
      "117                    1   0.00\n",
      "139                    1   0.00\n",
      "82                     1   0.00\n",
      "101                    1   0.00\n",
      "132                    1   0.00\n",
      "151                    1   0.00\n",
      "146                    1   0.00\n",
      "127                    1   0.00\n",
      "\n",
      "[129 rows x 2 columns]\n",
      "Distribución:\n"
     ]
    },
    {
     "data": {
      "text/plain": [
       "<matplotlib.axes._subplots.AxesSubplot at 0x111acfa50>"
      ]
     },
     "metadata": {},
     "output_type": "display_data"
    },
    {
     "data": {
      "image/png": "[encoded data removed]",
      "text/plain": [
       "<Figure size 1152x432 with 1 Axes>"
      ]
     },
     "metadata": {
      "needs_background": "light"
     },
     "output_type": "display_data"
    },
    {
     "name": "stdout",
     "output_type": "stream",
     "text": [
      "\n",
      "\n",
      "Impacto de days_to_appointment en No-shows:\n",
      "                             days_to_appointment       %\n",
      "days_to_appointment no-show                             \n",
      "0                   No                     36771   95.35\n",
      "                    Yes                     1792    4.65\n",
      "1                   No                      4100   78.65\n",
      "                    Yes                     1113   21.35\n",
      "2                   No                      5123   76.18\n",
      "                    Yes                     1602   23.82\n",
      "3                   No                      2093   76.47\n",
      "                    Yes                      644   23.53\n",
      "4                   No                      4059   76.73\n",
      "                    Yes                     1231   23.27\n",
      "5                   No                      2405   73.39\n",
      "                    Yes                      872   26.61\n",
      "6                   No                      3036   75.20\n",
      "                    Yes                     1001   24.80\n",
      "7                   No                      3597   73.32\n",
      "                    Yes                     1309   26.68\n",
      "8                   No                      1662   71.27\n",
      "                    Yes                      670   28.73\n",
      "9                   No                      1165   72.59\n",
      "                    Yes                      440   27.41\n",
      "10                  No                       951   68.37\n",
      "                    Yes                      440   31.63\n",
      "11                  No                       675   68.39\n",
      "                    Yes                      312   31.61\n",
      "12                  No                       762   68.34\n",
      "                    Yes                      353   31.66\n",
      "13                  No                      1146   68.13\n",
      "                    Yes                      536   31.87\n",
      "14                  No                      2000   68.66\n",
      "                    Yes                      913   31.34\n",
      "...                                          ...     ...\n",
      "110                 Yes                        1   50.00\n",
      "111                 No                         4   80.00\n",
      "                    Yes                        1   20.00\n",
      "112                 No                         5  100.00\n",
      "115                 No                         2  100.00\n",
      "117                 No                         1  100.00\n",
      "119                 No                         4  100.00\n",
      "122                 No                         3  100.00\n",
      "123                 No                         1  100.00\n",
      "125                 No                         1  100.00\n",
      "126                 Yes                        1  100.00\n",
      "127                 No                         1  100.00\n",
      "132                 Yes                        1  100.00\n",
      "133                 No                         7   63.64\n",
      "                    Yes                        4   36.36\n",
      "139                 Yes                        1  100.00\n",
      "142                 No                         5   62.50\n",
      "                    Yes                        3   37.50\n",
      "146                 Yes                        1  100.00\n",
      "151                 Yes                        1  100.00\n",
      "155                 No                         4   40.00\n",
      "                    Yes                        6   60.00\n",
      "162                 No                         9   81.82\n",
      "                    Yes                        2   18.18\n",
      "169                 No                         7   87.50\n",
      "                    Yes                        1   12.50\n",
      "176                 No                        10   62.50\n",
      "                    Yes                        6   37.50\n",
      "179                 No                         8   80.00\n",
      "                    Yes                        2   20.00\n",
      "\n",
      "[235 rows x 2 columns]\n"
     ]
    }
   ],
   "source": [
    "cat_column_analysis (citas, \"days_to_appointment\")"
   ]
  },
  {
   "cell_type": "markdown",
   "metadata": {
    "hidden": true
   },
   "source": [
    "- La **mayoría de las citas** están programadas para el **mismo día (34,90%)** y sólo el **4,70%** de los pacientes faltan\n",
    "- La No-show rate aumenta **cuantos más días haya entre la llamada y la cita**: 1 día (21,40%), 2 días (23,51%)  "
   ]
  },
  {
   "cell_type": "markdown",
   "metadata": {
    "hidden": true
   },
   "source": [
    "#### Agrupaciones para simplificar horas"
   ]
  },
  {
   "cell_type": "code",
   "execution_count": 22,
   "metadata": {
    "ExecuteTime": {
     "end_time": "2020-05-08T17:25:42.320047Z",
     "start_time": "2020-05-08T17:25:41.820120Z"
    },
    "hidden": true
   },
   "outputs": [],
   "source": [
    "citas['schedulehourgroup'] = citas['scheduledhour'].apply(date_group)"
   ]
  },
  {
   "cell_type": "markdown",
   "metadata": {
    "hidden": true
   },
   "source": [
    "### Age"
   ]
  },
  {
   "cell_type": "markdown",
   "metadata": {
    "hidden": true
   },
   "source": [
    "Hacemos una primera exploración para ver la distribución de las edades visualizando los datos que encontramos en la columna"
   ]
  },
  {
   "cell_type": "code",
   "execution_count": 23,
   "metadata": {
    "ExecuteTime": {
     "end_time": "2020-05-08T17:25:43.056678Z",
     "start_time": "2020-05-08T17:25:42.392909Z"
    },
    "hidden": true
   },
   "outputs": [
    {
     "data": {
      "image/png": "[encoded data removed]",
      "text/plain": [
       "<Figure size 1152x432 with 1 Axes>"
      ]
     },
     "metadata": {
      "needs_background": "light"
     },
     "output_type": "display_data"
    }
   ],
   "source": [
    "# cambiar escala / horizontal\n",
    "\n",
    "_=plt.boxplot(citas['age'], vert=False)"
   ]
  },
  {
   "cell_type": "code",
   "execution_count": 24,
   "metadata": {
    "ExecuteTime": {
     "end_time": "2020-05-08T17:25:43.527662Z",
     "start_time": "2020-05-08T17:25:43.130075Z"
    },
    "hidden": true
   },
   "outputs": [
    {
     "data": {
      "text/html": [
       "<div>\n",
       "<style scoped>\n",
       "    .dataframe tbody tr th:only-of-type {\n",
       "        vertical-align: middle;\n",
       "    }\n",
       "\n",
       "    .dataframe tbody tr th {\n",
       "        vertical-align: top;\n",
       "    }\n",
       "\n",
       "    .dataframe thead th {\n",
       "        text-align: right;\n",
       "    }\n",
       "</style>\n",
       "<table border=\"1\" class=\"dataframe\">\n",
       "  <thead>\n",
       "    <tr style=\"text-align: right;\">\n",
       "      <th></th>\n",
       "      <th>patientid</th>\n",
       "      <th>age</th>\n",
       "      <th>appointmentid</th>\n",
       "    </tr>\n",
       "  </thead>\n",
       "  <tbody>\n",
       "    <tr>\n",
       "      <th>0</th>\n",
       "      <td>39217.84439</td>\n",
       "      <td>44</td>\n",
       "      <td>1</td>\n",
       "    </tr>\n",
       "    <tr>\n",
       "      <th>1</th>\n",
       "      <td>43741.75652</td>\n",
       "      <td>39</td>\n",
       "      <td>1</td>\n",
       "    </tr>\n",
       "    <tr>\n",
       "      <th>2</th>\n",
       "      <td>93779.52927</td>\n",
       "      <td>33</td>\n",
       "      <td>1</td>\n",
       "    </tr>\n",
       "    <tr>\n",
       "      <th>3</th>\n",
       "      <td>141724.16655</td>\n",
       "      <td>12</td>\n",
       "      <td>1</td>\n",
       "    </tr>\n",
       "    <tr>\n",
       "      <th>4</th>\n",
       "      <td>537615.28476</td>\n",
       "      <td>14</td>\n",
       "      <td>1</td>\n",
       "    </tr>\n",
       "  </tbody>\n",
       "</table>\n",
       "</div>"
      ],
      "text/plain": [
       "      patientid  age  appointmentid\n",
       "0   39217.84439   44              1\n",
       "1   43741.75652   39              1\n",
       "2   93779.52927   33              1\n",
       "3  141724.16655   12              1\n",
       "4  537615.28476   14              1"
      ]
     },
     "execution_count": 24,
     "metadata": {},
     "output_type": "execute_result"
    }
   ],
   "source": [
    "#Cuantos appointmentids tiene cada paciente con la misma edad\n",
    "\n",
    "ages = citas.groupby(['patientid','age']).agg({'appointmentid':'count'}).reset_index().sort_values('patientid')\n",
    "ages.head()"
   ]
  },
  {
   "cell_type": "code",
   "execution_count": 25,
   "metadata": {
    "ExecuteTime": {
     "end_time": "2020-05-08T17:25:43.618586Z",
     "start_time": "2020-05-08T17:25:43.543747Z"
    },
    "hidden": true
   },
   "outputs": [],
   "source": [
    "#Pacientes que tienen appointments ids con distintas edades\n",
    "ages_dup = ages[ages.duplicated('patientid',keep=False)].sort_values('patientid')\n",
    "\n",
    "patient_dup = pd.DataFrame(ages_dup['patientid'].unique())\n",
    "#si hay mas de un appointment id poner esa edad en el resto\n",
    "#si ha mas de dos edades mirar las que la diferencia es mayor que uno"
   ]
  },
  {
   "cell_type": "code",
   "execution_count": 26,
   "metadata": {
    "ExecuteTime": {
     "end_time": "2020-05-08T17:25:43.661589Z",
     "start_time": "2020-05-08T17:25:43.630437Z"
    },
    "hidden": true
   },
   "outputs": [
    {
     "data": {
      "text/html": [
       "<div>\n",
       "<style scoped>\n",
       "    .dataframe tbody tr th:only-of-type {\n",
       "        vertical-align: middle;\n",
       "    }\n",
       "\n",
       "    .dataframe tbody tr th {\n",
       "        vertical-align: top;\n",
       "    }\n",
       "\n",
       "    .dataframe thead th {\n",
       "        text-align: right;\n",
       "    }\n",
       "</style>\n",
       "<table border=\"1\" class=\"dataframe\">\n",
       "  <thead>\n",
       "    <tr style=\"text-align: right;\">\n",
       "      <th></th>\n",
       "      <th>patientid</th>\n",
       "      <th>age</th>\n",
       "      <th>appointmentid</th>\n",
       "    </tr>\n",
       "  </thead>\n",
       "  <tbody>\n",
       "    <tr>\n",
       "      <th>7</th>\n",
       "      <td>2.263866e+07</td>\n",
       "      <td>22</td>\n",
       "      <td>1</td>\n",
       "    </tr>\n",
       "    <tr>\n",
       "      <th>8</th>\n",
       "      <td>2.263866e+07</td>\n",
       "      <td>23</td>\n",
       "      <td>1</td>\n",
       "    </tr>\n",
       "    <tr>\n",
       "      <th>103</th>\n",
       "      <td>1.217364e+09</td>\n",
       "      <td>48</td>\n",
       "      <td>1</td>\n",
       "    </tr>\n",
       "    <tr>\n",
       "      <th>104</th>\n",
       "      <td>1.217364e+09</td>\n",
       "      <td>49</td>\n",
       "      <td>3</td>\n",
       "    </tr>\n",
       "    <tr>\n",
       "      <th>108</th>\n",
       "      <td>1.269422e+09</td>\n",
       "      <td>51</td>\n",
       "      <td>1</td>\n",
       "    </tr>\n",
       "  </tbody>\n",
       "</table>\n",
       "</div>"
      ],
      "text/plain": [
       "        patientid  age  appointmentid\n",
       "7    2.263866e+07   22              1\n",
       "8    2.263866e+07   23              1\n",
       "103  1.217364e+09   48              1\n",
       "104  1.217364e+09   49              3\n",
       "108  1.269422e+09   51              1"
      ]
     },
     "execution_count": 26,
     "metadata": {},
     "output_type": "execute_result"
    }
   ],
   "source": [
    "ages_dup.head()"
   ]
  },
  {
   "cell_type": "code",
   "execution_count": 27,
   "metadata": {
    "ExecuteTime": {
     "end_time": "2020-05-08T17:25:43.724210Z",
     "start_time": "2020-05-08T17:25:43.706070Z"
    },
    "hidden": true
   },
   "outputs": [],
   "source": [
    "def age_review(maxv,minv,mean):\n",
    "    if minv < 0:\n",
    "        return maxv\n",
    "    elif maxv > 100:\n",
    "        return minv\n",
    "    else:\n",
    "        return mean"
   ]
  },
  {
   "cell_type": "code",
   "execution_count": 28,
   "metadata": {
    "ExecuteTime": {
     "end_time": "2020-05-08T17:25:43.812332Z",
     "start_time": "2020-05-08T17:25:43.769910Z"
    },
    "hidden": true
   },
   "outputs": [
    {
     "data": {
      "text/html": [
       "<div>\n",
       "<style scoped>\n",
       "    .dataframe tbody tr th:only-of-type {\n",
       "        vertical-align: middle;\n",
       "    }\n",
       "\n",
       "    .dataframe tbody tr th {\n",
       "        vertical-align: top;\n",
       "    }\n",
       "\n",
       "    .dataframe thead th {\n",
       "        text-align: right;\n",
       "    }\n",
       "</style>\n",
       "<table border=\"1\" class=\"dataframe\">\n",
       "  <thead>\n",
       "    <tr style=\"text-align: right;\">\n",
       "      <th></th>\n",
       "      <th>patientid</th>\n",
       "      <th>new_age</th>\n",
       "      <th>appointmentid</th>\n",
       "    </tr>\n",
       "  </thead>\n",
       "  <tbody>\n",
       "    <tr>\n",
       "      <th>104</th>\n",
       "      <td>1.217364e+09</td>\n",
       "      <td>49</td>\n",
       "      <td>3</td>\n",
       "    </tr>\n",
       "    <tr>\n",
       "      <th>133</th>\n",
       "      <td>1.611159e+09</td>\n",
       "      <td>7</td>\n",
       "      <td>2</td>\n",
       "    </tr>\n",
       "    <tr>\n",
       "      <th>191</th>\n",
       "      <td>2.522419e+09</td>\n",
       "      <td>55</td>\n",
       "      <td>2</td>\n",
       "    </tr>\n",
       "    <tr>\n",
       "      <th>190</th>\n",
       "      <td>2.522419e+09</td>\n",
       "      <td>54</td>\n",
       "      <td>2</td>\n",
       "    </tr>\n",
       "    <tr>\n",
       "      <th>263</th>\n",
       "      <td>3.939378e+09</td>\n",
       "      <td>0</td>\n",
       "      <td>3</td>\n",
       "    </tr>\n",
       "  </tbody>\n",
       "</table>\n",
       "</div>"
      ],
      "text/plain": [
       "        patientid  new_age  appointmentid\n",
       "104  1.217364e+09       49              3\n",
       "133  1.611159e+09        7              2\n",
       "191  2.522419e+09       55              2\n",
       "190  2.522419e+09       54              2\n",
       "263  3.939378e+09        0              3"
      ]
     },
     "execution_count": 28,
     "metadata": {},
     "output_type": "execute_result"
    }
   ],
   "source": [
    "#more than 1 appointment with same age (este ya deberia ser definitvo)\n",
    "more_than_1_app = ages_dup[ages_dup['appointmentid']>1]\n",
    "\n",
    "more_than_1_app = more_than_1_app.rename(columns=({'age':'new_age'}))\n",
    "\n",
    "more_than_1_app.head()"
   ]
  },
  {
   "cell_type": "code",
   "execution_count": 29,
   "metadata": {
    "ExecuteTime": {
     "end_time": "2020-05-08T17:25:43.978756Z",
     "start_time": "2020-05-08T17:25:43.820266Z"
    },
    "hidden": true
   },
   "outputs": [],
   "source": [
    "#sea 1 y no este en la lista anterior\n",
    "y = ages_dup[~ages_dup['patientid'].isin(more_than_1_app['patientid'])]\n",
    "\n",
    "y = y.groupby(['patientid'])['age'].agg(['max','min','mean']).reset_index()\n",
    "\n",
    "y['diff']=y['max']-y['min']\n",
    "\n",
    "y['new_age'] = y[y['diff']>1].apply(lambda x: age_review(x['max'],x['min'],x['mean']),axis=1)\n"
   ]
  },
  {
   "cell_type": "code",
   "execution_count": 30,
   "metadata": {
    "ExecuteTime": {
     "end_time": "2020-05-08T17:25:44.046666Z",
     "start_time": "2020-05-08T17:25:43.988121Z"
    },
    "hidden": true
   },
   "outputs": [],
   "source": [
    "new_age = more_than_1_app[['patientid','new_age']].append(y[['patientid','new_age']])"
   ]
  },
  {
   "cell_type": "code",
   "execution_count": 31,
   "metadata": {
    "ExecuteTime": {
     "end_time": "2020-05-08T17:25:44.668028Z",
     "start_time": "2020-05-08T17:25:44.062804Z"
    },
    "hidden": true
   },
   "outputs": [],
   "source": [
    "citas = citas.merge(new_age[['patientid','new_age']],\n",
    "                               left_on = ['patientid'],right_on = ['patientid'],how='left')\n"
   ]
  },
  {
   "cell_type": "markdown",
   "metadata": {
    "hidden": true
   },
   "source": [
    "Para los que no hemos conseguido corregir la edad usar la columna age y siempre en valor absoluto"
   ]
  },
  {
   "cell_type": "code",
   "execution_count": 32,
   "metadata": {
    "ExecuteTime": {
     "end_time": "2020-05-08T17:26:02.893234Z",
     "start_time": "2020-05-08T17:25:44.714551Z"
    },
    "hidden": true
   },
   "outputs": [],
   "source": [
    "citas['new_age'] = citas.apply(lambda x: abs(x['age']) if pd.isnull(x['new_age']) else x['new_age'],axis=1)"
   ]
  },
  {
   "cell_type": "markdown",
   "metadata": {
    "hidden": true
   },
   "source": [
    "#### Quitar los outliners"
   ]
  },
  {
   "cell_type": "code",
   "execution_count": 33,
   "metadata": {
    "ExecuteTime": {
     "end_time": "2020-05-08T17:26:02.997940Z",
     "start_time": "2020-05-08T17:26:02.951633Z"
    },
    "hidden": true
   },
   "outputs": [],
   "source": [
    "Q1 = citas['new_age'].quantile(0.25) \n",
    "\n",
    "Q3 = citas['new_age'].quantile(0.75) \n",
    "\n",
    "IQR = citas['new_age'].quantile(0.75) - citas['new_age'].quantile(0.25)\n",
    "\n",
    "#Outliers"
   ]
  },
  {
   "cell_type": "code",
   "execution_count": 34,
   "metadata": {
    "ExecuteTime": {
     "end_time": "2020-05-08T17:26:03.180419Z",
     "start_time": "2020-05-08T17:26:03.072312Z"
    },
    "hidden": true
   },
   "outputs": [],
   "source": [
    "#remove_outliers\n",
    "\n",
    "citas = citas[(citas['new_age'] < Q3+IQR*1.5) & (citas['new_age'] > Q1-IQR*1.5)]"
   ]
  },
  {
   "cell_type": "code",
   "execution_count": 35,
   "metadata": {
    "ExecuteTime": {
     "end_time": "2020-05-08T17:26:05.531736Z",
     "start_time": "2020-05-08T17:26:03.187160Z"
    },
    "hidden": true
   },
   "outputs": [
    {
     "data": {
      "text/plain": [
       "<matplotlib.axes._subplots.AxesSubplot at 0x13c035110>"
      ]
     },
     "execution_count": 35,
     "metadata": {},
     "output_type": "execute_result"
    },
    {
     "data": {
      "image/png": "[encoded data removed]",
      "text/plain": [
       "<Figure size 1152x432 with 1 Axes>"
      ]
     },
     "metadata": {
      "needs_background": "light"
     },
     "output_type": "display_data"
    }
   ],
   "source": [
    "citas['new_age'].hist(bins=120)"
   ]
  },
  {
   "cell_type": "markdown",
   "metadata": {
    "hidden": true
   },
   "source": [
    "### Gender"
   ]
  },
  {
   "cell_type": "code",
   "execution_count": 36,
   "metadata": {
    "ExecuteTime": {
     "end_time": "2020-05-08T17:26:06.558173Z",
     "start_time": "2020-05-08T17:26:05.550975Z"
    },
    "hidden": true
   },
   "outputs": [
    {
     "name": "stdout",
     "output_type": "stream",
     "text": [
      "Valores nulos: 350. Un 0.31%\n",
      "Ratio de valores:\n",
      "     gender      %\n",
      "F     72493  64.68\n",
      "M     39235  35.01\n",
      "NaN     350   0.31\n",
      "Distribución:\n"
     ]
    },
    {
     "data": {
      "text/plain": [
       "<matplotlib.axes._subplots.AxesSubplot at 0x139872890>"
      ]
     },
     "metadata": {},
     "output_type": "display_data"
    },
    {
     "data": {
      "image/png": "[encoded data removed]",
      "text/plain": [
       "<Figure size 1152x432 with 1 Axes>"
      ]
     },
     "metadata": {
      "needs_background": "light"
     },
     "output_type": "display_data"
    },
    {
     "name": "stdout",
     "output_type": "stream",
     "text": [
      "\n",
      "\n",
      "Impacto de gender en No-shows:\n",
      "                gender      %\n",
      "gender no-show               \n",
      "F      No        57759  79.68\n",
      "       Yes       14734  20.32\n",
      "M      No        31462  80.19\n",
      "       Yes        7773  19.81\n"
     ]
    }
   ],
   "source": [
    "cat_column_analysis (citas, \"gender\")"
   ]
  },
  {
   "cell_type": "markdown",
   "metadata": {
    "hidden": true
   },
   "source": [
    "\n",
    "\n",
    "- La mayoría de los pacientes **son mujeres** (64.09%) y tienden a **ir a las citas**. Mientras que los hombres son un 35% más que los hombres y más de un 80% acuden a la cita."
   ]
  },
  {
   "cell_type": "markdown",
   "metadata": {
    "hidden": true
   },
   "source": [
    "La proporción de valores nulos es pequeña. Al tratarse de una categoria binaria podríamos remplazarlos en proporción a los otros dos valores o crear una nueva categoría de NAs para ver si la gente que no facilita los datos también es la que acabar por no acudir a las citas."
   ]
  },
  {
   "cell_type": "markdown",
   "metadata": {
    "hidden": true
   },
   "source": [
    "Convertimos los NaN en una string que sea Not Available/NA"
   ]
  },
  {
   "cell_type": "code",
   "execution_count": 37,
   "metadata": {
    "ExecuteTime": {
     "end_time": "2020-05-08T17:26:06.644102Z",
     "start_time": "2020-05-08T17:26:06.574741Z"
    },
    "hidden": true
   },
   "outputs": [],
   "source": [
    "citas['gender']=citas['gender'].fillna(\"N/A\")"
   ]
  },
  {
   "cell_type": "code",
   "execution_count": 38,
   "metadata": {
    "ExecuteTime": {
     "end_time": "2020-05-08T17:26:07.957676Z",
     "start_time": "2020-05-08T17:26:06.692680Z"
    },
    "hidden": true
   },
   "outputs": [
    {
     "name": "stdout",
     "output_type": "stream",
     "text": [
      "No hay valores nulos.\n",
      "Ratio de valores:\n",
      "     gender      %\n",
      "F     72493  64.68\n",
      "M     39235  35.01\n",
      "N/A     350   0.31\n",
      "Distribución:\n"
     ]
    },
    {
     "data": {
      "text/plain": [
       "<matplotlib.axes._subplots.AxesSubplot at 0x13d3d9c50>"
      ]
     },
     "metadata": {},
     "output_type": "display_data"
    },
    {
     "data": {
      "image/png": "[encoded data removed]",
      "text/plain": [
       "<Figure size 1152x432 with 1 Axes>"
      ]
     },
     "metadata": {
      "needs_background": "light"
     },
     "output_type": "display_data"
    },
    {
     "name": "stdout",
     "output_type": "stream",
     "text": [
      "\n",
      "\n",
      "Impacto de gender en No-shows:\n",
      "                gender      %\n",
      "gender no-show               \n",
      "F      No        57759  79.68\n",
      "       Yes       14734  20.32\n",
      "M      No        31462  80.19\n",
      "       Yes        7773  19.81\n",
      "N/A    No          260  74.29\n",
      "       Yes          90  25.71\n"
     ]
    }
   ],
   "source": [
    "cat_column_analysis (citas, \"gender\")"
   ]
  },
  {
   "cell_type": "markdown",
   "metadata": {
    "hidden": true
   },
   "source": [
    "### Alcoholism"
   ]
  },
  {
   "cell_type": "code",
   "execution_count": 39,
   "metadata": {
    "ExecuteTime": {
     "end_time": "2020-05-08T17:26:08.955992Z",
     "start_time": "2020-05-08T17:26:07.967554Z"
    },
    "hidden": true
   },
   "outputs": [
    {
     "name": "stdout",
     "output_type": "stream",
     "text": [
      "No hay valores nulos.\n",
      "Ratio de valores:\n",
      "          alcoholism      %\n",
      "None          108516  96.82\n",
      "Low             1197   1.07\n",
      "High            1193   1.06\n",
      "Moderate        1172   1.05\n",
      "Distribución:\n"
     ]
    },
    {
     "data": {
      "text/plain": [
       "<matplotlib.axes._subplots.AxesSubplot at 0x13d3ebed0>"
      ]
     },
     "metadata": {},
     "output_type": "display_data"
    },
    {
     "data": {
      "image/png": "[encoded data removed]",
      "text/plain": [
       "<Figure size 1152x432 with 1 Axes>"
      ]
     },
     "metadata": {
      "needs_background": "light"
     },
     "output_type": "display_data"
    },
    {
     "name": "stdout",
     "output_type": "stream",
     "text": [
      "\n",
      "\n",
      "Impacto de alcoholism en No-shows:\n",
      "                    alcoholism      %\n",
      "alcoholism no-show                   \n",
      "High       No              956  80.13\n",
      "           Yes             237  19.87\n",
      "Low        No              963  80.45\n",
      "           Yes             234  19.55\n",
      "Moderate   No              956  81.57\n",
      "           Yes             216  18.43\n",
      "None       No            86606  79.81\n",
      "           Yes           21910  20.19\n"
     ]
    }
   ],
   "source": [
    "cat_column_analysis (citas, \"alcoholism\")"
   ]
  },
  {
   "cell_type": "markdown",
   "metadata": {
    "hidden": true
   },
   "source": [
    "A pesar de lo que en un principio pensamos que podría ser un atributo categórico binario, haciendo una exploración vemos que es categórico ordinal. Podríamos transformarla a numérico. Para ello crearemos una lista con los valores ordenados:\n",
    "* 0 = None\n",
    "* 1 = Low\n",
    "* 2 = Moderate\n",
    "* 3 = High"
   ]
  },
  {
   "cell_type": "code",
   "execution_count": 40,
   "metadata": {
    "ExecuteTime": {
     "end_time": "2020-05-08T17:26:09.195998Z",
     "start_time": "2020-05-08T17:26:08.963422Z"
    },
    "hidden": true
   },
   "outputs": [],
   "source": [
    "order = [\"None\", \"Low\", \"Moderate\", \"High\"]\n",
    "citas['alcoholism'] = pd.to_numeric(cat_ord_to_num(citas, 'alcoholism', order))"
   ]
  },
  {
   "cell_type": "code",
   "execution_count": 41,
   "metadata": {
    "ExecuteTime": {
     "end_time": "2020-05-08T17:26:09.247096Z",
     "start_time": "2020-05-08T17:26:09.208841Z"
    },
    "hidden": true
   },
   "outputs": [
    {
     "data": {
      "text/plain": [
       "0    108516\n",
       "1      1197\n",
       "3      1193\n",
       "2      1172\n",
       "Name: alcoholism, dtype: int64"
      ]
     },
     "execution_count": 41,
     "metadata": {},
     "output_type": "execute_result"
    }
   ],
   "source": [
    "citas['alcoholism'].value_counts()"
   ]
  },
  {
   "cell_type": "markdown",
   "metadata": {
    "hidden": true
   },
   "source": [
    "### Scolarship"
   ]
  },
  {
   "cell_type": "code",
   "execution_count": 42,
   "metadata": {
    "ExecuteTime": {
     "end_time": "2020-05-08T17:26:10.473448Z",
     "start_time": "2020-05-08T17:26:09.286419Z"
    },
    "hidden": true
   },
   "outputs": [
    {
     "name": "stdout",
     "output_type": "stream",
     "text": [
      "No hay valores nulos.\n",
      "Ratio de valores:\n",
      "   scholarship     %\n",
      "0       101089  90.2\n",
      "1        10989   9.8\n",
      "Distribución:\n"
     ]
    },
    {
     "data": {
      "text/plain": [
       "<matplotlib.axes._subplots.AxesSubplot at 0x139ad5190>"
      ]
     },
     "metadata": {},
     "output_type": "display_data"
    },
    {
     "data": {
      "image/png": "[encoded data removed]",
      "text/plain": [
       "<Figure size 1152x432 with 1 Axes>"
      ]
     },
     "metadata": {
      "needs_background": "light"
     },
     "output_type": "display_data"
    },
    {
     "name": "stdout",
     "output_type": "stream",
     "text": [
      "\n",
      "\n",
      "Impacto de scholarship en No-shows:\n",
      "                     scholarship      %\n",
      "scholarship no-show                    \n",
      "0           No             81111  80.24\n",
      "            Yes            19978  19.76\n",
      "1           No              8370  76.17\n",
      "            Yes             2619  23.83\n"
     ]
    }
   ],
   "source": [
    "cat_column_analysis (citas,'scholarship')"
   ]
  },
  {
   "cell_type": "markdown",
   "metadata": {
    "hidden": true
   },
   "source": [
    "- Los pacientes que reciben una beca (apoyo social) tienen **No-show rates más altas** (24,33%) que los que no reciben ningún tipo de apoyo (19,56%)"
   ]
  },
  {
   "cell_type": "markdown",
   "metadata": {
    "hidden": true
   },
   "source": [
    "### Hipertension"
   ]
  },
  {
   "cell_type": "code",
   "execution_count": 43,
   "metadata": {
    "ExecuteTime": {
     "end_time": "2020-05-08T17:26:11.679800Z",
     "start_time": "2020-05-08T17:26:10.485499Z"
    },
    "hidden": true
   },
   "outputs": [
    {
     "name": "stdout",
     "output_type": "stream",
     "text": [
      "No hay valores nulos.\n",
      "Ratio de valores:\n",
      "   hipertension      %\n",
      "0         89869  80.18\n",
      "1         22209  19.82\n",
      "Distribución:\n"
     ]
    },
    {
     "data": {
      "text/plain": [
       "<matplotlib.axes._subplots.AxesSubplot at 0x13a3c8dd0>"
      ]
     },
     "metadata": {},
     "output_type": "display_data"
    },
    {
     "data": {
      "image/png": "[encoded data removed]",
      "text/plain": [
       "<Figure size 1152x432 with 1 Axes>"
      ]
     },
     "metadata": {
      "needs_background": "light"
     },
     "output_type": "display_data"
    },
    {
     "name": "stdout",
     "output_type": "stream",
     "text": [
      "\n",
      "\n",
      "Impacto de hipertension en No-shows:\n",
      "                      hipertension      %\n",
      "hipertension no-show                     \n",
      "0            No              71103  79.12\n",
      "             Yes             18766  20.88\n",
      "1            No              18378  82.75\n",
      "             Yes              3831  17.25\n"
     ]
    }
   ],
   "source": [
    "cat_column_analysis (citas,'hipertension')"
   ]
  },
  {
   "cell_type": "markdown",
   "metadata": {
    "hidden": true
   },
   "source": [
    "- La gente con hipertension representa un 20% de la muestra con lo que la podemos considerar significativa\n",
    "- Podemos observar que la gente con hipertensión hace **menos No-shows que la gente sin**"
   ]
  },
  {
   "cell_type": "markdown",
   "metadata": {
    "hidden": true
   },
   "source": [
    "### Diabetes"
   ]
  },
  {
   "cell_type": "code",
   "execution_count": 44,
   "metadata": {
    "ExecuteTime": {
     "end_time": "2020-05-08T17:26:12.688524Z",
     "start_time": "2020-05-08T17:26:11.692655Z"
    },
    "hidden": true
   },
   "outputs": [
    {
     "name": "stdout",
     "output_type": "stream",
     "text": [
      "No hay valores nulos.\n",
      "Ratio de valores:\n",
      "   diabetes      %\n",
      "0    104002  92.79\n",
      "1      8076   7.21\n",
      "Distribución:\n"
     ]
    },
    {
     "data": {
      "text/plain": [
       "<matplotlib.axes._subplots.AxesSubplot at 0x1399c5750>"
      ]
     },
     "metadata": {},
     "output_type": "display_data"
    },
    {
     "data": {
      "image/png": "[encoded data removed]",
      "text/plain": [
       "<Figure size 1152x432 with 1 Axes>"
      ]
     },
     "metadata": {
      "needs_background": "light"
     },
     "output_type": "display_data"
    },
    {
     "name": "stdout",
     "output_type": "stream",
     "text": [
      "\n",
      "\n",
      "Impacto de diabetes en No-shows:\n",
      "                  diabetes      %\n",
      "diabetes no-show                 \n",
      "0        No          82850  79.66\n",
      "         Yes         21152  20.34\n",
      "1        No           6631  82.11\n",
      "         Yes          1445  17.89\n"
     ]
    }
   ],
   "source": [
    "cat_column_analysis (citas,'diabetes')"
   ]
  },
  {
   "cell_type": "markdown",
   "metadata": {
    "hidden": true
   },
   "source": [
    "- Hay un 7,21% de pacientes con diabetes, y son las que menos faltan (17.89%)"
   ]
  },
  {
   "cell_type": "markdown",
   "metadata": {
    "hidden": true
   },
   "source": [
    "### Handcap"
   ]
  },
  {
   "cell_type": "code",
   "execution_count": 45,
   "metadata": {
    "ExecuteTime": {
     "end_time": "2020-05-08T17:26:13.657711Z",
     "start_time": "2020-05-08T17:26:12.708032Z"
    },
    "hidden": true
   },
   "outputs": [
    {
     "name": "stdout",
     "output_type": "stream",
     "text": [
      "No hay valores nulos.\n",
      "Ratio de valores:\n",
      "   handcap      %\n",
      "0   109764  97.94\n",
      "1     2109   1.88\n",
      "2      189   0.17\n",
      "3       13   0.01\n",
      "4        3   0.00\n",
      "Distribución:\n"
     ]
    },
    {
     "data": {
      "text/plain": [
       "<matplotlib.axes._subplots.AxesSubplot at 0x13a58d790>"
      ]
     },
     "metadata": {},
     "output_type": "display_data"
    },
    {
     "data": {
      "image/png": "[encoded data removed]",
      "text/plain": [
       "<Figure size 1152x432 with 1 Axes>"
      ]
     },
     "metadata": {
      "needs_background": "light"
     },
     "output_type": "display_data"
    },
    {
     "name": "stdout",
     "output_type": "stream",
     "text": [
      "\n",
      "\n",
      "Impacto de handcap en No-shows:\n",
      "                 handcap      %\n",
      "handcap no-show                \n",
      "0       No         87582  79.79\n",
      "        Yes        22182  20.21\n",
      "1       No          1737  82.36\n",
      "        Yes          372  17.64\n",
      "2       No           150  79.37\n",
      "        Yes           39  20.63\n",
      "3       No            10  76.92\n",
      "        Yes            3  23.08\n",
      "4       No             2  66.67\n",
      "        Yes            1  33.33\n"
     ]
    }
   ],
   "source": [
    "cat_column_analysis (citas,'handcap')"
   ]
  },
  {
   "cell_type": "markdown",
   "metadata": {
    "hidden": true
   },
   "source": [
    "De las categorias 2, 3 y 4 de Handcap no nos atreveriamos a decir nada ya que la muestra no es significativa. Por otro lado aunque la de Handcap 1 solo representa el ~2% vemos que puede ser significativo su impacto en los No-shows"
   ]
  },
  {
   "cell_type": "code",
   "execution_count": 46,
   "metadata": {
    "ExecuteTime": {
     "end_time": "2020-05-08T17:26:13.737876Z",
     "start_time": "2020-05-08T17:26:13.697659Z"
    },
    "hidden": true
   },
   "outputs": [],
   "source": [
    "def handcap_group(value):\n",
    "    if value > 0 :\n",
    "        return int(1)\n",
    "    else:\n",
    "        return int(0)"
   ]
  },
  {
   "cell_type": "code",
   "execution_count": 47,
   "metadata": {
    "ExecuteTime": {
     "end_time": "2020-05-08T17:26:14.142764Z",
     "start_time": "2020-05-08T17:26:13.792367Z"
    },
    "hidden": true
   },
   "outputs": [],
   "source": [
    "citas['handcapgroup'] = citas['handcap'].apply(handcap_group)"
   ]
  },
  {
   "cell_type": "code",
   "execution_count": 48,
   "metadata": {
    "ExecuteTime": {
     "end_time": "2020-05-08T17:26:15.395882Z",
     "start_time": "2020-05-08T17:26:14.151923Z"
    },
    "hidden": true
   },
   "outputs": [
    {
     "name": "stdout",
     "output_type": "stream",
     "text": [
      "No hay valores nulos.\n",
      "Ratio de valores:\n",
      "   handcapgroup      %\n",
      "0        109764  97.94\n",
      "1          2314   2.06\n",
      "Distribución:\n"
     ]
    },
    {
     "data": {
      "text/plain": [
       "<matplotlib.axes._subplots.AxesSubplot at 0x1398bfe50>"
      ]
     },
     "metadata": {},
     "output_type": "display_data"
    },
    {
     "data": {
      "image/png": "[encoded data removed]",
      "text/plain": [
       "<Figure size 1152x432 with 1 Axes>"
      ]
     },
     "metadata": {
      "needs_background": "light"
     },
     "output_type": "display_data"
    },
    {
     "name": "stdout",
     "output_type": "stream",
     "text": [
      "\n",
      "\n",
      "Impacto de handcapgroup en No-shows:\n",
      "                      handcapgroup      %\n",
      "handcapgroup no-show                     \n",
      "0            No              87582  79.79\n",
      "             Yes             22182  20.21\n",
      "1            No               1899  82.07\n",
      "             Yes               415  17.93\n"
     ]
    }
   ],
   "source": [
    "cat_column_analysis (citas,'handcapgroup')"
   ]
  },
  {
   "cell_type": "markdown",
   "metadata": {
    "hidden": true
   },
   "source": [
    "- El 97.94% de los pacientes no son discapacitados y **faltan más (20.21%)** que los que son"
   ]
  },
  {
   "cell_type": "markdown",
   "metadata": {
    "hidden": true
   },
   "source": [
    "### Neighbourhood"
   ]
  },
  {
   "cell_type": "code",
   "execution_count": 49,
   "metadata": {
    "ExecuteTime": {
     "end_time": "2020-05-08T17:26:15.449413Z",
     "start_time": "2020-05-08T17:26:15.406739Z"
    },
    "hidden": true
   },
   "outputs": [
    {
     "data": {
      "text/plain": [
       "81"
      ]
     },
     "execution_count": 49,
     "metadata": {},
     "output_type": "execute_result"
    }
   ],
   "source": [
    "citas['neighbourhood'].nunique()"
   ]
  },
  {
   "cell_type": "code",
   "execution_count": 50,
   "metadata": {
    "ExecuteTime": {
     "end_time": "2020-05-08T17:26:15.561729Z",
     "start_time": "2020-05-08T17:26:15.457828Z"
    },
    "hidden": true
   },
   "outputs": [
    {
     "data": {
      "text/plain": [
       "JARDIM CAMBURI       7784\n",
       "MARIA ORTIZ          5833\n",
       "RESISTÊNCIA          4469\n",
       "JARDIM DA PENHA      3922\n",
       "ITARARÉ              3545\n",
       "CENTRO               3369\n",
       "SANTA MARTHA         3174\n",
       "TABUAZEIRO           3156\n",
       "JESUS DE NAZARETH    2886\n",
       "BONFIM               2874\n",
       "SANTO ANTÔNIO        2798\n",
       "SANTO ANDRÉ          2618\n",
       "CARATOÍRA            2589\n",
       "JABOUR               2537\n",
       "SÃO PEDRO            2489\n",
       "ANDORINHAS           2339\n",
       "ILHA DO PRÍNCIPE     2311\n",
       "ROMÃO                2308\n",
       "NOVA PALESTINA       2307\n",
       "DA PENHA             2226\n",
       "Name: neighbourhood, dtype: int64"
      ]
     },
     "execution_count": 50,
     "metadata": {},
     "output_type": "execute_result"
    }
   ],
   "source": [
    "citas['neighbourhood'].value_counts().head(20)"
   ]
  },
  {
   "cell_type": "code",
   "execution_count": 51,
   "metadata": {
    "ExecuteTime": {
     "end_time": "2020-05-08T17:26:15.832779Z",
     "start_time": "2020-05-08T17:26:15.590984Z"
    },
    "hidden": true
   },
   "outputs": [],
   "source": [
    "citas['neighbourhood'] = citas['neighbourhood'].str.title()"
   ]
  },
  {
   "cell_type": "markdown",
   "metadata": {
    "ExecuteTime": {
     "end_time": "2020-04-27T10:14:57.003001Z",
     "start_time": "2020-04-27T10:14:56.968490Z"
    },
    "hidden": true
   },
   "source": [
    "### Variables dummies y atributos numériocs"
   ]
  },
  {
   "cell_type": "markdown",
   "metadata": {
    "hidden": true
   },
   "source": [
    "Una vez realizado el análisis exploratorio vemos como aun tenemos algunas columnas que no son numéricas, así que decidimos convertirlas. Para ello crearemos una copia del dataset sobre el que realizaremos los cambios."
   ]
  },
  {
   "cell_type": "code",
   "execution_count": 52,
   "metadata": {
    "ExecuteTime": {
     "end_time": "2020-05-08T17:26:15.924919Z",
     "start_time": "2020-05-08T17:26:15.862486Z"
    },
    "hidden": true
   },
   "outputs": [],
   "source": [
    "categorical_cols = ['gender','neighbourhood','no-show', 'samedayflag']\n",
    "citas_dummies = citas.copy()"
   ]
  },
  {
   "cell_type": "markdown",
   "metadata": {
    "hidden": true
   },
   "source": [
    "Importamos la función <code>LabelEncoder</code> de <code>sklearn.preprocessing</code> para poder realizar esta codificación."
   ]
  },
  {
   "cell_type": "code",
   "execution_count": 53,
   "metadata": {
    "ExecuteTime": {
     "end_time": "2020-05-08T17:26:16.657096Z",
     "start_time": "2020-05-08T17:26:15.947632Z"
    },
    "hidden": true
   },
   "outputs": [
    {
     "data": {
      "text/html": [
       "<div>\n",
       "<style scoped>\n",
       "    .dataframe tbody tr th:only-of-type {\n",
       "        vertical-align: middle;\n",
       "    }\n",
       "\n",
       "    .dataframe tbody tr th {\n",
       "        vertical-align: top;\n",
       "    }\n",
       "\n",
       "    .dataframe thead th {\n",
       "        text-align: right;\n",
       "    }\n",
       "</style>\n",
       "<table border=\"1\" class=\"dataframe\">\n",
       "  <thead>\n",
       "    <tr style=\"text-align: right;\">\n",
       "      <th></th>\n",
       "      <th>unnamed: 0</th>\n",
       "      <th>patientid</th>\n",
       "      <th>appointmentid</th>\n",
       "      <th>gender</th>\n",
       "      <th>scheduledday</th>\n",
       "      <th>appointmentday</th>\n",
       "      <th>age</th>\n",
       "      <th>neighbourhood</th>\n",
       "      <th>scholarship</th>\n",
       "      <th>hipertension</th>\n",
       "      <th>...</th>\n",
       "      <th>scheduledweekday</th>\n",
       "      <th>scheduledhour</th>\n",
       "      <th>appointmentdate</th>\n",
       "      <th>appointmentweekday</th>\n",
       "      <th>appointmenthour</th>\n",
       "      <th>samedayflag</th>\n",
       "      <th>days_to_appointment</th>\n",
       "      <th>schedulehourgroup</th>\n",
       "      <th>new_age</th>\n",
       "      <th>handcapgroup</th>\n",
       "    </tr>\n",
       "  </thead>\n",
       "  <tbody>\n",
       "    <tr>\n",
       "      <th>0</th>\n",
       "      <td>0</td>\n",
       "      <td>2.987250e+13</td>\n",
       "      <td>5642903</td>\n",
       "      <td>0</td>\n",
       "      <td>2016-04-29 18:38:08</td>\n",
       "      <td>2016-04-29</td>\n",
       "      <td>62</td>\n",
       "      <td>39</td>\n",
       "      <td>0</td>\n",
       "      <td>1</td>\n",
       "      <td>...</td>\n",
       "      <td>4</td>\n",
       "      <td>18</td>\n",
       "      <td>2016-04-29</td>\n",
       "      <td>4</td>\n",
       "      <td>0</td>\n",
       "      <td>1</td>\n",
       "      <td>0</td>\n",
       "      <td>1</td>\n",
       "      <td>62.0</td>\n",
       "      <td>0</td>\n",
       "    </tr>\n",
       "    <tr>\n",
       "      <th>1</th>\n",
       "      <td>1</td>\n",
       "      <td>5.589978e+14</td>\n",
       "      <td>5642503</td>\n",
       "      <td>1</td>\n",
       "      <td>2016-04-29 16:08:27</td>\n",
       "      <td>2016-04-29</td>\n",
       "      <td>56</td>\n",
       "      <td>39</td>\n",
       "      <td>0</td>\n",
       "      <td>0</td>\n",
       "      <td>...</td>\n",
       "      <td>4</td>\n",
       "      <td>16</td>\n",
       "      <td>2016-04-29</td>\n",
       "      <td>4</td>\n",
       "      <td>0</td>\n",
       "      <td>1</td>\n",
       "      <td>0</td>\n",
       "      <td>1</td>\n",
       "      <td>56.0</td>\n",
       "      <td>0</td>\n",
       "    </tr>\n",
       "    <tr>\n",
       "      <th>2</th>\n",
       "      <td>2</td>\n",
       "      <td>4.262962e+12</td>\n",
       "      <td>5642549</td>\n",
       "      <td>0</td>\n",
       "      <td>2016-04-29 16:19:04</td>\n",
       "      <td>2016-04-29</td>\n",
       "      <td>62</td>\n",
       "      <td>45</td>\n",
       "      <td>0</td>\n",
       "      <td>0</td>\n",
       "      <td>...</td>\n",
       "      <td>4</td>\n",
       "      <td>16</td>\n",
       "      <td>2016-04-29</td>\n",
       "      <td>4</td>\n",
       "      <td>0</td>\n",
       "      <td>1</td>\n",
       "      <td>0</td>\n",
       "      <td>1</td>\n",
       "      <td>62.0</td>\n",
       "      <td>0</td>\n",
       "    </tr>\n",
       "    <tr>\n",
       "      <th>3</th>\n",
       "      <td>3</td>\n",
       "      <td>8.679512e+11</td>\n",
       "      <td>5642828</td>\n",
       "      <td>0</td>\n",
       "      <td>2016-04-29 17:29:31</td>\n",
       "      <td>2016-04-29</td>\n",
       "      <td>8</td>\n",
       "      <td>54</td>\n",
       "      <td>0</td>\n",
       "      <td>0</td>\n",
       "      <td>...</td>\n",
       "      <td>4</td>\n",
       "      <td>17</td>\n",
       "      <td>2016-04-29</td>\n",
       "      <td>4</td>\n",
       "      <td>0</td>\n",
       "      <td>1</td>\n",
       "      <td>0</td>\n",
       "      <td>1</td>\n",
       "      <td>8.0</td>\n",
       "      <td>0</td>\n",
       "    </tr>\n",
       "    <tr>\n",
       "      <th>4</th>\n",
       "      <td>4</td>\n",
       "      <td>8.841186e+12</td>\n",
       "      <td>5642494</td>\n",
       "      <td>0</td>\n",
       "      <td>2016-04-29 16:07:23</td>\n",
       "      <td>2016-04-29</td>\n",
       "      <td>56</td>\n",
       "      <td>39</td>\n",
       "      <td>0</td>\n",
       "      <td>1</td>\n",
       "      <td>...</td>\n",
       "      <td>4</td>\n",
       "      <td>16</td>\n",
       "      <td>2016-04-29</td>\n",
       "      <td>4</td>\n",
       "      <td>0</td>\n",
       "      <td>1</td>\n",
       "      <td>0</td>\n",
       "      <td>1</td>\n",
       "      <td>56.0</td>\n",
       "      <td>0</td>\n",
       "    </tr>\n",
       "  </tbody>\n",
       "</table>\n",
       "<p>5 rows × 26 columns</p>\n",
       "</div>"
      ],
      "text/plain": [
       "   unnamed: 0     patientid  appointmentid  gender        scheduledday  \\\n",
       "0           0  2.987250e+13        5642903       0 2016-04-29 18:38:08   \n",
       "1           1  5.589978e+14        5642503       1 2016-04-29 16:08:27   \n",
       "2           2  4.262962e+12        5642549       0 2016-04-29 16:19:04   \n",
       "3           3  8.679512e+11        5642828       0 2016-04-29 17:29:31   \n",
       "4           4  8.841186e+12        5642494       0 2016-04-29 16:07:23   \n",
       "\n",
       "  appointmentday  age  neighbourhood  scholarship  hipertension  ...  \\\n",
       "0     2016-04-29   62             39            0             1  ...   \n",
       "1     2016-04-29   56             39            0             0  ...   \n",
       "2     2016-04-29   62             45            0             0  ...   \n",
       "3     2016-04-29    8             54            0             0  ...   \n",
       "4     2016-04-29   56             39            0             1  ...   \n",
       "\n",
       "   scheduledweekday  scheduledhour  appointmentdate  appointmentweekday  \\\n",
       "0                 4             18       2016-04-29                   4   \n",
       "1                 4             16       2016-04-29                   4   \n",
       "2                 4             16       2016-04-29                   4   \n",
       "3                 4             17       2016-04-29                   4   \n",
       "4                 4             16       2016-04-29                   4   \n",
       "\n",
       "   appointmenthour samedayflag  days_to_appointment  schedulehourgroup  \\\n",
       "0                0           1                    0                  1   \n",
       "1                0           1                    0                  1   \n",
       "2                0           1                    0                  1   \n",
       "3                0           1                    0                  1   \n",
       "4                0           1                    0                  1   \n",
       "\n",
       "  new_age  handcapgroup  \n",
       "0    62.0             0  \n",
       "1    56.0             0  \n",
       "2    62.0             0  \n",
       "3     8.0             0  \n",
       "4    56.0             0  \n",
       "\n",
       "[5 rows x 26 columns]"
      ]
     },
     "execution_count": 53,
     "metadata": {},
     "output_type": "execute_result"
    }
   ],
   "source": [
    "# iniciamos el objeto\n",
    "le = LabelEncoder()\n",
    "\n",
    "# y lo aplicamos al listado de columnas que se definieron antes\n",
    "citas_dummies[categorical_cols] = citas_dummies[categorical_cols].apply(lambda col: le.fit_transform(col))\n",
    "\n",
    "citas_dummies.head()"
   ]
  },
  {
   "cell_type": "markdown",
   "metadata": {
    "hidden": true
   },
   "source": [
    "Procedemos a ordenar las columnas con las modificaciones realizadas."
   ]
  },
  {
   "cell_type": "code",
   "execution_count": 54,
   "metadata": {
    "ExecuteTime": {
     "end_time": "2020-05-08T17:26:16.806219Z",
     "start_time": "2020-05-08T17:26:16.665396Z"
    },
    "hidden": true
   },
   "outputs": [],
   "source": [
    "citas_dummies = citas_dummies[['unnamed: 0', 'patientid', 'appointmentid', 'gender', 'scheduledday',\n",
    "       'appointmentday', 'age', 'neighbourhood', 'scholarship', 'hipertension',\n",
    "       'diabetes', 'alcoholism', 'handcap', 'sms_received',\n",
    "       'scheduleddate', 'scheduledweekday', 'scheduledhour', 'appointmentdate',\n",
    "       'appointmentweekday', 'appointmenthour', 'samedayflag',\n",
    "       'schedulehourgroup', 'new_age', 'handcapgroup', 'days_to_appointment','no-show']]"
   ]
  },
  {
   "cell_type": "code",
   "execution_count": 55,
   "metadata": {
    "ExecuteTime": {
     "end_time": "2020-05-08T17:26:16.871370Z",
     "start_time": "2020-05-08T17:26:16.810316Z"
    },
    "hidden": true
   },
   "outputs": [
    {
     "data": {
      "text/plain": [
       "unnamed: 0                      int64\n",
       "patientid                     float64\n",
       "appointmentid                   int64\n",
       "gender                          int64\n",
       "scheduledday           datetime64[ns]\n",
       "appointmentday         datetime64[ns]\n",
       "age                             int64\n",
       "neighbourhood                   int64\n",
       "scholarship                     int64\n",
       "hipertension                    int64\n",
       "diabetes                        int64\n",
       "alcoholism                      int64\n",
       "handcap                         int64\n",
       "sms_received                    int64\n",
       "scheduleddate          datetime64[ns]\n",
       "scheduledweekday                int64\n",
       "scheduledhour                   int64\n",
       "appointmentdate        datetime64[ns]\n",
       "appointmentweekday              int64\n",
       "appointmenthour                 int64\n",
       "samedayflag                     int64\n",
       "schedulehourgroup               int64\n",
       "new_age                       float64\n",
       "handcapgroup                    int64\n",
       "days_to_appointment             int64\n",
       "no-show                         int64\n",
       "dtype: object"
      ]
     },
     "execution_count": 55,
     "metadata": {},
     "output_type": "execute_result"
    }
   ],
   "source": [
    "citas_dummies.dtypes"
   ]
  },
  {
   "cell_type": "markdown",
   "metadata": {},
   "source": [
    "## Separar dataset para producción y problemas de balanceo"
   ]
  },
  {
   "cell_type": "markdown",
   "metadata": {},
   "source": [
    "Tenemos un total de 25 columnas, de las cuales procedemos a eliminar las que no apartan información significativa como son **unnamed: 0, patientid y appointmentid**. También eliminaremos **age, y handcap**, dado que esa información la tenemos repetida en new_age y handcapgroup. \n",
    "\n",
    "Eliminamos también las columnas de fechas que nos generarían overfitting en el modelo: **'scheduledday', scheduleddate,'appointmentday' y 'appointmentdate'**."
   ]
  },
  {
   "cell_type": "code",
   "execution_count": 56,
   "metadata": {
    "ExecuteTime": {
     "end_time": "2020-05-08T17:26:16.925160Z",
     "start_time": "2020-05-08T17:26:16.889010Z"
    }
   },
   "outputs": [],
   "source": [
    "citas_reduction = citas_dummies[['gender', 'neighbourhood', 'scholarship', 'hipertension',\n",
    "       'diabetes', 'alcoholism','sms_received','scheduledweekday', 'scheduledhour',\n",
    "       'appointmentweekday', 'appointmenthour', 'samedayflag',\n",
    "       'schedulehourgroup', 'new_age', 'handcapgroup', 'days_to_appointment','no-show']]"
   ]
  },
  {
   "cell_type": "markdown",
   "metadata": {},
   "source": [
    "### Separamos el conjunto de datos que irá a producción."
   ]
  },
  {
   "cell_type": "code",
   "execution_count": 57,
   "metadata": {
    "ExecuteTime": {
     "end_time": "2020-05-08T17:26:17.459417Z",
     "start_time": "2020-05-08T17:26:16.957511Z"
    }
   },
   "outputs": [],
   "source": [
    "X = citas_reduction.drop(['no-show'], axis = 1)\n",
    "y = citas_reduction['no-show']\n",
    "    \n",
    "X_train, X_test, y_train, y_test = train_test_split(X, y, stratify=y, test_size = 0.2, random_state=42)"
   ]
  },
  {
   "cell_type": "code",
   "execution_count": 58,
   "metadata": {
    "ExecuteTime": {
     "end_time": "2020-05-09T07:43:26.618545Z",
     "start_time": "2020-05-09T07:43:26.614758Z"
    }
   },
   "outputs": [],
   "source": [
    "production = pd.DataFrame(X_test)"
   ]
  },
  {
   "cell_type": "code",
   "execution_count": 59,
   "metadata": {
    "ExecuteTime": {
     "end_time": "2020-05-09T07:43:32.966359Z",
     "start_time": "2020-05-09T07:43:32.919678Z"
    }
   },
   "outputs": [],
   "source": [
    "production[\"no-show\"] = y_test"
   ]
  },
  {
   "cell_type": "markdown",
   "metadata": {},
   "source": [
    "Guardamos ese 20% en un csv que pasaremos más tarde como test con el modelo definitivo."
   ]
  },
  {
   "cell_type": "code",
   "execution_count": 60,
   "metadata": {
    "ExecuteTime": {
     "end_time": "2020-05-08T17:35:35.834027Z",
     "start_time": "2020-05-08T17:35:34.884509Z"
    }
   },
   "outputs": [],
   "source": [
    "production.to_csv(\"data/production.csv\")"
   ]
  },
  {
   "cell_type": "markdown",
   "metadata": {},
   "source": [
    "Con los datos restantes continuaremos el proceso de modelado."
   ]
  },
  {
   "cell_type": "code",
   "execution_count": 61,
   "metadata": {
    "ExecuteTime": {
     "end_time": "2020-05-08T17:30:36.455030Z",
     "start_time": "2020-05-08T17:30:35.757580Z"
    }
   },
   "outputs": [],
   "source": [
    "citas_dummies_reduction = pd.DataFrame(X_train)"
   ]
  },
  {
   "cell_type": "code",
   "execution_count": 62,
   "metadata": {},
   "outputs": [],
   "source": [
    "citas_dummies_reduction[\"no-show\"] = y_train"
   ]
  },
  {
   "cell_type": "markdown",
   "metadata": {},
   "source": [
    "### Balanceo"
   ]
  },
  {
   "cell_type": "markdown",
   "metadata": {},
   "source": [
    "Nuestro dataset tiene la variable dependediente repartida en un 20% de no-shows, frente a un 80% de gente que va a las visitas médicas. Procedemos a realizar una función de balanceo de los datos para que este ratio cambie."
   ]
  },
  {
   "cell_type": "code",
   "execution_count": 63,
   "metadata": {
    "ExecuteTime": {
     "end_time": "2020-05-08T17:30:46.694402Z",
     "start_time": "2020-05-08T17:30:45.840515Z"
    }
   },
   "outputs": [
    {
     "data": {
      "text/plain": [
       "<matplotlib.axes._subplots.AxesSubplot at 0x13aed50d0>"
      ]
     },
     "execution_count": 63,
     "metadata": {},
     "output_type": "execute_result"
    },
    {
     "data": {
      "image/png": "[encoded data removed]",
      "text/plain": [
       "<Figure size 1152x432 with 1 Axes>"
      ]
     },
     "metadata": {
      "needs_background": "light"
     },
     "output_type": "display_data"
    }
   ],
   "source": [
    "sns.countplot(citas_dummies_reduction[\"no-show\"])"
   ]
  },
  {
   "cell_type": "markdown",
   "metadata": {
    "ExecuteTime": {
     "end_time": "2020-05-09T15:18:08.701166Z",
     "start_time": "2020-05-09T15:18:08.650312Z"
    }
   },
   "source": [
    "#### Near Miss"
   ]
  },
  {
   "cell_type": "markdown",
   "metadata": {},
   "source": [
    "Crearemos un submuestreo basado en el algoritmo de clasificación supervisada k-Nearest Neighbor para eliminar las instancias en zonas de solape. Dentro del método NearMiss encontramos cuatro opciones:\n",
    "\n",
    "* **Método 1.** Selecciona para limpiar aquellas instancias de la clase mayoritaria cuta distancia media a las tres instancias más próximas de la clase minoritaria sea menor.\n",
    "* **Método 2.** Selecciona aquellas instancias de la clase mayoriataria cuya distancia media a las tres instancias más lejanas de la clase minoritaria sea menor.\n",
    "* **Método 3. Selecciona un número dado de instancias de la clase mayoritaria más próximas a cada instancia de la clase minoritaria.**\n",
    "* **Método MostDistant.** Selecciona las instancias de la clase mayoritaria cuya distancia media a las tres instancias más próximas de la clase minoritaria sea mayor."
   ]
  },
  {
   "cell_type": "code",
   "execution_count": 64,
   "metadata": {},
   "outputs": [
    {
     "data": {
      "text/plain": [
       "'\\n\\n*******************************************************************************************\\nAquí lo intentaría con el método 2.\\n*******************************************************************************************\\n\\n'"
      ]
     },
     "execution_count": 64,
     "metadata": {},
     "output_type": "execute_result"
    }
   ],
   "source": [
    "\"\"\"\n",
    "\n",
    "*******************************************************************************************\n",
    "Aquí lo intentaría con el método 2.\n",
    "*******************************************************************************************\n",
    "\n",
    "\"\"\""
   ]
  },
  {
   "cell_type": "code",
   "execution_count": 65,
   "metadata": {
    "ExecuteTime": {
     "end_time": "2020-05-09T08:14:35.185140Z",
     "start_time": "2020-05-09T08:14:35.089773Z"
    }
   },
   "outputs": [],
   "source": [
    "def under_sampling_nr (df, col_dep):\n",
    "    \n",
    "    \"\"\"\n",
    "    Devuelve el df reducido con NearMiss\n",
    "    Input:\n",
    "    *df\n",
    "    *col_dep: variable dependiente\n",
    "    \n",
    "    \"\"\"\n",
    "    \n",
    "    X = df.drop(col_dep, axis = 1)\n",
    "    y = df[col_dep]\n",
    "    \n",
    "    nr = NearMiss(version = 3)\n",
    "    nr = NearMiss()\n",
    "    X_res, y_res = nr.fit_sample(X, y)\n",
    "    \n",
    "    df_temp = pd.DataFrame(X_res, columns = df.columns[:-1])\n",
    "    df_temp[col_dep] = y_res\n",
    "    \n",
    "    return df_temp"
   ]
  },
  {
   "cell_type": "code",
   "execution_count": null,
   "metadata": {},
   "outputs": [],
   "source": []
  },
  {
   "cell_type": "code",
   "execution_count": 66,
   "metadata": {
    "ExecuteTime": {
     "end_time": "2020-05-09T15:22:25.731524Z",
     "start_time": "2020-05-09T15:22:25.722127Z"
    }
   },
   "outputs": [],
   "source": [
    "def rand_under_sampling (df, col_dep):\n",
    "    \n",
    "    \"\"\"\n",
    "    Devuelve el df reducido con RandomUnderSample\n",
    "    Input:\n",
    "    *df\n",
    "    *col_dep: variable dependiente\n",
    "    \n",
    "    \"\"\"\n",
    "    \n",
    "    X = df.drop(col_dep, axis = 1)\n",
    "    y = df[col_dep]\n",
    "    \n",
    "    rus = RandomUnderSampler()\n",
    "    X_res, y_res = rus.fit_sample(X, y)\n",
    "    \n",
    "    df_temp = pd.DataFrame(X_res, columns = X.columns)\n",
    "    df_temp[col_dep] = y_res\n",
    "    \n",
    "    return df_temp"
   ]
  },
  {
   "cell_type": "code",
   "execution_count": 67,
   "metadata": {
    "ExecuteTime": {
     "end_time": "2020-05-09T15:22:40.698957Z",
     "start_time": "2020-05-09T15:22:40.618640Z"
    }
   },
   "outputs": [],
   "source": [
    "citas_dummies_reduction = rand_under_sampling (citas_dummies_reduction, \"no-show\")"
   ]
  },
  {
   "cell_type": "code",
   "execution_count": 68,
   "metadata": {
    "ExecuteTime": {
     "end_time": "2020-05-09T15:22:51.571830Z",
     "start_time": "2020-05-09T15:22:46.516014Z"
    }
   },
   "outputs": [
    {
     "name": "stdout",
     "output_type": "stream",
     "text": [
      "Hay un total de 36156 filas y 17 columnas.\n",
      "None\n"
     ]
    },
    {
     "data": {
      "text/html": [
       "<div>\n",
       "<style scoped>\n",
       "    .dataframe tbody tr th:only-of-type {\n",
       "        vertical-align: middle;\n",
       "    }\n",
       "\n",
       "    .dataframe tbody tr th {\n",
       "        vertical-align: top;\n",
       "    }\n",
       "\n",
       "    .dataframe thead th {\n",
       "        text-align: right;\n",
       "    }\n",
       "</style>\n",
       "<table border=\"1\" class=\"dataframe\">\n",
       "  <thead>\n",
       "    <tr style=\"text-align: right;\">\n",
       "      <th></th>\n",
       "      <th>type</th>\n",
       "      <th>nan</th>\n",
       "      <th>nan_ratio_col</th>\n",
       "      <th>nan_ratio_total</th>\n",
       "      <th>unique_values</th>\n",
       "      <th>mean</th>\n",
       "      <th>std</th>\n",
       "      <th>min</th>\n",
       "      <th>25%</th>\n",
       "      <th>50%</th>\n",
       "      <th>75%</th>\n",
       "      <th>max</th>\n",
       "    </tr>\n",
       "  </thead>\n",
       "  <tbody>\n",
       "    <tr>\n",
       "      <th>gender</th>\n",
       "      <td>int64</td>\n",
       "      <td>0</td>\n",
       "      <td>0.0</td>\n",
       "      <td>0.0</td>\n",
       "      <td>3</td>\n",
       "      <td>0.357479</td>\n",
       "      <td>0.486481</td>\n",
       "      <td>0.0</td>\n",
       "      <td>0.0</td>\n",
       "      <td>0.0</td>\n",
       "      <td>1.0</td>\n",
       "      <td>2.0</td>\n",
       "    </tr>\n",
       "    <tr>\n",
       "      <th>neighbourhood</th>\n",
       "      <td>int64</td>\n",
       "      <td>0</td>\n",
       "      <td>0.0</td>\n",
       "      <td>0.0</td>\n",
       "      <td>80</td>\n",
       "      <td>41.653197</td>\n",
       "      <td>22.425386</td>\n",
       "      <td>0.0</td>\n",
       "      <td>26.0</td>\n",
       "      <td>40.0</td>\n",
       "      <td>60.0</td>\n",
       "      <td>80.0</td>\n",
       "    </tr>\n",
       "    <tr>\n",
       "      <th>scholarship</th>\n",
       "      <td>int64</td>\n",
       "      <td>0</td>\n",
       "      <td>0.0</td>\n",
       "      <td>0.0</td>\n",
       "      <td>2</td>\n",
       "      <td>0.104547</td>\n",
       "      <td>0.305973</td>\n",
       "      <td>0.0</td>\n",
       "      <td>0.0</td>\n",
       "      <td>0.0</td>\n",
       "      <td>0.0</td>\n",
       "      <td>1.0</td>\n",
       "    </tr>\n",
       "    <tr>\n",
       "      <th>hipertension</th>\n",
       "      <td>int64</td>\n",
       "      <td>0</td>\n",
       "      <td>0.0</td>\n",
       "      <td>0.0</td>\n",
       "      <td>2</td>\n",
       "      <td>0.186414</td>\n",
       "      <td>0.389446</td>\n",
       "      <td>0.0</td>\n",
       "      <td>0.0</td>\n",
       "      <td>0.0</td>\n",
       "      <td>0.0</td>\n",
       "      <td>1.0</td>\n",
       "    </tr>\n",
       "    <tr>\n",
       "      <th>diabetes</th>\n",
       "      <td>int64</td>\n",
       "      <td>0</td>\n",
       "      <td>0.0</td>\n",
       "      <td>0.0</td>\n",
       "      <td>2</td>\n",
       "      <td>0.069145</td>\n",
       "      <td>0.253704</td>\n",
       "      <td>0.0</td>\n",
       "      <td>0.0</td>\n",
       "      <td>0.0</td>\n",
       "      <td>0.0</td>\n",
       "      <td>1.0</td>\n",
       "    </tr>\n",
       "    <tr>\n",
       "      <th>alcoholism</th>\n",
       "      <td>int64</td>\n",
       "      <td>0</td>\n",
       "      <td>0.0</td>\n",
       "      <td>0.0</td>\n",
       "      <td>4</td>\n",
       "      <td>0.062037</td>\n",
       "      <td>0.376015</td>\n",
       "      <td>0.0</td>\n",
       "      <td>0.0</td>\n",
       "      <td>0.0</td>\n",
       "      <td>0.0</td>\n",
       "      <td>3.0</td>\n",
       "    </tr>\n",
       "    <tr>\n",
       "      <th>sms_received</th>\n",
       "      <td>int64</td>\n",
       "      <td>0</td>\n",
       "      <td>0.0</td>\n",
       "      <td>0.0</td>\n",
       "      <td>2</td>\n",
       "      <td>0.365389</td>\n",
       "      <td>0.481546</td>\n",
       "      <td>0.0</td>\n",
       "      <td>0.0</td>\n",
       "      <td>0.0</td>\n",
       "      <td>1.0</td>\n",
       "      <td>1.0</td>\n",
       "    </tr>\n",
       "    <tr>\n",
       "      <th>scheduledweekday</th>\n",
       "      <td>int64</td>\n",
       "      <td>0</td>\n",
       "      <td>0.0</td>\n",
       "      <td>0.0</td>\n",
       "      <td>6</td>\n",
       "      <td>1.856372</td>\n",
       "      <td>1.376664</td>\n",
       "      <td>0.0</td>\n",
       "      <td>1.0</td>\n",
       "      <td>2.0</td>\n",
       "      <td>3.0</td>\n",
       "      <td>5.0</td>\n",
       "    </tr>\n",
       "    <tr>\n",
       "      <th>scheduledhour</th>\n",
       "      <td>int64</td>\n",
       "      <td>0</td>\n",
       "      <td>0.0</td>\n",
       "      <td>0.0</td>\n",
       "      <td>16</td>\n",
       "      <td>10.926319</td>\n",
       "      <td>3.228545</td>\n",
       "      <td>6.0</td>\n",
       "      <td>8.0</td>\n",
       "      <td>10.0</td>\n",
       "      <td>14.0</td>\n",
       "      <td>21.0</td>\n",
       "    </tr>\n",
       "    <tr>\n",
       "      <th>appointmentweekday</th>\n",
       "      <td>int64</td>\n",
       "      <td>0</td>\n",
       "      <td>0.0</td>\n",
       "      <td>0.0</td>\n",
       "      <td>6</td>\n",
       "      <td>1.858502</td>\n",
       "      <td>1.380145</td>\n",
       "      <td>0.0</td>\n",
       "      <td>1.0</td>\n",
       "      <td>2.0</td>\n",
       "      <td>3.0</td>\n",
       "      <td>5.0</td>\n",
       "    </tr>\n",
       "    <tr>\n",
       "      <th>appointmenthour</th>\n",
       "      <td>int64</td>\n",
       "      <td>0</td>\n",
       "      <td>0.0</td>\n",
       "      <td>0.0</td>\n",
       "      <td>1</td>\n",
       "      <td>0.000000</td>\n",
       "      <td>0.000000</td>\n",
       "      <td>0.0</td>\n",
       "      <td>0.0</td>\n",
       "      <td>0.0</td>\n",
       "      <td>0.0</td>\n",
       "      <td>0.0</td>\n",
       "    </tr>\n",
       "    <tr>\n",
       "      <th>samedayflag</th>\n",
       "      <td>int64</td>\n",
       "      <td>0</td>\n",
       "      <td>0.0</td>\n",
       "      <td>0.0</td>\n",
       "      <td>2</td>\n",
       "      <td>0.394540</td>\n",
       "      <td>0.488758</td>\n",
       "      <td>0.0</td>\n",
       "      <td>0.0</td>\n",
       "      <td>0.0</td>\n",
       "      <td>1.0</td>\n",
       "      <td>1.0</td>\n",
       "    </tr>\n",
       "    <tr>\n",
       "      <th>schedulehourgroup</th>\n",
       "      <td>int64</td>\n",
       "      <td>0</td>\n",
       "      <td>0.0</td>\n",
       "      <td>0.0</td>\n",
       "      <td>2</td>\n",
       "      <td>0.395896</td>\n",
       "      <td>0.489049</td>\n",
       "      <td>0.0</td>\n",
       "      <td>0.0</td>\n",
       "      <td>0.0</td>\n",
       "      <td>1.0</td>\n",
       "      <td>1.0</td>\n",
       "    </tr>\n",
       "    <tr>\n",
       "      <th>new_age</th>\n",
       "      <td>float64</td>\n",
       "      <td>0</td>\n",
       "      <td>0.0</td>\n",
       "      <td>0.0</td>\n",
       "      <td>107</td>\n",
       "      <td>36.074262</td>\n",
       "      <td>22.710320</td>\n",
       "      <td>0.0</td>\n",
       "      <td>17.0</td>\n",
       "      <td>35.0</td>\n",
       "      <td>54.0</td>\n",
       "      <td>109.0</td>\n",
       "    </tr>\n",
       "    <tr>\n",
       "      <th>handcapgroup</th>\n",
       "      <td>int64</td>\n",
       "      <td>0</td>\n",
       "      <td>0.0</td>\n",
       "      <td>0.0</td>\n",
       "      <td>2</td>\n",
       "      <td>0.019858</td>\n",
       "      <td>0.139515</td>\n",
       "      <td>0.0</td>\n",
       "      <td>0.0</td>\n",
       "      <td>0.0</td>\n",
       "      <td>0.0</td>\n",
       "      <td>1.0</td>\n",
       "    </tr>\n",
       "    <tr>\n",
       "      <th>days_to_appointment</th>\n",
       "      <td>int64</td>\n",
       "      <td>0</td>\n",
       "      <td>0.0</td>\n",
       "      <td>0.0</td>\n",
       "      <td>120</td>\n",
       "      <td>12.170622</td>\n",
       "      <td>15.981131</td>\n",
       "      <td>0.0</td>\n",
       "      <td>1.0</td>\n",
       "      <td>6.0</td>\n",
       "      <td>19.0</td>\n",
       "      <td>179.0</td>\n",
       "    </tr>\n",
       "    <tr>\n",
       "      <th>no-show</th>\n",
       "      <td>int64</td>\n",
       "      <td>0</td>\n",
       "      <td>0.0</td>\n",
       "      <td>0.0</td>\n",
       "      <td>2</td>\n",
       "      <td>0.500000</td>\n",
       "      <td>0.500007</td>\n",
       "      <td>0.0</td>\n",
       "      <td>0.0</td>\n",
       "      <td>0.5</td>\n",
       "      <td>1.0</td>\n",
       "      <td>1.0</td>\n",
       "    </tr>\n",
       "  </tbody>\n",
       "</table>\n",
       "</div>"
      ],
      "text/plain": [
       "                        type  nan  nan_ratio_col  nan_ratio_total  \\\n",
       "gender                 int64    0            0.0              0.0   \n",
       "neighbourhood          int64    0            0.0              0.0   \n",
       "scholarship            int64    0            0.0              0.0   \n",
       "hipertension           int64    0            0.0              0.0   \n",
       "diabetes               int64    0            0.0              0.0   \n",
       "alcoholism             int64    0            0.0              0.0   \n",
       "sms_received           int64    0            0.0              0.0   \n",
       "scheduledweekday       int64    0            0.0              0.0   \n",
       "scheduledhour          int64    0            0.0              0.0   \n",
       "appointmentweekday     int64    0            0.0              0.0   \n",
       "appointmenthour        int64    0            0.0              0.0   \n",
       "samedayflag            int64    0            0.0              0.0   \n",
       "schedulehourgroup      int64    0            0.0              0.0   \n",
       "new_age              float64    0            0.0              0.0   \n",
       "handcapgroup           int64    0            0.0              0.0   \n",
       "days_to_appointment    int64    0            0.0              0.0   \n",
       "no-show                int64    0            0.0              0.0   \n",
       "\n",
       "                     unique_values       mean        std  min   25%   50%  \\\n",
       "gender                           3   0.357479   0.486481  0.0   0.0   0.0   \n",
       "neighbourhood                   80  41.653197  22.425386  0.0  26.0  40.0   \n",
       "scholarship                      2   0.104547   0.305973  0.0   0.0   0.0   \n",
       "hipertension                     2   0.186414   0.389446  0.0   0.0   0.0   \n",
       "diabetes                         2   0.069145   0.253704  0.0   0.0   0.0   \n",
       "alcoholism                       4   0.062037   0.376015  0.0   0.0   0.0   \n",
       "sms_received                     2   0.365389   0.481546  0.0   0.0   0.0   \n",
       "scheduledweekday                 6   1.856372   1.376664  0.0   1.0   2.0   \n",
       "scheduledhour                   16  10.926319   3.228545  6.0   8.0  10.0   \n",
       "appointmentweekday               6   1.858502   1.380145  0.0   1.0   2.0   \n",
       "appointmenthour                  1   0.000000   0.000000  0.0   0.0   0.0   \n",
       "samedayflag                      2   0.394540   0.488758  0.0   0.0   0.0   \n",
       "schedulehourgroup                2   0.395896   0.489049  0.0   0.0   0.0   \n",
       "new_age                        107  36.074262  22.710320  0.0  17.0  35.0   \n",
       "handcapgroup                     2   0.019858   0.139515  0.0   0.0   0.0   \n",
       "days_to_appointment            120  12.170622  15.981131  0.0   1.0   6.0   \n",
       "no-show                          2   0.500000   0.500007  0.0   0.0   0.5   \n",
       "\n",
       "                      75%    max  \n",
       "gender                1.0    2.0  \n",
       "neighbourhood        60.0   80.0  \n",
       "scholarship           0.0    1.0  \n",
       "hipertension          0.0    1.0  \n",
       "diabetes              0.0    1.0  \n",
       "alcoholism            0.0    3.0  \n",
       "sms_received          1.0    1.0  \n",
       "scheduledweekday      3.0    5.0  \n",
       "scheduledhour        14.0   21.0  \n",
       "appointmentweekday    3.0    5.0  \n",
       "appointmenthour       0.0    0.0  \n",
       "samedayflag           1.0    1.0  \n",
       "schedulehourgroup     1.0    1.0  \n",
       "new_age              54.0  109.0  \n",
       "handcapgroup          0.0    1.0  \n",
       "days_to_appointment  19.0  179.0  \n",
       "no-show               1.0    1.0  "
      ]
     },
     "execution_count": 68,
     "metadata": {},
     "output_type": "execute_result"
    },
    {
     "data": {
      "image/png": "[encoded data removed]",
      "text/plain": [
       "<Figure size 1152x576 with 2 Axes>"
      ]
     },
     "metadata": {},
     "output_type": "display_data"
    }
   ],
   "source": [
    "describe_df (citas_dummies_reduction)"
   ]
  },
  {
   "cell_type": "markdown",
   "metadata": {},
   "source": [
    "Damos un rápido vistazo a la nueva repartición de la dependiente variable dependiente y a las nuevas características del dataset."
   ]
  },
  {
   "cell_type": "code",
   "execution_count": 69,
   "metadata": {
    "ExecuteTime": {
     "end_time": "2020-05-09T15:23:01.951650Z",
     "start_time": "2020-05-09T15:23:01.063140Z"
    }
   },
   "outputs": [
    {
     "data": {
      "text/plain": [
       "<matplotlib.axes._subplots.AxesSubplot at 0x139b0dc50>"
      ]
     },
     "execution_count": 69,
     "metadata": {},
     "output_type": "execute_result"
    },
    {
     "data": {
      "image/png": "[encoded data removed]",
      "text/plain": [
       "<Figure size 1152x432 with 1 Axes>"
      ]
     },
     "metadata": {
      "needs_background": "light"
     },
     "output_type": "display_data"
    }
   ],
   "source": [
    "sns.countplot(citas_dummies_reduction['no-show'])"
   ]
  },
  {
   "cell_type": "markdown",
   "metadata": {},
   "source": [
    "## Reducción de la dimensionalidad"
   ]
  },
  {
   "cell_type": "code",
   "execution_count": 70,
   "metadata": {
    "ExecuteTime": {
     "end_time": "2020-05-09T15:23:14.857438Z",
     "start_time": "2020-05-09T15:23:14.844595Z"
    }
   },
   "outputs": [
    {
     "name": "stdout",
     "output_type": "stream",
     "text": [
      "En el data set citas_dummies_reduction hay un total de 36156 filas y 17 columnas.\n"
     ]
    }
   ],
   "source": [
    "print(f'En el data set citas_dummies_reduction hay un total de {citas_dummies_reduction.shape[0]} filas y {citas_dummies_reduction.shape[1]} columnas.')"
   ]
  },
  {
   "cell_type": "markdown",
   "metadata": {},
   "source": [
    "### Heatmap y correlaciones"
   ]
  },
  {
   "cell_type": "code",
   "execution_count": 71,
   "metadata": {
    "ExecuteTime": {
     "end_time": "2020-05-09T15:23:34.114384Z",
     "start_time": "2020-05-09T15:23:25.433751Z"
    }
   },
   "outputs": [
    {
     "data": {
      "image/png": "[encoded data removed]",
      "text/plain": [
       "<Figure size 1152x576 with 2 Axes>"
      ]
     },
     "metadata": {},
     "output_type": "display_data"
    }
   ],
   "source": [
    "corr = citas_dummies_reduction.corr().round(2)\n",
    "mask = np.zeros_like(corr)\n",
    "mask[np.triu_indices_from(mask)] = True\n",
    "\n",
    "with sns.axes_style(\"white\"):\n",
    "    f, ax = plt.subplots(figsize=(16, 8))\n",
    "\n",
    "    ax = sns.heatmap(corr, cmap = 'coolwarm', annot=True,  mask=mask, vmax=.3, square=True)"
   ]
  },
  {
   "cell_type": "markdown",
   "metadata": {},
   "source": [
    "### Eliminación hacia atrás. Opciones 1 y 2"
   ]
  },
  {
   "cell_type": "markdown",
   "metadata": {},
   "source": [
    "La <b>eliminación hacia atrás </b> se suele llevar a cabo en 5 pasos:\n",
    "   1. Seleccionar el nivel de significación.\n",
    "   2. Calcular el modelo con todas las posibles variables predictoras\n",
    "   3. Se considerará variable predictora toda aquella que tenga el p.valor más alto y este, a su vez, sea mayor que nuestro nivel de significación. Si esto sucede, procemos con el siguiente paso.  Si el p.valor más alto está por debajo del nivel de significación el modelo estará listo.\n",
    "   4. Se elimina la variable predictora.\n",
    "   5. Ajustamos el modelo desde el principio sin dicha variable y volvemos al 3er punto."
   ]
  },
  {
   "cell_type": "markdown",
   "metadata": {},
   "source": [
    "Separamos del dataset la variable dependiente a predecir."
   ]
  },
  {
   "cell_type": "code",
   "execution_count": 72,
   "metadata": {
    "ExecuteTime": {
     "end_time": "2020-05-09T15:43:57.281712Z",
     "start_time": "2020-05-09T15:43:57.272025Z"
    }
   },
   "outputs": [],
   "source": [
    "X = citas_dummies_reduction.iloc[:, :-1]\n",
    "y = citas_dummies_reduction.iloc[:, -1]"
   ]
  },
  {
   "cell_type": "markdown",
   "metadata": {},
   "source": [
    "#### Opción 1."
   ]
  },
  {
   "cell_type": "code",
   "execution_count": 73,
   "metadata": {
    "ExecuteTime": {
     "end_time": "2020-05-09T15:44:19.332276Z",
     "start_time": "2020-05-09T15:44:19.319971Z"
    }
   },
   "outputs": [],
   "source": [
    "# Construir el modelo óptimo de RLM utilizando la Eliminación hacia atrás\n",
    "X['none'] = np.ones((X.shape[0],1)).astype(int)"
   ]
  },
  {
   "cell_type": "code",
   "execution_count": 74,
   "metadata": {
    "ExecuteTime": {
     "end_time": "2020-05-09T15:44:26.140920Z",
     "start_time": "2020-05-09T15:44:26.129931Z"
    }
   },
   "outputs": [
    {
     "data": {
      "text/plain": [
       "Index(['gender', 'neighbourhood', 'scholarship', 'hipertension', 'diabetes',\n",
       "       'alcoholism', 'sms_received', 'scheduledweekday', 'scheduledhour',\n",
       "       'appointmentweekday', 'appointmenthour', 'samedayflag',\n",
       "       'schedulehourgroup', 'new_age', 'handcapgroup', 'days_to_appointment',\n",
       "       'none'],\n",
       "      dtype='object')"
      ]
     },
     "execution_count": 74,
     "metadata": {},
     "output_type": "execute_result"
    }
   ],
   "source": [
    "X.columns"
   ]
  },
  {
   "cell_type": "code",
   "execution_count": 75,
   "metadata": {
    "ExecuteTime": {
     "end_time": "2020-05-09T15:45:41.363149Z",
     "start_time": "2020-05-09T15:45:40.926529Z"
    }
   },
   "outputs": [
    {
     "data": {
      "text/html": [
       "<table class=\"simpletable\">\n",
       "<caption>OLS Regression Results</caption>\n",
       "<tr>\n",
       "  <th>Dep. Variable:</th>         <td>no-show</td>     <th>  R-squared (uncentered):</th>      <td>   0.545</td> \n",
       "</tr>\n",
       "<tr>\n",
       "  <th>Model:</th>                   <td>OLS</td>       <th>  Adj. R-squared (uncentered):</th> <td>   0.545</td> \n",
       "</tr>\n",
       "<tr>\n",
       "  <th>Method:</th>             <td>Least Squares</td>  <th>  F-statistic:       </th>          <td>   3332.</td> \n",
       "</tr>\n",
       "<tr>\n",
       "  <th>Date:</th>             <td>Sat, 09 May 2020</td> <th>  Prob (F-statistic):</th>           <td>  0.00</td>  \n",
       "</tr>\n",
       "<tr>\n",
       "  <th>Time:</th>                 <td>20:11:59</td>     <th>  Log-Likelihood:    </th>          <td> -24531.</td> \n",
       "</tr>\n",
       "<tr>\n",
       "  <th>No. Observations:</th>      <td> 36156</td>      <th>  AIC:               </th>          <td>4.909e+04</td>\n",
       "</tr>\n",
       "<tr>\n",
       "  <th>Df Residuals:</th>          <td> 36143</td>      <th>  BIC:               </th>          <td>4.920e+04</td>\n",
       "</tr>\n",
       "<tr>\n",
       "  <th>Df Model:</th>              <td>    13</td>      <th>                     </th>              <td> </td>    \n",
       "</tr>\n",
       "<tr>\n",
       "  <th>Covariance Type:</th>      <td>nonrobust</td>    <th>                     </th>              <td> </td>    \n",
       "</tr>\n",
       "</table>\n",
       "<table class=\"simpletable\">\n",
       "<tr>\n",
       "           <td></td>              <th>coef</th>     <th>std err</th>      <th>t</th>      <th>P>|t|</th>  <th>[0.025</th>    <th>0.975]</th>  \n",
       "</tr>\n",
       "<tr>\n",
       "  <th>gender</th>              <td>    0.0323</td> <td>    0.005</td> <td>    6.232</td> <td> 0.000</td> <td>    0.022</td> <td>    0.043</td>\n",
       "</tr>\n",
       "<tr>\n",
       "  <th>neighbourhood</th>       <td>    0.0005</td> <td>    0.000</td> <td>    4.319</td> <td> 0.000</td> <td>    0.000</td> <td>    0.001</td>\n",
       "</tr>\n",
       "<tr>\n",
       "  <th>scholarship</th>         <td>    0.0916</td> <td>    0.008</td> <td>   11.095</td> <td> 0.000</td> <td>    0.075</td> <td>    0.108</td>\n",
       "</tr>\n",
       "<tr>\n",
       "  <th>hipertension</th>        <td>   -0.0458</td> <td>    0.007</td> <td>   -6.374</td> <td> 0.000</td> <td>   -0.060</td> <td>   -0.032</td>\n",
       "</tr>\n",
       "<tr>\n",
       "  <th>diabetes</th>            <td>    0.0193</td> <td>    0.011</td> <td>    1.751</td> <td> 0.080</td> <td>   -0.002</td> <td>    0.041</td>\n",
       "</tr>\n",
       "<tr>\n",
       "  <th>alcoholism</th>          <td>    0.0021</td> <td>    0.007</td> <td>    0.310</td> <td> 0.756</td> <td>   -0.011</td> <td>    0.015</td>\n",
       "</tr>\n",
       "<tr>\n",
       "  <th>sms_received</th>        <td>    0.0641</td> <td>    0.006</td> <td>   11.392</td> <td> 0.000</td> <td>    0.053</td> <td>    0.075</td>\n",
       "</tr>\n",
       "<tr>\n",
       "  <th>scheduledhour</th>       <td>    0.0478</td> <td>    0.001</td> <td>   58.229</td> <td> 0.000</td> <td>    0.046</td> <td>    0.049</td>\n",
       "</tr>\n",
       "<tr>\n",
       "  <th>appointmentweekday</th>  <td>    0.0107</td> <td>    0.002</td> <td>    5.992</td> <td> 0.000</td> <td>    0.007</td> <td>    0.014</td>\n",
       "</tr>\n",
       "<tr>\n",
       "  <th>appointmenthour</th>     <td> 3.137e-17</td> <td> 4.35e-18</td> <td>    7.215</td> <td> 0.000</td> <td> 2.28e-17</td> <td> 3.99e-17</td>\n",
       "</tr>\n",
       "<tr>\n",
       "  <th>samedayflag</th>         <td>   -0.1954</td> <td>    0.005</td> <td>  -36.938</td> <td> 0.000</td> <td>   -0.206</td> <td>   -0.185</td>\n",
       "</tr>\n",
       "<tr>\n",
       "  <th>schedulehourgroup</th>   <td>   -0.2311</td> <td>    0.008</td> <td>  -29.907</td> <td> 0.000</td> <td>   -0.246</td> <td>   -0.216</td>\n",
       "</tr>\n",
       "<tr>\n",
       "  <th>handcapgroup</th>        <td>    0.0012</td> <td>    0.018</td> <td>    0.064</td> <td> 0.949</td> <td>   -0.034</td> <td>    0.037</td>\n",
       "</tr>\n",
       "<tr>\n",
       "  <th>days_to_appointment</th> <td>    0.0049</td> <td>    0.000</td> <td>   28.926</td> <td> 0.000</td> <td>    0.005</td> <td>    0.005</td>\n",
       "</tr>\n",
       "</table>\n",
       "<table class=\"simpletable\">\n",
       "<tr>\n",
       "  <th>Omnibus:</th>       <td>231866.765</td> <th>  Durbin-Watson:     </th> <td>   0.256</td>\n",
       "</tr>\n",
       "<tr>\n",
       "  <th>Prob(Omnibus):</th>   <td> 0.000</td>   <th>  Jarque-Bera (JB):  </th> <td>3320.445</td>\n",
       "</tr>\n",
       "<tr>\n",
       "  <th>Skew:</th>            <td>-0.066</td>   <th>  Prob(JB):          </th> <td>    0.00</td>\n",
       "</tr>\n",
       "<tr>\n",
       "  <th>Kurtosis:</th>        <td> 1.521</td>   <th>  Cond. No.          </th> <td>3.71e+18</td>\n",
       "</tr>\n",
       "</table><br/><br/>Warnings:<br/>[1] Standard Errors assume that the covariance matrix of the errors is correctly specified.<br/>[2] The smallest eigenvalue is 6.49e-30. This might indicate that there are<br/>strong multicollinearity problems or that the design matrix is singular."
      ],
      "text/plain": [
       "<class 'statsmodels.iolib.summary.Summary'>\n",
       "\"\"\"\n",
       "                                 OLS Regression Results                                \n",
       "=======================================================================================\n",
       "Dep. Variable:                no-show   R-squared (uncentered):                   0.545\n",
       "Model:                            OLS   Adj. R-squared (uncentered):              0.545\n",
       "Method:                 Least Squares   F-statistic:                              3332.\n",
       "Date:                Sat, 09 May 2020   Prob (F-statistic):                        0.00\n",
       "Time:                        20:11:59   Log-Likelihood:                         -24531.\n",
       "No. Observations:               36156   AIC:                                  4.909e+04\n",
       "Df Residuals:                   36143   BIC:                                  4.920e+04\n",
       "Df Model:                          13                                                  \n",
       "Covariance Type:            nonrobust                                                  \n",
       "=======================================================================================\n",
       "                          coef    std err          t      P>|t|      [0.025      0.975]\n",
       "---------------------------------------------------------------------------------------\n",
       "gender                  0.0323      0.005      6.232      0.000       0.022       0.043\n",
       "neighbourhood           0.0005      0.000      4.319      0.000       0.000       0.001\n",
       "scholarship             0.0916      0.008     11.095      0.000       0.075       0.108\n",
       "hipertension           -0.0458      0.007     -6.374      0.000      -0.060      -0.032\n",
       "diabetes                0.0193      0.011      1.751      0.080      -0.002       0.041\n",
       "alcoholism              0.0021      0.007      0.310      0.756      -0.011       0.015\n",
       "sms_received            0.0641      0.006     11.392      0.000       0.053       0.075\n",
       "scheduledhour           0.0478      0.001     58.229      0.000       0.046       0.049\n",
       "appointmentweekday      0.0107      0.002      5.992      0.000       0.007       0.014\n",
       "appointmenthour      3.137e-17   4.35e-18      7.215      0.000    2.28e-17    3.99e-17\n",
       "samedayflag            -0.1954      0.005    -36.938      0.000      -0.206      -0.185\n",
       "schedulehourgroup      -0.2311      0.008    -29.907      0.000      -0.246      -0.216\n",
       "handcapgroup            0.0012      0.018      0.064      0.949      -0.034       0.037\n",
       "days_to_appointment     0.0049      0.000     28.926      0.000       0.005       0.005\n",
       "==============================================================================\n",
       "Omnibus:                   231866.765   Durbin-Watson:                   0.256\n",
       "Prob(Omnibus):                  0.000   Jarque-Bera (JB):             3320.445\n",
       "Skew:                          -0.066   Prob(JB):                         0.00\n",
       "Kurtosis:                       1.521   Cond. No.                     3.71e+18\n",
       "==============================================================================\n",
       "\n",
       "Warnings:\n",
       "[1] Standard Errors assume that the covariance matrix of the errors is correctly specified.\n",
       "[2] The smallest eigenvalue is 6.49e-30. This might indicate that there are\n",
       "strong multicollinearity problems or that the design matrix is singular.\n",
       "\"\"\""
      ]
     },
     "execution_count": 75,
     "metadata": {},
     "output_type": "execute_result"
    }
   ],
   "source": [
    "X_opt = X[['gender', 'neighbourhood', 'scholarship', 'hipertension', 'diabetes',\n",
    "       'alcoholism', 'sms_received', 'scheduledhour',\n",
    "       'appointmentweekday', 'appointmenthour', 'samedayflag',\n",
    "       'schedulehourgroup', 'handcapgroup', 'days_to_appointment']]\n",
    "regression_OLS = sm.OLS(y, X_opt).fit()\n",
    "regression_OLS.summary()"
   ]
  },
  {
   "cell_type": "code",
   "execution_count": 76,
   "metadata": {
    "ExecuteTime": {
     "end_time": "2020-05-09T15:47:50.326003Z",
     "start_time": "2020-05-09T15:47:50.316440Z"
    }
   },
   "outputs": [],
   "source": [
    "opt1 = pd.DataFrame(X_opt, columns = X_opt.columns)\n",
    "opt1['no-show'] = citas_dummies_reduction['no-show']"
   ]
  },
  {
   "cell_type": "code",
   "execution_count": 77,
   "metadata": {
    "ExecuteTime": {
     "end_time": "2020-05-09T15:47:57.183029Z",
     "start_time": "2020-05-09T15:47:57.156154Z"
    }
   },
   "outputs": [
    {
     "data": {
      "text/html": [
       "<div>\n",
       "<style scoped>\n",
       "    .dataframe tbody tr th:only-of-type {\n",
       "        vertical-align: middle;\n",
       "    }\n",
       "\n",
       "    .dataframe tbody tr th {\n",
       "        vertical-align: top;\n",
       "    }\n",
       "\n",
       "    .dataframe thead th {\n",
       "        text-align: right;\n",
       "    }\n",
       "</style>\n",
       "<table border=\"1\" class=\"dataframe\">\n",
       "  <thead>\n",
       "    <tr style=\"text-align: right;\">\n",
       "      <th></th>\n",
       "      <th>gender</th>\n",
       "      <th>neighbourhood</th>\n",
       "      <th>scholarship</th>\n",
       "      <th>hipertension</th>\n",
       "      <th>diabetes</th>\n",
       "      <th>alcoholism</th>\n",
       "      <th>sms_received</th>\n",
       "      <th>scheduledhour</th>\n",
       "      <th>appointmentweekday</th>\n",
       "      <th>appointmenthour</th>\n",
       "      <th>samedayflag</th>\n",
       "      <th>schedulehourgroup</th>\n",
       "      <th>handcapgroup</th>\n",
       "      <th>days_to_appointment</th>\n",
       "      <th>no-show</th>\n",
       "    </tr>\n",
       "  </thead>\n",
       "  <tbody>\n",
       "    <tr>\n",
       "      <th>0</th>\n",
       "      <td>0</td>\n",
       "      <td>48</td>\n",
       "      <td>0</td>\n",
       "      <td>0</td>\n",
       "      <td>0</td>\n",
       "      <td>0</td>\n",
       "      <td>0</td>\n",
       "      <td>7</td>\n",
       "      <td>3</td>\n",
       "      <td>0</td>\n",
       "      <td>1</td>\n",
       "      <td>0</td>\n",
       "      <td>0</td>\n",
       "      <td>0</td>\n",
       "      <td>0</td>\n",
       "    </tr>\n",
       "    <tr>\n",
       "      <th>1</th>\n",
       "      <td>1</td>\n",
       "      <td>77</td>\n",
       "      <td>0</td>\n",
       "      <td>0</td>\n",
       "      <td>0</td>\n",
       "      <td>0</td>\n",
       "      <td>0</td>\n",
       "      <td>12</td>\n",
       "      <td>0</td>\n",
       "      <td>0</td>\n",
       "      <td>1</td>\n",
       "      <td>1</td>\n",
       "      <td>0</td>\n",
       "      <td>7</td>\n",
       "      <td>0</td>\n",
       "    </tr>\n",
       "    <tr>\n",
       "      <th>2</th>\n",
       "      <td>1</td>\n",
       "      <td>50</td>\n",
       "      <td>0</td>\n",
       "      <td>0</td>\n",
       "      <td>0</td>\n",
       "      <td>0</td>\n",
       "      <td>0</td>\n",
       "      <td>9</td>\n",
       "      <td>3</td>\n",
       "      <td>0</td>\n",
       "      <td>1</td>\n",
       "      <td>0</td>\n",
       "      <td>0</td>\n",
       "      <td>0</td>\n",
       "      <td>0</td>\n",
       "    </tr>\n",
       "    <tr>\n",
       "      <th>3</th>\n",
       "      <td>0</td>\n",
       "      <td>56</td>\n",
       "      <td>0</td>\n",
       "      <td>1</td>\n",
       "      <td>0</td>\n",
       "      <td>0</td>\n",
       "      <td>0</td>\n",
       "      <td>17</td>\n",
       "      <td>1</td>\n",
       "      <td>0</td>\n",
       "      <td>1</td>\n",
       "      <td>1</td>\n",
       "      <td>0</td>\n",
       "      <td>0</td>\n",
       "      <td>0</td>\n",
       "    </tr>\n",
       "    <tr>\n",
       "      <th>4</th>\n",
       "      <td>0</td>\n",
       "      <td>15</td>\n",
       "      <td>0</td>\n",
       "      <td>1</td>\n",
       "      <td>1</td>\n",
       "      <td>0</td>\n",
       "      <td>1</td>\n",
       "      <td>11</td>\n",
       "      <td>3</td>\n",
       "      <td>0</td>\n",
       "      <td>0</td>\n",
       "      <td>0</td>\n",
       "      <td>0</td>\n",
       "      <td>9</td>\n",
       "      <td>0</td>\n",
       "    </tr>\n",
       "  </tbody>\n",
       "</table>\n",
       "</div>"
      ],
      "text/plain": [
       "   gender  neighbourhood  scholarship  hipertension  diabetes  alcoholism  \\\n",
       "0       0             48            0             0         0           0   \n",
       "1       1             77            0             0         0           0   \n",
       "2       1             50            0             0         0           0   \n",
       "3       0             56            0             1         0           0   \n",
       "4       0             15            0             1         1           0   \n",
       "\n",
       "   sms_received  scheduledhour  appointmentweekday  appointmenthour  \\\n",
       "0             0              7                   3                0   \n",
       "1             0             12                   0                0   \n",
       "2             0              9                   3                0   \n",
       "3             0             17                   1                0   \n",
       "4             1             11                   3                0   \n",
       "\n",
       "   samedayflag  schedulehourgroup  handcapgroup  days_to_appointment  no-show  \n",
       "0            1                  0             0                    0        0  \n",
       "1            1                  1             0                    7        0  \n",
       "2            1                  0             0                    0        0  \n",
       "3            1                  1             0                    0        0  \n",
       "4            0                  0             0                    9        0  "
      ]
     },
     "execution_count": 77,
     "metadata": {},
     "output_type": "execute_result"
    }
   ],
   "source": [
    "opt1.head()"
   ]
  },
  {
   "cell_type": "code",
   "execution_count": 78,
   "metadata": {
    "ExecuteTime": {
     "end_time": "2020-05-08T17:35:26.995066Z",
     "start_time": "2020-05-08T17:35:25.358288Z"
    }
   },
   "outputs": [],
   "source": [
    "opt1.to_csv('data/opt1.csv',index = False)"
   ]
  },
  {
   "cell_type": "markdown",
   "metadata": {},
   "source": [
    "#### Opción 2"
   ]
  },
  {
   "cell_type": "markdown",
   "metadata": {},
   "source": [
    "Usaremos eliminación hacia atrás desde la visualización de heatmap."
   ]
  },
  {
   "cell_type": "code",
   "execution_count": 79,
   "metadata": {
    "ExecuteTime": {
     "end_time": "2020-05-09T15:48:12.044564Z",
     "start_time": "2020-05-09T15:48:11.976596Z"
    }
   },
   "outputs": [],
   "source": [
    "opt2 = citas_dummies_reduction.copy()"
   ]
  },
  {
   "cell_type": "code",
   "execution_count": 80,
   "metadata": {
    "ExecuteTime": {
     "end_time": "2020-05-09T15:48:18.271134Z",
     "start_time": "2020-05-09T15:48:18.262177Z"
    }
   },
   "outputs": [],
   "source": [
    "def drop_corr (df, col):\n",
    "    df.drop(col, inplace=True, axis=1)\n",
    "    heatmap_ml(df)"
   ]
  },
  {
   "cell_type": "code",
   "execution_count": 81,
   "metadata": {
    "ExecuteTime": {
     "end_time": "2020-05-09T15:48:26.881770Z",
     "start_time": "2020-05-09T15:48:22.645539Z"
    }
   },
   "outputs": [
    {
     "data": {
      "image/png": "[encoded data removed]",
      "text/plain": [
       "<Figure size 1152x576 with 2 Axes>"
      ]
     },
     "metadata": {},
     "output_type": "display_data"
    }
   ],
   "source": [
    "heatmap_ml(opt2)"
   ]
  },
  {
   "cell_type": "markdown",
   "metadata": {},
   "source": [
    "Se aprecia solo una alta correlación entre <code>scheduledhour</code> y <code>scheduledhourgroup</code>, que de hecho es una de las columnas que se decidió agrupar. Procedemos a eliminar <code>scheduledhour</code> por ser la más específica."
   ]
  },
  {
   "cell_type": "code",
   "execution_count": 82,
   "metadata": {
    "ExecuteTime": {
     "end_time": "2020-05-09T15:55:38.722260Z",
     "start_time": "2020-05-09T15:55:34.627686Z"
    }
   },
   "outputs": [
    {
     "data": {
      "image/png": "[encoded data removed]",
      "text/plain": [
       "<Figure size 1152x576 with 2 Axes>"
      ]
     },
     "metadata": {},
     "output_type": "display_data"
    }
   ],
   "source": [
    "drop_corr(opt2, 'schedulehourgroup')"
   ]
  },
  {
   "cell_type": "code",
   "execution_count": 83,
   "metadata": {
    "ExecuteTime": {
     "end_time": "2020-05-08T17:48:45.624166Z",
     "start_time": "2020-05-08T17:48:45.223916Z"
    }
   },
   "outputs": [],
   "source": [
    "opt2.to_csv('data/opt2.csv',index = False)"
   ]
  },
  {
   "cell_type": "markdown",
   "metadata": {},
   "source": [
    "### Recursive Feature Elimination. Opción 3"
   ]
  },
  {
   "cell_type": "code",
   "execution_count": 84,
   "metadata": {
    "ExecuteTime": {
     "end_time": "2020-05-09T15:55:46.380112Z",
     "start_time": "2020-05-09T15:55:46.323006Z"
    }
   },
   "outputs": [],
   "source": [
    "opt3 = citas_dummies_reduction.copy()"
   ]
  },
  {
   "cell_type": "markdown",
   "metadata": {},
   "source": [
    "En este caso, el parámetro <code>n_features_to_select=10</code> es el que decide el número de variables que quieres quedarte. 1 son las más importantes, los números más altos las que menos..."
   ]
  },
  {
   "cell_type": "code",
   "execution_count": 85,
   "metadata": {
    "ExecuteTime": {
     "end_time": "2020-05-09T15:56:07.512578Z",
     "start_time": "2020-05-09T15:56:07.477881Z"
    }
   },
   "outputs": [],
   "source": [
    "def RFEselection (df, y, col, random_state):\n",
    "    \"\"\"\n",
    "    df = dataset\n",
    "    y = variable a predecir\n",
    "    col = número de columnas que quieres quedarte\n",
    "    random_state\n",
    "    \n",
    "    otuput = df nuevo\n",
    "    \n",
    "    \"\"\"\n",
    "    X = df[df.columns[:-1]]\n",
    "    y = df[y]\n",
    "    \n",
    "    #X_train, X_test, y_train, y_test = train_test_split(df.drop(y, axis =1), df[y], stratify = df[y], shuffle = True, random_state=random_state)\n",
    "    selector = RFE(LinearRegression(), n_features_to_select=col)\n",
    "    selector = selector.fit(X, y)\n",
    "    rank = pd.DataFrame(selector.ranking_, index = X.columns, columns = [\"rank\"])\n",
    "    \n",
    "    return df[rank[rank[\"rank\"]==1].index]"
   ]
  },
  {
   "cell_type": "code",
   "execution_count": 86,
   "metadata": {
    "ExecuteTime": {
     "end_time": "2020-05-09T15:56:11.841109Z",
     "start_time": "2020-05-09T15:56:11.447036Z"
    }
   },
   "outputs": [],
   "source": [
    "opt3 = (RFEselection (opt3, \"no-show\", 10, 42)).join(citas_dummies_reduction['no-show'], on = citas_dummies_reduction.index)"
   ]
  },
  {
   "cell_type": "code",
   "execution_count": 87,
   "metadata": {
    "ExecuteTime": {
     "end_time": "2020-05-09T15:56:17.758152Z",
     "start_time": "2020-05-09T15:56:17.726146Z"
    }
   },
   "outputs": [
    {
     "data": {
      "text/html": [
       "<div>\n",
       "<style scoped>\n",
       "    .dataframe tbody tr th:only-of-type {\n",
       "        vertical-align: middle;\n",
       "    }\n",
       "\n",
       "    .dataframe tbody tr th {\n",
       "        vertical-align: top;\n",
       "    }\n",
       "\n",
       "    .dataframe thead th {\n",
       "        text-align: right;\n",
       "    }\n",
       "</style>\n",
       "<table border=\"1\" class=\"dataframe\">\n",
       "  <thead>\n",
       "    <tr style=\"text-align: right;\">\n",
       "      <th></th>\n",
       "      <th>gender</th>\n",
       "      <th>scholarship</th>\n",
       "      <th>hipertension</th>\n",
       "      <th>diabetes</th>\n",
       "      <th>sms_received</th>\n",
       "      <th>scheduledhour</th>\n",
       "      <th>samedayflag</th>\n",
       "      <th>schedulehourgroup</th>\n",
       "      <th>handcapgroup</th>\n",
       "      <th>days_to_appointment</th>\n",
       "      <th>no-show</th>\n",
       "    </tr>\n",
       "  </thead>\n",
       "  <tbody>\n",
       "    <tr>\n",
       "      <th>0</th>\n",
       "      <td>0</td>\n",
       "      <td>0</td>\n",
       "      <td>0</td>\n",
       "      <td>0</td>\n",
       "      <td>0</td>\n",
       "      <td>7</td>\n",
       "      <td>1</td>\n",
       "      <td>0</td>\n",
       "      <td>0</td>\n",
       "      <td>0</td>\n",
       "      <td>0</td>\n",
       "    </tr>\n",
       "    <tr>\n",
       "      <th>1</th>\n",
       "      <td>1</td>\n",
       "      <td>0</td>\n",
       "      <td>0</td>\n",
       "      <td>0</td>\n",
       "      <td>0</td>\n",
       "      <td>12</td>\n",
       "      <td>1</td>\n",
       "      <td>1</td>\n",
       "      <td>0</td>\n",
       "      <td>7</td>\n",
       "      <td>0</td>\n",
       "    </tr>\n",
       "    <tr>\n",
       "      <th>2</th>\n",
       "      <td>1</td>\n",
       "      <td>0</td>\n",
       "      <td>0</td>\n",
       "      <td>0</td>\n",
       "      <td>0</td>\n",
       "      <td>9</td>\n",
       "      <td>1</td>\n",
       "      <td>0</td>\n",
       "      <td>0</td>\n",
       "      <td>0</td>\n",
       "      <td>0</td>\n",
       "    </tr>\n",
       "    <tr>\n",
       "      <th>3</th>\n",
       "      <td>0</td>\n",
       "      <td>0</td>\n",
       "      <td>1</td>\n",
       "      <td>0</td>\n",
       "      <td>0</td>\n",
       "      <td>17</td>\n",
       "      <td>1</td>\n",
       "      <td>1</td>\n",
       "      <td>0</td>\n",
       "      <td>0</td>\n",
       "      <td>0</td>\n",
       "    </tr>\n",
       "    <tr>\n",
       "      <th>4</th>\n",
       "      <td>0</td>\n",
       "      <td>0</td>\n",
       "      <td>1</td>\n",
       "      <td>1</td>\n",
       "      <td>1</td>\n",
       "      <td>11</td>\n",
       "      <td>0</td>\n",
       "      <td>0</td>\n",
       "      <td>0</td>\n",
       "      <td>9</td>\n",
       "      <td>0</td>\n",
       "    </tr>\n",
       "  </tbody>\n",
       "</table>\n",
       "</div>"
      ],
      "text/plain": [
       "   gender  scholarship  hipertension  diabetes  sms_received  scheduledhour  \\\n",
       "0       0            0             0         0             0              7   \n",
       "1       1            0             0         0             0             12   \n",
       "2       1            0             0         0             0              9   \n",
       "3       0            0             1         0             0             17   \n",
       "4       0            0             1         1             1             11   \n",
       "\n",
       "   samedayflag  schedulehourgroup  handcapgroup  days_to_appointment  no-show  \n",
       "0            1                  0             0                    0        0  \n",
       "1            1                  1             0                    7        0  \n",
       "2            1                  0             0                    0        0  \n",
       "3            1                  1             0                    0        0  \n",
       "4            0                  0             0                    9        0  "
      ]
     },
     "execution_count": 87,
     "metadata": {},
     "output_type": "execute_result"
    }
   ],
   "source": [
    "opt3.head()"
   ]
  },
  {
   "cell_type": "code",
   "execution_count": 88,
   "metadata": {
    "ExecuteTime": {
     "end_time": "2020-05-08T17:49:10.654131Z",
     "start_time": "2020-05-08T17:49:10.385883Z"
    }
   },
   "outputs": [],
   "source": [
    "opt3.to_csv('data/opt3.csv',index = False)"
   ]
  },
  {
   "cell_type": "markdown",
   "metadata": {},
   "source": [
    "### Random Forest Classifier. Feature importance. Opción 4"
   ]
  },
  {
   "cell_type": "code",
   "execution_count": 89,
   "metadata": {
    "ExecuteTime": {
     "end_time": "2020-05-09T15:56:32.608762Z",
     "start_time": "2020-05-09T15:56:32.563737Z"
    }
   },
   "outputs": [],
   "source": [
    "opt4 = citas_dummies_reduction.copy()"
   ]
  },
  {
   "cell_type": "code",
   "execution_count": 90,
   "metadata": {
    "ExecuteTime": {
     "end_time": "2020-05-09T15:56:52.074732Z",
     "start_time": "2020-05-09T15:56:52.059105Z"
    }
   },
   "outputs": [],
   "source": [
    "X = opt4.iloc[:,:-1].values\n",
    "y = opt4.iloc[:, -1].values"
   ]
  },
  {
   "cell_type": "code",
   "execution_count": 91,
   "metadata": {
    "ExecuteTime": {
     "end_time": "2020-05-09T15:57:09.358799Z",
     "start_time": "2020-05-09T15:56:59.934168Z"
    }
   },
   "outputs": [],
   "source": [
    "tree = RandomForestClassifier().fit(X, y)"
   ]
  },
  {
   "cell_type": "code",
   "execution_count": 92,
   "metadata": {
    "ExecuteTime": {
     "end_time": "2020-05-09T16:01:48.710406Z",
     "start_time": "2020-05-09T16:01:48.678482Z"
    }
   },
   "outputs": [],
   "source": [
    "def plot_feature_importances_show(df, model):\n",
    "    \n",
    "    names = df.columns[model.feature_importances_.argsort()]\n",
    "    model.feature_importances_.sort()\n",
    "    plt.figure(figsize=(8,6))\n",
    "    n_features = len(names)\n",
    "    plt.barh(range(n_features), np.sort(tree.feature_importances_), align='center')\n",
    "    plt.yticks(np.arange(n_features), names)\n",
    "    plt.xlabel(\"Feature importance\")\n",
    "    plt.ylabel(\"Feature\")\n",
    "    plt.ylim(-1, n_features)\n",
    "    print (df.columns[model.feature_importances_.argsort()])"
   ]
  },
  {
   "cell_type": "code",
   "execution_count": 93,
   "metadata": {
    "ExecuteTime": {
     "end_time": "2020-05-09T16:02:00.598298Z",
     "start_time": "2020-05-09T16:01:59.525617Z"
    }
   },
   "outputs": [
    {
     "name": "stdout",
     "output_type": "stream",
     "text": [
      "Index(['appointmenthour', 'handcapgroup', 'alcoholism', 'diabetes',\n",
      "       'schedulehourgroup', 'hipertension', 'scholarship', 'sms_received',\n",
      "       'gender', 'samedayflag', 'appointmentweekday', 'scheduledweekday',\n",
      "       'scheduledhour', 'neighbourhood', 'days_to_appointment', 'new_age'],\n",
      "      dtype='object')\n"
     ]
    },
    {
     "data": {
      "image/png": "[encoded data removed]",
      "text/plain": [
       "<Figure size 576x432 with 1 Axes>"
      ]
     },
     "metadata": {
      "needs_background": "light"
     },
     "output_type": "display_data"
    }
   ],
   "source": [
    "plot_feature_importances_show(opt4, tree)"
   ]
  },
  {
   "cell_type": "code",
   "execution_count": 94,
   "metadata": {
    "ExecuteTime": {
     "end_time": "2020-05-09T16:02:36.318534Z",
     "start_time": "2020-05-09T16:02:36.301932Z"
    }
   },
   "outputs": [],
   "source": [
    "opt4 = opt4[['gender', 'neighbourhood', 'scholarship', 'hipertension', 'diabetes',\n",
    "       'alcoholism', 'sms_received', 'scheduledweekday', 'scheduledhour',\n",
    "       'appointmentweekday', 'samedayflag',\n",
    "       'schedulehourgroup', 'new_age', 'handcapgroup', 'days_to_appointment',\n",
    "       'no-show']]"
   ]
  },
  {
   "cell_type": "code",
   "execution_count": 95,
   "metadata": {
    "ExecuteTime": {
     "end_time": "2020-05-09T16:02:49.187297Z",
     "start_time": "2020-05-09T16:02:49.111501Z"
    }
   },
   "outputs": [
    {
     "data": {
      "text/html": [
       "<div>\n",
       "<style scoped>\n",
       "    .dataframe tbody tr th:only-of-type {\n",
       "        vertical-align: middle;\n",
       "    }\n",
       "\n",
       "    .dataframe tbody tr th {\n",
       "        vertical-align: top;\n",
       "    }\n",
       "\n",
       "    .dataframe thead th {\n",
       "        text-align: right;\n",
       "    }\n",
       "</style>\n",
       "<table border=\"1\" class=\"dataframe\">\n",
       "  <thead>\n",
       "    <tr style=\"text-align: right;\">\n",
       "      <th></th>\n",
       "      <th>gender</th>\n",
       "      <th>neighbourhood</th>\n",
       "      <th>scholarship</th>\n",
       "      <th>hipertension</th>\n",
       "      <th>diabetes</th>\n",
       "      <th>alcoholism</th>\n",
       "      <th>sms_received</th>\n",
       "      <th>scheduledweekday</th>\n",
       "      <th>scheduledhour</th>\n",
       "      <th>appointmentweekday</th>\n",
       "      <th>samedayflag</th>\n",
       "      <th>schedulehourgroup</th>\n",
       "      <th>new_age</th>\n",
       "      <th>handcapgroup</th>\n",
       "      <th>days_to_appointment</th>\n",
       "      <th>no-show</th>\n",
       "    </tr>\n",
       "  </thead>\n",
       "  <tbody>\n",
       "    <tr>\n",
       "      <th>0</th>\n",
       "      <td>0</td>\n",
       "      <td>48</td>\n",
       "      <td>0</td>\n",
       "      <td>0</td>\n",
       "      <td>0</td>\n",
       "      <td>0</td>\n",
       "      <td>0</td>\n",
       "      <td>3</td>\n",
       "      <td>7</td>\n",
       "      <td>3</td>\n",
       "      <td>1</td>\n",
       "      <td>0</td>\n",
       "      <td>29.0</td>\n",
       "      <td>0</td>\n",
       "      <td>0</td>\n",
       "      <td>0</td>\n",
       "    </tr>\n",
       "    <tr>\n",
       "      <th>1</th>\n",
       "      <td>1</td>\n",
       "      <td>77</td>\n",
       "      <td>0</td>\n",
       "      <td>0</td>\n",
       "      <td>0</td>\n",
       "      <td>0</td>\n",
       "      <td>0</td>\n",
       "      <td>0</td>\n",
       "      <td>12</td>\n",
       "      <td>0</td>\n",
       "      <td>1</td>\n",
       "      <td>1</td>\n",
       "      <td>7.0</td>\n",
       "      <td>0</td>\n",
       "      <td>7</td>\n",
       "      <td>0</td>\n",
       "    </tr>\n",
       "    <tr>\n",
       "      <th>2</th>\n",
       "      <td>1</td>\n",
       "      <td>50</td>\n",
       "      <td>0</td>\n",
       "      <td>0</td>\n",
       "      <td>0</td>\n",
       "      <td>0</td>\n",
       "      <td>0</td>\n",
       "      <td>3</td>\n",
       "      <td>9</td>\n",
       "      <td>3</td>\n",
       "      <td>1</td>\n",
       "      <td>0</td>\n",
       "      <td>14.0</td>\n",
       "      <td>0</td>\n",
       "      <td>0</td>\n",
       "      <td>0</td>\n",
       "    </tr>\n",
       "    <tr>\n",
       "      <th>3</th>\n",
       "      <td>0</td>\n",
       "      <td>56</td>\n",
       "      <td>0</td>\n",
       "      <td>1</td>\n",
       "      <td>0</td>\n",
       "      <td>0</td>\n",
       "      <td>0</td>\n",
       "      <td>1</td>\n",
       "      <td>17</td>\n",
       "      <td>1</td>\n",
       "      <td>1</td>\n",
       "      <td>1</td>\n",
       "      <td>37.0</td>\n",
       "      <td>0</td>\n",
       "      <td>0</td>\n",
       "      <td>0</td>\n",
       "    </tr>\n",
       "    <tr>\n",
       "      <th>4</th>\n",
       "      <td>0</td>\n",
       "      <td>15</td>\n",
       "      <td>0</td>\n",
       "      <td>1</td>\n",
       "      <td>1</td>\n",
       "      <td>0</td>\n",
       "      <td>1</td>\n",
       "      <td>1</td>\n",
       "      <td>11</td>\n",
       "      <td>3</td>\n",
       "      <td>0</td>\n",
       "      <td>0</td>\n",
       "      <td>74.0</td>\n",
       "      <td>0</td>\n",
       "      <td>9</td>\n",
       "      <td>0</td>\n",
       "    </tr>\n",
       "  </tbody>\n",
       "</table>\n",
       "</div>"
      ],
      "text/plain": [
       "   gender  neighbourhood  scholarship  hipertension  diabetes  alcoholism  \\\n",
       "0       0             48            0             0         0           0   \n",
       "1       1             77            0             0         0           0   \n",
       "2       1             50            0             0         0           0   \n",
       "3       0             56            0             1         0           0   \n",
       "4       0             15            0             1         1           0   \n",
       "\n",
       "   sms_received  scheduledweekday  scheduledhour  appointmentweekday  \\\n",
       "0             0                 3              7                   3   \n",
       "1             0                 0             12                   0   \n",
       "2             0                 3              9                   3   \n",
       "3             0                 1             17                   1   \n",
       "4             1                 1             11                   3   \n",
       "\n",
       "   samedayflag  schedulehourgroup  new_age  handcapgroup  days_to_appointment  \\\n",
       "0            1                  0     29.0             0                    0   \n",
       "1            1                  1      7.0             0                    7   \n",
       "2            1                  0     14.0             0                    0   \n",
       "3            1                  1     37.0             0                    0   \n",
       "4            0                  0     74.0             0                    9   \n",
       "\n",
       "   no-show  \n",
       "0        0  \n",
       "1        0  \n",
       "2        0  \n",
       "3        0  \n",
       "4        0  "
      ]
     },
     "execution_count": 95,
     "metadata": {},
     "output_type": "execute_result"
    }
   ],
   "source": [
    "opt4.head()"
   ]
  },
  {
   "cell_type": "code",
   "execution_count": 96,
   "metadata": {
    "ExecuteTime": {
     "end_time": "2020-05-08T17:37:34.232154Z",
     "start_time": "2020-05-08T17:37:33.817663Z"
    }
   },
   "outputs": [],
   "source": [
    "opt4.to_csv(\"data/opt4.csv\", index = False)"
   ]
  },
  {
   "cell_type": "markdown",
   "metadata": {},
   "source": [
    "### PCA (Principal Component Analysis)"
   ]
  },
  {
   "cell_type": "code",
   "execution_count": 97,
   "metadata": {
    "ExecuteTime": {
     "end_time": "2020-05-09T08:33:09.616567Z",
     "start_time": "2020-05-09T08:33:09.502844Z"
    }
   },
   "outputs": [],
   "source": [
    "pca_df = citas_dummies_reduction.copy()"
   ]
  },
  {
   "cell_type": "code",
   "execution_count": 98,
   "metadata": {
    "ExecuteTime": {
     "end_time": "2020-05-09T08:33:16.975196Z",
     "start_time": "2020-05-09T08:33:16.927824Z"
    }
   },
   "outputs": [],
   "source": [
    "X = pca_df.iloc[:,:-1].values\n",
    "y = pca_df.iloc[:, -1].values"
   ]
  },
  {
   "cell_type": "code",
   "execution_count": 99,
   "metadata": {
    "ExecuteTime": {
     "end_time": "2020-05-09T08:33:21.976059Z",
     "start_time": "2020-05-09T08:33:21.936286Z"
    }
   },
   "outputs": [],
   "source": [
    "sc_X = StandardScaler()\n",
    "X_train_pca = sc_X.fit_transform(X)"
   ]
  },
  {
   "cell_type": "code",
   "execution_count": 100,
   "metadata": {
    "ExecuteTime": {
     "end_time": "2020-05-09T08:33:26.511846Z",
     "start_time": "2020-05-09T08:33:26.206892Z"
    }
   },
   "outputs": [],
   "source": [
    "pca = PCA(n_components = 2)\n",
    "pc = pca.fit_transform(X_train_pca)"
   ]
  },
  {
   "cell_type": "code",
   "execution_count": 101,
   "metadata": {
    "ExecuteTime": {
     "end_time": "2020-05-09T08:33:29.952131Z",
     "start_time": "2020-05-09T08:33:29.934472Z"
    }
   },
   "outputs": [],
   "source": [
    "pca_df = pd.DataFrame(data=pc, columns = ['PC1', 'PC2'])"
   ]
  },
  {
   "cell_type": "code",
   "execution_count": 102,
   "metadata": {
    "ExecuteTime": {
     "end_time": "2020-05-09T08:33:34.788534Z",
     "start_time": "2020-05-09T08:33:34.775989Z"
    }
   },
   "outputs": [],
   "source": [
    "pca_df['no-show'] = y"
   ]
  },
  {
   "cell_type": "markdown",
   "metadata": {},
   "source": [
    "Añadimos el resto de columnas para poder hacer el <code>hue</code>"
   ]
  },
  {
   "cell_type": "code",
   "execution_count": 103,
   "metadata": {
    "ExecuteTime": {
     "end_time": "2020-05-09T08:33:49.499739Z",
     "start_time": "2020-05-09T08:33:49.454679Z"
    }
   },
   "outputs": [],
   "source": [
    "e = 0\n",
    "for col in citas_dummies_reduction.columns[:-1]:\n",
    "    pca_df[col] = X[:,e]\n",
    "    e+=1"
   ]
  },
  {
   "cell_type": "markdown",
   "metadata": {},
   "source": [
    "Creamos un desplegable para elegir con que pintar"
   ]
  },
  {
   "cell_type": "code",
   "execution_count": 104,
   "metadata": {
    "ExecuteTime": {
     "end_time": "2020-05-09T08:33:56.675653Z",
     "start_time": "2020-05-09T08:33:53.311349Z"
    }
   },
   "outputs": [
    {
     "data": {
      "application/vnd.jupyter.widget-view+json": {
       "model_id": "dd75d1a2bf5d46148d060e53cb070049",
       "version_major": 2,
       "version_minor": 0
      },
      "text/plain": [
       "interactive(children=(Dropdown(description='hue', options=('no-show', 'gender', 'neighbourhood', 'scholarship'…"
      ]
     },
     "metadata": {},
     "output_type": "display_data"
    }
   ],
   "source": [
    "def hue_plot(hue): \n",
    "    sns.relplot(x='PC1', y='PC2', hue=hue, data=pca_df)  \n",
    "    \n",
    "_= interact(hue_plot, hue= pca_df.columns[2:])"
   ]
  },
  {
   "cell_type": "markdown",
   "metadata": {},
   "source": [
    "## Modeling"
   ]
  },
  {
   "cell_type": "code",
   "execution_count": 114,
   "metadata": {
    "ExecuteTime": {
     "end_time": "2020-05-08T18:48:41.499453Z",
     "start_time": "2020-05-08T18:48:41.301762Z"
    }
   },
   "outputs": [],
   "source": [
    "\n",
    "df = pd.read_csv('data/opt4.csv')\n",
    "X_train = df.drop(\"no-show\", axis = 1)\n",
    "y_train = df[\"no-show\"]"
   ]
  },
  {
   "cell_type": "code",
   "execution_count": 115,
   "metadata": {},
   "outputs": [],
   "source": [
    "\"\"\"\n",
    "\n",
    "Aquí faltaria aplicar la reducción de dimensionalidad del modelo escogido a producción.\n",
    "\n",
    "\"\"\"\n",
    "production = pd.read_csv('data/production.csv')\n",
    "production = production[df.columns]"
   ]
  },
  {
   "cell_type": "code",
   "execution_count": 116,
   "metadata": {},
   "outputs": [],
   "source": [
    "X_test = production.drop(\"no-show\", axis = 1)\n",
    "y_test = production[\"no-show\"]"
   ]
  },
  {
   "cell_type": "code",
   "execution_count": 117,
   "metadata": {
    "ExecuteTime": {
     "end_time": "2020-05-08T18:48:46.618448Z",
     "start_time": "2020-05-08T18:48:46.542454Z"
    }
   },
   "outputs": [],
   "source": [
    "def baseline_report(model, X_train, y_train, name):\n",
    "    strat_k_fold = StratifiedKFold(n_splits=3, shuffle=True)\n",
    "    model.fit(X_train, y_train)\n",
    "    accuracy     = np.mean(cross_val_score(model, X_train, y_train, cv=strat_k_fold, scoring='accuracy'))\n",
    "    precision    = np.mean(cross_val_score(model, X_train, y_train, cv=strat_k_fold, scoring='precision'))\n",
    "    recall       = np.mean(cross_val_score(model, X_train, y_train, cv=strat_k_fold, scoring='recall'))\n",
    "    f1score      = np.mean(cross_val_score(model, X_train, y_train, cv=strat_k_fold, scoring='f1'))\n",
    "    rocauc       = np.mean(cross_val_score(model, X_train, y_train, cv=strat_k_fold, scoring='roc_auc'))\n",
    "\n",
    "    df_model = pd.DataFrame({'model'        : [name],\n",
    "                             'accuracy'     : [accuracy],\n",
    "                             'precision'    : [precision],\n",
    "                             'recall'       : [recall],\n",
    "                             'f1score'      : [f1score],\n",
    "                             'rocauc'       : [rocauc]})\n",
    "                             #'logloss'      : [logloss]})   # timetaken: to be used for comparison later\n",
    "    return df_model"
   ]
  },
  {
   "cell_type": "code",
   "execution_count": 118,
   "metadata": {
    "ExecuteTime": {
     "end_time": "2020-05-08T18:48:52.282244Z",
     "start_time": "2020-05-08T18:48:52.271105Z"
    }
   },
   "outputs": [],
   "source": [
    "# to evaluate baseline models\n",
    "models = {  #'gnb': GaussianNB(),\n",
    "#             'bnb': BernoulliNB(),\n",
    "#             'mnb': MultinomialNB(),\n",
    "             #'logit': LogisticRegression(solver = \"sag\"),\n",
    "             #'knn': KNeighborsClassifier(),\n",
    "             'decisiontree': DecisionTreeClassifier(),\n",
    "             'randomforest': RandomForestClassifier(),\n",
    "             #'svc': SVC(probability=True),\n",
    "#             'linearsvc': LinearSVC()\n",
    "         }"
   ]
  },
  {
   "cell_type": "code",
   "execution_count": 119,
   "metadata": {
    "ExecuteTime": {
     "end_time": "2020-05-08T20:52:02.777394Z",
     "start_time": "2020-05-08T18:49:38.811349Z"
    }
   },
   "outputs": [],
   "source": [
    "models_df_all = pd.concat([baseline_report(model, X_train, y_train, name) for (name, model) in models.items()])"
   ]
  },
  {
   "cell_type": "code",
   "execution_count": 120,
   "metadata": {},
   "outputs": [
    {
     "data": {
      "text/html": [
       "<div>\n",
       "<style scoped>\n",
       "    .dataframe tbody tr th:only-of-type {\n",
       "        vertical-align: middle;\n",
       "    }\n",
       "\n",
       "    .dataframe tbody tr th {\n",
       "        vertical-align: top;\n",
       "    }\n",
       "\n",
       "    .dataframe thead th {\n",
       "        text-align: right;\n",
       "    }\n",
       "</style>\n",
       "<table border=\"1\" class=\"dataframe\">\n",
       "  <thead>\n",
       "    <tr style=\"text-align: right;\">\n",
       "      <th></th>\n",
       "      <th>model</th>\n",
       "      <th>accuracy</th>\n",
       "      <th>precision</th>\n",
       "      <th>recall</th>\n",
       "      <th>f1score</th>\n",
       "      <th>rocauc</th>\n",
       "    </tr>\n",
       "  </thead>\n",
       "  <tbody>\n",
       "    <tr>\n",
       "      <th>0</th>\n",
       "      <td>decisiontree</td>\n",
       "      <td>0.603745</td>\n",
       "      <td>0.608962</td>\n",
       "      <td>0.606040</td>\n",
       "      <td>0.605597</td>\n",
       "      <td>0.607645</td>\n",
       "    </tr>\n",
       "    <tr>\n",
       "      <th>0</th>\n",
       "      <td>randomforest</td>\n",
       "      <td>0.666722</td>\n",
       "      <td>0.646594</td>\n",
       "      <td>0.736586</td>\n",
       "      <td>0.688254</td>\n",
       "      <td>0.728063</td>\n",
       "    </tr>\n",
       "  </tbody>\n",
       "</table>\n",
       "</div>"
      ],
      "text/plain": [
       "          model  accuracy  precision    recall   f1score    rocauc\n",
       "0  decisiontree  0.603745   0.608962  0.606040  0.605597  0.607645\n",
       "0  randomforest  0.666722   0.646594  0.736586  0.688254  0.728063"
      ]
     },
     "execution_count": 120,
     "metadata": {},
     "output_type": "execute_result"
    }
   ],
   "source": [
    "models_df_all"
   ]
  },
  {
   "cell_type": "markdown",
   "metadata": {},
   "source": [
    "### Random forest"
   ]
  },
  {
   "cell_type": "markdown",
   "metadata": {},
   "source": [
    "#### RandomizedSearchCV"
   ]
  },
  {
   "cell_type": "code",
   "execution_count": 124,
   "metadata": {},
   "outputs": [],
   "source": [
    "forest = RandomForestClassifier()"
   ]
  },
  {
   "cell_type": "code",
   "execution_count": 125,
   "metadata": {
    "ExecuteTime": {
     "end_time": "2020-05-09T08:37:29.866025Z",
     "start_time": "2020-05-09T08:37:29.766760Z"
    }
   },
   "outputs": [
    {
     "name": "stdout",
     "output_type": "stream",
     "text": [
      "Fitting 3 folds for each of 10 candidates, totalling 30 fits\n"
     ]
    },
    {
     "name": "stderr",
     "output_type": "stream",
     "text": [
      "[Parallel(n_jobs=-1)]: Using backend LokyBackend with 4 concurrent workers.\n",
      "[Parallel(n_jobs=-1)]: Done  30 out of  30 | elapsed:  4.8min finished\n"
     ]
    },
    {
     "name": "stdout",
     "output_type": "stream",
     "text": [
      "{'n_estimators': 1000, 'min_samples_split': 15, 'min_samples_leaf': 50, 'max_features': 'auto', 'max_depth': 1000, 'bootstrap': True}\n"
     ]
    }
   ],
   "source": [
    "random_grid = {'bootstrap': [True, False],\n",
    "               'max_depth': [ 500, 800, 1000],\n",
    "               'max_features': ['auto'],\n",
    "               'min_samples_leaf': [30, 50],\n",
    "               'min_samples_split': [9, 15],\n",
    "               'n_estimators': [800, 1000]}\n",
    "scoring = 'f1'\n",
    "\n",
    "gridF = RandomizedSearchCV(forest, random_grid, cv = 3, verbose = 3, scoring=scoring, return_train_score=True,\n",
    "                      n_jobs = -1)\n",
    "bestF = gridF.fit(X_train, y_train)\n",
    "\n",
    "print(bestF.best_params_)"
   ]
  },
  {
   "cell_type": "markdown",
   "metadata": {},
   "source": [
    "#### GridSearch"
   ]
  },
  {
   "cell_type": "code",
   "execution_count": null,
   "metadata": {},
   "outputs": [],
   "source": [
    "n_estimators = [ 75,100,150]\n",
    "max_depth = [4,6, 7]\n",
    "min_samples_split = [9,10,12]\n",
    "min_samples_leaf = [3,4,6] \n",
    "scoring = 'f1'\n",
    "\n",
    "hyperF = dict(n_estimators = n_estimators, max_depth = max_depth,  \n",
    "              min_samples_split = min_samples_split, \n",
    "             min_samples_leaf = min_samples_leaf)\n",
    "\n",
    "gridF = GridSearchCV(forest, hyperF, cv = 3, verbose = 3, scoring=scoring, return_train_score=True,\n",
    "                      n_jobs = -1)\n",
    "bestF = gridF.fit(X_train, y_train)\n",
    "\n",
    "print(bestF.best_params_)"
   ]
  },
  {
   "cell_type": "markdown",
   "metadata": {},
   "source": [
    "Pasamos las métricas resultantes a nuestro modelo de RandomForest."
   ]
  },
  {
   "cell_type": "code",
   "execution_count": 128,
   "metadata": {},
   "outputs": [],
   "source": [
    "models = {\n",
    "            'randomforest': RandomForestClassifier(n_estimators = 1000, min_samples_split = 15, min_samples_leaf = 50,\n",
    "                                                   max_features = 'auto', max_depth = 1000, bootstrap = True)\n",
    "     }"
   ]
  },
  {
   "cell_type": "code",
   "execution_count": 129,
   "metadata": {},
   "outputs": [],
   "source": [
    "models_df_forest = pd.concat([baseline_report(model, X_train, y_train, name) for (name, model) in models.items()])"
   ]
  },
  {
   "cell_type": "code",
   "execution_count": 130,
   "metadata": {},
   "outputs": [
    {
     "data": {
      "text/html": [
       "<div>\n",
       "<style scoped>\n",
       "    .dataframe tbody tr th:only-of-type {\n",
       "        vertical-align: middle;\n",
       "    }\n",
       "\n",
       "    .dataframe tbody tr th {\n",
       "        vertical-align: top;\n",
       "    }\n",
       "\n",
       "    .dataframe thead th {\n",
       "        text-align: right;\n",
       "    }\n",
       "</style>\n",
       "<table border=\"1\" class=\"dataframe\">\n",
       "  <thead>\n",
       "    <tr style=\"text-align: right;\">\n",
       "      <th></th>\n",
       "      <th>model</th>\n",
       "      <th>accuracy</th>\n",
       "      <th>precision</th>\n",
       "      <th>recall</th>\n",
       "      <th>f1score</th>\n",
       "      <th>rocauc</th>\n",
       "    </tr>\n",
       "  </thead>\n",
       "  <tbody>\n",
       "    <tr>\n",
       "      <th>0</th>\n",
       "      <td>randomforest</td>\n",
       "      <td>0.67242</td>\n",
       "      <td>0.624433</td>\n",
       "      <td>0.864531</td>\n",
       "      <td>0.725689</td>\n",
       "      <td>0.730104</td>\n",
       "    </tr>\n",
       "  </tbody>\n",
       "</table>\n",
       "</div>"
      ],
      "text/plain": [
       "          model  accuracy  precision    recall   f1score    rocauc\n",
       "0  randomforest   0.67242   0.624433  0.864531  0.725689  0.730104"
      ]
     },
     "execution_count": 130,
     "metadata": {},
     "output_type": "execute_result"
    }
   ],
   "source": [
    "models_df_forest"
   ]
  },
  {
   "cell_type": "code",
   "execution_count": 131,
   "metadata": {},
   "outputs": [],
   "source": [
    "y_pred = models['randomforest'].predict(X_test)"
   ]
  },
  {
   "cell_type": "code",
   "execution_count": 132,
   "metadata": {
    "ExecuteTime": {
     "end_time": "2020-05-08T17:26:45.089232Z",
     "start_time": "2020-05-08T17:24:50.791Z"
    }
   },
   "outputs": [
    {
     "name": "stdout",
     "output_type": "stream",
     "text": [
      "Training set accuracy: 0.690\n",
      "Test set accuracy: 0.559\n"
     ]
    }
   ],
   "source": [
    "print(\"Training set accuracy: {:.3f}\".format(models['randomforest'].score(X_train, y_train)))\n",
    "print(\"Test set accuracy: {:.3f}\".format(models['randomforest'].score(X_test, y_test)))"
   ]
  },
  {
   "cell_type": "code",
   "execution_count": 133,
   "metadata": {},
   "outputs": [
    {
     "data": {
      "text/plain": [
       "array([[8643, 9254],\n",
       "       [ 622, 3897]])"
      ]
     },
     "execution_count": 133,
     "metadata": {},
     "output_type": "execute_result"
    }
   ],
   "source": [
    "confusion_matrix(y_test, y_pred)"
   ]
  },
  {
   "cell_type": "code",
   "execution_count": 134,
   "metadata": {},
   "outputs": [
    {
     "data": {
      "text/plain": [
       "<matplotlib.axes._subplots.AxesSubplot at 0x168bd4e50>"
      ]
     },
     "execution_count": 134,
     "metadata": {},
     "output_type": "execute_result"
    },
    {
     "data": {
      "image/png": "[encoded data removed]",
      "text/plain": [
       "<Figure size 1152x432 with 2 Axes>"
      ]
     },
     "metadata": {
      "needs_background": "light"
     },
     "output_type": "display_data"
    }
   ],
   "source": [
    "sns.heatmap(confusion_matrix(y_test, y_pred))"
   ]
  },
  {
   "cell_type": "code",
   "execution_count": 135,
   "metadata": {},
   "outputs": [
    {
     "name": "stdout",
     "output_type": "stream",
     "text": [
      "              precision    recall  f1-score   support\n",
      "\n",
      "           0       0.93      0.48      0.64     17897\n",
      "           1       0.30      0.86      0.44      4519\n",
      "\n",
      "    accuracy                           0.56     22416\n",
      "   macro avg       0.61      0.67      0.54     22416\n",
      "weighted avg       0.80      0.56      0.60     22416\n",
      "\n"
     ]
    }
   ],
   "source": [
    "print(classification_report(y_test, y_pred))"
   ]
  },
  {
   "cell_type": "markdown",
   "metadata": {},
   "source": [
    "### SVC"
   ]
  },
  {
   "cell_type": "markdown",
   "metadata": {},
   "source": [
    "Buscamos los parámetros concretos para SVC."
   ]
  },
  {
   "cell_type": "code",
   "execution_count": null,
   "metadata": {},
   "outputs": [],
   "source": [
    "c_values = list(10.0**np.arange(-1, 2))\n",
    "print(c_values)\n",
    "degrees = [0]\n",
    "print(degrees)\n",
    "gamma = list(10.0**np.arange(-1, 2))\n",
    "print(gamma)\n",
    "\n",
    "kernels = ['rbf']\n",
    "\n",
    "scoring = make_scorer(f1_score, pos_label=\"yes\")\n",
    "scoring = 'f1'\n",
    "\n",
    "param_grid = [\n",
    "    {'C': c_values, 'gamma': gamma, 'kernel' : kernels, 'degree':degrees}]\n",
    "\n",
    "grid = GridSearchCV(SVC(), param_grid ,refit='AUC', cv = 3, verbose=3, scoring=scoring, return_train_score=True,\n",
    "                   n_jobs = -1)\n",
    "\n",
    "\n",
    "grid.fit(X_train, y_train)\n",
    "\n",
    "print(grid.best_params_)"
   ]
  },
  {
   "cell_type": "code",
   "execution_count": null,
   "metadata": {},
   "outputs": [],
   "source": [
    "models = {\n",
    "    \n",
    "            'svc': SVC(probability=True,C= 0.1, degree= 0, gamma= 0.11, kernel= 'rbf'),\n",
    "         }"
   ]
  },
  {
   "cell_type": "code",
   "execution_count": null,
   "metadata": {},
   "outputs": [],
   "source": [
    "models_df_svc = pd.concat([baseline_report(model, X_train, X_test, y_train, y_test, name) for (name, model) in models.items()])"
   ]
  },
  {
   "cell_type": "code",
   "execution_count": null,
   "metadata": {},
   "outputs": [],
   "source": [
    "models_df_svc"
   ]
  },
  {
   "cell_type": "code",
   "execution_count": null,
   "metadata": {},
   "outputs": [],
   "source": [
    "y_pred = models['svc'].predict(X_test)\n",
    "confusion_matrix(y_test, y_pred)"
   ]
  },
  {
   "cell_type": "code",
   "execution_count": null,
   "metadata": {},
   "outputs": [],
   "source": [
    "sns.heatmap(confusion_matrix(y_test, y_pred))"
   ]
  },
  {
   "cell_type": "markdown",
   "metadata": {},
   "source": [
    "### Comparación de resultados"
   ]
  },
  {
   "cell_type": "code",
   "execution_count": null,
   "metadata": {},
   "outputs": [],
   "source": [
    "models = {\n",
    "            'randomforest': RandomForestClassifier(\n",
    "                max_depth=4, min_samples_leaf=3, min_samples_split=12, n_estimators= 100),\n",
    "    \n",
    "            'svc': SVC(probability=True,C= 0.1, degree= 0, gamma= 0.11, kernel= 'rbf'),\n",
    "         }"
   ]
  },
  {
   "cell_type": "code",
   "execution_count": null,
   "metadata": {},
   "outputs": [],
   "source": [
    "models_df_svc_tree = pd.concat([baseline_report(model, X_train, X_test, y_train, y_test, name) for (name, model) in models.items()])"
   ]
  },
  {
   "cell_type": "code",
   "execution_count": null,
   "metadata": {},
   "outputs": [],
   "source": [
    "models_df_svc_tree"
   ]
  },
  {
   "cell_type": "markdown",
   "metadata": {},
   "source": [
    "### ROC/AUC"
   ]
  },
  {
   "cell_type": "markdown",
   "metadata": {},
   "source": [
    "#### La curva ROC y AUC son importantes métricas de evaluación para calcular la performance de cualquier modelo de clasificación"
   ]
  },
  {
   "cell_type": "markdown",
   "metadata": {},
   "source": [
    "- ROC es una curva de probabilidad y AUC representa el grado o medida de separabilidad. Dice cuánto es capaz el modelo de distinguir entre clases\n",
    "- Dependiendo de qué **área bajo la curva es más grande**, podemos concluir que clasificador hizo un mejor trabajo en la clasificación de la No-show rate"
   ]
  },
  {
   "cell_type": "code",
   "execution_count": null,
   "metadata": {
    "ExecuteTime": {
     "end_time": "2020-05-08T17:26:45.111825Z",
     "start_time": "2020-05-08T17:24:50.865Z"
    }
   },
   "outputs": [],
   "source": [
    "y_pred =  logreg.predict(X_test)\n",
    "fpr, tpr, thresholds = roc_curve(y_test, y_pred)\n",
    "plt.plot(fpr, tpr, lw=3, label='logreg (area = %0.3f)' % auc(fpr, tpr))"
   ]
  },
  {
   "cell_type": "code",
   "execution_count": null,
   "metadata": {
    "ExecuteTime": {
     "end_time": "2020-05-08T17:26:45.115758Z",
     "start_time": "2020-05-08T17:24:50.905Z"
    }
   },
   "outputs": [],
   "source": [
    "auc(fpr, tpr)"
   ]
  },
  {
   "cell_type": "markdown",
   "metadata": {},
   "source": [
    "### AUC"
   ]
  },
  {
   "cell_type": "code",
   "execution_count": null,
   "metadata": {
    "ExecuteTime": {
     "end_time": "2020-05-08T17:26:45.275336Z",
     "start_time": "2020-05-08T17:24:51.154Z"
    }
   },
   "outputs": [],
   "source": [
    "# plot the ROC curves\n",
    "plt.figure(figsize=(10,10))\n",
    "\n",
    "\n",
    "for (name, model) in models.items():\n",
    "    y_pred = model.fit(X_train, y_train).predict_proba(X_test)[:,1]\n",
    "        \n",
    "    fpr, tpr, thresholds = roc_curve(y_test, y_pred)\n",
    "    plt.plot(fpr, tpr, lw=3, label=name + ' (area = %0.3f)' % auc(fpr, tpr))\n",
    "    \n",
    "plt.plot([0, 1], [0, 1], color='navy', lw=1.5, linestyle='--')\n",
    "plt.xlim([0.0, 1.0])\n",
    "plt.ylim([0.0, 1.0])\n",
    "plt.xlabel('False Positive Rate', fontsize=13)\n",
    "plt.ylabel('True Positive Rate', fontsize=14)\n",
    "plt.title('Receiver Operating Characteristic', fontsize=17)\n",
    "plt.legend(loc='lower right', fontsize=13)\n",
    "plt.show()"
   ]
  }
 ],
 "metadata": {
  "kernelspec": {
   "display_name": "Python 3",
   "language": "python",
   "name": "python3"
  },
  "language_info": {
   "codemirror_mode": {
    "name": "ipython",
    "version": 3
   },
   "file_extension": ".py",
   "mimetype": "text/x-python",
   "name": "python",
   "nbconvert_exporter": "python",
   "pygments_lexer": "ipython3",
   "version": "3.7.6"
  },
  "toc": {
   "base_numbering": 1,
   "nav_menu": {},
   "number_sections": true,
   "sideBar": true,
   "skip_h1_title": false,
   "title_cell": "Table of Contents",
   "title_sidebar": "Contents",
   "toc_cell": false,
   "toc_position": {},
   "toc_section_display": true,
   "toc_window_display": false
  },
  "varInspector": {
   "cols": {
    "lenName": 16,
    "lenType": 16,
    "lenVar": 40
   },
   "kernels_config": {
    "python": {
     "delete_cmd_postfix": "",
     "delete_cmd_prefix": "del ",
     "library": "var_list.py",
     "varRefreshCmd": "print(var_dic_list())"
    },
    "r": {
     "delete_cmd_postfix": ") ",
     "delete_cmd_prefix": "rm(",
     "library": "var_list.r",
     "varRefreshCmd": "cat(var_dic_list()) "
    }
   },
   "types_to_exclude": [
    "module",
    "function",
    "builtin_function_or_method",
    "instance",
    "_Feature"
   ],
   "window_display": false
  }
 },
 "nbformat": 4,
 "nbformat_minor": 2
}
