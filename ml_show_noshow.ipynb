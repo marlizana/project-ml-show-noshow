{
  "nbformat": 4,
  "nbformat_minor": 0,
  "metadata": {
    "kernelspec": {
      "display_name": "Python 3",
      "language": "python",
      "name": "python3"
    },
    "language_info": {
      "codemirror_mode": {
        "name": "ipython",
        "version": 3
      },
      "file_extension": ".py",
      "mimetype": "text/x-python",
      "name": "python",
      "nbconvert_exporter": "python",
      "pygments_lexer": "ipython3",
      "version": "3.7.6"
    },
    "toc": {
      "base_numbering": 1,
      "nav_menu": {},
      "number_sections": true,
      "sideBar": true,
      "skip_h1_title": false,
      "title_cell": "Table of Contents",
      "title_sidebar": "Contents",
      "toc_cell": false,
      "toc_position": {},
      "toc_section_display": true,
      "toc_window_display": false
    },
    "varInspector": {
      "cols": {
        "lenName": 16,
        "lenType": 16,
        "lenVar": 40
      },
      "kernels_config": {
        "python": {
          "delete_cmd_postfix": "",
          "delete_cmd_prefix": "del ",
          "library": "var_list.py",
          "varRefreshCmd": "print(var_dic_list())"
        },
        "r": {
          "delete_cmd_postfix": ") ",
          "delete_cmd_prefix": "rm(",
          "library": "var_list.r",
          "varRefreshCmd": "cat(var_dic_list()) "
        }
      },
      "types_to_exclude": [
        "module",
        "function",
        "builtin_function_or_method",
        "instance",
        "_Feature"
      ],
      "window_display": false
    },
    "colab": {
      "name": "ml-show-noshow.ipynb",
      "provenance": []
    }
  },
  "cells": [
    {
      "cell_type": "markdown",
      "metadata": {
        "ExecuteTime": {
          "end_time": "2020-04-23T08:00:26.421366Z",
          "start_time": "2020-04-23T08:00:23.388293Z"
        },
        "id": "lMAcLF4pMnFF",
        "colab_type": "text"
      },
      "source": [
        "# Proyecto ML. Show/ No Show"
      ]
    },
    {
      "cell_type": "code",
      "metadata": {
        "ExecuteTime": {
          "end_time": "2020-05-07T15:29:51.782813Z",
          "start_time": "2020-05-07T15:29:30.351295Z"
        },
        "id": "yA4FmkeAMnFG",
        "colab_type": "code",
        "colab": {}
      },
      "source": [
        "#Import your libraries\n",
        "import pandas as pd\n",
        "import numpy as np\n",
        "\n",
        "#Visualización\n",
        "import matplotlib.pyplot as plt\n",
        "import seaborn as sns\n",
        "plt.rcParams[\"figure.figsize\"] = (16,6)\n",
        "\n",
        "#Fechas\n",
        "import datetime\n",
        "\n",
        "#Interact\n",
        "from ipywidgets import interact\n",
        "\n",
        "#Umbalanced\n",
        "from imblearn.under_sampling import NearMiss\n",
        "\n",
        "#Statsmodels\n",
        "import statsmodels.api as sm\n",
        "\n",
        "#Sklearn\n",
        "from sklearn.model_selection import train_test_split\n",
        "from sklearn.model_selection import GridSearchCV, StratifiedKFold, cross_val_score\n",
        "\n",
        "from sklearn.metrics import confusion_matrix, classification_report\n",
        "from sklearn.metrics import accuracy_score, precision_score, recall_score, f1_score, log_loss\n",
        "from sklearn.metrics import auc, roc_curve, roc_auc_score\n",
        "from sklearn.metrics import precision_recall_curve\n",
        "\n",
        "from sklearn.linear_model import LogisticRegression\n",
        "from sklearn.linear_model import LinearRegression\n",
        "\n",
        "from sklearn.neighbors import KNeighborsClassifier\n",
        "\n",
        "from sklearn.naive_bayes import GaussianNB, BernoulliNB, MultinomialNB\n",
        "\n",
        "from sklearn.tree import DecisionTreeClassifier\n",
        "\n",
        "from sklearn.ensemble import RandomForestClassifier\n",
        "\n",
        "from sklearn.svm import LinearSVC, SVC\n",
        "\n",
        "from sklearn.neural_network import MLPClassifier\n",
        "\n",
        "from sklearn.feature_selection import RFE\n",
        "\n",
        "from sklearn.preprocessing import LabelEncoder, StandardScaler\n",
        "\n",
        "from sklearn.decomposition import PCA\n"
      ],
      "execution_count": 0,
      "outputs": []
    },
    {
      "cell_type": "markdown",
      "metadata": {
        "id": "EOCHbJijMnFM",
        "colab_type": "text"
      },
      "source": [
        "## Importar y describir el dataset"
      ]
    },
    {
      "cell_type": "code",
      "metadata": {
        "id": "6MiadEayRD4D",
        "colab_type": "code",
        "colab": {}
      },
      "source": [
        "!pip install -U -q PyDrive\n",
        "import os\n",
        "from pydrive.auth import GoogleAuth\n",
        "from pydrive.drive import GoogleDrive\n",
        "from google.colab import auth\n",
        "from oauth2client.client import GoogleCredentials\n",
        "\n",
        "# 1. Authenticate and create the PyDrive client.\n",
        "auth.authenticate_user()\n",
        "gauth = GoogleAuth()\n",
        "gauth.credentials = GoogleCredentials.get_application_default()\n",
        "drive = GoogleDrive(gauth)\n"
      ],
      "execution_count": 0,
      "outputs": []
    },
    {
      "cell_type": "code",
      "metadata": {
        "id": "Z3Zrh2tCX8w1",
        "colab_type": "code",
        "colab": {}
      },
      "source": [
        "citas = drive.CreateFile({'id':'14wzIczS1L5EII31U1f0298OiJyeGw4UC'}) # replace the id with id of file you want to access\n",
        "citas.GetContentFile('show_no_show.csv') "
      ],
      "execution_count": 0,
      "outputs": []
    },
    {
      "cell_type": "code",
      "metadata": {
        "id": "i4DnU-3Ib7_V",
        "colab_type": "code",
        "colab": {}
      },
      "source": [
        "citas = pd.read_csv('show_no_show.csv') "
      ],
      "execution_count": 0,
      "outputs": []
    },
    {
      "cell_type": "code",
      "metadata": {
        "ExecuteTime": {
          "end_time": "2020-05-07T15:29:52.686691Z",
          "start_time": "2020-05-07T15:29:52.678022Z"
        },
        "id": "a82-XWZyMnFQ",
        "colab_type": "code",
        "colab": {}
      },
      "source": [
        "citas.columns = map(str.lower, citas.columns)"
      ],
      "execution_count": 0,
      "outputs": []
    },
    {
      "cell_type": "code",
      "metadata": {
        "ExecuteTime": {
          "end_time": "2020-05-07T15:30:59.103339Z",
          "start_time": "2020-05-07T15:30:59.071560Z"
        },
        "id": "MDCPa0FCMnFT",
        "colab_type": "code",
        "colab": {}
      },
      "source": [
        "def heatmap_ml (df):\n",
        "    corr = df.corr().round(2)\n",
        "    mask = np.zeros_like(corr)\n",
        "    mask[np.triu_indices_from(mask)] = True\n",
        "\n",
        "    with sns.axes_style(\"white\"):\n",
        "        f, ax = plt.subplots(figsize=(16, 8))\n",
        "\n",
        "        ax = sns.heatmap(corr, cmap = 'RdBu_r', annot=True,  mask=mask, vmax=1, vmin= -1, square=True)"
      ],
      "execution_count": 0,
      "outputs": []
    },
    {
      "cell_type": "code",
      "metadata": {
        "ExecuteTime": {
          "end_time": "2020-05-07T19:02:31.512232Z",
          "start_time": "2020-05-07T19:02:29.105058Z"
        },
        "id": "1f_KLYgqMnFX",
        "colab_type": "code",
        "colab": {}
      },
      "source": [
        "def describe_df(df):\n",
        "    \n",
        "    \"\"\"\n",
        "    Muestra información básica del dataframe que le pases.\n",
        "    \n",
        "    Input:\n",
        "    -DataFrame\n",
        "    \n",
        "    Output:\n",
        "    - Número de filas y columnas\n",
        "    - DataFrame con:\n",
        "        * 'type': Tipos de columnas\n",
        "        * 'nan': Número de valores nulos\n",
        "        * 'nan_ratio_col': Ratio de valores nulos en la columna\n",
        "        * 'nan_ratio_total': Ratio de valores nulos en el total del dataset\n",
        "        * 'unique_values': Número de valores únicos que tiene esa columna\n",
        "        * 'mean': media de las columnas numéricas\n",
        "        * 'std': desviación estándard de las columnas numéricas\n",
        "        * 'min': mínimo de las columnas numéricas\n",
        "        * '25%': primer cuartil de las columnas numéricas\n",
        "        * '50%': segundo cuartil de las columnas numéricas\n",
        "        * '75%': tercer cuartil de las columnas numéricas\n",
        "        * 'max': máximo de las columnas numéricas\n",
        "        \n",
        "    - Heatmap de correlación\n",
        "    \"\"\"\n",
        "    \n",
        "    print(f'Hay un total de {df.shape[0]} filas y {df.shape[1]} columnas.')\n",
        "    \n",
        "    print (heatmap_ml(df))\n",
        "    \n",
        "    describe_df = pd.DataFrame(df.dtypes, columns = [\"type\"])\n",
        "    describe_df[\"nan\"] = df.isna().sum()\n",
        "    describe_df[\"nan_ratio_col\"] = [round(df.isna().sum()[col]/len(df[col])*100, 2) for col in df.columns]\n",
        "    describe_df[\"nan_ratio_total\"] = [round(df.isna().sum()[col]/df.shape[0]*100, 2) for col in df.columns]\n",
        "    describe_df['unique_values'] = [len(pd.unique(df[col])) for col in df.columns]\n",
        "    describe_df = describe_df.join(df.describe().T[['mean', 'std', 'min', '25%', '50%', '75%', 'max']], on = describe_df.index)\n",
        "    \n",
        "    return describe_df"
      ],
      "execution_count": 0,
      "outputs": []
    },
    {
      "cell_type": "code",
      "metadata": {
        "ExecuteTime": {
          "end_time": "2020-05-07T15:31:09.427622Z",
          "start_time": "2020-05-07T15:31:06.743812Z"
        },
        "id": "aw6PGjisMnFa",
        "colab_type": "code",
        "colab": {
          "base_uri": "https://localhost:8080/",
          "height": 1000
        },
        "outputId": "81ba698b-f41c-4265-839d-07e9165a0048"
      },
      "source": [
        "describe_df (citas)"
      ],
      "execution_count": 78,
      "outputs": [
        {
          "output_type": "stream",
          "text": [
            "Hay un total de 110527 filas y 15 columnas.\n",
            "None\n"
          ],
          "name": "stdout"
        },
        {
          "output_type": "execute_result",
          "data": {
            "text/html": [
              "<div>\n",
              "<style scoped>\n",
              "    .dataframe tbody tr th:only-of-type {\n",
              "        vertical-align: middle;\n",
              "    }\n",
              "\n",
              "    .dataframe tbody tr th {\n",
              "        vertical-align: top;\n",
              "    }\n",
              "\n",
              "    .dataframe thead th {\n",
              "        text-align: right;\n",
              "    }\n",
              "</style>\n",
              "<table border=\"1\" class=\"dataframe\">\n",
              "  <thead>\n",
              "    <tr style=\"text-align: right;\">\n",
              "      <th></th>\n",
              "      <th>type</th>\n",
              "      <th>nan</th>\n",
              "      <th>nan_ratio_col</th>\n",
              "      <th>nan_ratio_total</th>\n",
              "      <th>unique_values</th>\n",
              "      <th>mean</th>\n",
              "      <th>std</th>\n",
              "      <th>min</th>\n",
              "      <th>25%</th>\n",
              "      <th>50%</th>\n",
              "      <th>75%</th>\n",
              "      <th>max</th>\n",
              "    </tr>\n",
              "  </thead>\n",
              "  <tbody>\n",
              "    <tr>\n",
              "      <th>unnamed: 0</th>\n",
              "      <td>int64</td>\n",
              "      <td>0</td>\n",
              "      <td>0.00</td>\n",
              "      <td>0.00</td>\n",
              "      <td>110527</td>\n",
              "      <td>5.526300e+04</td>\n",
              "      <td>3.190654e+04</td>\n",
              "      <td>0.000000e+00</td>\n",
              "      <td>2.763150e+04</td>\n",
              "      <td>5.526300e+04</td>\n",
              "      <td>8.289450e+04</td>\n",
              "      <td>1.105260e+05</td>\n",
              "    </tr>\n",
              "    <tr>\n",
              "      <th>patientid</th>\n",
              "      <td>float64</td>\n",
              "      <td>0</td>\n",
              "      <td>0.00</td>\n",
              "      <td>0.00</td>\n",
              "      <td>62299</td>\n",
              "      <td>1.474963e+14</td>\n",
              "      <td>2.560949e+14</td>\n",
              "      <td>3.921784e+04</td>\n",
              "      <td>4.172614e+12</td>\n",
              "      <td>3.173184e+13</td>\n",
              "      <td>9.439172e+13</td>\n",
              "      <td>9.999816e+14</td>\n",
              "    </tr>\n",
              "    <tr>\n",
              "      <th>appointmentid</th>\n",
              "      <td>int64</td>\n",
              "      <td>0</td>\n",
              "      <td>0.00</td>\n",
              "      <td>0.00</td>\n",
              "      <td>110527</td>\n",
              "      <td>5.675305e+06</td>\n",
              "      <td>7.129575e+04</td>\n",
              "      <td>5.030230e+06</td>\n",
              "      <td>5.640286e+06</td>\n",
              "      <td>5.680573e+06</td>\n",
              "      <td>5.725524e+06</td>\n",
              "      <td>5.790484e+06</td>\n",
              "    </tr>\n",
              "    <tr>\n",
              "      <th>gender</th>\n",
              "      <td>object</td>\n",
              "      <td>345</td>\n",
              "      <td>0.31</td>\n",
              "      <td>0.31</td>\n",
              "      <td>3</td>\n",
              "      <td>NaN</td>\n",
              "      <td>NaN</td>\n",
              "      <td>NaN</td>\n",
              "      <td>NaN</td>\n",
              "      <td>NaN</td>\n",
              "      <td>NaN</td>\n",
              "      <td>NaN</td>\n",
              "    </tr>\n",
              "    <tr>\n",
              "      <th>scheduledday</th>\n",
              "      <td>object</td>\n",
              "      <td>0</td>\n",
              "      <td>0.00</td>\n",
              "      <td>0.00</td>\n",
              "      <td>103549</td>\n",
              "      <td>NaN</td>\n",
              "      <td>NaN</td>\n",
              "      <td>NaN</td>\n",
              "      <td>NaN</td>\n",
              "      <td>NaN</td>\n",
              "      <td>NaN</td>\n",
              "      <td>NaN</td>\n",
              "    </tr>\n",
              "    <tr>\n",
              "      <th>appointmentday</th>\n",
              "      <td>object</td>\n",
              "      <td>0</td>\n",
              "      <td>0.00</td>\n",
              "      <td>0.00</td>\n",
              "      <td>27</td>\n",
              "      <td>NaN</td>\n",
              "      <td>NaN</td>\n",
              "      <td>NaN</td>\n",
              "      <td>NaN</td>\n",
              "      <td>NaN</td>\n",
              "      <td>NaN</td>\n",
              "      <td>NaN</td>\n",
              "    </tr>\n",
              "    <tr>\n",
              "      <th>age</th>\n",
              "      <td>int64</td>\n",
              "      <td>0</td>\n",
              "      <td>0.00</td>\n",
              "      <td>0.00</td>\n",
              "      <td>221</td>\n",
              "      <td>3.704903e+01</td>\n",
              "      <td>2.352466e+01</td>\n",
              "      <td>-2.320000e+02</td>\n",
              "      <td>1.800000e+01</td>\n",
              "      <td>3.700000e+01</td>\n",
              "      <td>5.500000e+01</td>\n",
              "      <td>3.100000e+02</td>\n",
              "    </tr>\n",
              "    <tr>\n",
              "      <th>neighbourhood</th>\n",
              "      <td>object</td>\n",
              "      <td>0</td>\n",
              "      <td>0.00</td>\n",
              "      <td>0.00</td>\n",
              "      <td>81</td>\n",
              "      <td>NaN</td>\n",
              "      <td>NaN</td>\n",
              "      <td>NaN</td>\n",
              "      <td>NaN</td>\n",
              "      <td>NaN</td>\n",
              "      <td>NaN</td>\n",
              "      <td>NaN</td>\n",
              "    </tr>\n",
              "    <tr>\n",
              "      <th>scholarship</th>\n",
              "      <td>int64</td>\n",
              "      <td>0</td>\n",
              "      <td>0.00</td>\n",
              "      <td>0.00</td>\n",
              "      <td>2</td>\n",
              "      <td>9.826558e-02</td>\n",
              "      <td>2.976748e-01</td>\n",
              "      <td>0.000000e+00</td>\n",
              "      <td>0.000000e+00</td>\n",
              "      <td>0.000000e+00</td>\n",
              "      <td>0.000000e+00</td>\n",
              "      <td>1.000000e+00</td>\n",
              "    </tr>\n",
              "    <tr>\n",
              "      <th>hipertension</th>\n",
              "      <td>int64</td>\n",
              "      <td>0</td>\n",
              "      <td>0.00</td>\n",
              "      <td>0.00</td>\n",
              "      <td>2</td>\n",
              "      <td>1.972459e-01</td>\n",
              "      <td>3.979213e-01</td>\n",
              "      <td>0.000000e+00</td>\n",
              "      <td>0.000000e+00</td>\n",
              "      <td>0.000000e+00</td>\n",
              "      <td>0.000000e+00</td>\n",
              "      <td>1.000000e+00</td>\n",
              "    </tr>\n",
              "    <tr>\n",
              "      <th>diabetes</th>\n",
              "      <td>int64</td>\n",
              "      <td>0</td>\n",
              "      <td>0.00</td>\n",
              "      <td>0.00</td>\n",
              "      <td>2</td>\n",
              "      <td>7.186479e-02</td>\n",
              "      <td>2.582651e-01</td>\n",
              "      <td>0.000000e+00</td>\n",
              "      <td>0.000000e+00</td>\n",
              "      <td>0.000000e+00</td>\n",
              "      <td>0.000000e+00</td>\n",
              "      <td>1.000000e+00</td>\n",
              "    </tr>\n",
              "    <tr>\n",
              "      <th>alcoholism</th>\n",
              "      <td>object</td>\n",
              "      <td>0</td>\n",
              "      <td>0.00</td>\n",
              "      <td>0.00</td>\n",
              "      <td>4</td>\n",
              "      <td>NaN</td>\n",
              "      <td>NaN</td>\n",
              "      <td>NaN</td>\n",
              "      <td>NaN</td>\n",
              "      <td>NaN</td>\n",
              "      <td>NaN</td>\n",
              "      <td>NaN</td>\n",
              "    </tr>\n",
              "    <tr>\n",
              "      <th>handcap</th>\n",
              "      <td>int64</td>\n",
              "      <td>0</td>\n",
              "      <td>0.00</td>\n",
              "      <td>0.00</td>\n",
              "      <td>5</td>\n",
              "      <td>2.224796e-02</td>\n",
              "      <td>1.615427e-01</td>\n",
              "      <td>0.000000e+00</td>\n",
              "      <td>0.000000e+00</td>\n",
              "      <td>0.000000e+00</td>\n",
              "      <td>0.000000e+00</td>\n",
              "      <td>4.000000e+00</td>\n",
              "    </tr>\n",
              "    <tr>\n",
              "      <th>sms_received</th>\n",
              "      <td>int64</td>\n",
              "      <td>0</td>\n",
              "      <td>0.00</td>\n",
              "      <td>0.00</td>\n",
              "      <td>2</td>\n",
              "      <td>3.210256e-01</td>\n",
              "      <td>4.668727e-01</td>\n",
              "      <td>0.000000e+00</td>\n",
              "      <td>0.000000e+00</td>\n",
              "      <td>0.000000e+00</td>\n",
              "      <td>1.000000e+00</td>\n",
              "      <td>1.000000e+00</td>\n",
              "    </tr>\n",
              "    <tr>\n",
              "      <th>no-show</th>\n",
              "      <td>object</td>\n",
              "      <td>0</td>\n",
              "      <td>0.00</td>\n",
              "      <td>0.00</td>\n",
              "      <td>2</td>\n",
              "      <td>NaN</td>\n",
              "      <td>NaN</td>\n",
              "      <td>NaN</td>\n",
              "      <td>NaN</td>\n",
              "      <td>NaN</td>\n",
              "      <td>NaN</td>\n",
              "      <td>NaN</td>\n",
              "    </tr>\n",
              "  </tbody>\n",
              "</table>\n",
              "</div>"
            ],
            "text/plain": [
              "                   type  nan  ...           75%           max\n",
              "unnamed: 0        int64    0  ...  8.289450e+04  1.105260e+05\n",
              "patientid       float64    0  ...  9.439172e+13  9.999816e+14\n",
              "appointmentid     int64    0  ...  5.725524e+06  5.790484e+06\n",
              "gender           object  345  ...           NaN           NaN\n",
              "scheduledday     object    0  ...           NaN           NaN\n",
              "appointmentday   object    0  ...           NaN           NaN\n",
              "age               int64    0  ...  5.500000e+01  3.100000e+02\n",
              "neighbourhood    object    0  ...           NaN           NaN\n",
              "scholarship       int64    0  ...  0.000000e+00  1.000000e+00\n",
              "hipertension      int64    0  ...  0.000000e+00  1.000000e+00\n",
              "diabetes          int64    0  ...  0.000000e+00  1.000000e+00\n",
              "alcoholism       object    0  ...           NaN           NaN\n",
              "handcap           int64    0  ...  0.000000e+00  4.000000e+00\n",
              "sms_received      int64    0  ...  1.000000e+00  1.000000e+00\n",
              "no-show          object    0  ...           NaN           NaN\n",
              "\n",
              "[15 rows x 12 columns]"
            ]
          },
          "metadata": {
            "tags": []
          },
          "execution_count": 78
        },
        {
          "output_type": "display_data",
          "data": {
            "image/png": "[encoded data removed]",
            "text/plain": [
              "<Figure size 1152x576 with 2 Axes>"
            ]
          },
          "metadata": {
            "tags": []
          }
        }
      ]
    },
    {
      "cell_type": "markdown",
      "metadata": {
        "id": "7oQx0K-VMnFe",
        "colab_type": "text"
      },
      "source": [
        "El único atributo con nulos es <code>gender</code>. Pasaremos a analizar más en profundidad el resto de características para extraer más información."
      ]
    },
    {
      "cell_type": "markdown",
      "metadata": {
        "id": "6m3QCPkDMnFf",
        "colab_type": "text"
      },
      "source": [
        "## Data cleaning"
      ]
    },
    {
      "cell_type": "markdown",
      "metadata": {
        "id": "FvzCDsuYMnFg",
        "colab_type": "text"
      },
      "source": [
        "### Estrategia"
      ]
    },
    {
      "cell_type": "code",
      "metadata": {
        "ExecuteTime": {
          "end_time": "2020-05-07T15:31:33.539614Z",
          "start_time": "2020-05-07T15:31:33.527272Z"
        },
        "id": "FLiM-7zsMnFg",
        "colab_type": "code",
        "colab": {}
      },
      "source": [
        "def date_group(hour):\n",
        "    if 6 <= hour > 11:\n",
        "        return 1\n",
        "    elif 11 <= hour > 15:\n",
        "        return 2\n",
        "    elif 15 <= hour > 22:\n",
        "        return 3\n",
        "    else:\n",
        "        return 0"
      ],
      "execution_count": 0,
      "outputs": []
    },
    {
      "cell_type": "code",
      "metadata": {
        "ExecuteTime": {
          "end_time": "2020-05-07T15:31:34.275057Z",
          "start_time": "2020-05-07T15:31:34.258809Z"
        },
        "id": "-sRPWxIOMnFk",
        "colab_type": "code",
        "colab": {}
      },
      "source": [
        "def cat_column_analysis (df, col):\n",
        "    \n",
        "    \"\"\"\n",
        "    Dada un columna devuelve información relacionada con nulos y distribución.\n",
        "    \n",
        "    Inputs:\n",
        "    df. datafrme\n",
        "    col. nombre de la columna\n",
        "    \n",
        "    Output:\n",
        "    -Valores nulos y su ratio si hay.\n",
        "    -% de cada valor\n",
        "    -bar plot\n",
        "    \n",
        "    \"\"\"\n",
        "    \n",
        "    df_temp = pd.DataFrame(df[col])\n",
        "    \n",
        "    #Valores nulos\n",
        "    if df[col].isnull().sum()>0:  \n",
        "        print(f\"Valores nulos: {df[col].isnull().sum()}. Un {round((df[col].isnull().sum()/len(df[col])*100),2)}%\")\n",
        "        df_temp[col] = df[col].fillna(\"NaN\")\n",
        "    else:\n",
        "        print(\"No hay valores nulos.\")\n",
        "        \n",
        "    # % según los valores únicos    \n",
        "    print(\"Ratio de valores:\")\n",
        "    cd = pd.DataFrame(df_temp[col].value_counts())\n",
        "    cd[\"%\"] = [round((cd[col][value]/cd[col].sum()),4)*100 for value in cd.index]\n",
        "    print(cd)\n",
        "    \n",
        "    #Visualización de la distribución\n",
        "    print(\"Distribución:\")\n",
        "    display(df_temp[col].hist())\n",
        "    plt.show()\n",
        "    \n",
        "    print('\\n')\n",
        "    \n",
        "    #mostrar el impacto de las distintos valores de la variable en el target (No-show)\n",
        "    df_temp2 = pd.DataFrame(citas[[col,'no-show']])\n",
        "\n",
        "    print(f\"Impacto de {col} en No-shows:\")\n",
        "\n",
        "    df_temp2 = df_temp2.groupby([col,'no-show']).agg({col:'count'})\n",
        "    df_temp2['%'] = [round((df_temp2[col][value]/df_temp2[col][df_temp2.index.get_level_values(0)==value[0]].sum())*100,2)\n",
        "    for value in df_temp2.index]\n",
        "    print(df_temp2)"
      ],
      "execution_count": 0,
      "outputs": []
    },
    {
      "cell_type": "code",
      "metadata": {
        "ExecuteTime": {
          "end_time": "2020-05-07T15:31:35.280699Z",
          "start_time": "2020-05-07T15:31:35.274930Z"
        },
        "id": "U-TBnoZoMnFu",
        "colab_type": "code",
        "colab": {}
      },
      "source": [
        "def cat_ord_to_num (df, col, lst):\n",
        "\n",
        "    \"\"\"\n",
        "    Convierte una categórica ordinal en numérica manteniendo el orden.\n",
        "\n",
        "    Input:\n",
        "    * df : dataframe\n",
        "    * col: columna a convertir\n",
        "    * lst : lista ordenada de valores únicos de la columna a convertir\n",
        "\n",
        "    Output:\n",
        "    *new_col :lista con los valores convertidos\n",
        "\n",
        "    \"\"\"\n",
        "\n",
        "    new_col = df[col].apply(lambda x: lst.index(x))\n",
        "\n",
        "    return new_col"
      ],
      "execution_count": 0,
      "outputs": []
    },
    {
      "cell_type": "markdown",
      "metadata": {
        "id": "jzC9osbnMnFx",
        "colab_type": "text"
      },
      "source": [
        "### PatientId"
      ]
    },
    {
      "cell_type": "markdown",
      "metadata": {
        "id": "fYD4uVLbMnFy",
        "colab_type": "text"
      },
      "source": [
        "Convertimos a integer la columna <code>patientid</code> para poder manipularla más facilmente y no tener números en notación científica."
      ]
    },
    {
      "cell_type": "code",
      "metadata": {
        "ExecuteTime": {
          "end_time": "2020-05-07T15:31:48.754565Z",
          "start_time": "2020-05-07T15:31:48.714463Z"
        },
        "id": "fdrFd_hPMnFy",
        "colab_type": "code",
        "colab": {}
      },
      "source": [
        "appointments_per_patient_id = citas.groupby(['patientid']).agg({'appointmentid':'count'})"
      ],
      "execution_count": 0,
      "outputs": []
    },
    {
      "cell_type": "code",
      "metadata": {
        "ExecuteTime": {
          "end_time": "2020-05-07T15:31:49.800141Z",
          "start_time": "2020-05-07T15:31:49.204406Z"
        },
        "id": "KfravZFrMnF1",
        "colab_type": "code",
        "colab": {
          "base_uri": "https://localhost:8080/",
          "height": 320
        },
        "outputId": "ee14ba87-4616-4b86-e28f-7c935fcb800c"
      },
      "source": [
        "fig, axs = plt.subplots(nrows=1, ncols=2)\n",
        "fig.set_size_inches(16,5)\n",
        "\n",
        "x1 = appointments_per_patient_id['appointmentid']\n",
        "x2 = appointments_per_patient_id['appointmentid'][appointments_per_patient_id['appointmentid']<=20]\n",
        "\n",
        "\n",
        "axs[0].hist(x1, bins=88)\n",
        "axs[1].hist(x2, bins=20)\n",
        "\n",
        "plt.show()\n"
      ],
      "execution_count": 83,
      "outputs": [
        {
          "output_type": "display_data",
          "data": {
            "image/png": "[encoded data removed]",
            "text/plain": [
              "<Figure size 1152x360 with 2 Axes>"
            ]
          },
          "metadata": {
            "tags": [],
            "needs_background": "light"
          }
        }
      ]
    },
    {
      "cell_type": "markdown",
      "metadata": {
        "id": "L8HdsD1iMnF5",
        "colab_type": "text"
      },
      "source": [
        "### ScheduledDay y Appointmentday"
      ]
    },
    {
      "cell_type": "markdown",
      "metadata": {
        "id": "lFUuECysMnF6",
        "colab_type": "text"
      },
      "source": [
        "La estructura actual de los atributos relacionados con fechas no nos permiten trabajar con ellos. Pasaremos a extraer la información que necesitamos usando ReGex y convirtiendo los datos a formato <code>datetime</code>."
      ]
    },
    {
      "cell_type": "code",
      "metadata": {
        "ExecuteTime": {
          "end_time": "2020-05-07T15:31:52.625338Z",
          "start_time": "2020-05-07T15:31:52.615106Z"
        },
        "id": "7EwBuBjTMnF7",
        "colab_type": "code",
        "colab": {
          "base_uri": "https://localhost:8080/",
          "height": 535
        },
        "outputId": "b58bdf50-7cdf-48b5-9df1-7031636a3bc3"
      },
      "source": [
        "# Checking how different are the values in both columns\n",
        "\n",
        "print('ScheduledDay column:', '\\n\\n', citas['scheduledday'],'\\n\\n')\n",
        "print('AppointmentDay column:', '\\n\\n', citas['appointmentday'])"
      ],
      "execution_count": 84,
      "outputs": [
        {
          "output_type": "stream",
          "text": [
            "ScheduledDay column: \n",
            "\n",
            " 0         2016-04-29T18:38:08Z\n",
            "1         2016-04-29T16:08:27Z\n",
            "2         2016-04-29T16:19:04Z\n",
            "3         2016-04-29T17:29:31Z\n",
            "4         2016-04-29T16:07:23Z\n",
            "                  ...         \n",
            "110522    2016-05-03T09:15:35Z\n",
            "110523    2016-05-03T07:27:33Z\n",
            "110524    2016-04-27T16:03:52Z\n",
            "110525    2016-04-27T15:09:23Z\n",
            "110526    2016-04-27T13:30:56Z\n",
            "Name: scheduledday, Length: 110527, dtype: object \n",
            "\n",
            "\n",
            "AppointmentDay column: \n",
            "\n",
            " 0         2016-04-29T00:00:00Z\n",
            "1         2016-04-29T00:00:00Z\n",
            "2         2016-04-29T00:00:00Z\n",
            "3         2016-04-29T00:00:00Z\n",
            "4         2016-04-29T00:00:00Z\n",
            "                  ...         \n",
            "110522    2016-06-07T00:00:00Z\n",
            "110523    2016-06-07T00:00:00Z\n",
            "110524    2016-06-07T00:00:00Z\n",
            "110525    2016-06-07T00:00:00Z\n",
            "110526    2016-06-07T00:00:00Z\n",
            "Name: appointmentday, Length: 110527, dtype: object\n"
          ],
          "name": "stdout"
        }
      ]
    },
    {
      "cell_type": "code",
      "metadata": {
        "ExecuteTime": {
          "end_time": "2020-05-07T15:31:53.537404Z",
          "start_time": "2020-05-07T15:31:53.109753Z"
        },
        "id": "rVefgra4MnF_",
        "colab_type": "code",
        "colab": {}
      },
      "source": [
        "citas['scheduledday'] = pd.to_datetime(citas['scheduledday'].str.replace('T',' ').str.replace('Z',''))\n",
        "citas['appointmentday'] = pd.to_datetime(citas['appointmentday'].str.replace('T',' ').str.replace('Z',''))"
      ],
      "execution_count": 0,
      "outputs": []
    },
    {
      "cell_type": "code",
      "metadata": {
        "ExecuteTime": {
          "end_time": "2020-05-07T15:31:54.099147Z",
          "start_time": "2020-05-07T15:31:53.897577Z"
        },
        "id": "-LRh8DJiMnGD",
        "colab_type": "code",
        "colab": {}
      },
      "source": [
        "citas['scheduleddate'] = pd.to_datetime(citas['scheduledday'].dt.date)\n",
        "citas['scheduledweekday'] = citas['scheduledday'].dt.weekday #Monday 0 Sunday 6\n",
        "citas['scheduledhour'] = citas['scheduledday'].dt.hour\n",
        "citas['appointmentdate'] = pd.to_datetime(citas['appointmentday'].dt.date)\n",
        "citas['appointmentweekday'] = citas['appointmentday'].dt.weekday #Monday 0 Sunday 6\n",
        "citas['appointmenthour'] = citas['appointmentday'].dt.hour"
      ],
      "execution_count": 0,
      "outputs": []
    },
    {
      "cell_type": "markdown",
      "metadata": {
        "id": "Pe2KGgKcMnGG",
        "colab_type": "text"
      },
      "source": [
        "Creating a flag to tell wether the Appointment is in the same day as it was scheduled or not"
      ]
    },
    {
      "cell_type": "code",
      "metadata": {
        "ExecuteTime": {
          "end_time": "2020-05-07T15:31:54.774094Z",
          "start_time": "2020-05-07T15:31:54.759714Z"
        },
        "id": "WptA-J9jMnGG",
        "colab_type": "code",
        "colab": {}
      },
      "source": [
        "citas['samedayflag'] = citas['scheduledweekday'] == citas['appointmentweekday']"
      ],
      "execution_count": 0,
      "outputs": []
    },
    {
      "cell_type": "markdown",
      "metadata": {
        "id": "PjGlUhiWMnGK",
        "colab_type": "text"
      },
      "source": [
        "Con el siguiente gráfico podemos ver la distribución de las visitas a lo largo del día. "
      ]
    },
    {
      "cell_type": "code",
      "metadata": {
        "ExecuteTime": {
          "end_time": "2020-05-07T15:31:56.030081Z",
          "start_time": "2020-05-07T15:31:55.662997Z"
        },
        "id": "1LHwNZeKMnGL",
        "colab_type": "code",
        "colab": {
          "base_uri": "https://localhost:8080/",
          "height": 405
        },
        "outputId": "9702cd75-cc42-43c9-d2c1-de6e84e3d662"
      },
      "source": [
        "sns.countplot(x=citas['scheduledhour'])"
      ],
      "execution_count": 88,
      "outputs": [
        {
          "output_type": "execute_result",
          "data": {
            "text/plain": [
              "<matplotlib.axes._subplots.AxesSubplot at 0x7f90890efba8>"
            ]
          },
          "metadata": {
            "tags": []
          },
          "execution_count": 88
        },
        {
          "output_type": "display_data",
          "data": {
            "image/png": "[encoded data removed]",
            "text/plain": [
              "<Figure size 1152x432 with 1 Axes>"
            ]
          },
          "metadata": {
            "tags": [],
            "needs_background": "light"
          }
        }
      ]
    },
    {
      "cell_type": "markdown",
      "metadata": {
        "id": "k3IlpmGwMnGO",
        "colab_type": "text"
      },
      "source": [
        "- Hay un mayor número de citas por la mañana y algunas horas valle\n",
        "- El **mayor número de citas** fue entre las **7 y las 10 de la mañana**"
      ]
    },
    {
      "cell_type": "markdown",
      "metadata": {
        "id": "bRiaGGvsMnGP",
        "colab_type": "text"
      },
      "source": [
        "También podemos ver la distribución por día de la semana."
      ]
    },
    {
      "cell_type": "code",
      "metadata": {
        "ExecuteTime": {
          "end_time": "2020-05-07T15:31:57.528853Z",
          "start_time": "2020-05-07T15:31:57.318226Z"
        },
        "id": "QuS2yoOqMnGP",
        "colab_type": "code",
        "colab": {
          "base_uri": "https://localhost:8080/",
          "height": 403
        },
        "outputId": "37c08942-8a2d-4522-a68f-093055a74872"
      },
      "source": [
        "ax = sns.countplot(x=citas['scheduledweekday'])\n",
        "ax.set_title(\"Citas por día de la semana\")\n",
        "plt.show()"
      ],
      "execution_count": 89,
      "outputs": [
        {
          "output_type": "display_data",
          "data": {
            "image/png": "[encoded data removed]",
            "text/plain": [
              "<Figure size 1152x432 with 1 Axes>"
            ]
          },
          "metadata": {
            "tags": [],
            "needs_background": "light"
          }
        }
      ]
    },
    {
      "cell_type": "markdown",
      "metadata": {
        "id": "Rp9PM7UhMnGS",
        "colab_type": "text"
      },
      "source": [
        "- El lunes se indica con 0 y el domingo que se indica con 6\n",
        "- Los **martes y miércoles** son los días para los que se programan la **mayoría de las citas**"
      ]
    },
    {
      "cell_type": "code",
      "metadata": {
        "ExecuteTime": {
          "end_time": "2020-05-07T15:31:59.493707Z",
          "start_time": "2020-05-07T15:31:58.389971Z"
        },
        "id": "x-Kyght4MnGS",
        "colab_type": "code",
        "colab": {}
      },
      "source": [
        "citas['days_to_appointment'] = (citas['appointmentday'].dt.date - citas['scheduledday'].dt.date).dt.days"
      ],
      "execution_count": 0,
      "outputs": []
    },
    {
      "cell_type": "code",
      "metadata": {
        "ExecuteTime": {
          "end_time": "2020-05-07T15:32:00.190686Z",
          "start_time": "2020-05-07T15:32:00.103637Z"
        },
        "id": "1YDWJ04VMnGV",
        "colab_type": "code",
        "colab": {}
      },
      "source": [
        "citas.drop(citas[citas['days_to_appointment']<0].index, inplace = True)"
      ],
      "execution_count": 0,
      "outputs": []
    },
    {
      "cell_type": "markdown",
      "metadata": {
        "id": "nhvkbQVWMnGY",
        "colab_type": "text"
      },
      "source": [
        "Hay 5 citas con agendadas después de la fecha de visita, lo que da valores negativos. Nos tomaremos esto como un error y procedemos a eliminar esa fila."
      ]
    },
    {
      "cell_type": "code",
      "metadata": {
        "ExecuteTime": {
          "end_time": "2020-05-07T15:32:01.463408Z",
          "start_time": "2020-05-07T15:32:00.720041Z"
        },
        "id": "yiActzWyMnGZ",
        "colab_type": "code",
        "colab": {
          "base_uri": "https://localhost:8080/",
          "height": 995
        },
        "outputId": "fa90e149-4f78-4b42-d260-71a8769fd499"
      },
      "source": [
        "cat_column_analysis (citas, \"days_to_appointment\")"
      ],
      "execution_count": 92,
      "outputs": [
        {
          "output_type": "stream",
          "text": [
            "No hay valores nulos.\n",
            "Ratio de valores:\n",
            "     days_to_appointment      %\n",
            "0                  38563  34.89\n",
            "2                   6725   6.08\n",
            "4                   5290   4.79\n",
            "1                   5213   4.72\n",
            "7                   4906   4.44\n",
            "..                   ...    ...\n",
            "101                    1   0.00\n",
            "132                    1   0.00\n",
            "151                    1   0.00\n",
            "146                    1   0.00\n",
            "127                    1   0.00\n",
            "\n",
            "[129 rows x 2 columns]\n",
            "Distribución:\n"
          ],
          "name": "stdout"
        },
        {
          "output_type": "display_data",
          "data": {
            "text/plain": [
              "<matplotlib.axes._subplots.AxesSubplot at 0x7f9089b1be10>"
            ]
          },
          "metadata": {
            "tags": []
          }
        },
        {
          "output_type": "display_data",
          "data": {
            "image/png": "[encoded data removed]",
            "text/plain": [
              "<Figure size 1152x432 with 1 Axes>"
            ]
          },
          "metadata": {
            "tags": [],
            "needs_background": "light"
          }
        },
        {
          "output_type": "stream",
          "text": [
            "\n",
            "\n",
            "Impacto de days_to_appointment en No-shows:\n",
            "                             days_to_appointment      %\n",
            "days_to_appointment no-show                            \n",
            "0                   No                     36771  95.35\n",
            "                    Yes                     1792   4.65\n",
            "1                   No                      4100  78.65\n",
            "                    Yes                     1113  21.35\n",
            "2                   No                      5123  76.18\n",
            "...                                          ...    ...\n",
            "169                 Yes                        1  12.50\n",
            "176                 No                        10  62.50\n",
            "                    Yes                        6  37.50\n",
            "179                 No                         8  80.00\n",
            "                    Yes                        2  20.00\n",
            "\n",
            "[235 rows x 2 columns]\n"
          ],
          "name": "stdout"
        }
      ]
    },
    {
      "cell_type": "markdown",
      "metadata": {
        "id": "xBiGn-5uMnGc",
        "colab_type": "text"
      },
      "source": [
        "- La **mayoría de las citas** están programadas para el **mismo día (34,90%)** y sólo el **4,70%** de los pacientes faltan\n",
        "- La No-show rate aumenta **cuantos más días haya entre la llamada y la cita**: 1 día (21,40%), 2 días (23,51%)  "
      ]
    },
    {
      "cell_type": "markdown",
      "metadata": {
        "id": "RFA3Jh1GMnGc",
        "colab_type": "text"
      },
      "source": [
        "#### Agrupaciones para simplificar horas"
      ]
    },
    {
      "cell_type": "code",
      "metadata": {
        "ExecuteTime": {
          "end_time": "2020-05-07T15:32:01.969762Z",
          "start_time": "2020-05-07T15:32:01.908987Z"
        },
        "id": "Xf2wQ4tLMnGd",
        "colab_type": "code",
        "colab": {}
      },
      "source": [
        "citas['schedulehourgroup'] = citas['scheduledhour'].apply(date_group)"
      ],
      "execution_count": 0,
      "outputs": []
    },
    {
      "cell_type": "markdown",
      "metadata": {
        "id": "mUqQSKV5MnGg",
        "colab_type": "text"
      },
      "source": [
        "### Age"
      ]
    },
    {
      "cell_type": "markdown",
      "metadata": {
        "id": "M9YGCX5wMnGh",
        "colab_type": "text"
      },
      "source": [
        "Hacemos una primera exploración para ver la distribución de las edades visualizando los datos que encontramos en la columna"
      ]
    },
    {
      "cell_type": "code",
      "metadata": {
        "ExecuteTime": {
          "end_time": "2020-05-07T15:32:03.355621Z",
          "start_time": "2020-05-07T15:32:03.155721Z"
        },
        "id": "j2ovGBebMnGi",
        "colab_type": "code",
        "colab": {
          "base_uri": "https://localhost:8080/",
          "height": 374
        },
        "outputId": "4ed81666-346b-415b-bfbc-791bb0ac0210"
      },
      "source": [
        "# cambiar escala / horizontal\n",
        "\n",
        "_=plt.boxplot(citas['age'], vert=False)"
      ],
      "execution_count": 94,
      "outputs": [
        {
          "output_type": "display_data",
          "data": {
            "image/png": "[encoded data removed]",
            "text/plain": [
              "<Figure size 1152x432 with 1 Axes>"
            ]
          },
          "metadata": {
            "tags": [],
            "needs_background": "light"
          }
        }
      ]
    },
    {
      "cell_type": "code",
      "metadata": {
        "ExecuteTime": {
          "end_time": "2020-05-07T15:32:04.108773Z",
          "start_time": "2020-05-07T15:32:03.986309Z"
        },
        "id": "jyyzZSLCMnGl",
        "colab_type": "code",
        "colab": {
          "base_uri": "https://localhost:8080/",
          "height": 198
        },
        "outputId": "18828184-10af-498c-f8bf-c4cd363b119c"
      },
      "source": [
        "#Cuantos appointmentids tiene cada paciente con la misma edad\n",
        "\n",
        "ages = citas.groupby(['patientid','age']).agg({'appointmentid':'count'}).reset_index().sort_values('patientid')\n",
        "ages.head()"
      ],
      "execution_count": 95,
      "outputs": [
        {
          "output_type": "execute_result",
          "data": {
            "text/html": [
              "<div>\n",
              "<style scoped>\n",
              "    .dataframe tbody tr th:only-of-type {\n",
              "        vertical-align: middle;\n",
              "    }\n",
              "\n",
              "    .dataframe tbody tr th {\n",
              "        vertical-align: top;\n",
              "    }\n",
              "\n",
              "    .dataframe thead th {\n",
              "        text-align: right;\n",
              "    }\n",
              "</style>\n",
              "<table border=\"1\" class=\"dataframe\">\n",
              "  <thead>\n",
              "    <tr style=\"text-align: right;\">\n",
              "      <th></th>\n",
              "      <th>patientid</th>\n",
              "      <th>age</th>\n",
              "      <th>appointmentid</th>\n",
              "    </tr>\n",
              "  </thead>\n",
              "  <tbody>\n",
              "    <tr>\n",
              "      <th>0</th>\n",
              "      <td>39217.84439</td>\n",
              "      <td>44</td>\n",
              "      <td>1</td>\n",
              "    </tr>\n",
              "    <tr>\n",
              "      <th>1</th>\n",
              "      <td>43741.75652</td>\n",
              "      <td>39</td>\n",
              "      <td>1</td>\n",
              "    </tr>\n",
              "    <tr>\n",
              "      <th>2</th>\n",
              "      <td>93779.52927</td>\n",
              "      <td>33</td>\n",
              "      <td>1</td>\n",
              "    </tr>\n",
              "    <tr>\n",
              "      <th>3</th>\n",
              "      <td>141724.16655</td>\n",
              "      <td>12</td>\n",
              "      <td>1</td>\n",
              "    </tr>\n",
              "    <tr>\n",
              "      <th>4</th>\n",
              "      <td>537615.28476</td>\n",
              "      <td>14</td>\n",
              "      <td>1</td>\n",
              "    </tr>\n",
              "  </tbody>\n",
              "</table>\n",
              "</div>"
            ],
            "text/plain": [
              "      patientid  age  appointmentid\n",
              "0   39217.84439   44              1\n",
              "1   43741.75652   39              1\n",
              "2   93779.52927   33              1\n",
              "3  141724.16655   12              1\n",
              "4  537615.28476   14              1"
            ]
          },
          "metadata": {
            "tags": []
          },
          "execution_count": 95
        }
      ]
    },
    {
      "cell_type": "code",
      "metadata": {
        "ExecuteTime": {
          "end_time": "2020-05-07T15:32:05.051804Z",
          "start_time": "2020-05-07T15:32:04.822486Z"
        },
        "id": "zp8mzecLMnGo",
        "colab_type": "code",
        "colab": {}
      },
      "source": [
        "#Pacientes que tienen appointments ids con distintas edades\n",
        "ages_dup = ages[ages.duplicated('patientid',keep=False)].sort_values('patientid')\n",
        "\n",
        "patient_dup = pd.DataFrame(ages_dup['patientid'].unique())\n",
        "#si hay mas de un appointment id poner esa edad en el resto\n",
        "#si ha mas de dos edades mirar las que la diferencia es mayor que uno"
      ],
      "execution_count": 0,
      "outputs": []
    },
    {
      "cell_type": "code",
      "metadata": {
        "ExecuteTime": {
          "end_time": "2020-05-07T15:32:05.655974Z",
          "start_time": "2020-05-07T15:32:05.642570Z"
        },
        "id": "3jtWFd1-MnGv",
        "colab_type": "code",
        "colab": {
          "base_uri": "https://localhost:8080/",
          "height": 198
        },
        "outputId": "1cd1de49-dc05-4879-fad6-c4cfdd0124dd"
      },
      "source": [
        "ages_dup.head()"
      ],
      "execution_count": 97,
      "outputs": [
        {
          "output_type": "execute_result",
          "data": {
            "text/html": [
              "<div>\n",
              "<style scoped>\n",
              "    .dataframe tbody tr th:only-of-type {\n",
              "        vertical-align: middle;\n",
              "    }\n",
              "\n",
              "    .dataframe tbody tr th {\n",
              "        vertical-align: top;\n",
              "    }\n",
              "\n",
              "    .dataframe thead th {\n",
              "        text-align: right;\n",
              "    }\n",
              "</style>\n",
              "<table border=\"1\" class=\"dataframe\">\n",
              "  <thead>\n",
              "    <tr style=\"text-align: right;\">\n",
              "      <th></th>\n",
              "      <th>patientid</th>\n",
              "      <th>age</th>\n",
              "      <th>appointmentid</th>\n",
              "    </tr>\n",
              "  </thead>\n",
              "  <tbody>\n",
              "    <tr>\n",
              "      <th>7</th>\n",
              "      <td>2.263866e+07</td>\n",
              "      <td>22</td>\n",
              "      <td>1</td>\n",
              "    </tr>\n",
              "    <tr>\n",
              "      <th>8</th>\n",
              "      <td>2.263866e+07</td>\n",
              "      <td>23</td>\n",
              "      <td>1</td>\n",
              "    </tr>\n",
              "    <tr>\n",
              "      <th>103</th>\n",
              "      <td>1.217364e+09</td>\n",
              "      <td>48</td>\n",
              "      <td>1</td>\n",
              "    </tr>\n",
              "    <tr>\n",
              "      <th>104</th>\n",
              "      <td>1.217364e+09</td>\n",
              "      <td>49</td>\n",
              "      <td>3</td>\n",
              "    </tr>\n",
              "    <tr>\n",
              "      <th>108</th>\n",
              "      <td>1.269422e+09</td>\n",
              "      <td>51</td>\n",
              "      <td>1</td>\n",
              "    </tr>\n",
              "  </tbody>\n",
              "</table>\n",
              "</div>"
            ],
            "text/plain": [
              "        patientid  age  appointmentid\n",
              "7    2.263866e+07   22              1\n",
              "8    2.263866e+07   23              1\n",
              "103  1.217364e+09   48              1\n",
              "104  1.217364e+09   49              3\n",
              "108  1.269422e+09   51              1"
            ]
          },
          "metadata": {
            "tags": []
          },
          "execution_count": 97
        }
      ]
    },
    {
      "cell_type": "code",
      "metadata": {
        "ExecuteTime": {
          "end_time": "2020-05-07T15:32:06.224945Z",
          "start_time": "2020-05-07T15:32:06.219582Z"
        },
        "id": "WVBMPRJdMnG2",
        "colab_type": "code",
        "colab": {}
      },
      "source": [
        "def age_review(maxv,minv,mean):\n",
        "    if minv < 0:\n",
        "        return maxv\n",
        "    elif maxv > 100:\n",
        "        return minv\n",
        "    else:\n",
        "        return mean"
      ],
      "execution_count": 0,
      "outputs": []
    },
    {
      "cell_type": "code",
      "metadata": {
        "ExecuteTime": {
          "end_time": "2020-05-07T15:32:06.918092Z",
          "start_time": "2020-05-07T15:32:06.895225Z"
        },
        "id": "biRpkXPMMnG8",
        "colab_type": "code",
        "colab": {
          "base_uri": "https://localhost:8080/",
          "height": 198
        },
        "outputId": "3521f845-a088-4b80-9792-a0f8c9b46ece"
      },
      "source": [
        "#more than 1 appointment with same age (este ya deberia ser definitvo)\n",
        "more_than_1_app = ages_dup[ages_dup['appointmentid']>1]\n",
        "\n",
        "more_than_1_app = more_than_1_app.rename(columns=({'age':'new_age'}))\n",
        "\n",
        "more_than_1_app.head()"
      ],
      "execution_count": 99,
      "outputs": [
        {
          "output_type": "execute_result",
          "data": {
            "text/html": [
              "<div>\n",
              "<style scoped>\n",
              "    .dataframe tbody tr th:only-of-type {\n",
              "        vertical-align: middle;\n",
              "    }\n",
              "\n",
              "    .dataframe tbody tr th {\n",
              "        vertical-align: top;\n",
              "    }\n",
              "\n",
              "    .dataframe thead th {\n",
              "        text-align: right;\n",
              "    }\n",
              "</style>\n",
              "<table border=\"1\" class=\"dataframe\">\n",
              "  <thead>\n",
              "    <tr style=\"text-align: right;\">\n",
              "      <th></th>\n",
              "      <th>patientid</th>\n",
              "      <th>new_age</th>\n",
              "      <th>appointmentid</th>\n",
              "    </tr>\n",
              "  </thead>\n",
              "  <tbody>\n",
              "    <tr>\n",
              "      <th>104</th>\n",
              "      <td>1.217364e+09</td>\n",
              "      <td>49</td>\n",
              "      <td>3</td>\n",
              "    </tr>\n",
              "    <tr>\n",
              "      <th>133</th>\n",
              "      <td>1.611159e+09</td>\n",
              "      <td>7</td>\n",
              "      <td>2</td>\n",
              "    </tr>\n",
              "    <tr>\n",
              "      <th>191</th>\n",
              "      <td>2.522419e+09</td>\n",
              "      <td>55</td>\n",
              "      <td>2</td>\n",
              "    </tr>\n",
              "    <tr>\n",
              "      <th>190</th>\n",
              "      <td>2.522419e+09</td>\n",
              "      <td>54</td>\n",
              "      <td>2</td>\n",
              "    </tr>\n",
              "    <tr>\n",
              "      <th>263</th>\n",
              "      <td>3.939378e+09</td>\n",
              "      <td>0</td>\n",
              "      <td>3</td>\n",
              "    </tr>\n",
              "  </tbody>\n",
              "</table>\n",
              "</div>"
            ],
            "text/plain": [
              "        patientid  new_age  appointmentid\n",
              "104  1.217364e+09       49              3\n",
              "133  1.611159e+09        7              2\n",
              "191  2.522419e+09       55              2\n",
              "190  2.522419e+09       54              2\n",
              "263  3.939378e+09        0              3"
            ]
          },
          "metadata": {
            "tags": []
          },
          "execution_count": 99
        }
      ]
    },
    {
      "cell_type": "code",
      "metadata": {
        "ExecuteTime": {
          "end_time": "2020-05-07T15:32:07.617119Z",
          "start_time": "2020-05-07T15:32:07.560201Z"
        },
        "id": "s1tDM6XeMnHA",
        "colab_type": "code",
        "colab": {}
      },
      "source": [
        "#sea 1 y no este en la lista anterior\n",
        "y = ages_dup[~ages_dup['patientid'].isin(more_than_1_app['patientid'])]\n",
        "\n",
        "y = y.groupby(['patientid'])['age'].agg(['max','min','mean']).reset_index()\n",
        "\n",
        "y['diff']=y['max']-y['min']\n",
        "\n",
        "y['new_age'] = y[y['diff']>1].apply(lambda x: age_review(x['max'],x['min'],x['mean']),axis=1)\n"
      ],
      "execution_count": 0,
      "outputs": []
    },
    {
      "cell_type": "code",
      "metadata": {
        "ExecuteTime": {
          "end_time": "2020-05-07T15:32:08.414073Z",
          "start_time": "2020-05-07T15:32:08.401626Z"
        },
        "id": "WvGpmQldMnHD",
        "colab_type": "code",
        "colab": {}
      },
      "source": [
        "new_age = more_than_1_app[['patientid','new_age']].append(y[['patientid','new_age']])"
      ],
      "execution_count": 0,
      "outputs": []
    },
    {
      "cell_type": "code",
      "metadata": {
        "ExecuteTime": {
          "end_time": "2020-05-07T15:32:09.314879Z",
          "start_time": "2020-05-07T15:32:09.131640Z"
        },
        "id": "5DyvI8FsMnHG",
        "colab_type": "code",
        "colab": {}
      },
      "source": [
        "citas = citas.merge(new_age[['patientid','new_age']],\n",
        "                               left_on = ['patientid'],right_on = ['patientid'],how='left')\n"
      ],
      "execution_count": 0,
      "outputs": []
    },
    {
      "cell_type": "markdown",
      "metadata": {
        "id": "33A9oj1TMnHI",
        "colab_type": "text"
      },
      "source": [
        "Para los que no hemos conseguido corregir la edad usar la columna age y siempre en valor absoluto"
      ]
    },
    {
      "cell_type": "code",
      "metadata": {
        "ExecuteTime": {
          "end_time": "2020-05-07T15:32:16.934173Z",
          "start_time": "2020-05-07T15:32:10.057589Z"
        },
        "id": "ToxOuXd7MnHJ",
        "colab_type": "code",
        "colab": {}
      },
      "source": [
        "citas['new_age'] = citas.apply(lambda x: abs(x['age']) if pd.isnull(x['new_age']) else x['new_age'],axis=1)"
      ],
      "execution_count": 0,
      "outputs": []
    },
    {
      "cell_type": "markdown",
      "metadata": {
        "id": "VSkkPy5CMnHM",
        "colab_type": "text"
      },
      "source": [
        "#### Quitar los outliners"
      ]
    },
    {
      "cell_type": "code",
      "metadata": {
        "ExecuteTime": {
          "end_time": "2020-05-07T15:45:41.358052Z",
          "start_time": "2020-05-07T15:45:41.300958Z"
        },
        "id": "qLtH8scSMnHN",
        "colab_type": "code",
        "colab": {}
      },
      "source": [
        "Q1 = citas['new_age'].quantile(0.25) \n",
        "\n",
        "Q3 = citas['new_age'].quantile(0.75) \n",
        "\n",
        "IQR = citas['new_age'].quantile(0.75) - citas['new_age'].quantile(0.25)\n",
        "\n",
        "#Outliers"
      ],
      "execution_count": 0,
      "outputs": []
    },
    {
      "cell_type": "code",
      "metadata": {
        "ExecuteTime": {
          "end_time": "2020-05-07T15:45:42.188408Z",
          "start_time": "2020-05-07T15:45:42.140113Z"
        },
        "id": "gIy8xvIlMnHR",
        "colab_type": "code",
        "colab": {}
      },
      "source": [
        "#remove_outliers\n",
        "\n",
        "citas = citas[(citas['new_age'] < Q3+IQR*1.5) & (citas['new_age'] > Q1-IQR*1.5)]"
      ],
      "execution_count": 0,
      "outputs": []
    },
    {
      "cell_type": "code",
      "metadata": {
        "ExecuteTime": {
          "end_time": "2020-05-07T15:45:43.367505Z",
          "start_time": "2020-05-07T15:45:42.887531Z"
        },
        "id": "ceo2tnjoMnHW",
        "colab_type": "code",
        "colab": {
          "base_uri": "https://localhost:8080/",
          "height": 391
        },
        "outputId": "e2e1def2-d14b-4d46-f4cf-65cf76b1a7f8"
      },
      "source": [
        "citas['new_age'].hist(bins=120)"
      ],
      "execution_count": 106,
      "outputs": [
        {
          "output_type": "execute_result",
          "data": {
            "text/plain": [
              "<matplotlib.axes._subplots.AxesSubplot at 0x7f90886707f0>"
            ]
          },
          "metadata": {
            "tags": []
          },
          "execution_count": 106
        },
        {
          "output_type": "display_data",
          "data": {
            "image/png": "[encoded data removed]",
            "text/plain": [
              "<Figure size 1152x432 with 1 Axes>"
            ]
          },
          "metadata": {
            "tags": [],
            "needs_background": "light"
          }
        }
      ]
    },
    {
      "cell_type": "markdown",
      "metadata": {
        "id": "s3FIrrK3MnHZ",
        "colab_type": "text"
      },
      "source": [
        "### Gender"
      ]
    },
    {
      "cell_type": "code",
      "metadata": {
        "ExecuteTime": {
          "end_time": "2020-05-07T15:45:44.838603Z",
          "start_time": "2020-05-07T15:45:44.339427Z"
        },
        "id": "tuKjfz7kMnHZ",
        "colab_type": "code",
        "colab": {
          "base_uri": "https://localhost:8080/",
          "height": 667
        },
        "outputId": "ea84cc9a-20a5-46ff-e789-1f08757021a5"
      },
      "source": [
        "cat_column_analysis (citas, \"gender\")"
      ],
      "execution_count": 107,
      "outputs": [
        {
          "output_type": "stream",
          "text": [
            "Valores nulos: 350. Un 0.31%\n",
            "Ratio de valores:\n",
            "     gender      %\n",
            "F     72493  64.68\n",
            "M     39235  35.01\n",
            "NaN     350   0.31\n",
            "Distribución:\n"
          ],
          "name": "stdout"
        },
        {
          "output_type": "display_data",
          "data": {
            "text/plain": [
              "<matplotlib.axes._subplots.AxesSubplot at 0x7f908ebf7e48>"
            ]
          },
          "metadata": {
            "tags": []
          }
        },
        {
          "output_type": "display_data",
          "data": {
            "image/png": "[encoded data removed]",
            "text/plain": [
              "<Figure size 1152x432 with 1 Axes>"
            ]
          },
          "metadata": {
            "tags": [],
            "needs_background": "light"
          }
        },
        {
          "output_type": "stream",
          "text": [
            "\n",
            "\n",
            "Impacto de gender en No-shows:\n",
            "                gender      %\n",
            "gender no-show               \n",
            "F      No        57759  79.68\n",
            "       Yes       14734  20.32\n",
            "M      No        31462  80.19\n",
            "       Yes        7773  19.81\n"
          ],
          "name": "stdout"
        }
      ]
    },
    {
      "cell_type": "markdown",
      "metadata": {
        "id": "cLsElqDoMnHc",
        "colab_type": "text"
      },
      "source": [
        "\n",
        "\n",
        "- La mayoría de los pacientes **son mujeres** (64.09%) y tienden a **ir a las citas**. Mientras que los hombres son un 35% más que los hombres y más de un 80% acuden a la cita."
      ]
    },
    {
      "cell_type": "markdown",
      "metadata": {
        "id": "LZtKp-YYMnHd",
        "colab_type": "text"
      },
      "source": [
        "La proporción de valores nulos es pequeña. Al tratarse de una categoria binaria podríamos remplazarlos en proporción a los otros dos valores o crear una nueva categoría de NAs para ver si la gente que no facilita los datos también es la que acabar por no acudir a las citas."
      ]
    },
    {
      "cell_type": "markdown",
      "metadata": {
        "id": "S5z-UD9DMnHd",
        "colab_type": "text"
      },
      "source": [
        "Convertimos los NaN en una string que sea Not Available/NA"
      ]
    },
    {
      "cell_type": "code",
      "metadata": {
        "ExecuteTime": {
          "end_time": "2020-05-07T15:45:46.455782Z",
          "start_time": "2020-05-07T15:45:46.438882Z"
        },
        "id": "NJojpoe7MnHe",
        "colab_type": "code",
        "colab": {}
      },
      "source": [
        "citas['gender']=citas['gender'].fillna(\"N/A\")"
      ],
      "execution_count": 0,
      "outputs": []
    },
    {
      "cell_type": "code",
      "metadata": {
        "ExecuteTime": {
          "end_time": "2020-05-07T15:45:47.583534Z",
          "start_time": "2020-05-07T15:45:47.254006Z"
        },
        "id": "1-IXH8rpMnHh",
        "colab_type": "code",
        "colab": {
          "base_uri": "https://localhost:8080/",
          "height": 702
        },
        "outputId": "3fb0ba4f-880a-46f4-d8ca-4e607ef4161d"
      },
      "source": [
        "cat_column_analysis (citas, \"gender\")"
      ],
      "execution_count": 109,
      "outputs": [
        {
          "output_type": "stream",
          "text": [
            "No hay valores nulos.\n",
            "Ratio de valores:\n",
            "     gender      %\n",
            "F     72493  64.68\n",
            "M     39235  35.01\n",
            "N/A     350   0.31\n",
            "Distribución:\n"
          ],
          "name": "stdout"
        },
        {
          "output_type": "display_data",
          "data": {
            "text/plain": [
              "<matplotlib.axes._subplots.AxesSubplot at 0x7f90891cfd30>"
            ]
          },
          "metadata": {
            "tags": []
          }
        },
        {
          "output_type": "display_data",
          "data": {
            "image/png": "[encoded data removed]",
            "text/plain": [
              "<Figure size 1152x432 with 1 Axes>"
            ]
          },
          "metadata": {
            "tags": [],
            "needs_background": "light"
          }
        },
        {
          "output_type": "stream",
          "text": [
            "\n",
            "\n",
            "Impacto de gender en No-shows:\n",
            "                gender      %\n",
            "gender no-show               \n",
            "F      No        57759  79.68\n",
            "       Yes       14734  20.32\n",
            "M      No        31462  80.19\n",
            "       Yes        7773  19.81\n",
            "N/A    No          260  74.29\n",
            "       Yes          90  25.71\n"
          ],
          "name": "stdout"
        }
      ]
    },
    {
      "cell_type": "markdown",
      "metadata": {
        "id": "ZBjC3W0WMnHk",
        "colab_type": "text"
      },
      "source": [
        "### Alcoholism"
      ]
    },
    {
      "cell_type": "code",
      "metadata": {
        "ExecuteTime": {
          "end_time": "2020-05-07T15:45:48.747654Z",
          "start_time": "2020-05-07T15:45:48.338868Z"
        },
        "id": "zDJwjOARMnHl",
        "colab_type": "code",
        "colab": {
          "base_uri": "https://localhost:8080/",
          "height": 754
        },
        "outputId": "87049e0c-81db-4b78-97d5-dc2c46ce44ea"
      },
      "source": [
        "cat_column_analysis (citas, \"alcoholism\")"
      ],
      "execution_count": 110,
      "outputs": [
        {
          "output_type": "stream",
          "text": [
            "No hay valores nulos.\n",
            "Ratio de valores:\n",
            "          alcoholism      %\n",
            "None          108516  96.82\n",
            "Low             1197   1.07\n",
            "High            1193   1.06\n",
            "Moderate        1172   1.05\n",
            "Distribución:\n"
          ],
          "name": "stdout"
        },
        {
          "output_type": "display_data",
          "data": {
            "text/plain": [
              "<matplotlib.axes._subplots.AxesSubplot at 0x7f90890ab470>"
            ]
          },
          "metadata": {
            "tags": []
          }
        },
        {
          "output_type": "display_data",
          "data": {
            "image/png": "[encoded data removed]",
            "text/plain": [
              "<Figure size 1152x432 with 1 Axes>"
            ]
          },
          "metadata": {
            "tags": [],
            "needs_background": "light"
          }
        },
        {
          "output_type": "stream",
          "text": [
            "\n",
            "\n",
            "Impacto de alcoholism en No-shows:\n",
            "                    alcoholism      %\n",
            "alcoholism no-show                   \n",
            "High       No              956  80.13\n",
            "           Yes             237  19.87\n",
            "Low        No              963  80.45\n",
            "           Yes             234  19.55\n",
            "Moderate   No              956  81.57\n",
            "           Yes             216  18.43\n",
            "None       No            86606  79.81\n",
            "           Yes           21910  20.19\n"
          ],
          "name": "stdout"
        }
      ]
    },
    {
      "cell_type": "markdown",
      "metadata": {
        "id": "QftbVJiNMnHp",
        "colab_type": "text"
      },
      "source": [
        "A pesar de lo que en un principio pensamos que podría ser un atributo categórico binario, haciendo una exploración vemos que es categórico ordinal. Podríamos transformarla a numérico. Para ello crearemos una lista con los valores ordenados:\n",
        "* 0 = None\n",
        "* 1 = Low\n",
        "* 2 = Moderate\n",
        "* 3 = High"
      ]
    },
    {
      "cell_type": "code",
      "metadata": {
        "ExecuteTime": {
          "end_time": "2020-05-07T15:45:49.549816Z",
          "start_time": "2020-05-07T15:45:49.476771Z"
        },
        "id": "lZm6yvg4MnHq",
        "colab_type": "code",
        "colab": {}
      },
      "source": [
        "order = [\"None\", \"Low\", \"Moderate\", \"High\"]\n",
        "citas['alcoholism'] = pd.to_numeric(cat_ord_to_num(citas, 'alcoholism', order))"
      ],
      "execution_count": 0,
      "outputs": []
    },
    {
      "cell_type": "code",
      "metadata": {
        "ExecuteTime": {
          "end_time": "2020-05-07T15:45:50.376527Z",
          "start_time": "2020-05-07T15:45:50.359983Z"
        },
        "id": "eLdv9bPSMnHt",
        "colab_type": "code",
        "colab": {
          "base_uri": "https://localhost:8080/",
          "height": 104
        },
        "outputId": "8081a240-9db9-45d7-ce45-faaf6c09d475"
      },
      "source": [
        "citas['alcoholism'].value_counts()"
      ],
      "execution_count": 112,
      "outputs": [
        {
          "output_type": "execute_result",
          "data": {
            "text/plain": [
              "0    108516\n",
              "1      1197\n",
              "3      1193\n",
              "2      1172\n",
              "Name: alcoholism, dtype: int64"
            ]
          },
          "metadata": {
            "tags": []
          },
          "execution_count": 112
        }
      ]
    },
    {
      "cell_type": "markdown",
      "metadata": {
        "id": "xqFqOnsfMnHw",
        "colab_type": "text"
      },
      "source": [
        "### Scolarship"
      ]
    },
    {
      "cell_type": "code",
      "metadata": {
        "ExecuteTime": {
          "end_time": "2020-05-07T15:45:51.395200Z",
          "start_time": "2020-05-07T15:45:51.076333Z"
        },
        "id": "x8AbVuKEMnHx",
        "colab_type": "code",
        "colab": {
          "base_uri": "https://localhost:8080/",
          "height": 650
        },
        "outputId": "80bb2fdf-01c3-487a-9777-456c0a986dc4"
      },
      "source": [
        "cat_column_analysis (citas,'scholarship')"
      ],
      "execution_count": 113,
      "outputs": [
        {
          "output_type": "stream",
          "text": [
            "No hay valores nulos.\n",
            "Ratio de valores:\n",
            "   scholarship     %\n",
            "0       101089  90.2\n",
            "1        10989   9.8\n",
            "Distribución:\n"
          ],
          "name": "stdout"
        },
        {
          "output_type": "display_data",
          "data": {
            "text/plain": [
              "<matplotlib.axes._subplots.AxesSubplot at 0x7f90899e1b38>"
            ]
          },
          "metadata": {
            "tags": []
          }
        },
        {
          "output_type": "display_data",
          "data": {
            "image/png": "[encoded data removed]",
            "text/plain": [
              "<Figure size 1152x432 with 1 Axes>"
            ]
          },
          "metadata": {
            "tags": [],
            "needs_background": "light"
          }
        },
        {
          "output_type": "stream",
          "text": [
            "\n",
            "\n",
            "Impacto de scholarship en No-shows:\n",
            "                     scholarship      %\n",
            "scholarship no-show                    \n",
            "0           No             81111  80.24\n",
            "            Yes            19978  19.76\n",
            "1           No              8370  76.17\n",
            "            Yes             2619  23.83\n"
          ],
          "name": "stdout"
        }
      ]
    },
    {
      "cell_type": "markdown",
      "metadata": {
        "id": "SjeB3VJFMnH0",
        "colab_type": "text"
      },
      "source": [
        "- Los pacientes que reciben una beca (apoyo social) tienen **No-show rates más altas** (24,33%) que los que no reciben ningún tipo de apoyo (19,56%)"
      ]
    },
    {
      "cell_type": "markdown",
      "metadata": {
        "id": "FVJhYH_XMnH1",
        "colab_type": "text"
      },
      "source": [
        "### Hipertension"
      ]
    },
    {
      "cell_type": "code",
      "metadata": {
        "ExecuteTime": {
          "end_time": "2020-05-07T15:45:52.496248Z",
          "start_time": "2020-05-07T15:45:52.227177Z"
        },
        "id": "gG3bUn9HMnH1",
        "colab_type": "code",
        "colab": {
          "base_uri": "https://localhost:8080/",
          "height": 650
        },
        "outputId": "5f6064c8-a0a5-4be8-cbc9-604509e808e8"
      },
      "source": [
        "cat_column_analysis (citas,'hipertension')"
      ],
      "execution_count": 114,
      "outputs": [
        {
          "output_type": "stream",
          "text": [
            "No hay valores nulos.\n",
            "Ratio de valores:\n",
            "   hipertension      %\n",
            "0         89869  80.18\n",
            "1         22209  19.82\n",
            "Distribución:\n"
          ],
          "name": "stdout"
        },
        {
          "output_type": "display_data",
          "data": {
            "text/plain": [
              "<matplotlib.axes._subplots.AxesSubplot at 0x7f9089b746d8>"
            ]
          },
          "metadata": {
            "tags": []
          }
        },
        {
          "output_type": "display_data",
          "data": {
            "image/png": "[encoded data removed]",
            "text/plain": [
              "<Figure size 1152x432 with 1 Axes>"
            ]
          },
          "metadata": {
            "tags": [],
            "needs_background": "light"
          }
        },
        {
          "output_type": "stream",
          "text": [
            "\n",
            "\n",
            "Impacto de hipertension en No-shows:\n",
            "                      hipertension      %\n",
            "hipertension no-show                     \n",
            "0            No              71103  79.12\n",
            "             Yes             18766  20.88\n",
            "1            No              18378  82.75\n",
            "             Yes              3831  17.25\n"
          ],
          "name": "stdout"
        }
      ]
    },
    {
      "cell_type": "markdown",
      "metadata": {
        "id": "bdH5sTLgMnH3",
        "colab_type": "text"
      },
      "source": [
        "- La gente con hipertension representa un 20% de la muestra con lo que la podemos considerar significativa\n",
        "- Podemos observar que la gente con hipertensión hace **menos No-shows que la gente sin**"
      ]
    },
    {
      "cell_type": "markdown",
      "metadata": {
        "id": "teoB4yuhMnH4",
        "colab_type": "text"
      },
      "source": [
        "### Diabetes"
      ]
    },
    {
      "cell_type": "code",
      "metadata": {
        "ExecuteTime": {
          "end_time": "2020-05-07T15:45:54.068120Z",
          "start_time": "2020-05-07T15:45:53.288737Z"
        },
        "id": "uRwMkDv-MnH4",
        "colab_type": "code",
        "colab": {
          "base_uri": "https://localhost:8080/",
          "height": 650
        },
        "outputId": "307b80f2-a233-476f-f90d-b26adcbd4d89"
      },
      "source": [
        "cat_column_analysis (citas,'diabetes')"
      ],
      "execution_count": 115,
      "outputs": [
        {
          "output_type": "stream",
          "text": [
            "No hay valores nulos.\n",
            "Ratio de valores:\n",
            "   diabetes      %\n",
            "0    104002  92.79\n",
            "1      8076   7.21\n",
            "Distribución:\n"
          ],
          "name": "stdout"
        },
        {
          "output_type": "display_data",
          "data": {
            "text/plain": [
              "<matplotlib.axes._subplots.AxesSubplot at 0x7f9089a00eb8>"
            ]
          },
          "metadata": {
            "tags": []
          }
        },
        {
          "output_type": "display_data",
          "data": {
            "image/png": "[encoded data removed]",
            "text/plain": [
              "<Figure size 1152x432 with 1 Axes>"
            ]
          },
          "metadata": {
            "tags": [],
            "needs_background": "light"
          }
        },
        {
          "output_type": "stream",
          "text": [
            "\n",
            "\n",
            "Impacto de diabetes en No-shows:\n",
            "                  diabetes      %\n",
            "diabetes no-show                 \n",
            "0        No          82850  79.66\n",
            "         Yes         21152  20.34\n",
            "1        No           6631  82.11\n",
            "         Yes          1445  17.89\n"
          ],
          "name": "stdout"
        }
      ]
    },
    {
      "cell_type": "markdown",
      "metadata": {
        "id": "0LQx5wNDMnH6",
        "colab_type": "text"
      },
      "source": [
        "- Hay un 7,21% de pacientes con diabetes, y son las que menos faltan (17.89%)"
      ]
    },
    {
      "cell_type": "markdown",
      "metadata": {
        "id": "37XVJSK3MnH7",
        "colab_type": "text"
      },
      "source": [
        "### Handcap"
      ]
    },
    {
      "cell_type": "code",
      "metadata": {
        "ExecuteTime": {
          "end_time": "2020-05-07T15:45:55.517805Z",
          "start_time": "2020-05-07T15:45:54.993682Z"
        },
        "id": "T0fhccm9MnH7",
        "colab_type": "code",
        "colab": {
          "base_uri": "https://localhost:8080/",
          "height": 805
        },
        "outputId": "aea7ed73-35ac-42d9-c450-acc227598f3a"
      },
      "source": [
        "cat_column_analysis (citas,'handcap')"
      ],
      "execution_count": 116,
      "outputs": [
        {
          "output_type": "stream",
          "text": [
            "No hay valores nulos.\n",
            "Ratio de valores:\n",
            "   handcap      %\n",
            "0   109764  97.94\n",
            "1     2109   1.88\n",
            "2      189   0.17\n",
            "3       13   0.01\n",
            "4        3   0.00\n",
            "Distribución:\n"
          ],
          "name": "stdout"
        },
        {
          "output_type": "display_data",
          "data": {
            "text/plain": [
              "<matplotlib.axes._subplots.AxesSubplot at 0x7f9089142da0>"
            ]
          },
          "metadata": {
            "tags": []
          }
        },
        {
          "output_type": "display_data",
          "data": {
            "image/png": "[encoded data removed]",
            "text/plain": [
              "<Figure size 1152x432 with 1 Axes>"
            ]
          },
          "metadata": {
            "tags": [],
            "needs_background": "light"
          }
        },
        {
          "output_type": "stream",
          "text": [
            "\n",
            "\n",
            "Impacto de handcap en No-shows:\n",
            "                 handcap      %\n",
            "handcap no-show                \n",
            "0       No         87582  79.79\n",
            "        Yes        22182  20.21\n",
            "1       No          1737  82.36\n",
            "        Yes          372  17.64\n",
            "2       No           150  79.37\n",
            "        Yes           39  20.63\n",
            "3       No            10  76.92\n",
            "        Yes            3  23.08\n",
            "4       No             2  66.67\n",
            "        Yes            1  33.33\n"
          ],
          "name": "stdout"
        }
      ]
    },
    {
      "cell_type": "markdown",
      "metadata": {
        "id": "nLoOx1e3MnH-",
        "colab_type": "text"
      },
      "source": [
        "De las categorias 2, 3 y 4 de Handcap no nos atreveriamos a decir nada ya que la muestra no es significativa. Por otro lado aunque la de Handcap 1 solo representa el ~2% vemos que puede ser significativo su impacto en los No-shows"
      ]
    },
    {
      "cell_type": "code",
      "metadata": {
        "ExecuteTime": {
          "end_time": "2020-05-07T15:45:56.952651Z",
          "start_time": "2020-05-07T15:45:56.945792Z"
        },
        "id": "BKJvmG3nMnH_",
        "colab_type": "code",
        "colab": {}
      },
      "source": [
        "def handcap_group(value):\n",
        "    if value > 0 :\n",
        "        return int(1)\n",
        "    else:\n",
        "        return int(0)"
      ],
      "execution_count": 0,
      "outputs": []
    },
    {
      "cell_type": "code",
      "metadata": {
        "ExecuteTime": {
          "end_time": "2020-05-07T15:45:58.013624Z",
          "start_time": "2020-05-07T15:45:57.912821Z"
        },
        "id": "dHt1sR2GMnID",
        "colab_type": "code",
        "colab": {}
      },
      "source": [
        "citas['handcapgroup'] = citas['handcap'].apply(handcap_group)"
      ],
      "execution_count": 0,
      "outputs": []
    },
    {
      "cell_type": "code",
      "metadata": {
        "ExecuteTime": {
          "end_time": "2020-05-07T15:45:59.232939Z",
          "start_time": "2020-05-07T15:45:58.801440Z"
        },
        "id": "dyaJuxaQMnIH",
        "colab_type": "code",
        "colab": {
          "base_uri": "https://localhost:8080/",
          "height": 650
        },
        "outputId": "636d56e4-cdff-46b2-b561-5d305c29b7e9"
      },
      "source": [
        "cat_column_analysis (citas,'handcapgroup')"
      ],
      "execution_count": 119,
      "outputs": [
        {
          "output_type": "stream",
          "text": [
            "No hay valores nulos.\n",
            "Ratio de valores:\n",
            "   handcapgroup      %\n",
            "0        109764  97.94\n",
            "1          2314   2.06\n",
            "Distribución:\n"
          ],
          "name": "stdout"
        },
        {
          "output_type": "display_data",
          "data": {
            "text/plain": [
              "<matplotlib.axes._subplots.AxesSubplot at 0x7f9089bcf6a0>"
            ]
          },
          "metadata": {
            "tags": []
          }
        },
        {
          "output_type": "display_data",
          "data": {
            "image/png": "[encoded data removed]",
            "text/plain": [
              "<Figure size 1152x432 with 1 Axes>"
            ]
          },
          "metadata": {
            "tags": [],
            "needs_background": "light"
          }
        },
        {
          "output_type": "stream",
          "text": [
            "\n",
            "\n",
            "Impacto de handcapgroup en No-shows:\n",
            "                      handcapgroup      %\n",
            "handcapgroup no-show                     \n",
            "0            No              87582  79.79\n",
            "             Yes             22182  20.21\n",
            "1            No               1899  82.07\n",
            "             Yes               415  17.93\n"
          ],
          "name": "stdout"
        }
      ]
    },
    {
      "cell_type": "markdown",
      "metadata": {
        "id": "bh-Z_2yDMnIK",
        "colab_type": "text"
      },
      "source": [
        "- El 97.94% de los pacientes no son discapacitados y **faltan más (20.21%)** que los que son"
      ]
    },
    {
      "cell_type": "markdown",
      "metadata": {
        "id": "_AkjsCliMnIL",
        "colab_type": "text"
      },
      "source": [
        "### Neighbourhood"
      ]
    },
    {
      "cell_type": "code",
      "metadata": {
        "ExecuteTime": {
          "end_time": "2020-05-07T15:45:59.990147Z",
          "start_time": "2020-05-07T15:45:59.972980Z"
        },
        "id": "FJcWqFQAMnIO",
        "colab_type": "code",
        "colab": {
          "base_uri": "https://localhost:8080/",
          "height": 35
        },
        "outputId": "6c37c6d2-995d-4b38-b7cc-d2cafd05ecc6"
      },
      "source": [
        "citas['neighbourhood'].nunique()"
      ],
      "execution_count": 120,
      "outputs": [
        {
          "output_type": "execute_result",
          "data": {
            "text/plain": [
              "81"
            ]
          },
          "metadata": {
            "tags": []
          },
          "execution_count": 120
        }
      ]
    },
    {
      "cell_type": "code",
      "metadata": {
        "ExecuteTime": {
          "end_time": "2020-05-07T15:46:00.893883Z",
          "start_time": "2020-05-07T15:46:00.864566Z"
        },
        "id": "x87_pNsYMnIR",
        "colab_type": "code",
        "colab": {
          "base_uri": "https://localhost:8080/",
          "height": 380
        },
        "outputId": "32787045-6207-4f78-c1a1-9dc19a7c938a"
      },
      "source": [
        "citas['neighbourhood'].value_counts().head(20)"
      ],
      "execution_count": 121,
      "outputs": [
        {
          "output_type": "execute_result",
          "data": {
            "text/plain": [
              "JARDIM CAMBURI       7784\n",
              "MARIA ORTIZ          5833\n",
              "RESISTÊNCIA          4469\n",
              "JARDIM DA PENHA      3922\n",
              "ITARARÉ              3545\n",
              "CENTRO               3369\n",
              "SANTA MARTHA         3174\n",
              "TABUAZEIRO           3156\n",
              "JESUS DE NAZARETH    2886\n",
              "BONFIM               2874\n",
              "SANTO ANTÔNIO        2798\n",
              "SANTO ANDRÉ          2618\n",
              "CARATOÍRA            2589\n",
              "JABOUR               2537\n",
              "SÃO PEDRO            2489\n",
              "ANDORINHAS           2339\n",
              "ILHA DO PRÍNCIPE     2311\n",
              "ROMÃO                2308\n",
              "NOVA PALESTINA       2307\n",
              "DA PENHA             2226\n",
              "Name: neighbourhood, dtype: int64"
            ]
          },
          "metadata": {
            "tags": []
          },
          "execution_count": 121
        }
      ]
    },
    {
      "cell_type": "code",
      "metadata": {
        "ExecuteTime": {
          "end_time": "2020-05-07T15:46:01.677621Z",
          "start_time": "2020-05-07T15:46:01.608632Z"
        },
        "id": "JLKa2zzvMnIU",
        "colab_type": "code",
        "colab": {}
      },
      "source": [
        "citas['neighbourhood'] = citas['neighbourhood'].str.title()"
      ],
      "execution_count": 0,
      "outputs": []
    },
    {
      "cell_type": "markdown",
      "metadata": {
        "ExecuteTime": {
          "end_time": "2020-04-27T10:14:57.003001Z",
          "start_time": "2020-04-27T10:14:56.968490Z"
        },
        "id": "qyTP05tqMnIW",
        "colab_type": "text"
      },
      "source": [
        "### Variables dummies y atributos numériocs"
      ]
    },
    {
      "cell_type": "markdown",
      "metadata": {
        "id": "M4iWwpyJMnIX",
        "colab_type": "text"
      },
      "source": [
        "Una vez realizado el análisis exploratorio vemos como aun tenemos algunas columnas que no son numéricas, así que decidimos convertirlas. Para ello crearemos una copia del dataset sobre el que realizaremos los cambios."
      ]
    },
    {
      "cell_type": "code",
      "metadata": {
        "ExecuteTime": {
          "end_time": "2020-05-07T15:46:02.838060Z",
          "start_time": "2020-05-07T15:46:02.810577Z"
        },
        "id": "xu6RmW5XMnIX",
        "colab_type": "code",
        "colab": {}
      },
      "source": [
        "categorical_cols = ['gender','neighbourhood','no-show', 'samedayflag']\n",
        "citas_dummies = citas.copy()"
      ],
      "execution_count": 0,
      "outputs": []
    },
    {
      "cell_type": "markdown",
      "metadata": {
        "id": "Mo4jUVdaMnIa",
        "colab_type": "text"
      },
      "source": [
        "Importamos la función <code>LabelEncoder</code> de <code>sklearn.preprocessing</code> para poder realizar esta codificación."
      ]
    },
    {
      "cell_type": "code",
      "metadata": {
        "ExecuteTime": {
          "end_time": "2020-05-07T15:46:04.143697Z",
          "start_time": "2020-05-07T15:46:03.940217Z"
        },
        "id": "eYw5WdVtMnIa",
        "colab_type": "code",
        "colab": {
          "base_uri": "https://localhost:8080/",
          "height": 322
        },
        "outputId": "eb5b3e7c-055c-4bcd-bc27-f0bf7c5a5fba"
      },
      "source": [
        "# iniciamos el objeto\n",
        "le = LabelEncoder()\n",
        "\n",
        "# y lo aplicamos al listado de columnas que se definieron antes\n",
        "citas_dummies[categorical_cols] = citas_dummies[categorical_cols].apply(lambda col: le.fit_transform(col))\n",
        "\n",
        "citas_dummies.head()"
      ],
      "execution_count": 124,
      "outputs": [
        {
          "output_type": "execute_result",
          "data": {
            "text/html": [
              "<div>\n",
              "<style scoped>\n",
              "    .dataframe tbody tr th:only-of-type {\n",
              "        vertical-align: middle;\n",
              "    }\n",
              "\n",
              "    .dataframe tbody tr th {\n",
              "        vertical-align: top;\n",
              "    }\n",
              "\n",
              "    .dataframe thead th {\n",
              "        text-align: right;\n",
              "    }\n",
              "</style>\n",
              "<table border=\"1\" class=\"dataframe\">\n",
              "  <thead>\n",
              "    <tr style=\"text-align: right;\">\n",
              "      <th></th>\n",
              "      <th>unnamed: 0</th>\n",
              "      <th>patientid</th>\n",
              "      <th>appointmentid</th>\n",
              "      <th>gender</th>\n",
              "      <th>scheduledday</th>\n",
              "      <th>appointmentday</th>\n",
              "      <th>age</th>\n",
              "      <th>neighbourhood</th>\n",
              "      <th>scholarship</th>\n",
              "      <th>hipertension</th>\n",
              "      <th>diabetes</th>\n",
              "      <th>alcoholism</th>\n",
              "      <th>handcap</th>\n",
              "      <th>sms_received</th>\n",
              "      <th>no-show</th>\n",
              "      <th>scheduleddate</th>\n",
              "      <th>scheduledweekday</th>\n",
              "      <th>scheduledhour</th>\n",
              "      <th>appointmentdate</th>\n",
              "      <th>appointmentweekday</th>\n",
              "      <th>appointmenthour</th>\n",
              "      <th>samedayflag</th>\n",
              "      <th>days_to_appointment</th>\n",
              "      <th>schedulehourgroup</th>\n",
              "      <th>new_age</th>\n",
              "      <th>handcapgroup</th>\n",
              "    </tr>\n",
              "  </thead>\n",
              "  <tbody>\n",
              "    <tr>\n",
              "      <th>0</th>\n",
              "      <td>0</td>\n",
              "      <td>2.987250e+13</td>\n",
              "      <td>5642903</td>\n",
              "      <td>0</td>\n",
              "      <td>2016-04-29 18:38:08</td>\n",
              "      <td>2016-04-29</td>\n",
              "      <td>62</td>\n",
              "      <td>39</td>\n",
              "      <td>0</td>\n",
              "      <td>1</td>\n",
              "      <td>0</td>\n",
              "      <td>0</td>\n",
              "      <td>0</td>\n",
              "      <td>0</td>\n",
              "      <td>0</td>\n",
              "      <td>2016-04-29</td>\n",
              "      <td>4</td>\n",
              "      <td>18</td>\n",
              "      <td>2016-04-29</td>\n",
              "      <td>4</td>\n",
              "      <td>0</td>\n",
              "      <td>1</td>\n",
              "      <td>0</td>\n",
              "      <td>1</td>\n",
              "      <td>62.0</td>\n",
              "      <td>0</td>\n",
              "    </tr>\n",
              "    <tr>\n",
              "      <th>1</th>\n",
              "      <td>1</td>\n",
              "      <td>5.589978e+14</td>\n",
              "      <td>5642503</td>\n",
              "      <td>1</td>\n",
              "      <td>2016-04-29 16:08:27</td>\n",
              "      <td>2016-04-29</td>\n",
              "      <td>56</td>\n",
              "      <td>39</td>\n",
              "      <td>0</td>\n",
              "      <td>0</td>\n",
              "      <td>0</td>\n",
              "      <td>0</td>\n",
              "      <td>0</td>\n",
              "      <td>0</td>\n",
              "      <td>0</td>\n",
              "      <td>2016-04-29</td>\n",
              "      <td>4</td>\n",
              "      <td>16</td>\n",
              "      <td>2016-04-29</td>\n",
              "      <td>4</td>\n",
              "      <td>0</td>\n",
              "      <td>1</td>\n",
              "      <td>0</td>\n",
              "      <td>1</td>\n",
              "      <td>56.0</td>\n",
              "      <td>0</td>\n",
              "    </tr>\n",
              "    <tr>\n",
              "      <th>2</th>\n",
              "      <td>2</td>\n",
              "      <td>4.262962e+12</td>\n",
              "      <td>5642549</td>\n",
              "      <td>0</td>\n",
              "      <td>2016-04-29 16:19:04</td>\n",
              "      <td>2016-04-29</td>\n",
              "      <td>62</td>\n",
              "      <td>45</td>\n",
              "      <td>0</td>\n",
              "      <td>0</td>\n",
              "      <td>0</td>\n",
              "      <td>0</td>\n",
              "      <td>0</td>\n",
              "      <td>0</td>\n",
              "      <td>0</td>\n",
              "      <td>2016-04-29</td>\n",
              "      <td>4</td>\n",
              "      <td>16</td>\n",
              "      <td>2016-04-29</td>\n",
              "      <td>4</td>\n",
              "      <td>0</td>\n",
              "      <td>1</td>\n",
              "      <td>0</td>\n",
              "      <td>1</td>\n",
              "      <td>62.0</td>\n",
              "      <td>0</td>\n",
              "    </tr>\n",
              "    <tr>\n",
              "      <th>3</th>\n",
              "      <td>3</td>\n",
              "      <td>8.679512e+11</td>\n",
              "      <td>5642828</td>\n",
              "      <td>0</td>\n",
              "      <td>2016-04-29 17:29:31</td>\n",
              "      <td>2016-04-29</td>\n",
              "      <td>8</td>\n",
              "      <td>54</td>\n",
              "      <td>0</td>\n",
              "      <td>0</td>\n",
              "      <td>0</td>\n",
              "      <td>0</td>\n",
              "      <td>0</td>\n",
              "      <td>0</td>\n",
              "      <td>0</td>\n",
              "      <td>2016-04-29</td>\n",
              "      <td>4</td>\n",
              "      <td>17</td>\n",
              "      <td>2016-04-29</td>\n",
              "      <td>4</td>\n",
              "      <td>0</td>\n",
              "      <td>1</td>\n",
              "      <td>0</td>\n",
              "      <td>1</td>\n",
              "      <td>8.0</td>\n",
              "      <td>0</td>\n",
              "    </tr>\n",
              "    <tr>\n",
              "      <th>4</th>\n",
              "      <td>4</td>\n",
              "      <td>8.841186e+12</td>\n",
              "      <td>5642494</td>\n",
              "      <td>0</td>\n",
              "      <td>2016-04-29 16:07:23</td>\n",
              "      <td>2016-04-29</td>\n",
              "      <td>56</td>\n",
              "      <td>39</td>\n",
              "      <td>0</td>\n",
              "      <td>1</td>\n",
              "      <td>1</td>\n",
              "      <td>0</td>\n",
              "      <td>0</td>\n",
              "      <td>0</td>\n",
              "      <td>0</td>\n",
              "      <td>2016-04-29</td>\n",
              "      <td>4</td>\n",
              "      <td>16</td>\n",
              "      <td>2016-04-29</td>\n",
              "      <td>4</td>\n",
              "      <td>0</td>\n",
              "      <td>1</td>\n",
              "      <td>0</td>\n",
              "      <td>1</td>\n",
              "      <td>56.0</td>\n",
              "      <td>0</td>\n",
              "    </tr>\n",
              "  </tbody>\n",
              "</table>\n",
              "</div>"
            ],
            "text/plain": [
              "   unnamed: 0     patientid  ...  new_age  handcapgroup\n",
              "0           0  2.987250e+13  ...     62.0             0\n",
              "1           1  5.589978e+14  ...     56.0             0\n",
              "2           2  4.262962e+12  ...     62.0             0\n",
              "3           3  8.679512e+11  ...      8.0             0\n",
              "4           4  8.841186e+12  ...     56.0             0\n",
              "\n",
              "[5 rows x 26 columns]"
            ]
          },
          "metadata": {
            "tags": []
          },
          "execution_count": 124
        }
      ]
    },
    {
      "cell_type": "markdown",
      "metadata": {
        "id": "82NiuHkpMnIf",
        "colab_type": "text"
      },
      "source": [
        "Procedemos a ordenar las columnas con las modificaciones realizadas."
      ]
    },
    {
      "cell_type": "code",
      "metadata": {
        "ExecuteTime": {
          "end_time": "2020-05-07T15:46:05.351277Z",
          "start_time": "2020-05-07T15:46:05.194886Z"
        },
        "id": "pLPANuQVMnIf",
        "colab_type": "code",
        "colab": {}
      },
      "source": [
        "citas_dummies = citas_dummies[['unnamed: 0', 'patientid', 'appointmentid', 'gender', 'scheduledday',\n",
        "       'appointmentday', 'age', 'neighbourhood', 'scholarship', 'hipertension',\n",
        "       'diabetes', 'alcoholism', 'handcap', 'sms_received',\n",
        "       'scheduleddate', 'scheduledweekday', 'scheduledhour', 'appointmentdate',\n",
        "       'appointmentweekday', 'appointmenthour', 'samedayflag',\n",
        "       'schedulehourgroup', 'new_age', 'handcapgroup', 'days_to_appointment','no-show']]"
      ],
      "execution_count": 0,
      "outputs": []
    },
    {
      "cell_type": "code",
      "metadata": {
        "ExecuteTime": {
          "end_time": "2020-05-07T15:46:06.330461Z",
          "start_time": "2020-05-07T15:46:06.322449Z"
        },
        "id": "1O8Ou2u9MnIi",
        "colab_type": "code",
        "colab": {
          "base_uri": "https://localhost:8080/",
          "height": 484
        },
        "outputId": "cd97d59c-ee96-4230-acc0-c3bf04858059"
      },
      "source": [
        "citas_dummies.dtypes"
      ],
      "execution_count": 126,
      "outputs": [
        {
          "output_type": "execute_result",
          "data": {
            "text/plain": [
              "unnamed: 0                      int64\n",
              "patientid                     float64\n",
              "appointmentid                   int64\n",
              "gender                          int64\n",
              "scheduledday           datetime64[ns]\n",
              "appointmentday         datetime64[ns]\n",
              "age                             int64\n",
              "neighbourhood                   int64\n",
              "scholarship                     int64\n",
              "hipertension                    int64\n",
              "diabetes                        int64\n",
              "alcoholism                      int64\n",
              "handcap                         int64\n",
              "sms_received                    int64\n",
              "scheduleddate          datetime64[ns]\n",
              "scheduledweekday                int64\n",
              "scheduledhour                   int64\n",
              "appointmentdate        datetime64[ns]\n",
              "appointmentweekday              int64\n",
              "appointmenthour                 int64\n",
              "samedayflag                     int64\n",
              "schedulehourgroup               int64\n",
              "new_age                       float64\n",
              "handcapgroup                    int64\n",
              "days_to_appointment             int64\n",
              "no-show                         int64\n",
              "dtype: object"
            ]
          },
          "metadata": {
            "tags": []
          },
          "execution_count": 126
        }
      ]
    },
    {
      "cell_type": "markdown",
      "metadata": {
        "id": "7KNoSCTYMnIn",
        "colab_type": "text"
      },
      "source": [
        "**texto en negrita**## Unbalanced problems"
      ]
    },
    {
      "cell_type": "markdown",
      "metadata": {
        "id": "y24e9YBiMnIn",
        "colab_type": "text"
      },
      "source": [
        "Tenemos un total de 25 columnas, de las cuales procedemos a eliminar las que no apartan información significativa como son **unnamed: 0, patientid y appointmentid**. También eliminaremos **age, y handcap**, dado que esa información la tenemos repetida en new_age y handcapgroup. \n",
        "\n",
        "Eliminamos también las columnas de fechas que nos generarían overfitting en el modelo: **'scheduledday', scheduleddate,'appointmentday' y 'appointmentdate'**."
      ]
    },
    {
      "cell_type": "code",
      "metadata": {
        "ExecuteTime": {
          "end_time": "2020-05-07T15:49:33.104600Z",
          "start_time": "2020-05-07T15:49:33.058267Z"
        },
        "id": "A75o8ZYWMnIo",
        "colab_type": "code",
        "colab": {}
      },
      "source": [
        "citas_reduction = citas_dummies[['gender', 'neighbourhood', 'scholarship', 'hipertension',\n",
        "       'diabetes', 'alcoholism','sms_received','scheduledweekday', 'scheduledhour',\n",
        "       'appointmentweekday', 'appointmenthour', 'samedayflag',\n",
        "       'schedulehourgroup', 'new_age', 'handcapgroup', 'days_to_appointment','no-show']]"
      ],
      "execution_count": 0,
      "outputs": []
    },
    {
      "cell_type": "markdown",
      "metadata": {
        "id": "x0Yrz2LS6_D8",
        "colab_type": "text"
      },
      "source": [
        "Separación 80-20, 80 para entrenar el modelo y 20 para pasar luego."
      ]
    },
    {
      "cell_type": "code",
      "metadata": {
        "id": "3xoSsrp76ucZ",
        "colab_type": "code",
        "colab": {}
      },
      "source": [
        "X = citas_reduction.drop(['no-show'], axis = 1)\n",
        "y = citas_reduction['no-show']\n",
        "    \n",
        "X_train, X_test, y_train, y_test = train_test_split(X, y, stratify=y, random_state=42)"
      ],
      "execution_count": 0,
      "outputs": []
    },
    {
      "cell_type": "code",
      "metadata": {
        "id": "eebtIyMD_SB3",
        "colab_type": "code",
        "colab": {}
      },
      "source": [
        "production = pd.merge(X_test, y_test, on = X_test.index)\n",
        "\n",
        "production.to_csv('../data/production.csv')"
      ],
      "execution_count": 0,
      "outputs": []
    },
    {
      "cell_type": "code",
      "metadata": {
        "id": "YXQ6a1Iz7qa4",
        "colab_type": "code",
        "colab": {}
      },
      "source": [
        "citas_dummies_reduction = pd.merge(X_train, y_train, on = X_train.index)"
      ],
      "execution_count": 0,
      "outputs": []
    },
    {
      "cell_type": "code",
      "metadata": {
        "ExecuteTime": {
          "end_time": "2020-05-07T15:49:34.351523Z",
          "start_time": "2020-05-07T15:49:34.343016Z"
        },
        "id": "UN-u6GbNMnIq",
        "colab_type": "code",
        "colab": {}
      },
      "source": [
        "def under_sampling_nr (df, col_dep):\n",
        "    \n",
        "    \"\"\"\n",
        "    Devuelve el df reducido con NearMiss\n",
        "    Input:\n",
        "    *df\n",
        "    *col_dep: variable dependiente\n",
        "    \n",
        "    \"\"\"\n",
        "    \n",
        "    X = df.drop(col_dep, axis = 1)\n",
        "    y = df[col_dep]\n",
        "    \n",
        "    X_train, X_test, y_train, y_test = train_test_split(X, y, stratify=y, random_state=42)\n",
        "    \n",
        "    nr = NearMiss(version = 3)\n",
        "    nr = NearMiss()\n",
        "    X_res, y_res = nr.fit_sample(X_train, y_train)\n",
        "    \n",
        "    df_temp = pd.DataFrame(X_res, columns = df.columns[:-1])\n",
        "    df_temp[col_dep] = y_res\n",
        "    \n",
        "    return df_temp"
      ],
      "execution_count": 0,
      "outputs": []
    },
    {
      "cell_type": "code",
      "metadata": {
        "ExecuteTime": {
          "end_time": "2020-05-07T19:03:39.072033Z",
          "start_time": "2020-05-07T19:03:36.551270Z"
        },
        "id": "ftsDvUOjMnIt",
        "colab_type": "code",
        "colab": {}
      },
      "source": [
        "citas_dummies_reduction = under_sampling_nr (citas_dummies_reduction, \"no-show\")"
      ],
      "execution_count": 0,
      "outputs": []
    },
    {
      "cell_type": "code",
      "metadata": {
        "ExecuteTime": {
          "end_time": "2020-05-07T19:03:41.623445Z",
          "start_time": "2020-05-07T19:03:39.543599Z"
        },
        "id": "KeEUh2D5MnIv",
        "colab_type": "code",
        "colab": {},
        "outputId": "5bc441f9-9abe-4c10-ea95-d498651447c7"
      },
      "source": [
        "describe_df (citas_dummies_reduction)"
      ],
      "execution_count": 0,
      "outputs": [
        {
          "output_type": "stream",
          "text": [
            "Hay un total de 33896 filas y 17 columnas.\n",
            "None\n"
          ],
          "name": "stdout"
        },
        {
          "output_type": "execute_result",
          "data": {
            "text/html": [
              "<div>\n",
              "<style scoped>\n",
              "    .dataframe tbody tr th:only-of-type {\n",
              "        vertical-align: middle;\n",
              "    }\n",
              "\n",
              "    .dataframe tbody tr th {\n",
              "        vertical-align: top;\n",
              "    }\n",
              "\n",
              "    .dataframe thead th {\n",
              "        text-align: right;\n",
              "    }\n",
              "</style>\n",
              "<table border=\"1\" class=\"dataframe\">\n",
              "  <thead>\n",
              "    <tr style=\"text-align: right;\">\n",
              "      <th></th>\n",
              "      <th>type</th>\n",
              "      <th>nan</th>\n",
              "      <th>nan_ratio_col</th>\n",
              "      <th>nan_ratio_total</th>\n",
              "      <th>unique_values</th>\n",
              "      <th>mean</th>\n",
              "      <th>std</th>\n",
              "      <th>min</th>\n",
              "      <th>25%</th>\n",
              "      <th>50%</th>\n",
              "      <th>75%</th>\n",
              "      <th>max</th>\n",
              "    </tr>\n",
              "  </thead>\n",
              "  <tbody>\n",
              "    <tr>\n",
              "      <th>gender</th>\n",
              "      <td>int64</td>\n",
              "      <td>0</td>\n",
              "      <td>0.0</td>\n",
              "      <td>0.0</td>\n",
              "      <td>3</td>\n",
              "      <td>0.353228</td>\n",
              "      <td>0.483137</td>\n",
              "      <td>0.0</td>\n",
              "      <td>0.0</td>\n",
              "      <td>0.0</td>\n",
              "      <td>1.0</td>\n",
              "      <td>2.0</td>\n",
              "    </tr>\n",
              "    <tr>\n",
              "      <th>neighbourhood</th>\n",
              "      <td>int64</td>\n",
              "      <td>0</td>\n",
              "      <td>0.0</td>\n",
              "      <td>0.0</td>\n",
              "      <td>79</td>\n",
              "      <td>42.027024</td>\n",
              "      <td>21.793581</td>\n",
              "      <td>1.0</td>\n",
              "      <td>28.0</td>\n",
              "      <td>39.0</td>\n",
              "      <td>60.0</td>\n",
              "      <td>80.0</td>\n",
              "    </tr>\n",
              "    <tr>\n",
              "      <th>scholarship</th>\n",
              "      <td>int64</td>\n",
              "      <td>0</td>\n",
              "      <td>0.0</td>\n",
              "      <td>0.0</td>\n",
              "      <td>2</td>\n",
              "      <td>0.095941</td>\n",
              "      <td>0.294514</td>\n",
              "      <td>0.0</td>\n",
              "      <td>0.0</td>\n",
              "      <td>0.0</td>\n",
              "      <td>0.0</td>\n",
              "      <td>1.0</td>\n",
              "    </tr>\n",
              "    <tr>\n",
              "      <th>hipertension</th>\n",
              "      <td>int64</td>\n",
              "      <td>0</td>\n",
              "      <td>0.0</td>\n",
              "      <td>0.0</td>\n",
              "      <td>2</td>\n",
              "      <td>0.138010</td>\n",
              "      <td>0.344916</td>\n",
              "      <td>0.0</td>\n",
              "      <td>0.0</td>\n",
              "      <td>0.0</td>\n",
              "      <td>0.0</td>\n",
              "      <td>1.0</td>\n",
              "    </tr>\n",
              "    <tr>\n",
              "      <th>diabetes</th>\n",
              "      <td>int64</td>\n",
              "      <td>0</td>\n",
              "      <td>0.0</td>\n",
              "      <td>0.0</td>\n",
              "      <td>2</td>\n",
              "      <td>0.049829</td>\n",
              "      <td>0.217595</td>\n",
              "      <td>0.0</td>\n",
              "      <td>0.0</td>\n",
              "      <td>0.0</td>\n",
              "      <td>0.0</td>\n",
              "      <td>1.0</td>\n",
              "    </tr>\n",
              "    <tr>\n",
              "      <th>alcoholism</th>\n",
              "      <td>int64</td>\n",
              "      <td>0</td>\n",
              "      <td>0.0</td>\n",
              "      <td>0.0</td>\n",
              "      <td>4</td>\n",
              "      <td>0.031508</td>\n",
              "      <td>0.265893</td>\n",
              "      <td>0.0</td>\n",
              "      <td>0.0</td>\n",
              "      <td>0.0</td>\n",
              "      <td>0.0</td>\n",
              "      <td>3.0</td>\n",
              "    </tr>\n",
              "    <tr>\n",
              "      <th>sms_received</th>\n",
              "      <td>int64</td>\n",
              "      <td>0</td>\n",
              "      <td>0.0</td>\n",
              "      <td>0.0</td>\n",
              "      <td>2</td>\n",
              "      <td>0.329803</td>\n",
              "      <td>0.470148</td>\n",
              "      <td>0.0</td>\n",
              "      <td>0.0</td>\n",
              "      <td>0.0</td>\n",
              "      <td>1.0</td>\n",
              "      <td>1.0</td>\n",
              "    </tr>\n",
              "    <tr>\n",
              "      <th>scheduledweekday</th>\n",
              "      <td>int64</td>\n",
              "      <td>0</td>\n",
              "      <td>0.0</td>\n",
              "      <td>0.0</td>\n",
              "      <td>6</td>\n",
              "      <td>1.812928</td>\n",
              "      <td>1.320627</td>\n",
              "      <td>0.0</td>\n",
              "      <td>1.0</td>\n",
              "      <td>2.0</td>\n",
              "      <td>3.0</td>\n",
              "      <td>5.0</td>\n",
              "    </tr>\n",
              "    <tr>\n",
              "      <th>scheduledhour</th>\n",
              "      <td>int64</td>\n",
              "      <td>0</td>\n",
              "      <td>0.0</td>\n",
              "      <td>0.0</td>\n",
              "      <td>16</td>\n",
              "      <td>10.574257</td>\n",
              "      <td>3.143080</td>\n",
              "      <td>6.0</td>\n",
              "      <td>8.0</td>\n",
              "      <td>10.0</td>\n",
              "      <td>13.0</td>\n",
              "      <td>21.0</td>\n",
              "    </tr>\n",
              "    <tr>\n",
              "      <th>appointmentweekday</th>\n",
              "      <td>int64</td>\n",
              "      <td>0</td>\n",
              "      <td>0.0</td>\n",
              "      <td>0.0</td>\n",
              "      <td>6</td>\n",
              "      <td>1.823608</td>\n",
              "      <td>1.311431</td>\n",
              "      <td>0.0</td>\n",
              "      <td>1.0</td>\n",
              "      <td>2.0</td>\n",
              "      <td>3.0</td>\n",
              "      <td>5.0</td>\n",
              "    </tr>\n",
              "    <tr>\n",
              "      <th>appointmenthour</th>\n",
              "      <td>int64</td>\n",
              "      <td>0</td>\n",
              "      <td>0.0</td>\n",
              "      <td>0.0</td>\n",
              "      <td>1</td>\n",
              "      <td>0.000000</td>\n",
              "      <td>0.000000</td>\n",
              "      <td>0.0</td>\n",
              "      <td>0.0</td>\n",
              "      <td>0.0</td>\n",
              "      <td>0.0</td>\n",
              "      <td>0.0</td>\n",
              "    </tr>\n",
              "    <tr>\n",
              "      <th>samedayflag</th>\n",
              "      <td>int64</td>\n",
              "      <td>0</td>\n",
              "      <td>0.0</td>\n",
              "      <td>0.0</td>\n",
              "      <td>2</td>\n",
              "      <td>0.413943</td>\n",
              "      <td>0.492546</td>\n",
              "      <td>0.0</td>\n",
              "      <td>0.0</td>\n",
              "      <td>0.0</td>\n",
              "      <td>1.0</td>\n",
              "      <td>1.0</td>\n",
              "    </tr>\n",
              "    <tr>\n",
              "      <th>schedulehourgroup</th>\n",
              "      <td>int64</td>\n",
              "      <td>0</td>\n",
              "      <td>0.0</td>\n",
              "      <td>0.0</td>\n",
              "      <td>2</td>\n",
              "      <td>0.348596</td>\n",
              "      <td>0.476533</td>\n",
              "      <td>0.0</td>\n",
              "      <td>0.0</td>\n",
              "      <td>0.0</td>\n",
              "      <td>1.0</td>\n",
              "      <td>1.0</td>\n",
              "    </tr>\n",
              "    <tr>\n",
              "      <th>new_age</th>\n",
              "      <td>float64</td>\n",
              "      <td>0</td>\n",
              "      <td>0.0</td>\n",
              "      <td>0.0</td>\n",
              "      <td>108</td>\n",
              "      <td>32.207606</td>\n",
              "      <td>21.590242</td>\n",
              "      <td>0.0</td>\n",
              "      <td>14.0</td>\n",
              "      <td>30.0</td>\n",
              "      <td>50.0</td>\n",
              "      <td>109.0</td>\n",
              "    </tr>\n",
              "    <tr>\n",
              "      <th>handcapgroup</th>\n",
              "      <td>int64</td>\n",
              "      <td>0</td>\n",
              "      <td>0.0</td>\n",
              "      <td>0.0</td>\n",
              "      <td>2</td>\n",
              "      <td>0.014958</td>\n",
              "      <td>0.121385</td>\n",
              "      <td>0.0</td>\n",
              "      <td>0.0</td>\n",
              "      <td>0.0</td>\n",
              "      <td>0.0</td>\n",
              "      <td>1.0</td>\n",
              "    </tr>\n",
              "    <tr>\n",
              "      <th>days_to_appointment</th>\n",
              "      <td>int64</td>\n",
              "      <td>0</td>\n",
              "      <td>0.0</td>\n",
              "      <td>0.0</td>\n",
              "      <td>105</td>\n",
              "      <td>10.131726</td>\n",
              "      <td>14.287843</td>\n",
              "      <td>0.0</td>\n",
              "      <td>0.0</td>\n",
              "      <td>4.0</td>\n",
              "      <td>14.0</td>\n",
              "      <td>179.0</td>\n",
              "    </tr>\n",
              "    <tr>\n",
              "      <th>no-show</th>\n",
              "      <td>int64</td>\n",
              "      <td>0</td>\n",
              "      <td>0.0</td>\n",
              "      <td>0.0</td>\n",
              "      <td>2</td>\n",
              "      <td>0.500000</td>\n",
              "      <td>0.500007</td>\n",
              "      <td>0.0</td>\n",
              "      <td>0.0</td>\n",
              "      <td>0.5</td>\n",
              "      <td>1.0</td>\n",
              "      <td>1.0</td>\n",
              "    </tr>\n",
              "  </tbody>\n",
              "</table>\n",
              "</div>"
            ],
            "text/plain": [
              "                        type  nan  nan_ratio_col  nan_ratio_total  \\\n",
              "gender                 int64    0            0.0              0.0   \n",
              "neighbourhood          int64    0            0.0              0.0   \n",
              "scholarship            int64    0            0.0              0.0   \n",
              "hipertension           int64    0            0.0              0.0   \n",
              "diabetes               int64    0            0.0              0.0   \n",
              "alcoholism             int64    0            0.0              0.0   \n",
              "sms_received           int64    0            0.0              0.0   \n",
              "scheduledweekday       int64    0            0.0              0.0   \n",
              "scheduledhour          int64    0            0.0              0.0   \n",
              "appointmentweekday     int64    0            0.0              0.0   \n",
              "appointmenthour        int64    0            0.0              0.0   \n",
              "samedayflag            int64    0            0.0              0.0   \n",
              "schedulehourgroup      int64    0            0.0              0.0   \n",
              "new_age              float64    0            0.0              0.0   \n",
              "handcapgroup           int64    0            0.0              0.0   \n",
              "days_to_appointment    int64    0            0.0              0.0   \n",
              "no-show                int64    0            0.0              0.0   \n",
              "\n",
              "                     unique_values       mean        std  min   25%   50%  \\\n",
              "gender                           3   0.353228   0.483137  0.0   0.0   0.0   \n",
              "neighbourhood                   79  42.027024  21.793581  1.0  28.0  39.0   \n",
              "scholarship                      2   0.095941   0.294514  0.0   0.0   0.0   \n",
              "hipertension                     2   0.138010   0.344916  0.0   0.0   0.0   \n",
              "diabetes                         2   0.049829   0.217595  0.0   0.0   0.0   \n",
              "alcoholism                       4   0.031508   0.265893  0.0   0.0   0.0   \n",
              "sms_received                     2   0.329803   0.470148  0.0   0.0   0.0   \n",
              "scheduledweekday                 6   1.812928   1.320627  0.0   1.0   2.0   \n",
              "scheduledhour                   16  10.574257   3.143080  6.0   8.0  10.0   \n",
              "appointmentweekday               6   1.823608   1.311431  0.0   1.0   2.0   \n",
              "appointmenthour                  1   0.000000   0.000000  0.0   0.0   0.0   \n",
              "samedayflag                      2   0.413943   0.492546  0.0   0.0   0.0   \n",
              "schedulehourgroup                2   0.348596   0.476533  0.0   0.0   0.0   \n",
              "new_age                        108  32.207606  21.590242  0.0  14.0  30.0   \n",
              "handcapgroup                     2   0.014958   0.121385  0.0   0.0   0.0   \n",
              "days_to_appointment            105  10.131726  14.287843  0.0   0.0   4.0   \n",
              "no-show                          2   0.500000   0.500007  0.0   0.0   0.5   \n",
              "\n",
              "                      75%    max  \n",
              "gender                1.0    2.0  \n",
              "neighbourhood        60.0   80.0  \n",
              "scholarship           0.0    1.0  \n",
              "hipertension          0.0    1.0  \n",
              "diabetes              0.0    1.0  \n",
              "alcoholism            0.0    3.0  \n",
              "sms_received          1.0    1.0  \n",
              "scheduledweekday      3.0    5.0  \n",
              "scheduledhour        13.0   21.0  \n",
              "appointmentweekday    3.0    5.0  \n",
              "appointmenthour       0.0    0.0  \n",
              "samedayflag           1.0    1.0  \n",
              "schedulehourgroup     1.0    1.0  \n",
              "new_age              50.0  109.0  \n",
              "handcapgroup          0.0    1.0  \n",
              "days_to_appointment  14.0  179.0  \n",
              "no-show               1.0    1.0  "
            ]
          },
          "metadata": {
            "tags": []
          },
          "execution_count": 85
        },
        {
          "output_type": "display_data",
          "data": {
            "image/png": "[encoded data removed]",
            "text/plain": [
              "<Figure size 1152x576 with 2 Axes>"
            ]
          },
          "metadata": {
            "tags": []
          }
        }
      ]
    },
    {
      "cell_type": "code",
      "metadata": {
        "ExecuteTime": {
          "end_time": "2020-05-07T19:03:42.243218Z",
          "start_time": "2020-05-07T19:03:42.230348Z"
        },
        "id": "ebnB4HNTMnIy",
        "colab_type": "code",
        "colab": {},
        "outputId": "1d288f02-112e-4ebc-8f37-d6f215727f9d"
      },
      "source": [
        "citas_dummies_reduction['no-show']"
      ],
      "execution_count": 0,
      "outputs": [
        {
          "output_type": "execute_result",
          "data": {
            "text/plain": [
              "0        0\n",
              "1        0\n",
              "2        0\n",
              "3        0\n",
              "4        0\n",
              "        ..\n",
              "33891    1\n",
              "33892    1\n",
              "33893    1\n",
              "33894    1\n",
              "33895    1\n",
              "Name: no-show, Length: 33896, dtype: int64"
            ]
          },
          "metadata": {
            "tags": []
          },
          "execution_count": 86
        }
      ]
    },
    {
      "cell_type": "markdown",
      "metadata": {
        "id": "-Z9Ae0ZzMnI0",
        "colab_type": "text"
      },
      "source": [
        "## Reducción de la dimensionalidad"
      ]
    },
    {
      "cell_type": "code",
      "metadata": {
        "ExecuteTime": {
          "end_time": "2020-05-07T19:06:03.624562Z",
          "start_time": "2020-05-07T19:06:03.574447Z"
        },
        "id": "WAzkEunKMnI0",
        "colab_type": "code",
        "colab": {},
        "outputId": "29458f06-6368-4770-dd41-21e9f8ad5705"
      },
      "source": [
        "print(f'En el data set citas_dummies_reduction hay un total de {citas_dummies_reduction.shape[0]} filas y {citas_dummies_reduction.shape[1]} columnas.')"
      ],
      "execution_count": 0,
      "outputs": [
        {
          "output_type": "stream",
          "text": [
            "En el data set citas_dummies_reduction hay un total de 33896 filas y 17 columnas.\n"
          ],
          "name": "stdout"
        }
      ]
    },
    {
      "cell_type": "markdown",
      "metadata": {
        "id": "uewFVgMRMnI3",
        "colab_type": "text"
      },
      "source": [
        "### Heatmap y correlaciones"
      ]
    },
    {
      "cell_type": "code",
      "metadata": {
        "ExecuteTime": {
          "end_time": "2020-05-07T19:06:07.188613Z",
          "start_time": "2020-05-07T19:06:05.737407Z"
        },
        "id": "SFQOCzBAMnI3",
        "colab_type": "code",
        "colab": {},
        "outputId": "2b373de0-2289-4840-b580-76eaef36c50d"
      },
      "source": [
        "corr = citas_dummies_reduction.corr().round(2)\n",
        "mask = np.zeros_like(corr)\n",
        "mask[np.triu_indices_from(mask)] = True\n",
        "\n",
        "with sns.axes_style(\"white\"):\n",
        "    f, ax = plt.subplots(figsize=(16, 8))\n",
        "\n",
        "    ax = sns.heatmap(corr, cmap = 'coolwarm', annot=True,  mask=mask, vmax=.3, square=True)"
      ],
      "execution_count": 0,
      "outputs": [
        {
          "output_type": "display_data",
          "data": {
            "image/png": "[encoded data removed]",
            "text/plain": [
              "<Figure size 1152x576 with 2 Axes>"
            ]
          },
          "metadata": {
            "tags": []
          }
        }
      ]
    },
    {
      "cell_type": "markdown",
      "metadata": {
        "id": "PBMnEcQZMnI5",
        "colab_type": "text"
      },
      "source": [
        "### Eliminación hacia atrás. Opciones 1 y 2"
      ]
    },
    {
      "cell_type": "markdown",
      "metadata": {
        "id": "ShpdJyGUMnI6",
        "colab_type": "text"
      },
      "source": [
        "La <b>eliminación hacia atrás </b> se suele llevar a cabo en 5 pasos:\n",
        "   1. Seleccionar el nivel de significación.\n",
        "   2. Calcular el modelo con todas las posibles variables predictoras\n",
        "   3. Se considerará variable predictora toda aquella que tenga el p.valor más alto y este, a su vez, sea mayor que nuestro nivel de significación. Si esto sucede, procemos con el siguiente paso.  Si el p.valor más alto está por debajo del nivel de significación el modelo estará listo.\n",
        "   4. Se elimina la variable predictora.\n",
        "   5. Ajustamos el modelo desde el principio sin dicha variable y volvemos al 3er punto."
      ]
    },
    {
      "cell_type": "markdown",
      "metadata": {
        "id": "b6swv-fUMnI6",
        "colab_type": "text"
      },
      "source": [
        "Separamos del dataset la variable dependiente a predecir."
      ]
    },
    {
      "cell_type": "code",
      "metadata": {
        "ExecuteTime": {
          "end_time": "2020-05-07T19:06:17.201485Z",
          "start_time": "2020-05-07T19:06:17.160432Z"
        },
        "id": "vd9lQh4jMnI6",
        "colab_type": "code",
        "colab": {}
      },
      "source": [
        "X = citas_dummies_reduction.iloc[:, :-1].values\n",
        "y = citas_dummies_reduction.iloc[:, -1].values"
      ],
      "execution_count": 0,
      "outputs": []
    },
    {
      "cell_type": "code",
      "metadata": {
        "ExecuteTime": {
          "end_time": "2020-05-07T19:06:18.097915Z",
          "start_time": "2020-05-07T19:06:18.075073Z"
        },
        "id": "JxVt47ucMnI_",
        "colab_type": "code",
        "colab": {}
      },
      "source": [
        "X, y = citas_dummies_reduction.drop('no-show', axis =1).values, citas_dummies_reduction['no-show'].values"
      ],
      "execution_count": 0,
      "outputs": []
    },
    {
      "cell_type": "markdown",
      "metadata": {
        "id": "ehM-MobuMnJC",
        "colab_type": "text"
      },
      "source": [
        "#### Opción 1."
      ]
    },
    {
      "cell_type": "code",
      "metadata": {
        "ExecuteTime": {
          "end_time": "2020-05-07T19:06:19.895629Z",
          "start_time": "2020-05-07T19:06:19.860122Z"
        },
        "id": "QuaBrIPcMnJC",
        "colab_type": "code",
        "colab": {}
      },
      "source": [
        "# Construir el modelo óptimo de RLM utilizando la Eliminación hacia atrás\n",
        "X = np.append(arr = np.ones((X.shape[0],1)).astype(int), values = X, axis = 1)"
      ],
      "execution_count": 0,
      "outputs": []
    },
    {
      "cell_type": "code",
      "metadata": {
        "ExecuteTime": {
          "end_time": "2020-05-07T19:06:21.721621Z",
          "start_time": "2020-05-07T19:06:21.705940Z"
        },
        "id": "JRAmgY-8MnJG",
        "colab_type": "code",
        "colab": {},
        "outputId": "47e5778f-d25b-4b22-d3d4-d3bd5e5b9f58"
      },
      "source": [
        "list(range(0,X.shape[1]))"
      ],
      "execution_count": 0,
      "outputs": [
        {
          "output_type": "execute_result",
          "data": {
            "text/plain": [
              "[0, 1, 2, 3, 4, 5, 6, 7, 8, 9, 10, 11, 12, 13, 14, 15, 16]"
            ]
          },
          "metadata": {
            "tags": []
          },
          "execution_count": 92
        }
      ]
    },
    {
      "cell_type": "code",
      "metadata": {
        "ExecuteTime": {
          "end_time": "2020-05-07T19:06:24.345754Z",
          "start_time": "2020-05-07T19:06:24.068824Z"
        },
        "id": "yCn7xm4aMnJK",
        "colab_type": "code",
        "colab": {},
        "outputId": "cac8d541-3757-4d46-836c-797cd843a73c"
      },
      "source": [
        "X_opt = X[:,[0, 1, 2, 3, 4, 5, 6, 7, 9, 10, 12, 13, 14, 15, 16]]\n",
        "regression_OLS = sm.OLS(y, X_opt).fit()\n",
        "regression_OLS.summary()"
      ],
      "execution_count": 0,
      "outputs": [
        {
          "output_type": "execute_result",
          "data": {
            "text/html": [
              "<table class=\"simpletable\">\n",
              "<caption>OLS Regression Results</caption>\n",
              "<tr>\n",
              "  <th>Dep. Variable:</th>            <td>y</td>        <th>  R-squared:         </th> <td>   0.233</td> \n",
              "</tr>\n",
              "<tr>\n",
              "  <th>Model:</th>                   <td>OLS</td>       <th>  Adj. R-squared:    </th> <td>   0.233</td> \n",
              "</tr>\n",
              "<tr>\n",
              "  <th>Method:</th>             <td>Least Squares</td>  <th>  F-statistic:       </th> <td>   736.0</td> \n",
              "</tr>\n",
              "<tr>\n",
              "  <th>Date:</th>             <td>Thu, 07 May 2020</td> <th>  Prob (F-statistic):</th>  <td>  0.00</td>  \n",
              "</tr>\n",
              "<tr>\n",
              "  <th>Time:</th>                 <td>21:06:24</td>     <th>  Log-Likelihood:    </th> <td> -20101.</td> \n",
              "</tr>\n",
              "<tr>\n",
              "  <th>No. Observations:</th>      <td> 33896</td>      <th>  AIC:               </th> <td>4.023e+04</td>\n",
              "</tr>\n",
              "<tr>\n",
              "  <th>Df Residuals:</th>          <td> 33881</td>      <th>  BIC:               </th> <td>4.036e+04</td>\n",
              "</tr>\n",
              "<tr>\n",
              "  <th>Df Model:</th>              <td>    14</td>      <th>                     </th>     <td> </td>    \n",
              "</tr>\n",
              "<tr>\n",
              "  <th>Covariance Type:</th>      <td>nonrobust</td>    <th>                     </th>     <td> </td>    \n",
              "</tr>\n",
              "</table>\n",
              "<table class=\"simpletable\">\n",
              "<tr>\n",
              "    <td></td>       <th>coef</th>     <th>std err</th>      <th>t</th>      <th>P>|t|</th>  <th>[0.025</th>    <th>0.975]</th>  \n",
              "</tr>\n",
              "<tr>\n",
              "  <th>const</th> <td>    0.1662</td> <td>    0.016</td> <td>   10.104</td> <td> 0.000</td> <td>    0.134</td> <td>    0.198</td>\n",
              "</tr>\n",
              "<tr>\n",
              "  <th>x1</th>    <td>    0.0342</td> <td>    0.005</td> <td>    6.787</td> <td> 0.000</td> <td>    0.024</td> <td>    0.044</td>\n",
              "</tr>\n",
              "<tr>\n",
              "  <th>x2</th>    <td>   -0.0007</td> <td>    0.000</td> <td>   -6.657</td> <td> 0.000</td> <td>   -0.001</td> <td>   -0.001</td>\n",
              "</tr>\n",
              "<tr>\n",
              "  <th>x3</th>    <td>    0.1163</td> <td>    0.008</td> <td>   14.246</td> <td> 0.000</td> <td>    0.100</td> <td>    0.132</td>\n",
              "</tr>\n",
              "<tr>\n",
              "  <th>x4</th>    <td>    0.0631</td> <td>    0.008</td> <td>    7.466</td> <td> 0.000</td> <td>    0.047</td> <td>    0.080</td>\n",
              "</tr>\n",
              "<tr>\n",
              "  <th>x5</th>    <td>    0.0925</td> <td>    0.012</td> <td>    7.568</td> <td> 0.000</td> <td>    0.069</td> <td>    0.116</td>\n",
              "</tr>\n",
              "<tr>\n",
              "  <th>x6</th>    <td>    0.1441</td> <td>    0.009</td> <td>   15.987</td> <td> 0.000</td> <td>    0.126</td> <td>    0.162</td>\n",
              "</tr>\n",
              "<tr>\n",
              "  <th>x7</th>    <td>    0.0723</td> <td>    0.006</td> <td>   12.943</td> <td> 0.000</td> <td>    0.061</td> <td>    0.083</td>\n",
              "</tr>\n",
              "<tr>\n",
              "  <th>x8</th>    <td>    0.0235</td> <td>    0.002</td> <td>   14.482</td> <td> 0.000</td> <td>    0.020</td> <td>    0.027</td>\n",
              "</tr>\n",
              "<tr>\n",
              "  <th>x9</th>    <td>    0.0124</td> <td>    0.002</td> <td>    6.767</td> <td> 0.000</td> <td>    0.009</td> <td>    0.016</td>\n",
              "</tr>\n",
              "<tr>\n",
              "  <th>x10</th>   <td>   -0.1886</td> <td>    0.005</td> <td>  -36.010</td> <td> 0.000</td> <td>   -0.199</td> <td>   -0.178</td>\n",
              "</tr>\n",
              "<tr>\n",
              "  <th>x11</th>   <td>   -0.0324</td> <td>    0.011</td> <td>   -3.041</td> <td> 0.002</td> <td>   -0.053</td> <td>   -0.012</td>\n",
              "</tr>\n",
              "<tr>\n",
              "  <th>x12</th>   <td>    0.0003</td> <td>    0.000</td> <td>    2.598</td> <td> 0.009</td> <td> 8.33e-05</td> <td>    0.001</td>\n",
              "</tr>\n",
              "<tr>\n",
              "  <th>x13</th>   <td>    0.1246</td> <td>    0.020</td> <td>    6.333</td> <td> 0.000</td> <td>    0.086</td> <td>    0.163</td>\n",
              "</tr>\n",
              "<tr>\n",
              "  <th>x14</th>   <td>    0.0103</td> <td>    0.000</td> <td>   56.684</td> <td> 0.000</td> <td>    0.010</td> <td>    0.011</td>\n",
              "</tr>\n",
              "</table>\n",
              "<table class=\"simpletable\">\n",
              "<tr>\n",
              "  <th>Omnibus:</th>       <td>20971.120</td> <th>  Durbin-Watson:     </th> <td>   0.460</td>\n",
              "</tr>\n",
              "<tr>\n",
              "  <th>Prob(Omnibus):</th>  <td> 0.000</td>   <th>  Jarque-Bera (JB):  </th> <td>1893.161</td>\n",
              "</tr>\n",
              "<tr>\n",
              "  <th>Skew:</th>           <td>-0.002</td>   <th>  Prob(JB):          </th> <td>    0.00</td>\n",
              "</tr>\n",
              "<tr>\n",
              "  <th>Kurtosis:</th>       <td> 1.842</td>   <th>  Cond. No.          </th> <td>    487.</td>\n",
              "</tr>\n",
              "</table><br/><br/>Warnings:<br/>[1] Standard Errors assume that the covariance matrix of the errors is correctly specified."
            ],
            "text/plain": [
              "<class 'statsmodels.iolib.summary.Summary'>\n",
              "\"\"\"\n",
              "                            OLS Regression Results                            \n",
              "==============================================================================\n",
              "Dep. Variable:                      y   R-squared:                       0.233\n",
              "Model:                            OLS   Adj. R-squared:                  0.233\n",
              "Method:                 Least Squares   F-statistic:                     736.0\n",
              "Date:                Thu, 07 May 2020   Prob (F-statistic):               0.00\n",
              "Time:                        21:06:24   Log-Likelihood:                -20101.\n",
              "No. Observations:               33896   AIC:                         4.023e+04\n",
              "Df Residuals:                   33881   BIC:                         4.036e+04\n",
              "Df Model:                          14                                         \n",
              "Covariance Type:            nonrobust                                         \n",
              "==============================================================================\n",
              "                 coef    std err          t      P>|t|      [0.025      0.975]\n",
              "------------------------------------------------------------------------------\n",
              "const          0.1662      0.016     10.104      0.000       0.134       0.198\n",
              "x1             0.0342      0.005      6.787      0.000       0.024       0.044\n",
              "x2            -0.0007      0.000     -6.657      0.000      -0.001      -0.001\n",
              "x3             0.1163      0.008     14.246      0.000       0.100       0.132\n",
              "x4             0.0631      0.008      7.466      0.000       0.047       0.080\n",
              "x5             0.0925      0.012      7.568      0.000       0.069       0.116\n",
              "x6             0.1441      0.009     15.987      0.000       0.126       0.162\n",
              "x7             0.0723      0.006     12.943      0.000       0.061       0.083\n",
              "x8             0.0235      0.002     14.482      0.000       0.020       0.027\n",
              "x9             0.0124      0.002      6.767      0.000       0.009       0.016\n",
              "x10           -0.1886      0.005    -36.010      0.000      -0.199      -0.178\n",
              "x11           -0.0324      0.011     -3.041      0.002      -0.053      -0.012\n",
              "x12            0.0003      0.000      2.598      0.009    8.33e-05       0.001\n",
              "x13            0.1246      0.020      6.333      0.000       0.086       0.163\n",
              "x14            0.0103      0.000     56.684      0.000       0.010       0.011\n",
              "==============================================================================\n",
              "Omnibus:                    20971.120   Durbin-Watson:                   0.460\n",
              "Prob(Omnibus):                  0.000   Jarque-Bera (JB):             1893.161\n",
              "Skew:                          -0.002   Prob(JB):                         0.00\n",
              "Kurtosis:                       1.842   Cond. No.                         487.\n",
              "==============================================================================\n",
              "\n",
              "Warnings:\n",
              "[1] Standard Errors assume that the covariance matrix of the errors is correctly specified.\n",
              "\"\"\""
            ]
          },
          "metadata": {
            "tags": []
          },
          "execution_count": 93
        }
      ]
    },
    {
      "cell_type": "code",
      "metadata": {
        "ExecuteTime": {
          "end_time": "2020-05-07T19:06:30.334852Z",
          "start_time": "2020-05-07T19:06:25.077956Z"
        },
        "id": "vNEpJ3AmMnJN",
        "colab_type": "code",
        "colab": {}
      },
      "source": [
        "import statsmodels.api as sm\n",
        "def backwardElimination(x, sl):    \n",
        "    numVars = len(x[0])    \n",
        "    for i in range(0, numVars):        \n",
        "        regressor_OLS = sm.OLS(y, x.tolist()).fit()        \n",
        "        maxVar = max(regressor_OLS.pvalues).astype(float)        \n",
        "        if maxVar > sl:            \n",
        "            for j in range(0, numVars - i):                \n",
        "                if (regressor_OLS.pvalues[j].astype(float) == maxVar):                    \n",
        "                    x = np.delete(x, j, 1)    \n",
        "    regressor_OLS.summary()    \n",
        "    return x \n",
        " \n",
        "SL = 0.05\n",
        "X_opt = X[:,list(range(0,X.shape[1]))]\n",
        "citas_modeled = backwardElimination(X_opt, SL)"
      ],
      "execution_count": 0,
      "outputs": []
    },
    {
      "cell_type": "code",
      "metadata": {
        "ExecuteTime": {
          "end_time": "2020-05-07T19:06:30.989324Z",
          "start_time": "2020-05-07T19:06:30.933111Z"
        },
        "id": "vxpgf6UuMnJP",
        "colab_type": "code",
        "colab": {},
        "outputId": "3ae1bfa4-d8e9-43f7-e338-7f51e011a32d"
      },
      "source": [
        "pd.DataFrame(citas_modeled).head() "
      ],
      "execution_count": 0,
      "outputs": [
        {
          "output_type": "execute_result",
          "data": {
            "text/html": [
              "<div>\n",
              "<style scoped>\n",
              "    .dataframe tbody tr th:only-of-type {\n",
              "        vertical-align: middle;\n",
              "    }\n",
              "\n",
              "    .dataframe tbody tr th {\n",
              "        vertical-align: top;\n",
              "    }\n",
              "\n",
              "    .dataframe thead th {\n",
              "        text-align: right;\n",
              "    }\n",
              "</style>\n",
              "<table border=\"1\" class=\"dataframe\">\n",
              "  <thead>\n",
              "    <tr style=\"text-align: right;\">\n",
              "      <th></th>\n",
              "      <th>0</th>\n",
              "      <th>1</th>\n",
              "      <th>2</th>\n",
              "      <th>3</th>\n",
              "      <th>4</th>\n",
              "      <th>5</th>\n",
              "      <th>6</th>\n",
              "      <th>7</th>\n",
              "      <th>8</th>\n",
              "      <th>9</th>\n",
              "      <th>10</th>\n",
              "      <th>11</th>\n",
              "      <th>12</th>\n",
              "      <th>13</th>\n",
              "      <th>14</th>\n",
              "    </tr>\n",
              "  </thead>\n",
              "  <tbody>\n",
              "    <tr>\n",
              "      <th>0</th>\n",
              "      <td>1.0</td>\n",
              "      <td>1.0</td>\n",
              "      <td>50.0</td>\n",
              "      <td>1.0</td>\n",
              "      <td>0.0</td>\n",
              "      <td>0.0</td>\n",
              "      <td>0.0</td>\n",
              "      <td>0.0</td>\n",
              "      <td>7.0</td>\n",
              "      <td>2.0</td>\n",
              "      <td>1.0</td>\n",
              "      <td>0.0</td>\n",
              "      <td>11.0</td>\n",
              "      <td>0.0</td>\n",
              "      <td>0.0</td>\n",
              "    </tr>\n",
              "    <tr>\n",
              "      <th>1</th>\n",
              "      <td>1.0</td>\n",
              "      <td>1.0</td>\n",
              "      <td>6.0</td>\n",
              "      <td>0.0</td>\n",
              "      <td>0.0</td>\n",
              "      <td>0.0</td>\n",
              "      <td>0.0</td>\n",
              "      <td>0.0</td>\n",
              "      <td>7.0</td>\n",
              "      <td>3.0</td>\n",
              "      <td>1.0</td>\n",
              "      <td>0.0</td>\n",
              "      <td>3.0</td>\n",
              "      <td>0.0</td>\n",
              "      <td>0.0</td>\n",
              "    </tr>\n",
              "    <tr>\n",
              "      <th>2</th>\n",
              "      <td>1.0</td>\n",
              "      <td>1.0</td>\n",
              "      <td>50.0</td>\n",
              "      <td>1.0</td>\n",
              "      <td>0.0</td>\n",
              "      <td>0.0</td>\n",
              "      <td>0.0</td>\n",
              "      <td>0.0</td>\n",
              "      <td>7.0</td>\n",
              "      <td>2.0</td>\n",
              "      <td>1.0</td>\n",
              "      <td>0.0</td>\n",
              "      <td>10.0</td>\n",
              "      <td>0.0</td>\n",
              "      <td>0.0</td>\n",
              "    </tr>\n",
              "    <tr>\n",
              "      <th>3</th>\n",
              "      <td>1.0</td>\n",
              "      <td>1.0</td>\n",
              "      <td>50.0</td>\n",
              "      <td>1.0</td>\n",
              "      <td>0.0</td>\n",
              "      <td>0.0</td>\n",
              "      <td>0.0</td>\n",
              "      <td>0.0</td>\n",
              "      <td>7.0</td>\n",
              "      <td>2.0</td>\n",
              "      <td>1.0</td>\n",
              "      <td>0.0</td>\n",
              "      <td>10.0</td>\n",
              "      <td>0.0</td>\n",
              "      <td>0.0</td>\n",
              "    </tr>\n",
              "    <tr>\n",
              "      <th>4</th>\n",
              "      <td>1.0</td>\n",
              "      <td>1.0</td>\n",
              "      <td>29.0</td>\n",
              "      <td>0.0</td>\n",
              "      <td>0.0</td>\n",
              "      <td>0.0</td>\n",
              "      <td>0.0</td>\n",
              "      <td>0.0</td>\n",
              "      <td>8.0</td>\n",
              "      <td>4.0</td>\n",
              "      <td>1.0</td>\n",
              "      <td>0.0</td>\n",
              "      <td>16.0</td>\n",
              "      <td>0.0</td>\n",
              "      <td>0.0</td>\n",
              "    </tr>\n",
              "  </tbody>\n",
              "</table>\n",
              "</div>"
            ],
            "text/plain": [
              "     0    1     2    3    4    5    6    7    8    9   10   11    12   13   14\n",
              "0  1.0  1.0  50.0  1.0  0.0  0.0  0.0  0.0  7.0  2.0  1.0  0.0  11.0  0.0  0.0\n",
              "1  1.0  1.0   6.0  0.0  0.0  0.0  0.0  0.0  7.0  3.0  1.0  0.0   3.0  0.0  0.0\n",
              "2  1.0  1.0  50.0  1.0  0.0  0.0  0.0  0.0  7.0  2.0  1.0  0.0  10.0  0.0  0.0\n",
              "3  1.0  1.0  50.0  1.0  0.0  0.0  0.0  0.0  7.0  2.0  1.0  0.0  10.0  0.0  0.0\n",
              "4  1.0  1.0  29.0  0.0  0.0  0.0  0.0  0.0  8.0  4.0  1.0  0.0  16.0  0.0  0.0"
            ]
          },
          "metadata": {
            "tags": []
          },
          "execution_count": 95
        }
      ]
    },
    {
      "cell_type": "code",
      "metadata": {
        "ExecuteTime": {
          "end_time": "2020-05-07T19:06:31.611607Z",
          "start_time": "2020-05-07T19:06:31.585792Z"
        },
        "id": "3cZj_Mm8MnJS",
        "colab_type": "code",
        "colab": {},
        "outputId": "69c48b93-a05d-4421-efe5-8820d4347c2c"
      },
      "source": [
        "citas_dummies_reduction.head()"
      ],
      "execution_count": 0,
      "outputs": [
        {
          "output_type": "execute_result",
          "data": {
            "text/html": [
              "<div>\n",
              "<style scoped>\n",
              "    .dataframe tbody tr th:only-of-type {\n",
              "        vertical-align: middle;\n",
              "    }\n",
              "\n",
              "    .dataframe tbody tr th {\n",
              "        vertical-align: top;\n",
              "    }\n",
              "\n",
              "    .dataframe thead th {\n",
              "        text-align: right;\n",
              "    }\n",
              "</style>\n",
              "<table border=\"1\" class=\"dataframe\">\n",
              "  <thead>\n",
              "    <tr style=\"text-align: right;\">\n",
              "      <th></th>\n",
              "      <th>gender</th>\n",
              "      <th>neighbourhood</th>\n",
              "      <th>scholarship</th>\n",
              "      <th>hipertension</th>\n",
              "      <th>diabetes</th>\n",
              "      <th>alcoholism</th>\n",
              "      <th>sms_received</th>\n",
              "      <th>scheduledweekday</th>\n",
              "      <th>scheduledhour</th>\n",
              "      <th>appointmentweekday</th>\n",
              "      <th>appointmenthour</th>\n",
              "      <th>samedayflag</th>\n",
              "      <th>schedulehourgroup</th>\n",
              "      <th>new_age</th>\n",
              "      <th>handcapgroup</th>\n",
              "      <th>days_to_appointment</th>\n",
              "      <th>no-show</th>\n",
              "    </tr>\n",
              "  </thead>\n",
              "  <tbody>\n",
              "    <tr>\n",
              "      <th>0</th>\n",
              "      <td>1</td>\n",
              "      <td>50</td>\n",
              "      <td>1</td>\n",
              "      <td>0</td>\n",
              "      <td>0</td>\n",
              "      <td>0</td>\n",
              "      <td>0</td>\n",
              "      <td>2</td>\n",
              "      <td>7</td>\n",
              "      <td>2</td>\n",
              "      <td>0</td>\n",
              "      <td>1</td>\n",
              "      <td>0</td>\n",
              "      <td>11.0</td>\n",
              "      <td>0</td>\n",
              "      <td>0</td>\n",
              "      <td>0</td>\n",
              "    </tr>\n",
              "    <tr>\n",
              "      <th>1</th>\n",
              "      <td>1</td>\n",
              "      <td>6</td>\n",
              "      <td>0</td>\n",
              "      <td>0</td>\n",
              "      <td>0</td>\n",
              "      <td>0</td>\n",
              "      <td>0</td>\n",
              "      <td>3</td>\n",
              "      <td>7</td>\n",
              "      <td>3</td>\n",
              "      <td>0</td>\n",
              "      <td>1</td>\n",
              "      <td>0</td>\n",
              "      <td>3.0</td>\n",
              "      <td>0</td>\n",
              "      <td>0</td>\n",
              "      <td>0</td>\n",
              "    </tr>\n",
              "    <tr>\n",
              "      <th>2</th>\n",
              "      <td>1</td>\n",
              "      <td>50</td>\n",
              "      <td>1</td>\n",
              "      <td>0</td>\n",
              "      <td>0</td>\n",
              "      <td>0</td>\n",
              "      <td>0</td>\n",
              "      <td>2</td>\n",
              "      <td>7</td>\n",
              "      <td>2</td>\n",
              "      <td>0</td>\n",
              "      <td>1</td>\n",
              "      <td>0</td>\n",
              "      <td>10.0</td>\n",
              "      <td>0</td>\n",
              "      <td>0</td>\n",
              "      <td>0</td>\n",
              "    </tr>\n",
              "    <tr>\n",
              "      <th>3</th>\n",
              "      <td>1</td>\n",
              "      <td>50</td>\n",
              "      <td>1</td>\n",
              "      <td>0</td>\n",
              "      <td>0</td>\n",
              "      <td>0</td>\n",
              "      <td>0</td>\n",
              "      <td>2</td>\n",
              "      <td>7</td>\n",
              "      <td>2</td>\n",
              "      <td>0</td>\n",
              "      <td>1</td>\n",
              "      <td>0</td>\n",
              "      <td>10.0</td>\n",
              "      <td>0</td>\n",
              "      <td>0</td>\n",
              "      <td>0</td>\n",
              "    </tr>\n",
              "    <tr>\n",
              "      <th>4</th>\n",
              "      <td>1</td>\n",
              "      <td>29</td>\n",
              "      <td>0</td>\n",
              "      <td>0</td>\n",
              "      <td>0</td>\n",
              "      <td>0</td>\n",
              "      <td>0</td>\n",
              "      <td>4</td>\n",
              "      <td>8</td>\n",
              "      <td>4</td>\n",
              "      <td>0</td>\n",
              "      <td>1</td>\n",
              "      <td>0</td>\n",
              "      <td>16.0</td>\n",
              "      <td>0</td>\n",
              "      <td>0</td>\n",
              "      <td>0</td>\n",
              "    </tr>\n",
              "  </tbody>\n",
              "</table>\n",
              "</div>"
            ],
            "text/plain": [
              "   gender  neighbourhood  scholarship  hipertension  diabetes  alcoholism  \\\n",
              "0       1             50            1             0         0           0   \n",
              "1       1              6            0             0         0           0   \n",
              "2       1             50            1             0         0           0   \n",
              "3       1             50            1             0         0           0   \n",
              "4       1             29            0             0         0           0   \n",
              "\n",
              "   sms_received  scheduledweekday  scheduledhour  appointmentweekday  \\\n",
              "0             0                 2              7                   2   \n",
              "1             0                 3              7                   3   \n",
              "2             0                 2              7                   2   \n",
              "3             0                 2              7                   2   \n",
              "4             0                 4              8                   4   \n",
              "\n",
              "   appointmenthour  samedayflag  schedulehourgroup  new_age  handcapgroup  \\\n",
              "0                0            1                  0     11.0             0   \n",
              "1                0            1                  0      3.0             0   \n",
              "2                0            1                  0     10.0             0   \n",
              "3                0            1                  0     10.0             0   \n",
              "4                0            1                  0     16.0             0   \n",
              "\n",
              "   days_to_appointment  no-show  \n",
              "0                    0        0  \n",
              "1                    0        0  \n",
              "2                    0        0  \n",
              "3                    0        0  \n",
              "4                    0        0  "
            ]
          },
          "metadata": {
            "tags": []
          },
          "execution_count": 96
        }
      ]
    },
    {
      "cell_type": "code",
      "metadata": {
        "ExecuteTime": {
          "end_time": "2020-05-07T19:06:32.260005Z",
          "start_time": "2020-05-07T19:06:32.252957Z"
        },
        "id": "zOfEYqygMnJV",
        "colab_type": "code",
        "colab": {}
      },
      "source": [
        "columns = ['none','gender', 'neighbourhood', 'scholarship', 'hipertension', 'diabetes',\n",
        "       'alcoholism', 'sms_received', 'scheduledhour',\n",
        "       'appointmentweekday', 'samedayflag',\n",
        "       'schedulehourgroup', 'new_age', 'handcapgroup', 'days_to_appointment']"
      ],
      "execution_count": 0,
      "outputs": []
    },
    {
      "cell_type": "code",
      "metadata": {
        "ExecuteTime": {
          "end_time": "2020-05-07T19:06:32.845268Z",
          "start_time": "2020-05-07T19:06:32.815053Z"
        },
        "id": "jMPCqnuxMnJY",
        "colab_type": "code",
        "colab": {}
      },
      "source": [
        "opt1 = (pd.DataFrame(citas_modeled, columns = columns).iloc[:,1:]).join(citas_dummies_reduction['no-show'], on = citas_dummies_reduction.index)"
      ],
      "execution_count": 0,
      "outputs": []
    },
    {
      "cell_type": "code",
      "metadata": {
        "ExecuteTime": {
          "end_time": "2020-05-07T19:06:33.503993Z",
          "start_time": "2020-05-07T19:06:33.450350Z"
        },
        "id": "xGcEOc2dMnJa",
        "colab_type": "code",
        "colab": {},
        "outputId": "7bb00687-2c1d-40fd-dce1-0dcdaf824f94"
      },
      "source": [
        "opt1.head()"
      ],
      "execution_count": 0,
      "outputs": [
        {
          "output_type": "execute_result",
          "data": {
            "text/html": [
              "<div>\n",
              "<style scoped>\n",
              "    .dataframe tbody tr th:only-of-type {\n",
              "        vertical-align: middle;\n",
              "    }\n",
              "\n",
              "    .dataframe tbody tr th {\n",
              "        vertical-align: top;\n",
              "    }\n",
              "\n",
              "    .dataframe thead th {\n",
              "        text-align: right;\n",
              "    }\n",
              "</style>\n",
              "<table border=\"1\" class=\"dataframe\">\n",
              "  <thead>\n",
              "    <tr style=\"text-align: right;\">\n",
              "      <th></th>\n",
              "      <th>gender</th>\n",
              "      <th>neighbourhood</th>\n",
              "      <th>scholarship</th>\n",
              "      <th>hipertension</th>\n",
              "      <th>diabetes</th>\n",
              "      <th>alcoholism</th>\n",
              "      <th>sms_received</th>\n",
              "      <th>scheduledhour</th>\n",
              "      <th>appointmentweekday</th>\n",
              "      <th>samedayflag</th>\n",
              "      <th>schedulehourgroup</th>\n",
              "      <th>new_age</th>\n",
              "      <th>handcapgroup</th>\n",
              "      <th>days_to_appointment</th>\n",
              "      <th>no-show</th>\n",
              "    </tr>\n",
              "  </thead>\n",
              "  <tbody>\n",
              "    <tr>\n",
              "      <th>0</th>\n",
              "      <td>1.0</td>\n",
              "      <td>50.0</td>\n",
              "      <td>1.0</td>\n",
              "      <td>0.0</td>\n",
              "      <td>0.0</td>\n",
              "      <td>0.0</td>\n",
              "      <td>0.0</td>\n",
              "      <td>7.0</td>\n",
              "      <td>2.0</td>\n",
              "      <td>1.0</td>\n",
              "      <td>0.0</td>\n",
              "      <td>11.0</td>\n",
              "      <td>0.0</td>\n",
              "      <td>0.0</td>\n",
              "      <td>0</td>\n",
              "    </tr>\n",
              "    <tr>\n",
              "      <th>1</th>\n",
              "      <td>1.0</td>\n",
              "      <td>6.0</td>\n",
              "      <td>0.0</td>\n",
              "      <td>0.0</td>\n",
              "      <td>0.0</td>\n",
              "      <td>0.0</td>\n",
              "      <td>0.0</td>\n",
              "      <td>7.0</td>\n",
              "      <td>3.0</td>\n",
              "      <td>1.0</td>\n",
              "      <td>0.0</td>\n",
              "      <td>3.0</td>\n",
              "      <td>0.0</td>\n",
              "      <td>0.0</td>\n",
              "      <td>0</td>\n",
              "    </tr>\n",
              "    <tr>\n",
              "      <th>2</th>\n",
              "      <td>1.0</td>\n",
              "      <td>50.0</td>\n",
              "      <td>1.0</td>\n",
              "      <td>0.0</td>\n",
              "      <td>0.0</td>\n",
              "      <td>0.0</td>\n",
              "      <td>0.0</td>\n",
              "      <td>7.0</td>\n",
              "      <td>2.0</td>\n",
              "      <td>1.0</td>\n",
              "      <td>0.0</td>\n",
              "      <td>10.0</td>\n",
              "      <td>0.0</td>\n",
              "      <td>0.0</td>\n",
              "      <td>0</td>\n",
              "    </tr>\n",
              "    <tr>\n",
              "      <th>3</th>\n",
              "      <td>1.0</td>\n",
              "      <td>50.0</td>\n",
              "      <td>1.0</td>\n",
              "      <td>0.0</td>\n",
              "      <td>0.0</td>\n",
              "      <td>0.0</td>\n",
              "      <td>0.0</td>\n",
              "      <td>7.0</td>\n",
              "      <td>2.0</td>\n",
              "      <td>1.0</td>\n",
              "      <td>0.0</td>\n",
              "      <td>10.0</td>\n",
              "      <td>0.0</td>\n",
              "      <td>0.0</td>\n",
              "      <td>0</td>\n",
              "    </tr>\n",
              "    <tr>\n",
              "      <th>4</th>\n",
              "      <td>1.0</td>\n",
              "      <td>29.0</td>\n",
              "      <td>0.0</td>\n",
              "      <td>0.0</td>\n",
              "      <td>0.0</td>\n",
              "      <td>0.0</td>\n",
              "      <td>0.0</td>\n",
              "      <td>8.0</td>\n",
              "      <td>4.0</td>\n",
              "      <td>1.0</td>\n",
              "      <td>0.0</td>\n",
              "      <td>16.0</td>\n",
              "      <td>0.0</td>\n",
              "      <td>0.0</td>\n",
              "      <td>0</td>\n",
              "    </tr>\n",
              "  </tbody>\n",
              "</table>\n",
              "</div>"
            ],
            "text/plain": [
              "   gender  neighbourhood  scholarship  hipertension  diabetes  alcoholism  \\\n",
              "0     1.0           50.0          1.0           0.0       0.0         0.0   \n",
              "1     1.0            6.0          0.0           0.0       0.0         0.0   \n",
              "2     1.0           50.0          1.0           0.0       0.0         0.0   \n",
              "3     1.0           50.0          1.0           0.0       0.0         0.0   \n",
              "4     1.0           29.0          0.0           0.0       0.0         0.0   \n",
              "\n",
              "   sms_received  scheduledhour  appointmentweekday  samedayflag  \\\n",
              "0           0.0            7.0                 2.0          1.0   \n",
              "1           0.0            7.0                 3.0          1.0   \n",
              "2           0.0            7.0                 2.0          1.0   \n",
              "3           0.0            7.0                 2.0          1.0   \n",
              "4           0.0            8.0                 4.0          1.0   \n",
              "\n",
              "   schedulehourgroup  new_age  handcapgroup  days_to_appointment  no-show  \n",
              "0                0.0     11.0           0.0                  0.0        0  \n",
              "1                0.0      3.0           0.0                  0.0        0  \n",
              "2                0.0     10.0           0.0                  0.0        0  \n",
              "3                0.0     10.0           0.0                  0.0        0  \n",
              "4                0.0     16.0           0.0                  0.0        0  "
            ]
          },
          "metadata": {
            "tags": []
          },
          "execution_count": 99
        }
      ]
    },
    {
      "cell_type": "code",
      "metadata": {
        "ExecuteTime": {
          "end_time": "2020-05-07T19:06:34.819316Z",
          "start_time": "2020-05-07T19:06:34.129496Z"
        },
        "id": "6UpB2GnAMnJd",
        "colab_type": "code",
        "colab": {}
      },
      "source": [
        "opt1.to_csv('data/opt1.csv',index = False)"
      ],
      "execution_count": 0,
      "outputs": []
    },
    {
      "cell_type": "markdown",
      "metadata": {
        "id": "fmTBEBnYMnJk",
        "colab_type": "text"
      },
      "source": [
        "#### Opción 2"
      ]
    },
    {
      "cell_type": "code",
      "metadata": {
        "ExecuteTime": {
          "end_time": "2020-05-07T19:06:37.317032Z",
          "start_time": "2020-05-07T19:06:37.291347Z"
        },
        "id": "fVslh5VYMnJl",
        "colab_type": "code",
        "colab": {}
      },
      "source": [
        "opt2 = citas_dummies_reduction.copy()"
      ],
      "execution_count": 0,
      "outputs": []
    },
    {
      "cell_type": "code",
      "metadata": {
        "ExecuteTime": {
          "end_time": "2020-05-07T19:06:38.062808Z",
          "start_time": "2020-05-07T19:06:38.053841Z"
        },
        "id": "cJL4l0rMMnJp",
        "colab_type": "code",
        "colab": {}
      },
      "source": [
        "def drop_corr (df, col):\n",
        "    df.drop(col, inplace=True, axis=1)\n",
        "    heatmap_ml(df)"
      ],
      "execution_count": 0,
      "outputs": []
    },
    {
      "cell_type": "code",
      "metadata": {
        "ExecuteTime": {
          "end_time": "2020-05-07T19:07:03.335728Z",
          "start_time": "2020-05-07T19:07:01.442540Z"
        },
        "id": "6AxOJ5G6MnJs",
        "colab_type": "code",
        "colab": {},
        "outputId": "0b4710b8-a067-4542-f084-b08048324403"
      },
      "source": [
        "heatmap_ml(opt2)"
      ],
      "execution_count": 0,
      "outputs": [
        {
          "output_type": "display_data",
          "data": {
            "image/png": "[encoded data removed]",
            "text/plain": [
              "<Figure size 1152x576 with 2 Axes>"
            ]
          },
          "metadata": {
            "tags": []
          }
        }
      ]
    },
    {
      "cell_type": "markdown",
      "metadata": {
        "id": "oGtrKD0wMnJ1",
        "colab_type": "text"
      },
      "source": [
        "Se aprecia solo una alta correlación entre <code>scheduledhour</code> y <code>scheduledhourgroup</code>, que de hecho es una de las columnas que se decidió agrupar. Procedemos a eliminar <code>scheduledhour</code> por ser la más específica."
      ]
    },
    {
      "cell_type": "code",
      "metadata": {
        "ExecuteTime": {
          "end_time": "2020-05-07T19:07:22.558207Z",
          "start_time": "2020-05-07T19:07:21.173986Z"
        },
        "id": "z42l5CWdMnJ1",
        "colab_type": "code",
        "colab": {},
        "outputId": "d6e8ef8e-3770-42db-9914-937a4cff4f44"
      },
      "source": [
        "drop_corr(opt2, 'scheduledhour')"
      ],
      "execution_count": 0,
      "outputs": [
        {
          "output_type": "display_data",
          "data": {
            "image/png": "[encoded data removed]",
            "text/plain": [
              "<Figure size 1152x576 with 2 Axes>"
            ]
          },
          "metadata": {
            "tags": []
          }
        }
      ]
    },
    {
      "cell_type": "code",
      "metadata": {
        "ExecuteTime": {
          "end_time": "2020-05-07T15:29:54.222835Z",
          "start_time": "2020-05-07T15:29:31.158Z"
        },
        "id": "l26ik_7kMnJ3",
        "colab_type": "code",
        "colab": {}
      },
      "source": [
        "opt2.to_csv('data/opt2.csv',index = False)"
      ],
      "execution_count": 0,
      "outputs": []
    },
    {
      "cell_type": "markdown",
      "metadata": {
        "id": "L1M0Bl2bMnJ5",
        "colab_type": "text"
      },
      "source": [
        "### Recursive Feature Elimination. Opción 3"
      ]
    },
    {
      "cell_type": "code",
      "metadata": {
        "ExecuteTime": {
          "end_time": "2020-05-07T19:07:29.256270Z",
          "start_time": "2020-05-07T19:07:29.237809Z"
        },
        "id": "OHeh7KqiMnJ6",
        "colab_type": "code",
        "colab": {}
      },
      "source": [
        "opt3 = citas_dummies_reduction.copy()"
      ],
      "execution_count": 0,
      "outputs": []
    },
    {
      "cell_type": "markdown",
      "metadata": {
        "id": "nNmEmz5oMnJ8",
        "colab_type": "text"
      },
      "source": [
        "En este caso, el parámetro <code>n_features_to_select=10</code> es el que decide el número de variables que quieres quedarte. 1 son las más importantes, los números más altos las que menos..."
      ]
    },
    {
      "cell_type": "code",
      "metadata": {
        "ExecuteTime": {
          "end_time": "2020-05-07T19:07:34.560088Z",
          "start_time": "2020-05-07T19:07:34.547806Z"
        },
        "id": "pi_n0LWOMnJ8",
        "colab_type": "code",
        "colab": {}
      },
      "source": [
        "def RFEselection (df, y, col, random_state):\n",
        "    \"\"\"\n",
        "    df = dataset\n",
        "    y = variable a predecir\n",
        "    col = número de columnas que quieres quedarte\n",
        "    random_state\n",
        "    \n",
        "    otuput = df nuevo\n",
        "    \n",
        "    \"\"\"\n",
        "    \n",
        "    X_train, X_test, y_train, y_test = train_test_split(df.drop(y, axis =1), df[y], stratify = df[y], shuffle = True, random_state=random_state)\n",
        "    selector = RFE(LinearRegression(), n_features_to_select=col)\n",
        "    selector = selector.fit(X_train, y_train)\n",
        "    rank = pd.DataFrame(selector.ranking_, index = X_train.columns, columns = [\"rank\"])\n",
        "    \n",
        "    return df[rank[rank[\"rank\"]==1].index]"
      ],
      "execution_count": 0,
      "outputs": []
    },
    {
      "cell_type": "code",
      "metadata": {
        "ExecuteTime": {
          "end_time": "2020-05-07T19:07:36.315340Z",
          "start_time": "2020-05-07T19:07:36.057545Z"
        },
        "id": "mp_wSX8hMnJ-",
        "colab_type": "code",
        "colab": {}
      },
      "source": [
        "opt3 = (RFEselection (opt3, \"no-show\", 10, 42)).join(citas_dummies_reduction['no-show'], on = citas_dummies_reduction.index)"
      ],
      "execution_count": 0,
      "outputs": []
    },
    {
      "cell_type": "code",
      "metadata": {
        "ExecuteTime": {
          "end_time": "2020-05-07T19:07:37.700268Z",
          "start_time": "2020-05-07T19:07:37.666510Z"
        },
        "id": "6vDkyeW_MnKA",
        "colab_type": "code",
        "colab": {},
        "outputId": "f2919d8d-e6a1-4dc8-c808-1e34fe67076d"
      },
      "source": [
        "opt3.head()"
      ],
      "execution_count": 0,
      "outputs": [
        {
          "output_type": "execute_result",
          "data": {
            "text/html": [
              "<div>\n",
              "<style scoped>\n",
              "    .dataframe tbody tr th:only-of-type {\n",
              "        vertical-align: middle;\n",
              "    }\n",
              "\n",
              "    .dataframe tbody tr th {\n",
              "        vertical-align: top;\n",
              "    }\n",
              "\n",
              "    .dataframe thead th {\n",
              "        text-align: right;\n",
              "    }\n",
              "</style>\n",
              "<table border=\"1\" class=\"dataframe\">\n",
              "  <thead>\n",
              "    <tr style=\"text-align: right;\">\n",
              "      <th></th>\n",
              "      <th>gender</th>\n",
              "      <th>scholarship</th>\n",
              "      <th>hipertension</th>\n",
              "      <th>diabetes</th>\n",
              "      <th>alcoholism</th>\n",
              "      <th>sms_received</th>\n",
              "      <th>scheduledhour</th>\n",
              "      <th>samedayflag</th>\n",
              "      <th>schedulehourgroup</th>\n",
              "      <th>handcapgroup</th>\n",
              "      <th>no-show</th>\n",
              "    </tr>\n",
              "  </thead>\n",
              "  <tbody>\n",
              "    <tr>\n",
              "      <th>0</th>\n",
              "      <td>1</td>\n",
              "      <td>1</td>\n",
              "      <td>0</td>\n",
              "      <td>0</td>\n",
              "      <td>0</td>\n",
              "      <td>0</td>\n",
              "      <td>7</td>\n",
              "      <td>1</td>\n",
              "      <td>0</td>\n",
              "      <td>0</td>\n",
              "      <td>0</td>\n",
              "    </tr>\n",
              "    <tr>\n",
              "      <th>1</th>\n",
              "      <td>1</td>\n",
              "      <td>0</td>\n",
              "      <td>0</td>\n",
              "      <td>0</td>\n",
              "      <td>0</td>\n",
              "      <td>0</td>\n",
              "      <td>7</td>\n",
              "      <td>1</td>\n",
              "      <td>0</td>\n",
              "      <td>0</td>\n",
              "      <td>0</td>\n",
              "    </tr>\n",
              "    <tr>\n",
              "      <th>2</th>\n",
              "      <td>1</td>\n",
              "      <td>1</td>\n",
              "      <td>0</td>\n",
              "      <td>0</td>\n",
              "      <td>0</td>\n",
              "      <td>0</td>\n",
              "      <td>7</td>\n",
              "      <td>1</td>\n",
              "      <td>0</td>\n",
              "      <td>0</td>\n",
              "      <td>0</td>\n",
              "    </tr>\n",
              "    <tr>\n",
              "      <th>3</th>\n",
              "      <td>1</td>\n",
              "      <td>1</td>\n",
              "      <td>0</td>\n",
              "      <td>0</td>\n",
              "      <td>0</td>\n",
              "      <td>0</td>\n",
              "      <td>7</td>\n",
              "      <td>1</td>\n",
              "      <td>0</td>\n",
              "      <td>0</td>\n",
              "      <td>0</td>\n",
              "    </tr>\n",
              "    <tr>\n",
              "      <th>4</th>\n",
              "      <td>1</td>\n",
              "      <td>0</td>\n",
              "      <td>0</td>\n",
              "      <td>0</td>\n",
              "      <td>0</td>\n",
              "      <td>0</td>\n",
              "      <td>8</td>\n",
              "      <td>1</td>\n",
              "      <td>0</td>\n",
              "      <td>0</td>\n",
              "      <td>0</td>\n",
              "    </tr>\n",
              "  </tbody>\n",
              "</table>\n",
              "</div>"
            ],
            "text/plain": [
              "   gender  scholarship  hipertension  diabetes  alcoholism  sms_received  \\\n",
              "0       1            1             0         0           0             0   \n",
              "1       1            0             0         0           0             0   \n",
              "2       1            1             0         0           0             0   \n",
              "3       1            1             0         0           0             0   \n",
              "4       1            0             0         0           0             0   \n",
              "\n",
              "   scheduledhour  samedayflag  schedulehourgroup  handcapgroup  no-show  \n",
              "0              7            1                  0             0        0  \n",
              "1              7            1                  0             0        0  \n",
              "2              7            1                  0             0        0  \n",
              "3              7            1                  0             0        0  \n",
              "4              8            1                  0             0        0  "
            ]
          },
          "metadata": {
            "tags": []
          },
          "execution_count": 108
        }
      ]
    },
    {
      "cell_type": "code",
      "metadata": {
        "ExecuteTime": {
          "end_time": "2020-05-07T15:29:54.247413Z",
          "start_time": "2020-05-07T15:29:31.199Z"
        },
        "id": "jR5CY1uzMnKC",
        "colab_type": "code",
        "colab": {}
      },
      "source": [
        "opt3.to_csv('data/opt3.csv',index = False)"
      ],
      "execution_count": 0,
      "outputs": []
    },
    {
      "cell_type": "markdown",
      "metadata": {
        "id": "DqRy8yJ9MnKD",
        "colab_type": "text"
      },
      "source": [
        "### Random Forest Classifier. Feature importance. Opción 4"
      ]
    },
    {
      "cell_type": "code",
      "metadata": {
        "ExecuteTime": {
          "end_time": "2020-05-07T19:07:40.851458Z",
          "start_time": "2020-05-07T19:07:40.836197Z"
        },
        "id": "y8pbaG3oMnKD",
        "colab_type": "code",
        "colab": {}
      },
      "source": [
        "opt4 = citas_dummies_reduction.copy()"
      ],
      "execution_count": 0,
      "outputs": []
    },
    {
      "cell_type": "code",
      "metadata": {
        "ExecuteTime": {
          "end_time": "2020-05-07T19:07:41.826021Z",
          "start_time": "2020-05-07T19:07:41.798292Z"
        },
        "id": "S_ktpR1-MnKF",
        "colab_type": "code",
        "colab": {}
      },
      "source": [
        "X = opt4.iloc[:,:-1].values\n",
        "y = opt4.iloc[:, -1].values"
      ],
      "execution_count": 0,
      "outputs": []
    },
    {
      "cell_type": "code",
      "metadata": {
        "ExecuteTime": {
          "end_time": "2020-05-07T19:07:45.606888Z",
          "start_time": "2020-05-07T19:07:45.551982Z"
        },
        "id": "vQqsnchxMnKG",
        "colab_type": "code",
        "colab": {}
      },
      "source": [
        "X_train, X_test, y_train, y_test = train_test_split(X, y, stratify = y, test_size = 0.2, shuffle = True, random_state = 42)"
      ],
      "execution_count": 0,
      "outputs": []
    },
    {
      "cell_type": "code",
      "metadata": {
        "ExecuteTime": {
          "end_time": "2020-05-07T19:07:51.276121Z",
          "start_time": "2020-05-07T19:07:46.546577Z"
        },
        "id": "lQxkaK22MnKK",
        "colab_type": "code",
        "colab": {}
      },
      "source": [
        "tree = RandomForestClassifier().fit(X_train, y_train)"
      ],
      "execution_count": 0,
      "outputs": []
    },
    {
      "cell_type": "code",
      "metadata": {
        "ExecuteTime": {
          "end_time": "2020-05-07T19:07:52.210100Z",
          "start_time": "2020-05-07T19:07:52.122133Z"
        },
        "id": "TsjoJR_ZMnKM",
        "colab_type": "code",
        "colab": {}
      },
      "source": [
        "def plot_feature_importances_show(df, model):\n",
        "    \n",
        "    names = df.columns[model.feature_importances_.argsort()]\n",
        "    model.feature_importances_.sort()\n",
        "    plt.figure(figsize=(8,6))\n",
        "    n_features = len(names)\n",
        "    plt.barh(range(n_features), np.sort(tree.feature_importances_), align='center')\n",
        "    plt.yticks(np.arange(n_features), names)\n",
        "    plt.xlabel(\"Feature importance\")\n",
        "    plt.ylabel(\"Feature\")\n",
        "    plt.ylim(-1, n_features)"
      ],
      "execution_count": 0,
      "outputs": []
    },
    {
      "cell_type": "code",
      "metadata": {
        "ExecuteTime": {
          "end_time": "2020-05-07T19:07:55.547487Z",
          "start_time": "2020-05-07T19:07:54.821823Z"
        },
        "id": "RCRwWuIRMnKO",
        "colab_type": "code",
        "colab": {},
        "outputId": "605776fc-c40b-4c9c-9aaf-767e67deb17f"
      },
      "source": [
        "plot_feature_importances_show(opt4, tree)"
      ],
      "execution_count": 0,
      "outputs": [
        {
          "output_type": "display_data",
          "data": {
            "image/png": "[encoded data removed]",
            "text/plain": [
              "<Figure size 576x432 with 1 Axes>"
            ]
          },
          "metadata": {
            "tags": [],
            "needs_background": "light"
          }
        }
      ]
    },
    {
      "cell_type": "code",
      "metadata": {
        "ExecuteTime": {
          "end_time": "2020-05-07T19:07:59.000059Z",
          "start_time": "2020-05-07T19:07:58.982572Z"
        },
        "id": "A6ev-C_mMnKQ",
        "colab_type": "code",
        "colab": {}
      },
      "source": [
        "opt4 = opt4[['gender', 'neighbourhood', 'scholarship', 'hipertension', 'diabetes',\n",
        "       'alcoholism', 'sms_received', 'scheduledweekday', 'scheduledhour',\n",
        "       'appointmentweekday', 'samedayflag',\n",
        "       'schedulehourgroup', 'new_age', 'handcapgroup', 'days_to_appointment',\n",
        "       'no-show']]"
      ],
      "execution_count": 0,
      "outputs": []
    },
    {
      "cell_type": "code",
      "metadata": {
        "ExecuteTime": {
          "end_time": "2020-05-07T15:29:54.278834Z",
          "start_time": "2020-05-07T15:29:31.266Z"
        },
        "id": "RFyxSOpcMnKR",
        "colab_type": "code",
        "colab": {}
      },
      "source": [
        "opt4.to_csv(\"data/opt4.csv\", index = False)"
      ],
      "execution_count": 0,
      "outputs": []
    },
    {
      "cell_type": "markdown",
      "metadata": {
        "id": "qmtkbUKPMnKU",
        "colab_type": "text"
      },
      "source": [
        "### PCA (Principal Component Analysis)"
      ]
    },
    {
      "cell_type": "code",
      "metadata": {
        "ExecuteTime": {
          "end_time": "2020-05-07T19:08:19.661014Z",
          "start_time": "2020-05-07T19:08:19.647749Z"
        },
        "id": "pE-02wu8MnKV",
        "colab_type": "code",
        "colab": {}
      },
      "source": [
        "pca_df = citas_dummies_reduction.copy()"
      ],
      "execution_count": 0,
      "outputs": []
    },
    {
      "cell_type": "code",
      "metadata": {
        "ExecuteTime": {
          "end_time": "2020-05-07T19:08:20.815834Z",
          "start_time": "2020-05-07T19:08:20.749746Z"
        },
        "id": "zw-GmyYVMnKW",
        "colab_type": "code",
        "colab": {}
      },
      "source": [
        "X = pca_df.iloc[:,:-1].values\n",
        "y = pca_df.iloc[:, -1].values\n",
        "\n",
        "X_train, X_test, y_train, y_test = train_test_split(X, y, stratify = y, shuffle = True, random_state = 42)"
      ],
      "execution_count": 0,
      "outputs": []
    },
    {
      "cell_type": "code",
      "metadata": {
        "ExecuteTime": {
          "end_time": "2020-05-07T19:08:21.807951Z",
          "start_time": "2020-05-07T19:08:21.768116Z"
        },
        "id": "Sy8I6Z5MMnKY",
        "colab_type": "code",
        "colab": {}
      },
      "source": [
        "sc_X = StandardScaler()\n",
        "X_train_pca = sc_X.fit_transform(X_train)\n",
        "X_test_pca = sc_X.transform(X_test)"
      ],
      "execution_count": 0,
      "outputs": []
    },
    {
      "cell_type": "code",
      "metadata": {
        "ExecuteTime": {
          "end_time": "2020-05-07T19:08:23.052532Z",
          "start_time": "2020-05-07T19:08:22.813357Z"
        },
        "id": "n0Hsch8eMnKb",
        "colab_type": "code",
        "colab": {}
      },
      "source": [
        "pca = PCA(n_components = 2)\n",
        "pc = pca.fit_transform(X_train_pca)"
      ],
      "execution_count": 0,
      "outputs": []
    },
    {
      "cell_type": "code",
      "metadata": {
        "ExecuteTime": {
          "end_time": "2020-05-07T19:08:24.232659Z",
          "start_time": "2020-05-07T19:08:24.217715Z"
        },
        "id": "QEyakzumMnKd",
        "colab_type": "code",
        "colab": {}
      },
      "source": [
        "pca_df = pd.DataFrame(data=pc, columns = ['PC1', 'PC2'])"
      ],
      "execution_count": 0,
      "outputs": []
    },
    {
      "cell_type": "code",
      "metadata": {
        "ExecuteTime": {
          "end_time": "2020-05-07T19:08:25.284960Z",
          "start_time": "2020-05-07T19:08:25.243691Z"
        },
        "id": "Q3ewM5pMMnKg",
        "colab_type": "code",
        "colab": {}
      },
      "source": [
        "pca_df['no-show'] = y_train"
      ],
      "execution_count": 0,
      "outputs": []
    },
    {
      "cell_type": "markdown",
      "metadata": {
        "id": "3ybmdP_BMnKi",
        "colab_type": "text"
      },
      "source": [
        "Añadimos el resto de columnas para poder hacer el <code>hue</code>"
      ]
    },
    {
      "cell_type": "code",
      "metadata": {
        "ExecuteTime": {
          "end_time": "2020-05-07T19:08:28.436203Z",
          "start_time": "2020-05-07T19:08:28.402120Z"
        },
        "id": "Scsiu3ZWMnKi",
        "colab_type": "code",
        "colab": {}
      },
      "source": [
        "e = 0\n",
        "for col in citas_dummies_reduction.columns[:-1]:\n",
        "    pca_df[col] = X_train[:,e]\n",
        "    e+=1"
      ],
      "execution_count": 0,
      "outputs": []
    },
    {
      "cell_type": "markdown",
      "metadata": {
        "id": "bCXR61HBMnKk",
        "colab_type": "text"
      },
      "source": [
        "Creamos un desplegable para elegir con que pintar"
      ]
    },
    {
      "cell_type": "code",
      "metadata": {
        "ExecuteTime": {
          "end_time": "2020-05-07T19:08:33.272978Z",
          "start_time": "2020-05-07T19:08:29.740274Z"
        },
        "id": "xH9dR2sbMnKl",
        "colab_type": "code",
        "colab": {},
        "outputId": "8a4b2fae-4c17-423b-e8fe-f337261aefcd"
      },
      "source": [
        "def hue_plot(hue): \n",
        "    sns.relplot(x='PC1', y='PC2', hue=hue, data=pca_df)  \n",
        "    \n",
        "_= interact(hue_plot, hue= pca_df.columns[2:])"
      ],
      "execution_count": 0,
      "outputs": [
        {
          "output_type": "display_data",
          "data": {
            "application/vnd.jupyter.widget-view+json": {
              "model_id": "09dd650d2c60436ba13957daf7f5171c",
              "version_major": 2,
              "version_minor": 0
            },
            "text/plain": [
              "interactive(children=(Dropdown(description='hue', options=('no-show', 'gender', 'neighbourhood', 'scholarship'…"
            ]
          },
          "metadata": {
            "tags": []
          }
        }
      ]
    },
    {
      "cell_type": "markdown",
      "metadata": {
        "id": "o3TGBaY0MnKo",
        "colab_type": "text"
      },
      "source": [
        "## Modeling"
      ]
    },
    {
      "cell_type": "markdown",
      "metadata": {
        "id": "74lUds45MnKp",
        "colab_type": "text"
      },
      "source": [
        "### Logistic Regression"
      ]
    },
    {
      "cell_type": "code",
      "metadata": {
        "ExecuteTime": {
          "end_time": "2020-05-07T19:10:19.121245Z",
          "start_time": "2020-05-07T19:10:19.021590Z"
        },
        "id": "88r29d3lMnKp",
        "colab_type": "code",
        "colab": {}
      },
      "source": [
        "X_train, X_test, y_train, y_test = train_test_split(X, y, stratify=y, random_state=42)"
      ],
      "execution_count": 0,
      "outputs": []
    },
    {
      "cell_type": "code",
      "metadata": {
        "ExecuteTime": {
          "end_time": "2020-05-07T19:10:20.727779Z",
          "start_time": "2020-05-07T19:10:20.167627Z"
        },
        "id": "cnko-SLkMnKs",
        "colab_type": "code",
        "colab": {},
        "outputId": "bc789172-8e4a-4af3-f84f-866677f3efe7"
      },
      "source": [
        "logreg = LogisticRegression().fit(X_train, y_train)\n",
        "print(\"Training set accuracy: {:.3f}\".format(logreg.score(X_train, y_train)))\n",
        "print(\"Test set accuracy: {:.3f}\".format(logreg.score(X_test, y_test)))"
      ],
      "execution_count": 0,
      "outputs": [
        {
          "output_type": "stream",
          "text": [
            "Training set accuracy: 0.719\n",
            "Test set accuracy: 0.717\n"
          ],
          "name": "stdout"
        },
        {
          "output_type": "stream",
          "text": [
            "/Users/MarLizana/opt/anaconda3/lib/python3.7/site-packages/sklearn/linear_model/_logistic.py:940: ConvergenceWarning: lbfgs failed to converge (status=1):\n",
            "STOP: TOTAL NO. of ITERATIONS REACHED LIMIT.\n",
            "\n",
            "Increase the number of iterations (max_iter) or scale the data as shown in:\n",
            "    https://scikit-learn.org/stable/modules/preprocessing.html\n",
            "Please also refer to the documentation for alternative solver options:\n",
            "    https://scikit-learn.org/stable/modules/linear_model.html#logistic-regression\n",
            "  extra_warning_msg=_LOGISTIC_SOLVER_CONVERGENCE_MSG)\n"
          ],
          "name": "stderr"
        }
      ]
    },
    {
      "cell_type": "code",
      "metadata": {
        "ExecuteTime": {
          "end_time": "2020-05-07T19:10:23.400285Z",
          "start_time": "2020-05-07T19:10:22.843668Z"
        },
        "scrolled": false,
        "id": "wJAxGrO1MnKz",
        "colab_type": "code",
        "colab": {},
        "outputId": "7e0d6885-118d-472e-f104-14b9e938760b"
      },
      "source": [
        "y_pred = logreg.fit(X_train, y_train).predict(X_test)"
      ],
      "execution_count": 0,
      "outputs": [
        {
          "output_type": "stream",
          "text": [
            "/Users/MarLizana/opt/anaconda3/lib/python3.7/site-packages/sklearn/linear_model/_logistic.py:940: ConvergenceWarning: lbfgs failed to converge (status=1):\n",
            "STOP: TOTAL NO. of ITERATIONS REACHED LIMIT.\n",
            "\n",
            "Increase the number of iterations (max_iter) or scale the data as shown in:\n",
            "    https://scikit-learn.org/stable/modules/preprocessing.html\n",
            "Please also refer to the documentation for alternative solver options:\n",
            "    https://scikit-learn.org/stable/modules/linear_model.html#logistic-regression\n",
            "  extra_warning_msg=_LOGISTIC_SOLVER_CONVERGENCE_MSG)\n"
          ],
          "name": "stderr"
        }
      ]
    },
    {
      "cell_type": "markdown",
      "metadata": {
        "id": "KAxWzwm-MnK2",
        "colab_type": "text"
      },
      "source": [
        "#### Model Evaluation"
      ]
    },
    {
      "cell_type": "code",
      "metadata": {
        "ExecuteTime": {
          "end_time": "2020-05-07T19:10:29.987241Z",
          "start_time": "2020-05-07T19:10:29.981441Z"
        },
        "id": "4q7-HdIsMnK4",
        "colab_type": "code",
        "colab": {}
      },
      "source": [
        "from sklearn.metrics import confusion_matrix, classification_report\n",
        "from sklearn.metrics import accuracy_score, precision_score, recall_score, f1_score, log_loss\n",
        "from sklearn.metrics import auc, roc_curve, roc_auc_score, precision_recall_curve"
      ],
      "execution_count": 0,
      "outputs": []
    },
    {
      "cell_type": "code",
      "metadata": {
        "ExecuteTime": {
          "end_time": "2020-05-07T19:10:31.004860Z",
          "start_time": "2020-05-07T19:10:30.972084Z"
        },
        "scrolled": true,
        "id": "cjknV4xlMnK7",
        "colab_type": "code",
        "colab": {},
        "outputId": "f5ae2df9-cd4e-4216-856b-b49d375a8649"
      },
      "source": [
        "confusion_matrix(y_test, y_pred)"
      ],
      "execution_count": 0,
      "outputs": [
        {
          "output_type": "execute_result",
          "data": {
            "text/plain": [
              "array([[3122, 1115],\n",
              "       [1281, 2956]])"
            ]
          },
          "metadata": {
            "tags": []
          },
          "execution_count": 128
        }
      ]
    },
    {
      "cell_type": "code",
      "metadata": {
        "ExecuteTime": {
          "end_time": "2020-05-07T19:10:33.026264Z",
          "start_time": "2020-05-07T19:10:32.641997Z"
        },
        "scrolled": true,
        "id": "bi-51KBaMnK8",
        "colab_type": "code",
        "colab": {},
        "outputId": "09fe12ed-a620-41c8-9b07-7c8effd09a24"
      },
      "source": [
        "sns.heatmap(confusion_matrix(y_test, y_pred))"
      ],
      "execution_count": 0,
      "outputs": [
        {
          "output_type": "execute_result",
          "data": {
            "text/plain": [
              "<matplotlib.axes._subplots.AxesSubplot at 0x12d6594d0>"
            ]
          },
          "metadata": {
            "tags": []
          },
          "execution_count": 129
        },
        {
          "output_type": "display_data",
          "data": {
            "image/png": "[encoded data removed]",
            "text/plain": [
              "<Figure size 1152x432 with 2 Axes>"
            ]
          },
          "metadata": {
            "tags": [],
            "needs_background": "light"
          }
        }
      ]
    },
    {
      "cell_type": "code",
      "metadata": {
        "ExecuteTime": {
          "end_time": "2020-05-07T19:10:35.012199Z",
          "start_time": "2020-05-07T19:10:34.978300Z"
        },
        "scrolled": false,
        "id": "Zx52rvl8MnK-",
        "colab_type": "code",
        "colab": {},
        "outputId": "03c5bfe8-a74c-4621-a2d3-c9bded8e0e3e"
      },
      "source": [
        "print(classification_report(y_test, y_pred))"
      ],
      "execution_count": 0,
      "outputs": [
        {
          "output_type": "stream",
          "text": [
            "              precision    recall  f1-score   support\n",
            "\n",
            "           0       0.71      0.74      0.72      4237\n",
            "           1       0.73      0.70      0.71      4237\n",
            "\n",
            "    accuracy                           0.72      8474\n",
            "   macro avg       0.72      0.72      0.72      8474\n",
            "weighted avg       0.72      0.72      0.72      8474\n",
            "\n"
          ],
          "name": "stdout"
        }
      ]
    },
    {
      "cell_type": "markdown",
      "metadata": {
        "id": "V0xGgwtuMnLB",
        "colab_type": "text"
      },
      "source": [
        "### Random forest"
      ]
    },
    {
      "cell_type": "code",
      "metadata": {
        "id": "UJLQzejSfxA-",
        "colab_type": "code",
        "colab": {
          "base_uri": "https://localhost:8080/",
          "height": 86
        },
        "outputId": "1b2252eb-6b69-4a57-dd56-efdb77231c58"
      },
      "source": [
        "citas.columns"
      ],
      "execution_count": 49,
      "outputs": [
        {
          "output_type": "execute_result",
          "data": {
            "text/plain": [
              "Index(['neighbourhood', 'scholarship', 'diabetes', 'alcoholism',\n",
              "       'sms_received', 'scheduledhour', 'appointmenthour', 'samedayflag',\n",
              "       'schedulehourgroup', 'new_age', 'days_to_appointment'],\n",
              "      dtype='object')"
            ]
          },
          "metadata": {
            "tags": []
          },
          "execution_count": 49
        }
      ]
    },
    {
      "cell_type": "code",
      "metadata": {
        "id": "UYHo4yuDfenH",
        "colab_type": "code",
        "colab": {
          "base_uri": "https://localhost:8080/",
          "height": 707
        },
        "outputId": "757e2a24-ae87-4c31-8198-d16eac9c4c97"
      },
      "source": [
        "X = citas.iloc[:, :-1]\n",
        "y = citas['no-show']"
      ],
      "execution_count": 48,
      "outputs": [
        {
          "output_type": "error",
          "ename": "KeyError",
          "evalue": "ignored",
          "traceback": [
            "\u001b[0;31m---------------------------------------------------------------------------\u001b[0m",
            "\u001b[0;31mKeyError\u001b[0m                                  Traceback (most recent call last)",
            "\u001b[0;32m/usr/local/lib/python3.6/dist-packages/pandas/core/indexes/base.py\u001b[0m in \u001b[0;36mget_loc\u001b[0;34m(self, key, method, tolerance)\u001b[0m\n\u001b[1;32m   2645\u001b[0m             \u001b[0;32mtry\u001b[0m\u001b[0;34m:\u001b[0m\u001b[0;34m\u001b[0m\u001b[0;34m\u001b[0m\u001b[0m\n\u001b[0;32m-> 2646\u001b[0;31m                 \u001b[0;32mreturn\u001b[0m \u001b[0mself\u001b[0m\u001b[0;34m.\u001b[0m\u001b[0m_engine\u001b[0m\u001b[0;34m.\u001b[0m\u001b[0mget_loc\u001b[0m\u001b[0;34m(\u001b[0m\u001b[0mkey\u001b[0m\u001b[0;34m)\u001b[0m\u001b[0;34m\u001b[0m\u001b[0;34m\u001b[0m\u001b[0m\n\u001b[0m\u001b[1;32m   2647\u001b[0m             \u001b[0;32mexcept\u001b[0m \u001b[0mKeyError\u001b[0m\u001b[0;34m:\u001b[0m\u001b[0;34m\u001b[0m\u001b[0;34m\u001b[0m\u001b[0m\n",
            "\u001b[0;32mpandas/_libs/index.pyx\u001b[0m in \u001b[0;36mpandas._libs.index.IndexEngine.get_loc\u001b[0;34m()\u001b[0m\n",
            "\u001b[0;32mpandas/_libs/index.pyx\u001b[0m in \u001b[0;36mpandas._libs.index.IndexEngine.get_loc\u001b[0;34m()\u001b[0m\n",
            "\u001b[0;32mpandas/_libs/hashtable_class_helper.pxi\u001b[0m in \u001b[0;36mpandas._libs.hashtable.PyObjectHashTable.get_item\u001b[0;34m()\u001b[0m\n",
            "\u001b[0;32mpandas/_libs/hashtable_class_helper.pxi\u001b[0m in \u001b[0;36mpandas._libs.hashtable.PyObjectHashTable.get_item\u001b[0;34m()\u001b[0m\n",
            "\u001b[0;31mKeyError\u001b[0m: 'no-show'",
            "\nDuring handling of the above exception, another exception occurred:\n",
            "\u001b[0;31mKeyError\u001b[0m                                  Traceback (most recent call last)",
            "\u001b[0;32m<ipython-input-48-8a052c7ef9ea>\u001b[0m in \u001b[0;36m<module>\u001b[0;34m()\u001b[0m\n\u001b[1;32m      1\u001b[0m \u001b[0mX\u001b[0m \u001b[0;34m=\u001b[0m \u001b[0mcitas\u001b[0m\u001b[0;34m.\u001b[0m\u001b[0miloc\u001b[0m\u001b[0;34m[\u001b[0m\u001b[0;34m:\u001b[0m\u001b[0;34m,\u001b[0m \u001b[0;34m:\u001b[0m\u001b[0;34m-\u001b[0m\u001b[0;36m1\u001b[0m\u001b[0;34m]\u001b[0m\u001b[0;34m\u001b[0m\u001b[0;34m\u001b[0m\u001b[0m\n\u001b[0;32m----> 2\u001b[0;31m \u001b[0my\u001b[0m \u001b[0;34m=\u001b[0m \u001b[0mcitas\u001b[0m\u001b[0;34m[\u001b[0m\u001b[0;34m'no-show'\u001b[0m\u001b[0;34m]\u001b[0m\u001b[0;34m\u001b[0m\u001b[0;34m\u001b[0m\u001b[0m\n\u001b[0m",
            "\u001b[0;32m/usr/local/lib/python3.6/dist-packages/pandas/core/frame.py\u001b[0m in \u001b[0;36m__getitem__\u001b[0;34m(self, key)\u001b[0m\n\u001b[1;32m   2798\u001b[0m             \u001b[0;32mif\u001b[0m \u001b[0mself\u001b[0m\u001b[0;34m.\u001b[0m\u001b[0mcolumns\u001b[0m\u001b[0;34m.\u001b[0m\u001b[0mnlevels\u001b[0m \u001b[0;34m>\u001b[0m \u001b[0;36m1\u001b[0m\u001b[0;34m:\u001b[0m\u001b[0;34m\u001b[0m\u001b[0;34m\u001b[0m\u001b[0m\n\u001b[1;32m   2799\u001b[0m                 \u001b[0;32mreturn\u001b[0m \u001b[0mself\u001b[0m\u001b[0;34m.\u001b[0m\u001b[0m_getitem_multilevel\u001b[0m\u001b[0;34m(\u001b[0m\u001b[0mkey\u001b[0m\u001b[0;34m)\u001b[0m\u001b[0;34m\u001b[0m\u001b[0;34m\u001b[0m\u001b[0m\n\u001b[0;32m-> 2800\u001b[0;31m             \u001b[0mindexer\u001b[0m \u001b[0;34m=\u001b[0m \u001b[0mself\u001b[0m\u001b[0;34m.\u001b[0m\u001b[0mcolumns\u001b[0m\u001b[0;34m.\u001b[0m\u001b[0mget_loc\u001b[0m\u001b[0;34m(\u001b[0m\u001b[0mkey\u001b[0m\u001b[0;34m)\u001b[0m\u001b[0;34m\u001b[0m\u001b[0;34m\u001b[0m\u001b[0m\n\u001b[0m\u001b[1;32m   2801\u001b[0m             \u001b[0;32mif\u001b[0m \u001b[0mis_integer\u001b[0m\u001b[0;34m(\u001b[0m\u001b[0mindexer\u001b[0m\u001b[0;34m)\u001b[0m\u001b[0;34m:\u001b[0m\u001b[0;34m\u001b[0m\u001b[0;34m\u001b[0m\u001b[0m\n\u001b[1;32m   2802\u001b[0m                 \u001b[0mindexer\u001b[0m \u001b[0;34m=\u001b[0m \u001b[0;34m[\u001b[0m\u001b[0mindexer\u001b[0m\u001b[0;34m]\u001b[0m\u001b[0;34m\u001b[0m\u001b[0;34m\u001b[0m\u001b[0m\n",
            "\u001b[0;32m/usr/local/lib/python3.6/dist-packages/pandas/core/indexes/base.py\u001b[0m in \u001b[0;36mget_loc\u001b[0;34m(self, key, method, tolerance)\u001b[0m\n\u001b[1;32m   2646\u001b[0m                 \u001b[0;32mreturn\u001b[0m \u001b[0mself\u001b[0m\u001b[0;34m.\u001b[0m\u001b[0m_engine\u001b[0m\u001b[0;34m.\u001b[0m\u001b[0mget_loc\u001b[0m\u001b[0;34m(\u001b[0m\u001b[0mkey\u001b[0m\u001b[0;34m)\u001b[0m\u001b[0;34m\u001b[0m\u001b[0;34m\u001b[0m\u001b[0m\n\u001b[1;32m   2647\u001b[0m             \u001b[0;32mexcept\u001b[0m \u001b[0mKeyError\u001b[0m\u001b[0;34m:\u001b[0m\u001b[0;34m\u001b[0m\u001b[0;34m\u001b[0m\u001b[0m\n\u001b[0;32m-> 2648\u001b[0;31m                 \u001b[0;32mreturn\u001b[0m \u001b[0mself\u001b[0m\u001b[0;34m.\u001b[0m\u001b[0m_engine\u001b[0m\u001b[0;34m.\u001b[0m\u001b[0mget_loc\u001b[0m\u001b[0;34m(\u001b[0m\u001b[0mself\u001b[0m\u001b[0;34m.\u001b[0m\u001b[0m_maybe_cast_indexer\u001b[0m\u001b[0;34m(\u001b[0m\u001b[0mkey\u001b[0m\u001b[0;34m)\u001b[0m\u001b[0;34m)\u001b[0m\u001b[0;34m\u001b[0m\u001b[0;34m\u001b[0m\u001b[0m\n\u001b[0m\u001b[1;32m   2649\u001b[0m         \u001b[0mindexer\u001b[0m \u001b[0;34m=\u001b[0m \u001b[0mself\u001b[0m\u001b[0;34m.\u001b[0m\u001b[0mget_indexer\u001b[0m\u001b[0;34m(\u001b[0m\u001b[0;34m[\u001b[0m\u001b[0mkey\u001b[0m\u001b[0;34m]\u001b[0m\u001b[0;34m,\u001b[0m \u001b[0mmethod\u001b[0m\u001b[0;34m=\u001b[0m\u001b[0mmethod\u001b[0m\u001b[0;34m,\u001b[0m \u001b[0mtolerance\u001b[0m\u001b[0;34m=\u001b[0m\u001b[0mtolerance\u001b[0m\u001b[0;34m)\u001b[0m\u001b[0;34m\u001b[0m\u001b[0;34m\u001b[0m\u001b[0m\n\u001b[1;32m   2650\u001b[0m         \u001b[0;32mif\u001b[0m \u001b[0mindexer\u001b[0m\u001b[0;34m.\u001b[0m\u001b[0mndim\u001b[0m \u001b[0;34m>\u001b[0m \u001b[0;36m1\u001b[0m \u001b[0;32mor\u001b[0m \u001b[0mindexer\u001b[0m\u001b[0;34m.\u001b[0m\u001b[0msize\u001b[0m \u001b[0;34m>\u001b[0m \u001b[0;36m1\u001b[0m\u001b[0;34m:\u001b[0m\u001b[0;34m\u001b[0m\u001b[0;34m\u001b[0m\u001b[0m\n",
            "\u001b[0;32mpandas/_libs/index.pyx\u001b[0m in \u001b[0;36mpandas._libs.index.IndexEngine.get_loc\u001b[0;34m()\u001b[0m\n",
            "\u001b[0;32mpandas/_libs/index.pyx\u001b[0m in \u001b[0;36mpandas._libs.index.IndexEngine.get_loc\u001b[0;34m()\u001b[0m\n",
            "\u001b[0;32mpandas/_libs/hashtable_class_helper.pxi\u001b[0m in \u001b[0;36mpandas._libs.hashtable.PyObjectHashTable.get_item\u001b[0;34m()\u001b[0m\n",
            "\u001b[0;32mpandas/_libs/hashtable_class_helper.pxi\u001b[0m in \u001b[0;36mpandas._libs.hashtable.PyObjectHashTable.get_item\u001b[0;34m()\u001b[0m\n",
            "\u001b[0;31mKeyError\u001b[0m: 'no-show'"
          ]
        }
      ]
    },
    {
      "cell_type": "code",
      "metadata": {
        "ExecuteTime": {
          "end_time": "2020-05-07T19:10:59.110697Z",
          "start_time": "2020-05-07T19:10:59.062233Z"
        },
        "id": "sHquGZc3MnLB",
        "colab_type": "code",
        "colab": {}
      },
      "source": [
        "X_train, X_test, y_train, y_test = train_test_split(X, y, stratify = y, test_size = 0.2, shuffle = True, random_state = 42)"
      ],
      "execution_count": 0,
      "outputs": []
    },
    {
      "cell_type": "code",
      "metadata": {
        "ExecuteTime": {
          "end_time": "2020-05-07T19:11:04.300888Z",
          "start_time": "2020-05-07T19:11:00.139191Z"
        },
        "id": "oPnKYqrHMnLC",
        "colab_type": "code",
        "colab": {}
      },
      "source": [
        "tree = RandomForestClassifier().fit(X_train, y_train)"
      ],
      "execution_count": 0,
      "outputs": []
    },
    {
      "cell_type": "code",
      "metadata": {
        "ExecuteTime": {
          "end_time": "2020-05-07T19:11:09.020333Z",
          "start_time": "2020-05-07T19:11:07.822891Z"
        },
        "id": "hM-_ZA6_MnLE",
        "colab_type": "code",
        "colab": {},
        "outputId": "9dc7e539-9725-40c9-8297-642b73c6024e"
      },
      "source": [
        "print(\"Accuracy on training set: {:.3f}\".format(tree.score(X_train, y_train)))\n",
        "print(\"Accuracy on test set: {:.3f}\".format(tree.score(X_test, y_test)))"
      ],
      "execution_count": 0,
      "outputs": [
        {
          "output_type": "stream",
          "text": [
            "Accuracy on training set: 0.988\n",
            "Accuracy on test set: 0.744\n"
          ],
          "name": "stdout"
        }
      ]
    },
    {
      "cell_type": "code",
      "metadata": {
        "id": "XjQuhIYEelIZ",
        "colab_type": "code",
        "colab": {}
      },
      "source": [
        ""
      ],
      "execution_count": 0,
      "outputs": []
    },
    {
      "cell_type": "code",
      "metadata": {
        "id": "XyA74RC7elde",
        "colab_type": "code",
        "colab": {}
      },
      "source": [
        ""
      ],
      "execution_count": 0,
      "outputs": []
    },
    {
      "cell_type": "markdown",
      "metadata": {
        "id": "LcXFtKwtMnLF",
        "colab_type": "text"
      },
      "source": [
        "#### Baseline report"
      ]
    },
    {
      "cell_type": "code",
      "metadata": {
        "ExecuteTime": {
          "end_time": "2020-05-07T19:11:34.796417Z",
          "start_time": "2020-05-07T19:11:34.764832Z"
        },
        "id": "8r_g72shMnLF",
        "colab_type": "code",
        "colab": {}
      },
      "source": [
        "def baseline_report(model, X_train, X_test, y_train, y_test, name):\n",
        "    strat_k_fold = StratifiedKFold(n_splits=5, shuffle=True)\n",
        "    model.fit(X_train, y_train)\n",
        "    accuracy     = np.mean(cross_val_score(model, X_train, y_train, cv=strat_k_fold, scoring='accuracy'))\n",
        "    precision    = np.mean(cross_val_score(model, X_train, y_train, cv=strat_k_fold, scoring='precision'))\n",
        "    recall       = np.mean(cross_val_score(model, X_train, y_train, cv=strat_k_fold, scoring='recall'))\n",
        "    f1score      = np.mean(cross_val_score(model, X_train, y_train, cv=strat_k_fold, scoring='f1'))\n",
        "    rocauc       = np.mean(cross_val_score(model, X_train, y_train, cv=strat_k_fold, scoring='roc_auc'))\n",
        "    y_pred = model.predict(X_test)\n",
        "    #logloss      = log_loss(y_test, y_pred)   # SVC & LinearSVC unable to use cvs\n",
        "\n",
        "    df_model = pd.DataFrame({'model'        : [name],\n",
        "                             'accuracy'     : [accuracy],\n",
        "                             'precision'    : [precision],\n",
        "                             'recall'       : [recall],\n",
        "                             'f1score'      : [f1score],\n",
        "                             'rocauc'       : [rocauc]})\n",
        "                             #'logloss'      : [logloss]})   # timetaken: to be used for comparison later\n",
        "    return df_model"
      ],
      "execution_count": 0,
      "outputs": []
    },
    {
      "cell_type": "code",
      "metadata": {
        "ExecuteTime": {
          "end_time": "2020-05-07T19:11:41.589548Z",
          "start_time": "2020-05-07T19:11:41.577232Z"
        },
        "id": "bmSkT_VVMnLH",
        "colab_type": "code",
        "colab": {}
      },
      "source": [
        "# to evaluate baseline models\n",
        "models = {  #'gnb': GaussianNB(),\n",
        "#             'bnb': BernoulliNB(),\n",
        "#             'mnb': MultinomialNB(),\n",
        "             'logit': LogisticRegression(solver = \"sag\"),\n",
        "             'knn': KNeighborsClassifier(),\n",
        "             'decisiontree': DecisionTreeClassifier(),\n",
        "             'randomforest': RandomForestClassifier(),\n",
        "             #'svc': SVC(probability=True),\n",
        "#             'linearsvc': LinearSVC()\n",
        "         }"
      ],
      "execution_count": 0,
      "outputs": []
    },
    {
      "cell_type": "code",
      "metadata": {
        "ExecuteTime": {
          "end_time": "2020-05-07T19:13:53.560803Z",
          "start_time": "2020-05-07T19:11:44.363518Z"
        },
        "id": "qlS3lTWMMnLI",
        "colab_type": "code",
        "colab": {},
        "outputId": "944c179c-94f7-4e9a-d3b6-f139c982f32e"
      },
      "source": [
        "models_df = pd.concat([baseline_report(model, X_train, X_test, y_train, y_test, name) for (name, model) in models.items()])"
      ],
      "execution_count": 0,
      "outputs": [
        {
          "output_type": "stream",
          "text": [
            "/Users/MarLizana/opt/anaconda3/lib/python3.7/site-packages/sklearn/linear_model/_sag.py:330: ConvergenceWarning: The max_iter was reached which means the coef_ did not converge\n",
            "  \"the coef_ did not converge\", ConvergenceWarning)\n",
            "/Users/MarLizana/opt/anaconda3/lib/python3.7/site-packages/sklearn/linear_model/_sag.py:330: ConvergenceWarning: The max_iter was reached which means the coef_ did not converge\n",
            "  \"the coef_ did not converge\", ConvergenceWarning)\n",
            "/Users/MarLizana/opt/anaconda3/lib/python3.7/site-packages/sklearn/linear_model/_sag.py:330: ConvergenceWarning: The max_iter was reached which means the coef_ did not converge\n",
            "  \"the coef_ did not converge\", ConvergenceWarning)\n",
            "/Users/MarLizana/opt/anaconda3/lib/python3.7/site-packages/sklearn/linear_model/_sag.py:330: ConvergenceWarning: The max_iter was reached which means the coef_ did not converge\n",
            "  \"the coef_ did not converge\", ConvergenceWarning)\n",
            "/Users/MarLizana/opt/anaconda3/lib/python3.7/site-packages/sklearn/linear_model/_sag.py:330: ConvergenceWarning: The max_iter was reached which means the coef_ did not converge\n",
            "  \"the coef_ did not converge\", ConvergenceWarning)\n",
            "/Users/MarLizana/opt/anaconda3/lib/python3.7/site-packages/sklearn/linear_model/_sag.py:330: ConvergenceWarning: The max_iter was reached which means the coef_ did not converge\n",
            "  \"the coef_ did not converge\", ConvergenceWarning)\n",
            "/Users/MarLizana/opt/anaconda3/lib/python3.7/site-packages/sklearn/linear_model/_sag.py:330: ConvergenceWarning: The max_iter was reached which means the coef_ did not converge\n",
            "  \"the coef_ did not converge\", ConvergenceWarning)\n",
            "/Users/MarLizana/opt/anaconda3/lib/python3.7/site-packages/sklearn/linear_model/_sag.py:330: ConvergenceWarning: The max_iter was reached which means the coef_ did not converge\n",
            "  \"the coef_ did not converge\", ConvergenceWarning)\n",
            "/Users/MarLizana/opt/anaconda3/lib/python3.7/site-packages/sklearn/linear_model/_sag.py:330: ConvergenceWarning: The max_iter was reached which means the coef_ did not converge\n",
            "  \"the coef_ did not converge\", ConvergenceWarning)\n",
            "/Users/MarLizana/opt/anaconda3/lib/python3.7/site-packages/sklearn/linear_model/_sag.py:330: ConvergenceWarning: The max_iter was reached which means the coef_ did not converge\n",
            "  \"the coef_ did not converge\", ConvergenceWarning)\n",
            "/Users/MarLizana/opt/anaconda3/lib/python3.7/site-packages/sklearn/linear_model/_sag.py:330: ConvergenceWarning: The max_iter was reached which means the coef_ did not converge\n",
            "  \"the coef_ did not converge\", ConvergenceWarning)\n",
            "/Users/MarLizana/opt/anaconda3/lib/python3.7/site-packages/sklearn/linear_model/_sag.py:330: ConvergenceWarning: The max_iter was reached which means the coef_ did not converge\n",
            "  \"the coef_ did not converge\", ConvergenceWarning)\n",
            "/Users/MarLizana/opt/anaconda3/lib/python3.7/site-packages/sklearn/linear_model/_sag.py:330: ConvergenceWarning: The max_iter was reached which means the coef_ did not converge\n",
            "  \"the coef_ did not converge\", ConvergenceWarning)\n",
            "/Users/MarLizana/opt/anaconda3/lib/python3.7/site-packages/sklearn/linear_model/_sag.py:330: ConvergenceWarning: The max_iter was reached which means the coef_ did not converge\n",
            "  \"the coef_ did not converge\", ConvergenceWarning)\n",
            "/Users/MarLizana/opt/anaconda3/lib/python3.7/site-packages/sklearn/linear_model/_sag.py:330: ConvergenceWarning: The max_iter was reached which means the coef_ did not converge\n",
            "  \"the coef_ did not converge\", ConvergenceWarning)\n",
            "/Users/MarLizana/opt/anaconda3/lib/python3.7/site-packages/sklearn/linear_model/_sag.py:330: ConvergenceWarning: The max_iter was reached which means the coef_ did not converge\n",
            "  \"the coef_ did not converge\", ConvergenceWarning)\n",
            "/Users/MarLizana/opt/anaconda3/lib/python3.7/site-packages/sklearn/linear_model/_sag.py:330: ConvergenceWarning: The max_iter was reached which means the coef_ did not converge\n",
            "  \"the coef_ did not converge\", ConvergenceWarning)\n",
            "/Users/MarLizana/opt/anaconda3/lib/python3.7/site-packages/sklearn/linear_model/_sag.py:330: ConvergenceWarning: The max_iter was reached which means the coef_ did not converge\n",
            "  \"the coef_ did not converge\", ConvergenceWarning)\n",
            "/Users/MarLizana/opt/anaconda3/lib/python3.7/site-packages/sklearn/linear_model/_sag.py:330: ConvergenceWarning: The max_iter was reached which means the coef_ did not converge\n",
            "  \"the coef_ did not converge\", ConvergenceWarning)\n",
            "/Users/MarLizana/opt/anaconda3/lib/python3.7/site-packages/sklearn/linear_model/_sag.py:330: ConvergenceWarning: The max_iter was reached which means the coef_ did not converge\n",
            "  \"the coef_ did not converge\", ConvergenceWarning)\n",
            "/Users/MarLizana/opt/anaconda3/lib/python3.7/site-packages/sklearn/linear_model/_sag.py:330: ConvergenceWarning: The max_iter was reached which means the coef_ did not converge\n",
            "  \"the coef_ did not converge\", ConvergenceWarning)\n",
            "/Users/MarLizana/opt/anaconda3/lib/python3.7/site-packages/sklearn/linear_model/_sag.py:330: ConvergenceWarning: The max_iter was reached which means the coef_ did not converge\n",
            "  \"the coef_ did not converge\", ConvergenceWarning)\n",
            "/Users/MarLizana/opt/anaconda3/lib/python3.7/site-packages/sklearn/linear_model/_sag.py:330: ConvergenceWarning: The max_iter was reached which means the coef_ did not converge\n",
            "  \"the coef_ did not converge\", ConvergenceWarning)\n",
            "/Users/MarLizana/opt/anaconda3/lib/python3.7/site-packages/sklearn/linear_model/_sag.py:330: ConvergenceWarning: The max_iter was reached which means the coef_ did not converge\n",
            "  \"the coef_ did not converge\", ConvergenceWarning)\n",
            "/Users/MarLizana/opt/anaconda3/lib/python3.7/site-packages/sklearn/linear_model/_sag.py:330: ConvergenceWarning: The max_iter was reached which means the coef_ did not converge\n",
            "  \"the coef_ did not converge\", ConvergenceWarning)\n",
            "/Users/MarLizana/opt/anaconda3/lib/python3.7/site-packages/sklearn/linear_model/_sag.py:330: ConvergenceWarning: The max_iter was reached which means the coef_ did not converge\n",
            "  \"the coef_ did not converge\", ConvergenceWarning)\n"
          ],
          "name": "stderr"
        }
      ]
    },
    {
      "cell_type": "code",
      "metadata": {
        "ExecuteTime": {
          "end_time": "2020-05-07T15:29:54.380397Z",
          "start_time": "2020-05-07T15:29:31.442Z"
        },
        "id": "j4n1cChiMnLJ",
        "colab_type": "code",
        "colab": {}
      },
      "source": [
        "models_df"
      ],
      "execution_count": 0,
      "outputs": []
    },
    {
      "cell_type": "markdown",
      "metadata": {
        "heading_collapsed": true,
        "id": "f7z6BfOAMnLL",
        "colab_type": "text"
      },
      "source": [
        "### ROC/AUC"
      ]
    },
    {
      "cell_type": "markdown",
      "metadata": {
        "heading_collapsed": true,
        "hidden": true,
        "id": "Mtvdz2yHMnLL",
        "colab_type": "text"
      },
      "source": [
        "#### La curva ROC y AUC son importantes métricas de evaluación para calcular la performance de cualquier modelo de clasificación"
      ]
    },
    {
      "cell_type": "markdown",
      "metadata": {
        "hidden": true,
        "id": "zHXtglvzMnLM",
        "colab_type": "text"
      },
      "source": [
        "- ROC es una curva de probabilidad y AUC representa el grado o medida de separabilidad. Dice cuánto es capaz el modelo de distinguir entre clases\n",
        "- Dependiendo de qué **área bajo la curva es más grande**, podemos concluir que clasificador hizo un mejor trabajo en la clasificación de la No-show rate"
      ]
    },
    {
      "cell_type": "code",
      "metadata": {
        "ExecuteTime": {
          "end_time": "2020-05-07T15:29:54.384746Z",
          "start_time": "2020-05-07T15:29:31.452Z"
        },
        "hidden": true,
        "id": "kXWfrmGKMnLN",
        "colab_type": "code",
        "colab": {}
      },
      "source": [
        "y_pred =  logreg.predict(X_test)\n",
        "fpr, tpr, thresholds = roc_curve(y_test, y_pred)\n",
        "plt.plot(fpr, tpr, lw=3, label='logreg (area = %0.3f)' % auc(fpr, tpr))"
      ],
      "execution_count": 0,
      "outputs": []
    },
    {
      "cell_type": "code",
      "metadata": {
        "ExecuteTime": {
          "end_time": "2020-05-07T15:29:54.391688Z",
          "start_time": "2020-05-07T15:29:31.459Z"
        },
        "hidden": true,
        "id": "uRhZ9B0RMnLO",
        "colab_type": "code",
        "colab": {}
      },
      "source": [
        "auc(fpr, tpr)"
      ],
      "execution_count": 0,
      "outputs": []
    },
    {
      "cell_type": "markdown",
      "metadata": {
        "heading_collapsed": true,
        "id": "aWCSHIlEMnLQ",
        "colab_type": "text"
      },
      "source": [
        "### Cross validation and hyperparameter tuning"
      ]
    },
    {
      "cell_type": "code",
      "metadata": {
        "ExecuteTime": {
          "end_time": "2020-05-07T15:29:54.398816Z",
          "start_time": "2020-05-07T15:29:31.468Z"
        },
        "hidden": true,
        "id": "2AGOOGbuMnLQ",
        "colab_type": "code",
        "colab": {}
      },
      "source": [
        "def baseline_report(model, X_train, X_test, y_train, y_test, name):\n",
        "    strat_k_fold = StratifiedKFold(n_splits=5, shuffle=True)\n",
        "    model.fit(X_train, y_train)\n",
        "    accuracy     = np.mean(cross_val_score(model, X_train, y_train, cv=strat_k_fold, scoring='accuracy'))\n",
        "    precision    = np.mean(cross_val_score(model, X_train, y_train, cv=strat_k_fold, scoring='precision'))\n",
        "    recall       = np.mean(cross_val_score(model, X_train, y_train, cv=strat_k_fold, scoring='recall'))\n",
        "    f1score      = np.mean(cross_val_score(model, X_train, y_train, cv=strat_k_fold, scoring='f1'))\n",
        "    rocauc       = np.mean(cross_val_score(model, X_train, y_train, cv=strat_k_fold, scoring='roc_auc'))\n",
        "    y_pred = model.predict(X_test)\n",
        "    logloss      = log_loss(y_test, y_pred)   # SVC & LinearSVC unable to use cvs\n",
        "\n",
        "    df_model = pd.DataFrame({'model'        : [name],\n",
        "                             'accuracy'     : [accuracy],\n",
        "                             'precision'    : [precision],\n",
        "                             'recall'       : [recall],\n",
        "                             'f1score'      : [f1score],\n",
        "                             'rocauc'       : [rocauc],\n",
        "                             'logloss'      : [logloss]})   # timetaken: to be used for comparison later\n",
        "    return df_model"
      ],
      "execution_count": 0,
      "outputs": []
    },
    {
      "cell_type": "code",
      "metadata": {
        "ExecuteTime": {
          "end_time": "2020-05-07T15:29:54.402782Z",
          "start_time": "2020-05-07T15:29:31.481Z"
        },
        "hidden": true,
        "scrolled": true,
        "id": "Vx3DNH5BMnLR",
        "colab_type": "code",
        "colab": {}
      },
      "source": [
        "# evaluating the Logistic Regression cross validation scores\n",
        "baseline_report(logreg, X_train, X_test, y_train, y_test, 'LogisticRegression')"
      ],
      "execution_count": 0,
      "outputs": []
    },
    {
      "cell_type": "markdown",
      "metadata": {
        "heading_collapsed": true,
        "id": "SLKZNEcpMnLT",
        "colab_type": "text"
      },
      "source": [
        "### Classification models comparison"
      ]
    },
    {
      "cell_type": "code",
      "metadata": {
        "ExecuteTime": {
          "end_time": "2020-05-07T15:29:54.406974Z",
          "start_time": "2020-05-07T15:29:31.493Z"
        },
        "hidden": true,
        "id": "A0YXPv_zMnLU",
        "colab_type": "code",
        "colab": {}
      },
      "source": [
        "# evaluating LogisticRegression, RandomForest and SVC models \n",
        "\n",
        "models = {  'logit': LogisticRegression(),\n",
        "            'randomforest': RandomForestClassifier(),\n",
        "            'svc': SVC(probability=True)}"
      ],
      "execution_count": 0,
      "outputs": []
    },
    {
      "cell_type": "code",
      "metadata": {
        "ExecuteTime": {
          "end_time": "2020-05-07T15:29:54.412660Z",
          "start_time": "2020-05-07T15:29:31.505Z"
        },
        "hidden": true,
        "scrolled": true,
        "id": "WUHw4GhaMnLb",
        "colab_type": "code",
        "colab": {}
      },
      "source": [
        " models_df = pd.concat([baseline_report(model, X_train, X_test, y_train, y_test, name) \n",
        "                       for (name, model) in models.items()])"
      ],
      "execution_count": 0,
      "outputs": []
    },
    {
      "cell_type": "code",
      "metadata": {
        "ExecuteTime": {
          "end_time": "2020-05-07T15:29:54.416877Z",
          "start_time": "2020-05-07T15:29:31.520Z"
        },
        "hidden": true,
        "id": "kYDBCMyXMnL2",
        "colab_type": "code",
        "colab": {}
      },
      "source": [
        "models_df.reset_index(inplace=True, drop=True)"
      ],
      "execution_count": 0,
      "outputs": []
    },
    {
      "cell_type": "code",
      "metadata": {
        "ExecuteTime": {
          "end_time": "2020-05-07T15:29:54.422093Z",
          "start_time": "2020-05-07T15:29:31.526Z"
        },
        "hidden": true,
        "id": "FB4hYX6JMnL9",
        "colab_type": "code",
        "colab": {}
      },
      "source": [
        "models_df"
      ],
      "execution_count": 0,
      "outputs": []
    },
    {
      "cell_type": "markdown",
      "metadata": {
        "heading_collapsed": true,
        "id": "6FQKRjDdMnMC",
        "colab_type": "text"
      },
      "source": [
        "### AUC"
      ]
    },
    {
      "cell_type": "code",
      "metadata": {
        "ExecuteTime": {
          "end_time": "2020-05-07T15:29:54.425994Z",
          "start_time": "2020-05-07T15:29:31.535Z"
        },
        "hidden": true,
        "id": "ABarmxptMnMD",
        "colab_type": "code",
        "colab": {}
      },
      "source": [
        "# plot the ROC curves\n",
        "plt.figure(figsize=(10,10))\n",
        "\n",
        "\n",
        "for (name, model) in models.items():\n",
        "    y_pred = model.fit(X_train, y_train).predict_proba(X_test)[:,1]\n",
        "        \n",
        "    fpr, tpr, thresholds = roc_curve(y_test, y_pred)\n",
        "    plt.plot(fpr, tpr, lw=3, label=name + ' (area = %0.3f)' % auc(fpr, tpr))\n",
        "    \n",
        "plt.plot([0, 1], [0, 1], color='navy', lw=1.5, linestyle='--')\n",
        "plt.xlim([0.0, 1.0])\n",
        "plt.ylim([0.0, 1.0])\n",
        "plt.xlabel('False Positive Rate', fontsize=13)\n",
        "plt.ylabel('True Positive Rate', fontsize=14)\n",
        "plt.title('Receiver Operating Characteristic', fontsize=17)\n",
        "plt.legend(loc='lower right', fontsize=13)\n",
        "plt.show()"
      ],
      "execution_count": 0,
      "outputs": []
    },
    {
      "cell_type": "markdown",
      "metadata": {
        "id": "rWCgvxVSMnME",
        "colab_type": "text"
      },
      "source": [
        "### MLP "
      ]
    },
    {
      "cell_type": "markdown",
      "metadata": {
        "id": "QGQPyzPzMnMF",
        "colab_type": "text"
      },
      "source": [
        "- Neural Nets for Multiclass Classification\n",
        "- This is a computationally preferable way to get more complexity in our decision boundaries as compared to just adding more features to our simple logistic regression"
      ]
    },
    {
      "cell_type": "markdown",
      "metadata": {
        "id": "hBGE8T-xMnMF",
        "colab_type": "text"
      },
      "source": [
        "The advantages of Multi-layer Perceptron are:\n",
        "\n",
        "- Capability to learn non-linear models.\n",
        "- Capability to learn models in real-time (on-line learning) using partial_fit.\n",
        "\n",
        "The disadvantages of Multi-layer Perceptron (MLP) include:\n",
        "\n",
        "- MLP with hidden layers have a non-convex loss function where there exists more than one local minimum. Therefore different random weight initializations can lead to different validation accuracy.\n",
        "- MLP requires tuning a number of hyperparameters such as the number of hidden neurons, layers, and iterations.\n",
        "- MLP is sensitive to feature scaling."
      ]
    },
    {
      "cell_type": "markdown",
      "metadata": {
        "id": "7KCvywZaMnMF",
        "colab_type": "text"
      },
      "source": [
        "The class **MLPClassifier** is the tool to use when you want a neural net to do classification for you - to train it you use the same old X and y inputs that we fed into our LogisticRegression object."
      ]
    },
    {
      "cell_type": "code",
      "metadata": {
        "ExecuteTime": {
          "end_time": "2020-05-07T15:29:54.431009Z",
          "start_time": "2020-05-07T15:29:31.548Z"
        },
        "id": "GUj_nWrYMnMG",
        "colab_type": "code",
        "colab": {}
      },
      "source": [
        "clf = MLPClassifier(solver='sgd', alpha=1e-5,\n",
        "                    hidden_layer_sizes=(5, 2), random_state=42)\n",
        "\n",
        "#clf = MLPClassifier(solver='lbfgs', alpha=1e-5,\n",
        "#                    hidden_layer_sizes=(5, 2), random_state=1)\n",
        "\n",
        "clf.fit(X, y)"
      ],
      "execution_count": 0,
      "outputs": []
    },
    {
      "cell_type": "markdown",
      "metadata": {
        "id": "4U6v_L5VMnMH",
        "colab_type": "text"
      },
      "source": [
        "MLPClassifier has an attribute that actually stores the progression of the loss function during the fit. It's called **loss_curve_** and for some baffling reason it isn't mentioned in the documentation."
      ]
    },
    {
      "cell_type": "code",
      "metadata": {
        "ExecuteTime": {
          "end_time": "2020-05-07T15:29:54.435089Z",
          "start_time": "2020-05-07T15:29:31.557Z"
        },
        "id": "XZzr8U_YMnMI",
        "colab_type": "code",
        "colab": {}
      },
      "source": [
        "fig, ax = plt.pyplot.subplots()\n",
        "ax.plot(clf.loss_curve_)"
      ],
      "execution_count": 0,
      "outputs": []
    },
    {
      "cell_type": "code",
      "metadata": {
        "id": "ui-OxM1TMnMM",
        "colab_type": "code",
        "colab": {}
      },
      "source": [
        ""
      ],
      "execution_count": 0,
      "outputs": []
    },
    {
      "cell_type": "code",
      "metadata": {
        "ExecuteTime": {
          "end_time": "2020-05-07T15:29:54.442570Z",
          "start_time": "2020-05-07T15:29:31.577Z"
        },
        "id": "tT2al0sAMnMO",
        "colab_type": "code",
        "colab": {}
      },
      "source": [
        "clf.learning_rate_init = 1\n",
        "clf.fit(X_train, y_train)"
      ],
      "execution_count": 0,
      "outputs": []
    },
    {
      "cell_type": "code",
      "metadata": {
        "ExecuteTime": {
          "end_time": "2020-05-07T15:29:54.450039Z",
          "start_time": "2020-05-07T15:29:31.585Z"
        },
        "id": "MbILkGmBMnMQ",
        "colab_type": "code",
        "colab": {}
      },
      "source": [
        "fig, ax = plt.pyplot.subplots()\n",
        "ax.plot(clf.loss_curve_)"
      ],
      "execution_count": 0,
      "outputs": []
    },
    {
      "cell_type": "code",
      "metadata": {
        "id": "3-Zm29O_MnMW",
        "colab_type": "code",
        "colab": {}
      },
      "source": [
        ""
      ],
      "execution_count": 0,
      "outputs": []
    }
  ]
}